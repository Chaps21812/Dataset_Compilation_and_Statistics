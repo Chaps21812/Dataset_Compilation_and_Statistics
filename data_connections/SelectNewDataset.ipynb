{
 "cells": [
  {
   "cell_type": "markdown",
   "id": "1877e5dc",
   "metadata": {},
   "source": [
    "# Hand Created Dataset Tool\n",
    "\n",
    "Used to take raw datasets and create a new dataset by manually selecting images "
   ]
  },
  {
   "cell_type": "code",
   "execution_count": null,
   "id": "21b5efd7",
   "metadata": {},
   "outputs": [
    {
     "name": "stdout",
     "output_type": "stream",
     "text": [
      "New database created at /data/Dataset_Compilation_and_Statistics/Sentinel_Datasets/RME01-2025Data/dataset_statistics.pkl\n"
     ]
    },
    {
     "name": "stderr",
     "output_type": "stream",
     "text": [
      "Recalculating Statistics: 100%|██████████| 10257/10257 [06:13<00:00, 27.44it/s]\n"
     ]
    }
   ],
   "source": [
    "from src.raw_datset import raw_dataset, StatisticsFile\n",
    "\n",
    "directory = \"/data/Dataset_Compilation_and_Statistics/Sentinel_Datasets/RME01-2025Data\"\n",
    "new_directory = \"/data/Dataset_Compilation_and_Statistics/Sentinel_Datasets/Test_dataset\"\n",
    "local_files = raw_dataset(directory)\n",
    "local_files.create_hand_selected_dataset(new_directory)"
   ]
  }
 ],
 "metadata": {
  "kernelspec": {
   "display_name": "DatasetStatistics",
   "language": "python",
   "name": "python3"
  },
  "language_info": {
   "codemirror_mode": {
    "name": "ipython",
    "version": 3
   },
   "file_extension": ".py",
   "mimetype": "text/x-python",
   "name": "python",
   "nbconvert_exporter": "python",
   "pygments_lexer": "ipython3",
   "version": "3.12.9"
  }
 },
 "nbformat": 4,
 "nbformat_minor": 5
}
