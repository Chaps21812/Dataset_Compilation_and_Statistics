{
 "cells": [
  {
   "cell_type": "markdown",
   "id": "66e042e1",
   "metadata": {},
   "source": [
    "# Dataset Creation Tool\n",
    "Once your datasets have been properly curated in the training_set_management_tool, you can now use these tools to convert datasets to coco, and merge them as well. "
   ]
  },
  {
   "cell_type": "code",
   "execution_count": 4,
   "id": "b45c1487",
   "metadata": {},
   "outputs": [],
   "source": [
    "from coco_tools import silt_to_coco, satsim_to_coco, merge_coco\n",
    "from preprocess_functions import channel_mixture_A, channel_mixture_B, channel_mixture_C, adaptiveIQR, zscale, iqr_clipped, iqr_log, raw_file\n",
    "from preprocess_functions import _median_column_subtraction, _median_row_subtraction, _background_subtract\n",
    "from utilities import get_folders_in_directory, summarize_local_files, clear_local_caches, clear_local_cache, apply_bbox_corrections\n",
    "import os\n",
    "from utilities import clear_local_caches"
   ]
  },
  {
   "cell_type": "code",
   "execution_count": 5,
   "id": "aed16730",
   "metadata": {},
   "outputs": [],
   "source": [
    "T1 = \"/home/davidchaparro/Repos/Dataset_Compilation_and_Statistics/data/RME04Sat-2024-04-29\" # 116\n",
    "T2 = \"/home/davidchaparro/Repos/Dataset_Compilation_and_Statistics/data/RME04Sat-2024-04-24\" # 13\n",
    "T3 = \"/home/davidchaparro/Repos/Dataset_Compilation_and_Statistics/data/RME04Sat-2024-04-27\" # 45\n",
    "T4 = \"/home/davidchaparro/Repos/Dataset_Compilation_and_Statistics/data/RME04Sat-2024-04-25\" # 106\n",
    "T5 = \"/home/davidchaparro/Repos/Dataset_Compilation_and_Statistics/data/RME04Sat-2024-04-26\" # 179\n",
    "T6 = \"/home/davidchaparro/Repos/Dataset_Compilation_and_Statistics/data/RME04Sat-2024-04-30\" # 765\n",
    "T7 = \"/home/davidchaparro/Repos/Dataset_Compilation_and_Statistics/data/RME04Sat-2024-04-28\" # 12\n",
    "T8 = \"/home/davidchaparro/Repos/Dataset_Compilation_and_Statistics/data/RME04Sat-2024-05-01\" # 809\n",
    "T9 = \"/home/davidchaparro/Repos/Dataset_Compilation_and_Statistics/data/RME04Sat-2024-05-07\" # 1610\n",
    "T10 = \"/home/davidchaparro/Repos/Dataset_Compilation_and_Statistics/data/RME04Sat-2024-05-03\" # 761\n",
    "T11 = \"/home/davidchaparro/Repos/Dataset_Compilation_and_Statistics/data/RME04Sat-2024-05-08\" # 142\n",
    "T12 = \"/home/davidchaparro/Repos/Dataset_Compilation_and_Statistics/data/RME04Sat-2024-05-10\" # 52\n",
    "T13 = \"/home/davidchaparro/Repos/Dataset_Compilation_and_Statistics/data/RME04Sat-2024-05-31\" # 1426\n",
    "T14 = \"/home/davidchaparro/Repos/Dataset_Compilation_and_Statistics/data/RME04Sat-2024-05-02\" # 1006\n",
    "T15 = \"/home/davidchaparro/Repos/Dataset_Compilation_and_Statistics/data/RME04Sat-2024-05-30\" # 422\n",
    "T16 = \"/home/davidchaparro/Repos/Dataset_Compilation_and_Statistics/data/RME04Sat-2024-05-09\" # 92\n",
    "T17 = \"/home/davidchaparro/Repos/Dataset_Compilation_and_Statistics/data/RME04Sat-2025-05-30\" # 546\n",
    "T18 = \"/home/davidchaparro/Repos/Dataset_Compilation_and_Statistics/data/RME04Sat-2025-05-21\" # 792\n",
    "T19 = \"/home/davidchaparro/Repos/Dataset_Compilation_and_Statistics/data/RME04Sat-2025-05-10\" # 54\n",
    "\n",
    "\n",
    "E1 = \"/home/davidchaparro/Repos/Dataset_Compilation_and_Statistics/data/RME04Sat-2024-06-12\" # 368\n",
    "E2 = \"/home/davidchaparro/Repos/Dataset_Compilation_and_Statistics/data/RME04Sat-2024-06-13\" # 566\n",
    "E3 = \"/home/davidchaparro/Repos/Dataset_Compilation_and_Statistics/data/RME04Sat-2024-06-11\" # 30\n",
    "E4 = \"/home/davidchaparro/Repos/Dataset_Compilation_and_Statistics/data/RME04Sat-2024-06-15\" # 162\n",
    "E5 = \"/home/davidchaparro/Repos/Dataset_Compilation_and_Statistics/data/RME04Sat-2024-06-07\" # 318\n",
    "E6 = \"/home/davidchaparro/Repos/Dataset_Compilation_and_Statistics/data/RME04Sat-2024-07-19\" # 404\n",
    "E7 = \"/home/davidchaparro/Repos/Dataset_Compilation_and_Statistics/data/RME04Sat-2024-06-09\" # 317\n",
    "E8 = \"/home/davidchaparro/Repos/Dataset_Compilation_and_Statistics/data/RME04Sat-2024-06-04\" # 736\n",
    "E9 = \"/home/davidchaparro/Repos/Dataset_Compilation_and_Statistics/data/RME04Sat-2024-07-09\" # 385\n",
    "E10 = \"/home/davidchaparro/Repos/Dataset_Compilation_and_Statistics/data/RME04Sat-2024-06-28\" # 315\n",
    "E11 = \"/home/davidchaparro/Repos/Dataset_Compilation_and_Statistics/data/RME04Sat-2025-06-04\" # 584\n",
    "E12 = \"/home/davidchaparro/Repos/Dataset_Compilation_and_Statistics/data/RME04Sat-2024-06-05\" # 744\n",
    "E13 = \"/home/davidchaparro/Repos/Dataset_Compilation_and_Statistics/data/RME04Sat-2024-06-06\" # 245\n",
    "E14 = \"/home/davidchaparro/Repos/Dataset_Compilation_and_Statistics/data/RME04Sat-2024-06-08\" # 85\n",
    "\n",
    "final_data_path=\"/home/davidchaparro/Repos/Dataset_Compilation_and_Statistics/data_finalized/RME04_MixtureC_Final\"\n",
    "\n",
    "training_set_origins = [T1, T2, T3, T4, T5, T6, T7, T8, T9, T10, T11, T12, T13, T14, T15, T16, T17, T18, T19]\n",
    "training_set_output_path = os.path.join(final_data_path, f\"RME04Sat_Training_Channel_Mixture_C\")\n",
    "\n",
    "eval_origins =[E1, E2, E3, E4, E5, E6, E7, E8, E9, E10, E11, E12, E13, E14]\n",
    "eval_finals = [os.path.join(final_data_path, f\"{os.path.basename(ESet)}_Channel_Mixture_C\") for ESet in eval_origins]\n",
    "\n",
    "preprocess_func = channel_mixture_C\n"
   ]
  },
  {
   "cell_type": "markdown",
   "id": "350bd770",
   "metadata": {},
   "source": [
    "## Convert SILT to COCO"
   ]
  },
  {
   "cell_type": "markdown",
   "id": "dd45e671",
   "metadata": {},
   "source": [
    "### Convert Single Path"
   ]
  },
  {
   "cell_type": "code",
   "execution_count": null,
   "id": "b0a628ad",
   "metadata": {},
   "outputs": [
    {
     "name": "stderr",
     "output_type": "stream",
     "text": [
      "Converting Silt to COCO: 100%|██████████| 712/712 [00:15<00:00, 47.46it/s]\n",
      "Copying images: 100%|██████████| 712/712 [19:28<00:00,  1.64s/it]  \n"
     ]
    }
   ],
   "source": [
    "# silt_to_coco(Process_pathB, include_sats=False, include_stars=True, zip=False, notes=\"RME01 dataset with stars only\")\n",
    "silt_to_coco(Process_pathB, include_sats=True, include_stars=False, convert_png=True, process_func=preprocess_func, notes=\"Channel Mixture of Adaptive IQR, raw, and zscaled. \")"
   ]
  },
  {
   "cell_type": "markdown",
   "id": "0d0bc3df",
   "metadata": {},
   "source": [
    "### Convert Multiple Paths"
   ]
  },
  {
   "cell_type": "code",
   "execution_count": 3,
   "id": "7d0acc5f",
   "metadata": {},
   "outputs": [
    {
     "name": "stdout",
     "output_type": "stream",
     "text": [
      "/home/davidchaparro/Repos/Dataset_Compilation_and_Statistics/data/RME04Sat-2024-04-29\n"
     ]
    },
    {
     "name": "stderr",
     "output_type": "stream",
     "text": [
      "Converting Silt to COCO: 100%|██████████| 116/116 [00:04<00:00, 25.22it/s]\n"
     ]
    },
    {
     "name": "stdout",
     "output_type": "stream",
     "text": [
      "Deleted folder: /home/davidchaparro/Repos/Dataset_Compilation_and_Statistics/data/RME04Sat-2024-04-29/images\n",
      "Deleted folder: /home/davidchaparro/Repos/Dataset_Compilation_and_Statistics/data/RME04Sat-2024-04-29/annotations\n"
     ]
    },
    {
     "name": "stderr",
     "output_type": "stream",
     "text": [
      "Copying images: 100%|██████████| 116/116 [03:47<00:00,  1.96s/it]\n"
     ]
    },
    {
     "name": "stdout",
     "output_type": "stream",
     "text": [
      "/home/davidchaparro/Repos/Dataset_Compilation_and_Statistics/data/RME04Sat-2024-04-24\n"
     ]
    },
    {
     "name": "stderr",
     "output_type": "stream",
     "text": [
      "Converting Silt to COCO: 100%|██████████| 13/13 [00:00<00:00, 31.71it/s]\n"
     ]
    },
    {
     "name": "stdout",
     "output_type": "stream",
     "text": [
      "Deleted folder: /home/davidchaparro/Repos/Dataset_Compilation_and_Statistics/data/RME04Sat-2024-04-24/images\n",
      "Deleted folder: /home/davidchaparro/Repos/Dataset_Compilation_and_Statistics/data/RME04Sat-2024-04-24/annotations\n"
     ]
    },
    {
     "name": "stderr",
     "output_type": "stream",
     "text": [
      "Copying images: 100%|██████████| 13/13 [00:25<00:00,  1.99s/it]\n"
     ]
    },
    {
     "name": "stdout",
     "output_type": "stream",
     "text": [
      "/home/davidchaparro/Repos/Dataset_Compilation_and_Statistics/data/RME04Sat-2024-04-27\n"
     ]
    },
    {
     "name": "stderr",
     "output_type": "stream",
     "text": [
      "Converting Silt to COCO: 100%|██████████| 45/45 [00:01<00:00, 27.25it/s]\n"
     ]
    },
    {
     "name": "stdout",
     "output_type": "stream",
     "text": [
      "Deleted folder: /home/davidchaparro/Repos/Dataset_Compilation_and_Statistics/data/RME04Sat-2024-04-27/images\n",
      "Deleted folder: /home/davidchaparro/Repos/Dataset_Compilation_and_Statistics/data/RME04Sat-2024-04-27/annotations\n"
     ]
    },
    {
     "name": "stderr",
     "output_type": "stream",
     "text": [
      "Copying images: 100%|██████████| 45/45 [01:24<00:00,  1.88s/it]\n"
     ]
    },
    {
     "name": "stdout",
     "output_type": "stream",
     "text": [
      "/home/davidchaparro/Repos/Dataset_Compilation_and_Statistics/data/RME04Sat-2024-04-25\n"
     ]
    },
    {
     "name": "stderr",
     "output_type": "stream",
     "text": [
      "Converting Silt to COCO: 100%|██████████| 106/106 [00:04<00:00, 25.71it/s]\n"
     ]
    },
    {
     "name": "stdout",
     "output_type": "stream",
     "text": [
      "Deleted folder: /home/davidchaparro/Repos/Dataset_Compilation_and_Statistics/data/RME04Sat-2024-04-25/images\n",
      "Deleted folder: /home/davidchaparro/Repos/Dataset_Compilation_and_Statistics/data/RME04Sat-2024-04-25/annotations\n"
     ]
    },
    {
     "name": "stderr",
     "output_type": "stream",
     "text": [
      "Copying images: 100%|██████████| 106/106 [03:36<00:00,  2.04s/it]\n"
     ]
    },
    {
     "name": "stdout",
     "output_type": "stream",
     "text": [
      "/home/davidchaparro/Repos/Dataset_Compilation_and_Statistics/data/RME04Sat-2024-04-26\n"
     ]
    },
    {
     "name": "stderr",
     "output_type": "stream",
     "text": [
      "Converting Silt to COCO: 100%|██████████| 179/179 [00:06<00:00, 25.97it/s]\n"
     ]
    },
    {
     "name": "stdout",
     "output_type": "stream",
     "text": [
      "Deleted folder: /home/davidchaparro/Repos/Dataset_Compilation_and_Statistics/data/RME04Sat-2024-04-26/images\n",
      "Deleted folder: /home/davidchaparro/Repos/Dataset_Compilation_and_Statistics/data/RME04Sat-2024-04-26/annotations\n"
     ]
    },
    {
     "name": "stderr",
     "output_type": "stream",
     "text": [
      "Copying images: 100%|██████████| 179/179 [05:44<00:00,  1.92s/it]\n"
     ]
    },
    {
     "name": "stdout",
     "output_type": "stream",
     "text": [
      "/home/davidchaparro/Repos/Dataset_Compilation_and_Statistics/data/RME04Sat-2024-04-30\n"
     ]
    },
    {
     "name": "stderr",
     "output_type": "stream",
     "text": [
      "Converting Silt to COCO: 100%|██████████| 765/765 [00:30<00:00, 25.04it/s]\n",
      "Copying images: 100%|██████████| 765/765 [24:25<00:00,  1.92s/it]\n"
     ]
    },
    {
     "name": "stdout",
     "output_type": "stream",
     "text": [
      "/home/davidchaparro/Repos/Dataset_Compilation_and_Statistics/data/RME04Sat-2024-04-28\n"
     ]
    },
    {
     "name": "stderr",
     "output_type": "stream",
     "text": [
      "Converting Silt to COCO: 100%|██████████| 12/12 [00:00<00:00, 23.84it/s]\n",
      "Copying images: 100%|██████████| 12/12 [00:20<00:00,  1.71s/it]\n"
     ]
    },
    {
     "name": "stdout",
     "output_type": "stream",
     "text": [
      "/home/davidchaparro/Repos/Dataset_Compilation_and_Statistics/data/RME04Sat-2024-05-01\n"
     ]
    },
    {
     "name": "stderr",
     "output_type": "stream",
     "text": [
      "Converting Silt to COCO: 100%|██████████| 809/809 [00:32<00:00, 25.20it/s]\n",
      "Copying images: 100%|██████████| 809/809 [25:16<00:00,  1.87s/it]\n"
     ]
    },
    {
     "name": "stdout",
     "output_type": "stream",
     "text": [
      "/home/davidchaparro/Repos/Dataset_Compilation_and_Statistics/data/RME04Sat-2024-05-07\n"
     ]
    },
    {
     "name": "stderr",
     "output_type": "stream",
     "text": [
      "Converting Silt to COCO: 100%|██████████| 1610/1610 [01:05<00:00, 24.46it/s]\n",
      "Copying images: 100%|██████████| 1610/1610 [51:23<00:00,  1.92s/it]\n"
     ]
    },
    {
     "name": "stdout",
     "output_type": "stream",
     "text": [
      "/home/davidchaparro/Repos/Dataset_Compilation_and_Statistics/data/RME04Sat-2024-05-03\n"
     ]
    },
    {
     "name": "stderr",
     "output_type": "stream",
     "text": [
      "Converting Silt to COCO: 100%|██████████| 761/761 [00:29<00:00, 25.59it/s]\n",
      "Copying images: 100%|██████████| 761/761 [22:58<00:00,  1.81s/it]\n"
     ]
    },
    {
     "name": "stdout",
     "output_type": "stream",
     "text": [
      "/home/davidchaparro/Repos/Dataset_Compilation_and_Statistics/data/RME04Sat-2024-05-08\n"
     ]
    },
    {
     "name": "stderr",
     "output_type": "stream",
     "text": [
      "Converting Silt to COCO: 100%|██████████| 142/142 [00:05<00:00, 24.35it/s]\n",
      "Copying images: 100%|██████████| 142/142 [04:28<00:00,  1.89s/it]\n"
     ]
    },
    {
     "name": "stdout",
     "output_type": "stream",
     "text": [
      "/home/davidchaparro/Repos/Dataset_Compilation_and_Statistics/data/RME04Sat-2024-05-10\n"
     ]
    },
    {
     "name": "stderr",
     "output_type": "stream",
     "text": [
      "Converting Silt to COCO: 100%|██████████| 52/52 [00:02<00:00, 25.28it/s]\n",
      "Copying images: 100%|██████████| 52/52 [01:37<00:00,  1.88s/it]\n"
     ]
    },
    {
     "name": "stdout",
     "output_type": "stream",
     "text": [
      "/home/davidchaparro/Repos/Dataset_Compilation_and_Statistics/data/RME04Sat-2024-05-31\n"
     ]
    },
    {
     "name": "stderr",
     "output_type": "stream",
     "text": [
      "Converting Silt to COCO: 100%|██████████| 1426/1426 [00:58<00:00, 24.48it/s]\n",
      "Copying images: 100%|██████████| 1426/1426 [44:56<00:00,  1.89s/it]\n"
     ]
    },
    {
     "name": "stdout",
     "output_type": "stream",
     "text": [
      "/home/davidchaparro/Repos/Dataset_Compilation_and_Statistics/data/RME04Sat-2024-05-02\n"
     ]
    },
    {
     "name": "stderr",
     "output_type": "stream",
     "text": [
      "Converting Silt to COCO: 100%|██████████| 1006/1006 [00:39<00:00, 25.65it/s]\n",
      "Copying images: 100%|██████████| 1006/1006 [30:22<00:00,  1.81s/it]\n"
     ]
    },
    {
     "name": "stdout",
     "output_type": "stream",
     "text": [
      "/home/davidchaparro/Repos/Dataset_Compilation_and_Statistics/data/RME04Sat-2024-05-30\n"
     ]
    },
    {
     "name": "stderr",
     "output_type": "stream",
     "text": [
      "Converting Silt to COCO: 100%|██████████| 422/422 [00:16<00:00, 25.12it/s]\n",
      "Copying images: 100%|██████████| 422/422 [13:05<00:00,  1.86s/it]\n"
     ]
    },
    {
     "name": "stdout",
     "output_type": "stream",
     "text": [
      "/home/davidchaparro/Repos/Dataset_Compilation_and_Statistics/data/RME04Sat-2024-05-09\n"
     ]
    },
    {
     "name": "stderr",
     "output_type": "stream",
     "text": [
      "Converting Silt to COCO: 100%|██████████| 92/92 [00:03<00:00, 25.72it/s]\n",
      "Copying images: 100%|██████████| 92/92 [02:54<00:00,  1.89s/it]\n"
     ]
    },
    {
     "name": "stdout",
     "output_type": "stream",
     "text": [
      "/home/davidchaparro/Repos/Dataset_Compilation_and_Statistics/data/RME04Sat-2025-05-30\n"
     ]
    },
    {
     "name": "stderr",
     "output_type": "stream",
     "text": [
      "Converting Silt to COCO: 100%|██████████| 546/546 [00:21<00:00, 25.10it/s]\n",
      "Copying images: 100%|██████████| 546/546 [17:36<00:00,  1.94s/it]\n"
     ]
    },
    {
     "name": "stdout",
     "output_type": "stream",
     "text": [
      "/home/davidchaparro/Repos/Dataset_Compilation_and_Statistics/data/RME04Sat-2025-05-21\n"
     ]
    },
    {
     "name": "stderr",
     "output_type": "stream",
     "text": [
      "Converting Silt to COCO: 100%|██████████| 792/792 [00:30<00:00, 25.63it/s]\n",
      "Copying images: 100%|██████████| 792/792 [25:38<00:00,  1.94s/it]\n"
     ]
    },
    {
     "name": "stdout",
     "output_type": "stream",
     "text": [
      "/home/davidchaparro/Repos/Dataset_Compilation_and_Statistics/data/RME04Sat-2025-05-10\n"
     ]
    },
    {
     "name": "stderr",
     "output_type": "stream",
     "text": [
      "Converting Silt to COCO: 100%|██████████| 546/546 [00:20<00:00, 27.28it/s]\n",
      "Copying images: 100%|██████████| 546/546 [18:10<00:00,  2.00s/it]\n"
     ]
    }
   ],
   "source": [
    "for path in training_set_origins:\n",
    "    print(path)\n",
    "    silt_to_coco(path, include_sats=True, include_stars=False, convert_png=True, process_func=preprocess_func, notes=\"Mixture of ZScale, raw, and log-IQR\")"
   ]
  },
  {
   "cell_type": "markdown",
   "id": "3526d6f9",
   "metadata": {},
   "source": [
    "## Convert SATSim to COCO"
   ]
  },
  {
   "cell_type": "code",
   "execution_count": null,
   "id": "ccf3a46f",
   "metadata": {},
   "outputs": [
    {
     "name": "stderr",
     "output_type": "stream",
     "text": [
      "Converting Satsim to COCO: 100%|██████████| 169/169 [00:10<00:00, 15.74it/s]\n",
      "Copying images: 100%|██████████| 1012/1012 [01:23<00:00, 12.10it/s]\n"
     ]
    }
   ],
   "source": [
    "\n",
    "satsim_to_coco(satsim_path,include_sats=False, include_stars=True, convert_png=True, process_func=None, notes=\"\")"
   ]
  },
  {
   "cell_type": "markdown",
   "id": "3f496708",
   "metadata": {},
   "source": [
    "## Merge Datasets"
   ]
  },
  {
   "cell_type": "markdown",
   "id": "3f5130a4",
   "metadata": {},
   "source": [
    "### Merge Training Sets"
   ]
  },
  {
   "cell_type": "code",
   "execution_count": 6,
   "id": "8c851560",
   "metadata": {},
   "outputs": [
    {
     "name": "stderr",
     "output_type": "stream",
     "text": [
      "Processing COCO Datasets: 100%|██████████| 19/19 [00:00<00:00, 113.91it/s]\n",
      "Copying images: 100%|██████████| 8496/8496 [00:29<00:00, 283.74it/s]\n",
      "Copying images: 100%|██████████| 944/944 [00:03<00:00, 295.22it/s]\n",
      "Copying images: 0it [00:00, ?it/s]\n"
     ]
    }
   ],
   "source": [
    "#For Creating Training Sets\n",
    "merge_coco(training_set_origins, training_set_output_path, train_test_split=True, train_ratio=.9, val_ratio=.1, test_ratio=0, notes=\"RME04_trainig with multi channel C satellites.Contains about 6400 Samples \")\n",
    "# clear_local_caches(os.path.dirname(training_set_origins[0]))"
   ]
  },
  {
   "cell_type": "markdown",
   "id": "f98ddbcf",
   "metadata": {},
   "source": [
    "### Merge Evaluation Sets"
   ]
  },
  {
   "cell_type": "code",
   "execution_count": 7,
   "id": "778a7bd2",
   "metadata": {},
   "outputs": [
    {
     "name": "stderr",
     "output_type": "stream",
     "text": [
      "Converting Silt to COCO: 100%|██████████| 368/368 [00:15<00:00, 23.65it/s]\n",
      "Copying images: 100%|██████████| 368/368 [11:39<00:00,  1.90s/it]\n",
      "Processing COCO Datasets: 100%|██████████| 1/1 [00:00<00:00, 176.71it/s]\n",
      "Copying images: 100%|██████████| 368/368 [00:01<00:00, 292.33it/s]\n",
      "Converting Silt to COCO: 100%|██████████| 566/566 [00:23<00:00, 24.41it/s]\n",
      "Copying images: 100%|██████████| 566/566 [18:20<00:00,  1.94s/it]\n",
      "Processing COCO Datasets: 100%|██████████| 1/1 [00:00<00:00, 108.00it/s]\n",
      "Copying images: 100%|██████████| 566/566 [00:01<00:00, 294.79it/s]\n",
      "Converting Silt to COCO: 100%|██████████| 30/30 [00:01<00:00, 22.59it/s]\n",
      "Copying images: 100%|██████████| 30/30 [00:56<00:00,  1.87s/it]\n",
      "Processing COCO Datasets: 100%|██████████| 1/1 [00:00<00:00, 1162.18it/s]\n",
      "Copying images: 100%|██████████| 30/30 [00:00<00:00, 319.09it/s]\n",
      "Converting Silt to COCO: 100%|██████████| 162/162 [00:06<00:00, 23.45it/s]\n",
      "Copying images: 100%|██████████| 162/162 [05:10<00:00,  1.92s/it]\n",
      "Processing COCO Datasets: 100%|██████████| 1/1 [00:00<00:00, 254.31it/s]\n",
      "Copying images: 100%|██████████| 162/162 [00:00<00:00, 285.81it/s]\n",
      "Converting Silt to COCO: 100%|██████████| 318/318 [00:12<00:00, 24.66it/s]\n",
      "Copying images: 100%|██████████| 318/318 [10:09<00:00,  1.92s/it]\n",
      "Processing COCO Datasets: 100%|██████████| 1/1 [00:00<00:00, 128.25it/s]\n",
      "Copying images: 100%|██████████| 318/318 [00:01<00:00, 294.82it/s]\n",
      "Converting Silt to COCO: 100%|██████████| 404/404 [00:15<00:00, 25.60it/s]\n",
      "Copying images: 100%|██████████| 404/404 [12:26<00:00,  1.85s/it]\n",
      "Processing COCO Datasets: 100%|██████████| 1/1 [00:00<00:00, 96.21it/s]\n",
      "Copying images: 100%|██████████| 404/404 [00:01<00:00, 315.55it/s]\n",
      "Converting Silt to COCO: 100%|██████████| 317/317 [00:13<00:00, 24.21it/s]\n",
      "Copying images: 100%|██████████| 317/317 [10:09<00:00,  1.92s/it]\n",
      "Processing COCO Datasets: 100%|██████████| 1/1 [00:00<00:00, 173.66it/s]\n",
      "Copying images: 100%|██████████| 317/317 [00:01<00:00, 281.37it/s]\n",
      "Converting Silt to COCO: 100%|██████████| 736/736 [00:30<00:00, 23.91it/s]\n",
      "Copying images: 100%|██████████| 736/736 [23:32<00:00,  1.92s/it]\n",
      "Processing COCO Datasets: 100%|██████████| 1/1 [00:00<00:00, 78.36it/s]\n",
      "Copying images: 100%|██████████| 736/736 [00:03<00:00, 243.16it/s]\n",
      "Converting Silt to COCO: 100%|██████████| 385/385 [00:16<00:00, 22.68it/s]\n",
      "Copying images: 100%|██████████| 385/385 [12:41<00:00,  1.98s/it]\n",
      "Processing COCO Datasets: 100%|██████████| 1/1 [00:00<00:00, 110.23it/s]\n",
      "Copying images: 100%|██████████| 385/385 [00:01<00:00, 270.39it/s]\n",
      "Converting Silt to COCO: 100%|██████████| 315/315 [00:13<00:00, 23.37it/s]\n",
      "Copying images: 100%|██████████| 315/315 [10:04<00:00,  1.92s/it]\n",
      "Processing COCO Datasets: 100%|██████████| 1/1 [00:00<00:00, 76.32it/s]\n",
      "Copying images: 100%|██████████| 315/315 [00:01<00:00, 241.94it/s]\n",
      "Converting Silt to COCO: 100%|██████████| 584/584 [00:24<00:00, 23.87it/s]\n",
      "Copying images: 100%|██████████| 584/584 [19:48<00:00,  2.04s/it]\n",
      "Processing COCO Datasets: 100%|██████████| 1/1 [00:00<00:00, 83.23it/s]\n",
      "Copying images: 100%|██████████| 584/584 [00:02<00:00, 263.30it/s]\n",
      "Converting Silt to COCO: 100%|██████████| 744/744 [00:32<00:00, 22.74it/s]\n",
      "Copying images: 100%|██████████| 744/744 [24:24<00:00,  1.97s/it]\n",
      "Processing COCO Datasets: 100%|██████████| 1/1 [00:00<00:00, 69.95it/s]\n",
      "Copying images: 100%|██████████| 744/744 [00:03<00:00, 209.60it/s]\n",
      "Converting Silt to COCO: 100%|██████████| 245/245 [00:11<00:00, 22.13it/s]\n",
      "Copying images: 100%|██████████| 245/245 [08:13<00:00,  2.02s/it]\n",
      "Processing COCO Datasets: 100%|██████████| 1/1 [00:00<00:00, 112.33it/s]\n",
      "Copying images: 100%|██████████| 245/245 [00:01<00:00, 175.73it/s]\n",
      "Converting Silt to COCO: 100%|██████████| 85/85 [00:03<00:00, 21.62it/s]\n",
      "Copying images: 100%|██████████| 85/85 [03:00<00:00,  2.12s/it]\n",
      "Processing COCO Datasets: 100%|██████████| 1/1 [00:00<00:00, 413.60it/s]\n",
      "Copying images: 100%|██████████| 85/85 [00:00<00:00, 220.47it/s]\n"
     ]
    }
   ],
   "source": [
    "# For creating Evaluation Sets\n",
    "for origin, destination in zip(eval_origins, eval_finals):\n",
    "    silt_to_coco(origin, include_sats=True, include_stars=False, convert_png=True, process_func=preprocess_func, notes=\"Mixture of ZScale, raw, and log-IQR\")\n",
    "    merge_coco([origin], destination, train_test_split=False, train_ratio=0, val_ratio=0, test_ratio=1, notes=\"RME04 dataset with stars only\")\n",
    "    # clear_local_caches(os.path.dirname(origin))"
   ]
  }
 ],
 "metadata": {
  "kernelspec": {
   "display_name": "DatasetStatistics",
   "language": "python",
   "name": "python3"
  },
  "language_info": {
   "codemirror_mode": {
    "name": "ipython",
    "version": 3
   },
   "file_extension": ".py",
   "mimetype": "text/x-python",
   "name": "python",
   "nbconvert_exporter": "python",
   "pygments_lexer": "ipython3",
   "version": "3.12.9"
  }
 },
 "nbformat": 4,
 "nbformat_minor": 5
}
