{
 "cells": [
  {
   "cell_type": "code",
   "execution_count": 1,
   "id": "8f9cbf13",
   "metadata": {},
   "outputs": [],
   "source": [
    "from data_download_tool import download_data\n",
    "from annotation_viewer import plot_annotations\n",
    "from pandas_statistics import file_path_loader\n",
    "from plots import *\n",
    "import os\n"
   ]
  },
  {
   "cell_type": "markdown",
   "id": "e9edd496",
   "metadata": {},
   "source": [
    "## Download tool\n",
    "This is the tool you use to download data from the AWS silt annotations bucket. Enter in the aws directory, and where you would like to download your data to. "
   ]
  },
  {
   "cell_type": "code",
   "execution_count": null,
   "id": "4f2c2acb",
   "metadata": {},
   "outputs": [
    {
     "name": "stderr",
     "output_type": "stream",
     "text": [
      "Loading file locations: 0it [00:00, ?it/s]"
     ]
    },
    {
     "name": "stderr",
     "output_type": "stream",
     "text": [
      "Loading file locations: 1it [00:00,  1.48it/s]\n",
      "Downloading and Collecting Statistics: 100%|██████████| 190/190 [02:50<00:00,  1.11it/s]\n"
     ]
    }
   ],
   "source": [
    "#Enter in the parameters you wish to download\n",
    "aws_directory = \"third-party-data/PDS-RME04/Satellite/Annotations/PDS-RME04/2024-04-30/\"\n",
    "download_directory = \"./data/PDS-RME04-2024-04-17/\"\n",
    "statistics_filename = \"PDS-RME04-2024-04-30\"\n",
    "\n",
    "download_data(aws_directory, download_directory, statistics_filename)"
   ]
  },
  {
   "cell_type": "markdown",
   "id": "9f886782",
   "metadata": {},
   "source": [
    "## Select Dataset\n",
    "Before using any of the functions below this, please enter in the directory of the dataset you want to analyze. From here all other functions work. "
   ]
  },
  {
   "cell_type": "code",
   "execution_count": null,
   "id": "04e6ba7f",
   "metadata": {},
   "outputs": [],
   "source": [
    "#Enter in the parameters you wish to download\n",
    "dataset_directory = \"/mnt/c/Users/david.chaparro/Documents/Repos/Dataset-Statistics/data/RME03Star\"\n",
    "\n",
    "#Local file handling tool\n",
    "local_files = file_path_loader(dataset_directory)\n",
    "print(f\"Num Samples: {len(local_files)}\")\n"
   ]
  },
  {
   "cell_type": "markdown",
   "id": "d2aeaabb",
   "metadata": {},
   "source": [
    "## Plot Dataset Statistics\n",
    "\n",
    "This generates plots for all attributes collected during download or during statistics recalculation. "
   ]
  },
  {
   "cell_type": "code",
   "execution_count": null,
   "id": "9735dbe2",
   "metadata": {},
   "outputs": [],
   "source": [
    "# plots_save_path = \"/mnt/c/Users/david.chaparro/Documents/Repos/Dataset-Statistics/data/RME03Star/plots/\"\n",
    "plots_save_path = os.path.join(dataset_directory, \"plots\")\n",
    "data_statistics = local_files.statistics_file\n",
    "#Plot all statistics collected in the file\n",
    "for col_name, col_data in data_statistics.sample_attributes.items():\n",
    "    column_type = detect_column_type(col_data)\n",
    "    print(column_type)\n",
    "    if column_type == \"categorical\":\n",
    "        plot_categorical_column(col_data, filepath=plots_save_path, dpi=500)\n",
    "    elif column_type == \"numerical\":\n",
    "        plot_numerical_column(col_data, filepath=plots_save_path, dpi=500)\n",
    "    elif column_type == \"time\":\n",
    "        plot_time_column(col_data, filepath=plots_save_path, dpi=500)\n",
    "for col_name, col_data in data_statistics.annotation_attributes.items():\n",
    "    column_type = detect_column_type(col_data)\n",
    "    if column_type == \"categorical\":\n",
    "        plot_categorical_column(col_data, filepath=plots_save_path, dpi=500)\n",
    "    elif column_type == \"numerical\":\n",
    "        plot_numerical_column(col_data, filepath=plots_save_path, dpi=500)\n",
    "\n",
    "\n",
    "#Plot the x and y locations of the annotations\n",
    "x_locations=data_statistics.annotation_attributes[\"x_center\"]\n",
    "y_locations=data_statistics.annotation_attributes[\"y_center\"]\n",
    "plot_scatter(x_locations, y_locations, alpha=.05, filepath=plots_save_path, dpi=500)\n",
    "\n",
    "#Plot line segments\n",
    "plot_lines(data_statistics.annotation_attributes[\"x1\"], data_statistics.annotation_attributes[\"y1\"],\n",
    "           data_statistics.annotation_attributes[\"x2\"], data_statistics.annotation_attributes[\"y2\"],\n",
    "           filepath=plots_save_path, dpi=500, alpha=.10)\n"
   ]
  },
  {
   "cell_type": "markdown",
   "id": "49df29aa",
   "metadata": {},
   "source": [
    "## Plot Annotations\n",
    "\n",
    "Plots the annotations, can plot in a zoomed in image of each individual annotation or a whole image of all annotations. Star segments or bounding boxes included"
   ]
  },
  {
   "cell_type": "code",
   "execution_count": null,
   "id": "76ad29fa",
   "metadata": {},
   "outputs": [],
   "source": [
    "#Enter the dataset directory you wish to plot annotations for\n",
    "view_satellite=False\n",
    "view_star=False\n",
    "view_image=True\n",
    "\n",
    "\n",
    "plot_annotations(dataset_directory, view_satellite=False, view_star=False, view_image=True):"
   ]
  },
  {
   "cell_type": "markdown",
   "id": "e52c9bb4",
   "metadata": {},
   "source": [
    "## Custom paramater search example\n",
    "\n",
    "Can search and count the number of samples with a certian attribute. __image_attributes__ is for parameters relevant to the sample in each dataset. __annotation_attributes__ is for parameters relevant to each annotation in the dataset. You can use pandas to query the datasets. "
   ]
  },
  {
   "cell_type": "code",
   "execution_count": null,
   "id": "aec32ec6",
   "metadata": {},
   "outputs": [],
   "source": [
    "#Pandas dataframes for referenece\n",
    "#Sample attributes searches parameters relevant to the sample in the dataset\n",
    "image_attributes = local_files.statistics_file.sample_attributes\n",
    "#Annotation attributes searches parameters relevant to the annotation in each sample\n",
    "annotation_attributes = local_files.statistics_file.annotation_attributes\n",
    "\n",
    "plt.hist(image_attributes[\"num_objects\"], bins=100)\n",
    "plt.show()\n",
    "print(len(image_attributes[image_attributes[\"num_objects\"]==0]))"
   ]
  },
  {
   "cell_type": "markdown",
   "id": "dbaba22d",
   "metadata": {},
   "source": [
    "## Delete Unwanted Files\n",
    "\n",
    "Can delete files from dataset with a certian attribute. __image_attributes__ is for parameters relevant to the sample in each dataset and you must use. __annotation_attributes__ is for parameters relevant to each annotation in the dataset. You can use pandas to query the datasets. "
   ]
  },
  {
   "cell_type": "code",
   "execution_count": null,
   "id": "774882c8",
   "metadata": {},
   "outputs": [],
   "source": [
    "#Pandas dataframes for referenece\n",
    "image_attributes = local_files.statistics_file.sample_attributes\n",
    "annotation_attributes = local_files.statistics_file.annotation_attributes\n",
    "\n",
    "\n",
    "#Delete files based on the sample attributes - Inside is a pandas query that you can modify \n",
    "# local_files.delete_files_from_annotation(annotation_attributes[annotation_attributes['measured_snr'] < 5.0])\n",
    "\n",
    "#Delete files based on the annotation attributes - Inside is a pandas query that you can modify \n",
    "# local_files.delete_files_from_sample(image_attributes[image_attributes['num_objects'] == 0].sample(700))"
   ]
  },
  {
   "cell_type": "markdown",
   "id": "8f5c7d78",
   "metadata": {},
   "source": [
    "## Recalculate Statistics"
   ]
  },
  {
   "cell_type": "code",
   "execution_count": null,
   "id": "1407418d",
   "metadata": {},
   "outputs": [],
   "source": [
    "local_files.recalculate_statistics()"
   ]
  }
 ],
 "metadata": {
  "kernelspec": {
   "display_name": "astrometry",
   "language": "python",
   "name": "python3"
  },
  "language_info": {
   "codemirror_mode": {
    "name": "ipython",
    "version": 3
   },
   "file_extension": ".py",
   "mimetype": "text/x-python",
   "name": "python",
   "nbconvert_exporter": "python",
   "pygments_lexer": "ipython3",
   "version": "3.9.21"
  }
 },
 "nbformat": 4,
 "nbformat_minor": 5
}
