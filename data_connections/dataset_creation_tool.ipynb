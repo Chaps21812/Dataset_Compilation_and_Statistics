{
 "cells": [
  {
   "cell_type": "markdown",
   "id": "66e042e1",
   "metadata": {},
   "source": [
    "# Dataset Creation Tool\n",
    "Once your datasets have been properly curated in the training_set_management_tool, you can now use these tools to convert datasets to coco, and merge them as well. "
   ]
  },
  {
   "cell_type": "code",
   "execution_count": 1,
   "id": "b45c1487",
   "metadata": {},
   "outputs": [],
   "source": [
    "from coco_tools import silt_to_coco, satsim_to_coco, merge_coco, silt_to_coco_panoptic\n",
    "from preprocess_functions import channel_mixture_A, channel_mixture_B, channel_mixture_C, adaptiveIQR, zscale, iqr_clipped, iqr_log, raw_file\n",
    "from preprocess_functions import _median_column_subtraction, _median_row_subtraction, _background_subtract\n",
    "from utilities import get_folders_in_directory, summarize_local_files, clear_local_caches, clear_local_cache, apply_bbox_corrections\n",
    "import os\n",
    "from utilities import clear_local_caches"
   ]
  },
  {
   "cell_type": "code",
   "execution_count": null,
   "id": "1ae86c35",
   "metadata": {},
   "outputs": [],
   "source": [
    "L1 = \"/data/Sentinel_Datasets/LMNT01_Raw/LMNT01Sat-2024-07-12\"\n",
    "L2 = \"/data/Sentinel_Datasets/LMNT02_Raw/LMNT02Sat-2024-07-09\"\n",
    "L3 = \"/data/Sentinel_Datasets/RME04_Raw/RME04Sat-2025-05-21\"\n",
    "\n",
    "training_set_origins = [L1, L2, L3]\n",
    "preprocess_func = channel_mixture_C\n",
    "final_data_path =  \"/data/Sentinel_Datasets/Finalized_datasets\"\n",
    "training_set_output_path = os.path.join(final_data_path, f\"MixedSensors_MixtureC_Training\")"
   ]
  },
  {
   "cell_type": "markdown",
   "id": "a1e51d47",
   "metadata": {},
   "source": [
    "### RME04"
   ]
  },
  {
   "cell_type": "code",
   "execution_count": 11,
   "id": "6465786d",
   "metadata": {},
   "outputs": [],
   "source": [
    "R1 = \"/data/Dataset_Compilation_and_Statistics/Sentinel_Datasets/RME04_Raw/RME04Sat-2024-04-24\"\n",
    "R2 = \"/data/Dataset_Compilation_and_Statistics/Sentinel_Datasets/RME04_Raw/RME04Sat-2024-04-25\"\n",
    "R3 = \"/data/Dataset_Compilation_and_Statistics/Sentinel_Datasets/RME04_Raw/RME04Sat-2024-04-26\"\n",
    "R4 = \"/data/Dataset_Compilation_and_Statistics/Sentinel_Datasets/RME04_Raw/RME04Sat-2024-04-27\"\n",
    "R5 = \"/data/Dataset_Compilation_and_Statistics/Sentinel_Datasets/RME04_Raw/RME04Sat-2024-04-28\"\n",
    "R6 = \"/data/Dataset_Compilation_and_Statistics/Sentinel_Datasets/RME04_Raw/RME04Sat-2024-04-29\"\n",
    "R7 = \"/data/Dataset_Compilation_and_Statistics/Sentinel_Datasets/RME04_Raw/RME04Sat-2024-04-30\"\n",
    "R8 = \"/data/Dataset_Compilation_and_Statistics/Sentinel_Datasets/RME04_Raw/RME04Sat-2024-05-01\"\n",
    "R9 = \"/data/Dataset_Compilation_and_Statistics/Sentinel_Datasets/RME04_Raw/RME04Sat-2024-05-02\"\n",
    "R10 = \"/data/Dataset_Compilation_and_Statistics/Sentinel_Datasets/RME04_Raw/RME04Sat-2024-05-03\"\n",
    "R11 = \"/data/Dataset_Compilation_and_Statistics/Sentinel_Datasets/RME04_Raw/RME04Sat-2024-05-07\"\n",
    "R12 = \"/data/Dataset_Compilation_and_Statistics/Sentinel_Datasets/RME04_Raw/RME04Sat-2024-05-08\"\n",
    "R13 = \"/data/Dataset_Compilation_and_Statistics/Sentinel_Datasets/RME04_Raw/RME04Sat-2024-05-09\"\n",
    "R14 = \"/data/Dataset_Compilation_and_Statistics/Sentinel_Datasets/RME04_Raw/RME04Sat-2024-05-10\"\n",
    "R15 = \"/data/Dataset_Compilation_and_Statistics/Sentinel_Datasets/RME04_Raw/RME04Sat-2024-05-30\"\n",
    "R16 = \"/data/Dataset_Compilation_and_Statistics/Sentinel_Datasets/RME04_Raw/RME04Sat-2024-05-31\"\n",
    "\n",
    "R17 = \"/data/Dataset_Compilation_and_Statistics/Sentinel_Datasets/RME04_Raw/RME04Sat-2024-06-04\"\n",
    "R18 = \"/data/Dataset_Compilation_and_Statistics/Sentinel_Datasets/RME04_Raw/RME04Sat-2024-06-05\"\n",
    "R19 = \"/data/Dataset_Compilation_and_Statistics/Sentinel_Datasets/RME04_Raw/RME04Sat-2024-06-06\"\n",
    "R20 = \"/data/Dataset_Compilation_and_Statistics/Sentinel_Datasets/RME04_Raw/RME04Sat-2024-06-07\"\n",
    "R21 = \"/data/Dataset_Compilation_and_Statistics/Sentinel_Datasets/RME04_Raw/RME04Sat-2024-06-08\"\n",
    "R22 = \"/data/Dataset_Compilation_and_Statistics/Sentinel_Datasets/RME04_Raw/RME04Sat-2024-06-09\"\n",
    "R23 = \"/data/Dataset_Compilation_and_Statistics/Sentinel_Datasets/RME04_Raw/RME04Sat-2024-06-11\"\n",
    "R24 = \"/data/Dataset_Compilation_and_Statistics/Sentinel_Datasets/RME04_Raw/RME04Sat-2024-06-12\"\n",
    "R25 = \"/data/Dataset_Compilation_and_Statistics/Sentinel_Datasets/RME04_Raw/RME04Sat-2024-06-13\"\n",
    "R26 = \"/data/Dataset_Compilation_and_Statistics/Sentinel_Datasets/RME04_Raw/RME04Sat-2024-06-15\"\n",
    "R27 = \"/data/Dataset_Compilation_and_Statistics/Sentinel_Datasets/RME04_Raw/RME04Sat-2024-06-28\"\n",
    "R28 = \"/data/Dataset_Compilation_and_Statistics/Sentinel_Datasets/RME04_Raw/RME04Sat-2024-07-09\"\n",
    "R29 = \"/data/Dataset_Compilation_and_Statistics/Sentinel_Datasets/RME04_Raw/RME04Sat-2024-07-19\"\n",
    "R30 = \"/data/Dataset_Compilation_and_Statistics/Sentinel_Datasets/RME04_Raw/RME04Sat-2025-05-10\"\n",
    "R31 = \"/data/Dataset_Compilation_and_Statistics/Sentinel_Datasets/RME04_Raw/RME04Sat-2025-05-21\"\n",
    "R32 = \"/data/Dataset_Compilation_and_Statistics/Sentinel_Datasets/RME04_Raw/RME04Sat-2025-05-30\"\n",
    "R33 = \"/data/Dataset_Compilation_and_Statistics/Sentinel_Datasets/RME04_Raw/RME04Sat-2025-06-04\"\n",
    "\n",
    "final_data_path=\"/data/Dataset_Compilation_and_Statistics/Sentinel_Datasets/Finalized_datasets\"\n",
    "\n",
    "all_origins = [R1, R2, R3, R4, R5, R6, R7, R8, R9, R10, R11, R12, R13, R14, R15, R16, R17, R18, R19, R20, R21, R22, R23, R24, R25, R26, R27, R28, R29, R30, R31, R32, R33]\n",
    "\n",
    "training_set_origins_RME04 = [R1, R2, R3, R4, R5, R6, R7, R8, R9, R10, R11, R12, R13, R14, R15, R16]\n",
    "training_set_output_path_RME04 = os.path.join(final_data_path, f\"Panoptic_MC_RME04_train\")\n",
    "\n",
    "eval_origins =  [R17, R18, R19, R20, R21, R22, R23, R24, R25, R26, R27, R28, R29, R30, R31, R32, R33]\n",
    "eval_finals = [os.path.join(final_data_path, f\"{os.path.basename(ESet)}_Panoptic_MC_Eval\") for ESet in eval_origins]\n",
    "\n",
    "preprocess_func = channel_mixture_C\n"
   ]
  },
  {
   "cell_type": "markdown",
   "id": "eb668b00",
   "metadata": {},
   "source": [
    "### LMNT01"
   ]
  },
  {
   "cell_type": "code",
   "execution_count": 2,
   "id": "f8bec2fe",
   "metadata": {},
   "outputs": [],
   "source": [
    "LA1 = \"/data/Dataset_Compilation_and_Statistics/Sentinel_Datasets/LMNT01_Raw/LMNT01Sat-2024-07-08\"\n",
    "LA2 = \"/data/Dataset_Compilation_and_Statistics/Sentinel_Datasets/LMNT01_Raw/LMNT01Sat-2024-07-09\"\n",
    "LA3 = \"/data/Dataset_Compilation_and_Statistics/Sentinel_Datasets/LMNT01_Raw/LMNT01Sat-2024-07-10\"\n",
    "LA4 = \"/data/Dataset_Compilation_and_Statistics/Sentinel_Datasets/LMNT01_Raw/LMNT01Sat-2024-07-11\"\n",
    "LA5 = \"/data/Dataset_Compilation_and_Statistics/Sentinel_Datasets/LMNT01_Raw/LMNT01Sat-2024-07-12\"\n",
    "LA6 = \"/data/Dataset_Compilation_and_Statistics/Sentinel_Datasets/LMNT01_Raw/LMNT01Sat-2024-07-13\"\n",
    "LA7 = \"/data/Dataset_Compilation_and_Statistics/Sentinel_Datasets/LMNT01_Raw/LMNT01Sat-2024-07-29\"\n",
    "\n",
    "LA8 = \"/data/Dataset_Compilation_and_Statistics/Sentinel_Datasets/LMNT01_Raw/LMNT01Sat-2024-08-04\"\n",
    "LA9 = \"/data/Dataset_Compilation_and_Statistics/Sentinel_Datasets/LMNT01_Raw/LMNT01Sat-2024-08-20\"\n",
    "LA10 = \"/data/Dataset_Compilation_and_Statistics/Sentinel_Datasets/LMNT01_Raw/LMNT01Sat-2024-09-13\"\n",
    "LA11 = \"/data/Dataset_Compilation_and_Statistics/Sentinel_Datasets/LMNT01_Raw/LMNT01Sat-2024-09-25\"\n",
    "LA12 = \"/data/Dataset_Compilation_and_Statistics/Sentinel_Datasets/LMNT01_Raw/LMNT01Sat-2024-10-06\"\n",
    "LA13 = \"/data/Dataset_Compilation_and_Statistics/Sentinel_Datasets/LMNT01_Raw/LMNT01Sat-2024-10-15\"\n",
    "LA14 = \"/data/Dataset_Compilation_and_Statistics/Sentinel_Datasets/LMNT01_Raw/LMNT01Sat-2024-10-23\"\n",
    "LA15 = \"/data/Dataset_Compilation_and_Statistics/Sentinel_Datasets/LMNT01_Raw/LMNT01Sat-2024-10-30\"\n",
    "LA16 = \"/data/Dataset_Compilation_and_Statistics/Sentinel_Datasets/LMNT01_Raw/LMNT01Sat-2024-11-07\"\n",
    "LA17 = \"/data/Dataset_Compilation_and_Statistics/Sentinel_Datasets/LMNT01_Raw/LMNT01Sat-2024-11-15\"\n",
    "LA18 = \"/data/Dataset_Compilation_and_Statistics/Sentinel_Datasets/LMNT01_Raw/LMNT01Sat-2024-11-26\"\n",
    "LA19 = \"/data/Dataset_Compilation_and_Statistics/Sentinel_Datasets/LMNT01_Raw/LMNT01Sat-2024-12-06\"\n",
    "LA20 = \"/data/Dataset_Compilation_and_Statistics/Sentinel_Datasets/LMNT01_Raw/LMNT01Sat-2024-12-17\"\n",
    "LA21 = \"/data/Dataset_Compilation_and_Statistics/Sentinel_Datasets/LMNT01_Raw/LMNT01Sat-2024-12-20\"\n",
    "LA22 = \"/data/Dataset_Compilation_and_Statistics/Sentinel_Datasets/LMNT01_Raw/LMNT01Sat-2024-12-30\"\n",
    "LA23 = \"/data/Dataset_Compilation_and_Statistics/Sentinel_Datasets/LMNT01_Raw/LMNT01Sat-2025-01-07\"\n",
    "LA24 = \"/data/Dataset_Compilation_and_Statistics/Sentinel_Datasets/LMNT01_Raw/LMNT01Sat-2025-01-10\"\n",
    "LA25 = \"/data/Dataset_Compilation_and_Statistics/Sentinel_Datasets/LMNT01_Raw/LMNT01Sat-2025-01-23\"\n",
    "LA26 = \"/data/Dataset_Compilation_and_Statistics/Sentinel_Datasets/LMNT01_Raw/LMNT01Sat-2025-05-03\"\n",
    "LA27 = \"/data/Dataset_Compilation_and_Statistics/Sentinel_Datasets/LMNT01_Raw/LMNT01Sat-2025-05-10\"\n",
    "LA28 = \"/data/Dataset_Compilation_and_Statistics/Sentinel_Datasets/LMNT01_Raw/LMNT01Sat-2025-05-16\"\n",
    "LA29 = \"/data/Dataset_Compilation_and_Statistics/Sentinel_Datasets/LMNT01_Raw/LMNT01Sat-2025-05-25\"\n",
    "\n",
    "final_data_path=\"/data/Dataset_Compilation_and_Statistics/Sentinel_Datasets/Finalized_datasets\"\n",
    "\n",
    "all_origins = [LA1, LA2, LA3, LA4, LA5, LA6, LA7, LA8, LA9, LA10, LA11, LA12, LA13, LA14, LA15, LA16, LA17, LA18, LA19, LA20, LA21, LA22, LA23, LA24, LA25, LA26, LA27, LA28, LA29]\n",
    "\n",
    "# training_set_origins_LMNT01 = [LA1, LA2, LA3, LA4, LA5, LA6, LA7] # ORIGINAL TRAINING SET DO NOT DELETE\n",
    "training_set_origins_LMNT01 = [LA8, LA9, LA10, LA11, LA12, LA13, LA14, LA15]\n",
    "# training_set_origins_LMNT01 = [LA1, LA2, LA3, LA4, LA5, LA6, LA7, LA10, LA11, LA12, LA13, LA14, LA15]\n",
    "training_set_output_path_LMNT01 = os.path.join(final_data_path, f\"Panoptic_MC_LMNT01_train\")\n",
    "\n",
    "eval_origins =  [LA8, LA9, LA10, LA11, LA12, LA13, LA14, LA15, LA16, LA17, LA18, LA19, LA20, LA21, LA22, LA23, LA24, LA25, LA26, LA27, LA28, LA29]\n",
    "eval_finals = [os.path.join(final_data_path, f\"{os.path.basename(ESet)}_Panoptic_MC_Eval\") for ESet in eval_origins]\n",
    "\n",
    "preprocess_func = channel_mixture_C"
   ]
  },
  {
   "cell_type": "markdown",
   "id": "c2be1d36",
   "metadata": {},
   "source": [
    "### LMNT02"
   ]
  },
  {
   "cell_type": "code",
   "execution_count": 13,
   "id": "aed16730",
   "metadata": {},
   "outputs": [],
   "source": [
    "\n",
    "\n",
    "T1 = \"/data/Sentinel_Datasets/LMNT02_Raw/LMNT02Sat-2024-07-12\"\n",
    "T2 = \"/data/Sentinel_Datasets/LMNT02_Raw/LMNT02Sat-2024-07-08\"\n",
    "T3 = \"/data/Sentinel_Datasets/LMNT02_Raw/LMNT02Sat-2024-07-13\"\n",
    "T4 = \"/data/Sentinel_Datasets/LMNT02_Raw/LMNT02Sat-2024-07-09\"\n",
    "T5 = \"/data/Sentinel_Datasets/LMNT02_Raw/LMNT02Sat-2024-07-10\"\n",
    "T6 = \"/data/Sentinel_Datasets/LMNT02_Raw/LMNT02Sat-2024-07-07\"\n",
    "T7 = \"/data/Sentinel_Datasets/LMNT02_Raw/LMNT02Sat-2024-08-05\"\n",
    "T8 = \"/data/Sentinel_Datasets/LMNT02_Raw/LMNT02Sat-2024-07-25\"\n",
    "T9 = \"/data/Sentinel_Datasets/LMNT02_Raw/LMNT02Sat-2024-08-21\"\n",
    "T10 = \"/data/Sentinel_Datasets/LMNT02_Raw/LMNT02Sat-2024-07-11\"\n",
    "T11 = \"/data/Sentinel_Datasets/LMNT02_Raw/LMNT02Sat-2024-08-30\"\n",
    "\n",
    "E1 = \"/data/Sentinel_Datasets/LMNT02_Raw/LMNT02Sat-2024-09-06\"\n",
    "E2 = \"/data/Sentinel_Datasets/LMNT02_Raw/LMNT02Sat-2024-11-14\"\n",
    "E3 = \"/data/Sentinel_Datasets/LMNT02_Raw/LMNT02Sat-2024-12-07\"\n",
    "E4 = \"/data/Sentinel_Datasets/LMNT02_Raw/LMNT02Sat-2024-09-14\"\n",
    "E5 = \"/data/Sentinel_Datasets/LMNT02_Raw/LMNT02Sat-2024-11-07\"\n",
    "E6 = \"/data/Sentinel_Datasets/LMNT02_Raw/LMNT02Sat-2024-10-08\"\n",
    "E7 = \"/data/Sentinel_Datasets/LMNT02_Raw/LMNT02Sat-2024-10-30\"\n",
    "E8 = \"/data/Sentinel_Datasets/LMNT02_Raw/LMNT02Sat-2024-10-10\"\n",
    "E9 = \"/data/Sentinel_Datasets/LMNT02_Raw/LMNT02Sat-2024-12-24\"\n",
    "E10 = \"/data/Sentinel_Datasets/LMNT02_Raw/LMNT02Sat-2024-12-31\"\n",
    "E11 = \"/data/Sentinel_Datasets/LMNT02_Raw/LMNT02Sat-2024-11-19\"\n",
    "E12 = \"/data/Sentinel_Datasets/LMNT02_Raw/LMNT02Sat-2024-10-31\"\n",
    "E13 = \"/data/Sentinel_Datasets/LMNT02_Raw/LMNT02Sat-2024-10-04\"\n",
    "E14 = \"/data/Sentinel_Datasets/LMNT02_Raw/LMNT02Sat-2024-09-10\"\n",
    "E15 = \"/data/Sentinel_Datasets/LMNT02_Raw/LMNT02Sat-2024-11-08\"\n",
    "E16 = \"/data/Sentinel_Datasets/LMNT02_Raw/LMNT02Sat-2025-01-08\"\n",
    "E17 = \"/data/Sentinel_Datasets/LMNT02_Raw/LMNT02Sat-2024-12-20\"\n",
    "E18 = \"/data/Sentinel_Datasets/LMNT02_Raw/LMNT02Sat-2024-09-20\"\n",
    "E19 = \"/data/Sentinel_Datasets/LMNT02_Raw/LMNT02Sat-2024-10-17\"\n",
    "E20 = \"/data/Sentinel_Datasets/LMNT02_Raw/LMNT02Sat-2025-01-04\"\n",
    "E21 = \"/data/Sentinel_Datasets/LMNT02_Raw/LMNT02Sat-2024-11-27\"\n",
    "E22 = \"/data/Sentinel_Datasets/LMNT02_Raw/LMNT02Sat-2024-12-17\"\n",
    "E23 = \"/data/Sentinel_Datasets/LMNT02_Raw/LMNT02Sat-2024-10-20\"\n",
    "E24 = \"/data/Sentinel_Datasets/LMNT02_Raw/LMNT02Sat-2024-09-12\"\n",
    "E25 = \"/data/Sentinel_Datasets/LMNT02_Raw/LMNT02Sat-2024-10-21\"\n",
    "E26 = \"/data/Sentinel_Datasets/LMNT02_Raw/LMNT02Sat-2024-11-15\"\n",
    "\n",
    "final_data_path=\"/data/Dataset_Compilation_and_Statistics/Sentinel_Datasets/Finalized_datasets\"\n",
    "\n",
    "all_origins = [T1, T2, T3, T4, T5, T6, T7, T8, T9, T10, T11, E1, E2, E3, E4, E5, E6, E7, E8, E9, E10, E11, E12, E13, E14, E15, E16, E17, E18, E19, E20, E21, E22, E23, E24, E25, E26]\n",
    "\n",
    "training_set_origins_LMNT02 = [ T2, T3, T4, T5, T7, T8, T9, T10, T11]\n",
    "# training_set_origins_LMNT02 = [E1, E2, E3, E4, E5, E6, E7, E8, E9, E10, E11]\n",
    "training_set_output_path_LMNT02 = os.path.join(final_data_path, f\"Panoptic_MC_LMNT02_train\")\n",
    "\n",
    "eval_origins = [E1, E2, E3, E4, E5, E6, E7, E8, E9, E10, E11, E12, E13, E14, E15, E16, E17, E18, E19, E20, E21, E22, E23, E24, E25, E26]\n",
    "eval_finals = [os.path.join(final_data_path, f\"{os.path.basename(ESet)}_Panoptic_MC_Eval\") for ESet in eval_origins]\n",
    "\n",
    "preprocess_func = channel_mixture_C\n"
   ]
  },
  {
   "cell_type": "markdown",
   "id": "569744bd",
   "metadata": {},
   "source": [
    "### Injected Folders"
   ]
  },
  {
   "cell_type": "code",
   "execution_count": 14,
   "id": "cdd689e5",
   "metadata": {},
   "outputs": [],
   "source": [
    "path1 = \"/data/Dataset_Compilation_and_Statistics/Sentinel_Datasets/RME04_Raw/RME04Sat-2024-05-14-injected\"\n",
    "path2 = \"/data/Dataset_Compilation_and_Statistics/Sentinel_Datasets/RME04_Raw/RME04Sat-2024-05-15-injected\"\n",
    "path3 = \"/data/Dataset_Compilation_and_Statistics/Sentinel_Datasets/RME04_Raw/RME04Sat-2024-05-16-injected\"\n",
    "path4 = \"/data/Dataset_Compilation_and_Statistics/Sentinel_Datasets/RME04_Raw/RME04Sat-2024-05-17-injected\"\n",
    "path5 = \"/data/Dataset_Compilation_and_Statistics/Sentinel_Datasets/RME04_Raw/RME04Sat-2024-07-29-injected\"\n",
    "path6 = \"/data/Dataset_Compilation_and_Statistics/Sentinel_Datasets/LMNT02_Raw/LMNT02Sat-2024-12-30-injected\"\n",
    "path7 = \"/data/Dataset_Compilation_and_Statistics/Sentinel_Datasets/LMNT02_Raw/LMNT02Sat-2024-07-21-injected\"\n",
    "\n",
    "\n",
    "training_set_origins = [path1, path2, path3, path4, path5, path6, path7]\n",
    "final_data_path=\"/data/Dataset_Compilation_and_Statistics/Sentinel_Datasets/Finalized_datasets\"\n",
    "training_set_output_path = os.path.join(final_data_path, f\"R4L2-Target-Injection_11k\")\n",
    "preprocess_func = channel_mixture_C"
   ]
  },
  {
   "cell_type": "markdown",
   "id": "350bd770",
   "metadata": {},
   "source": [
    "## Convert SILT to COCO"
   ]
  },
  {
   "cell_type": "markdown",
   "id": "dd45e671",
   "metadata": {},
   "source": [
    "### Convert Single Path"
   ]
  },
  {
   "cell_type": "code",
   "execution_count": 16,
   "id": "b0a628ad",
   "metadata": {},
   "outputs": [
    {
     "name": "stderr",
     "output_type": "stream",
     "text": [
      "Converting Silt to COCO: 100%|██████████| 4900/4900 [07:20<00:00, 11.12it/s]\n",
      "Copying images: 100%|██████████| 4900/4900 [4:01:40<00:00,  2.96s/it]  \n"
     ]
    }
   ],
   "source": [
    "# silt_to_coco(Process_pathB, include_sats=False, include_stars=True, zip=False, notes=\"RME01 dataset with stars only\")\n",
    "silt_to_coco(path7, include_sats=True, include_stars=False, convert_png=True, process_func=preprocess_func, notes=\"Mixture of ZScale, raw, and log-IQR for target injection imagery\")"
   ]
  },
  {
   "cell_type": "markdown",
   "id": "0d0bc3df",
   "metadata": {},
   "source": [
    "### Convert Multiple Paths"
   ]
  },
  {
   "cell_type": "code",
   "execution_count": 3,
   "id": "7d0acc5f",
   "metadata": {},
   "outputs": [
    {
     "name": "stdout",
     "output_type": "stream",
     "text": [
      "/data/Dataset_Compilation_and_Statistics/Sentinel_Datasets/RME04_Raw/RME04Sat-2024-05-14-injected\n"
     ]
    },
    {
     "name": "stderr",
     "output_type": "stream",
     "text": [
      "Converting Silt to COCO:   0%|          | 0/460 [00:00<?, ?it/s]"
     ]
    },
    {
     "name": "stderr",
     "output_type": "stream",
     "text": [
      "Converting Silt to COCO: 100%|██████████| 460/460 [00:23<00:00, 19.59it/s]\n",
      "Copying images: 100%|██████████| 460/460 [16:19<00:00,  2.13s/it]\n"
     ]
    },
    {
     "name": "stdout",
     "output_type": "stream",
     "text": [
      "/data/Dataset_Compilation_and_Statistics/Sentinel_Datasets/RME04_Raw/RME04Sat-2024-05-15-injected\n"
     ]
    },
    {
     "name": "stderr",
     "output_type": "stream",
     "text": [
      "Converting Silt to COCO: 100%|██████████| 180/180 [00:08<00:00, 21.18it/s]\n",
      "Copying images: 100%|██████████| 180/180 [06:17<00:00,  2.10s/it]\n"
     ]
    },
    {
     "name": "stdout",
     "output_type": "stream",
     "text": [
      "/data/Dataset_Compilation_and_Statistics/Sentinel_Datasets/RME04_Raw/RME04Sat-2024-05-16-injected\n"
     ]
    },
    {
     "name": "stderr",
     "output_type": "stream",
     "text": [
      "Converting Silt to COCO: 100%|██████████| 300/300 [00:13<00:00, 21.78it/s]\n",
      "Copying images: 100%|██████████| 300/300 [10:44<00:00,  2.15s/it]\n"
     ]
    },
    {
     "name": "stdout",
     "output_type": "stream",
     "text": [
      "/data/Dataset_Compilation_and_Statistics/Sentinel_Datasets/RME04_Raw/RME04Sat-2024-05-17-injected\n"
     ]
    },
    {
     "name": "stderr",
     "output_type": "stream",
     "text": [
      "Converting Silt to COCO: 100%|██████████| 180/180 [00:08<00:00, 21.76it/s]\n",
      "Copying images: 100%|██████████| 180/180 [06:27<00:00,  2.15s/it]\n"
     ]
    }
   ],
   "source": [
    "for path in paths:\n",
    "    print(path)\n",
    "    silt_to_coco(path, include_sats=True, include_stars=False, convert_png=True, process_func=preprocess_func, notes=\"Mixture of ZScale, raw, and log-IQR for target injection imagery\")"
   ]
  },
  {
   "cell_type": "markdown",
   "id": "3526d6f9",
   "metadata": {},
   "source": [
    "## Convert SATSim to COCO"
   ]
  },
  {
   "cell_type": "code",
   "execution_count": 4,
   "id": "ccf3a46f",
   "metadata": {},
   "outputs": [
    {
     "name": "stderr",
     "output_type": "stream",
     "text": [
      "Converting Satsim to COCO: 100%|██████████| 5000/5000 [00:28<00:00, 172.87it/s]\n"
     ]
    },
    {
     "name": "stdout",
     "output_type": "stream",
     "text": [
      "Deleted folder: /data/Dataset_Compilation_and_Statistics/Sentinel_Datasets/Finalized_datasets/SatsimMixtureC/images\n",
      "Deleted folder: /data/Dataset_Compilation_and_Statistics/Sentinel_Datasets/Finalized_datasets/SatsimMixtureC/annotations\n"
     ]
    },
    {
     "name": "stderr",
     "output_type": "stream",
     "text": [
      "Copying images: 100%|██████████| 30000/30000 [51:21<00:00,  9.73it/s]\n"
     ]
    }
   ],
   "source": [
    "satsim_path = \"/home/davidchaparro/Repos/SatSim/output\"\n",
    "output_dataset = \"/data/Dataset_Compilation_and_Statistics/Sentinel_Datasets/Finalized_datasets/SatsimMixtureC\"\n",
    "satsim_to_coco(satsim_path,output_dataset,include_sats=True, include_stars=False, convert_png=True, process_func=channel_mixture_C, notes=\"\")"
   ]
  },
  {
   "cell_type": "markdown",
   "id": "cbb48e98",
   "metadata": {},
   "source": [
    "## Convert Silt to Panoptic COCO"
   ]
  },
  {
   "cell_type": "code",
   "execution_count": null,
   "id": "4e93fe0b",
   "metadata": {},
   "outputs": [
    {
     "name": "stdout",
     "output_type": "stream",
     "text": [
      "Deleted folder: /data/Dataset_Compilation_and_Statistics/Sentinel_Datasets/LMNT01_Raw/LMNT01Sat-2024-08-04/images\n",
      "Deleted folder: /data/Dataset_Compilation_and_Statistics/Sentinel_Datasets/LMNT01_Raw/LMNT01Sat-2024-08-04/annotations\n",
      "Deleted folder: /data/Dataset_Compilation_and_Statistics/Sentinel_Datasets/LMNT01_Raw/LMNT01Sat-2024-08-04/multiframe_annotations\n"
     ]
    },
    {
     "name": "stderr",
     "output_type": "stream",
     "text": [
      "Converting Silt to COCO: 100%|██████████| 535/535 [03:26<00:00,  2.59it/s]\n"
     ]
    },
    {
     "name": "stdout",
     "output_type": "stream",
     "text": [
      "Deleted folder: /data/Dataset_Compilation_and_Statistics/Sentinel_Datasets/LMNT01_Raw/LMNT01Sat-2024-08-20/images\n",
      "Deleted folder: /data/Dataset_Compilation_and_Statistics/Sentinel_Datasets/LMNT01_Raw/LMNT01Sat-2024-08-20/annotations\n",
      "Deleted folder: /data/Dataset_Compilation_and_Statistics/Sentinel_Datasets/LMNT01_Raw/LMNT01Sat-2024-08-20/multiframe_annotations\n"
     ]
    },
    {
     "name": "stderr",
     "output_type": "stream",
     "text": [
      "Converting Silt to COCO: 100%|██████████| 1209/1209 [10:04<00:00,  2.00it/s]\n"
     ]
    },
    {
     "name": "stdout",
     "output_type": "stream",
     "text": [
      "Deleted folder: /data/Dataset_Compilation_and_Statistics/Sentinel_Datasets/LMNT01_Raw/LMNT01Sat-2024-09-13/images\n",
      "Deleted folder: /data/Dataset_Compilation_and_Statistics/Sentinel_Datasets/LMNT01_Raw/LMNT01Sat-2024-09-13/annotations\n",
      "Deleted folder: /data/Dataset_Compilation_and_Statistics/Sentinel_Datasets/LMNT01_Raw/LMNT01Sat-2024-09-13/multiframe_annotations\n"
     ]
    },
    {
     "name": "stderr",
     "output_type": "stream",
     "text": [
      "Converting Silt to COCO: 100%|██████████| 1220/1220 [07:01<00:00,  2.90it/s]\n"
     ]
    },
    {
     "name": "stdout",
     "output_type": "stream",
     "text": [
      "Deleted folder: /data/Dataset_Compilation_and_Statistics/Sentinel_Datasets/LMNT01_Raw/LMNT01Sat-2024-09-25/images\n",
      "Deleted folder: /data/Dataset_Compilation_and_Statistics/Sentinel_Datasets/LMNT01_Raw/LMNT01Sat-2024-09-25/annotations\n",
      "Deleted folder: /data/Dataset_Compilation_and_Statistics/Sentinel_Datasets/LMNT01_Raw/LMNT01Sat-2024-09-25/multiframe_annotations\n"
     ]
    },
    {
     "name": "stderr",
     "output_type": "stream",
     "text": [
      "Converting Silt to COCO: 100%|██████████| 492/492 [03:09<00:00,  2.59it/s]\n"
     ]
    },
    {
     "name": "stdout",
     "output_type": "stream",
     "text": [
      "Deleted folder: /data/Dataset_Compilation_and_Statistics/Sentinel_Datasets/LMNT01_Raw/LMNT01Sat-2024-10-06/images\n",
      "Deleted folder: /data/Dataset_Compilation_and_Statistics/Sentinel_Datasets/LMNT01_Raw/LMNT01Sat-2024-10-06/annotations\n",
      "Deleted folder: /data/Dataset_Compilation_and_Statistics/Sentinel_Datasets/LMNT01_Raw/LMNT01Sat-2024-10-06/multiframe_annotations\n"
     ]
    },
    {
     "name": "stderr",
     "output_type": "stream",
     "text": [
      "Converting Silt to COCO: 100%|██████████| 450/450 [03:04<00:00,  2.44it/s]\n"
     ]
    },
    {
     "name": "stdout",
     "output_type": "stream",
     "text": [
      "Deleted folder: /data/Dataset_Compilation_and_Statistics/Sentinel_Datasets/LMNT01_Raw/LMNT01Sat-2024-10-15/images\n",
      "Deleted folder: /data/Dataset_Compilation_and_Statistics/Sentinel_Datasets/LMNT01_Raw/LMNT01Sat-2024-10-15/annotations\n",
      "Deleted folder: /data/Dataset_Compilation_and_Statistics/Sentinel_Datasets/LMNT01_Raw/LMNT01Sat-2024-10-15/multiframe_annotations\n"
     ]
    },
    {
     "name": "stderr",
     "output_type": "stream",
     "text": [
      "Converting Silt to COCO: 100%|██████████| 1326/1326 [07:49<00:00,  2.83it/s]\n"
     ]
    },
    {
     "name": "stdout",
     "output_type": "stream",
     "text": [
      "Deleted folder: /data/Dataset_Compilation_and_Statistics/Sentinel_Datasets/LMNT01_Raw/LMNT01Sat-2024-10-23/images\n",
      "Deleted folder: /data/Dataset_Compilation_and_Statistics/Sentinel_Datasets/LMNT01_Raw/LMNT01Sat-2024-10-23/annotations\n",
      "Deleted folder: /data/Dataset_Compilation_and_Statistics/Sentinel_Datasets/LMNT01_Raw/LMNT01Sat-2024-10-23/multiframe_annotations\n"
     ]
    },
    {
     "name": "stderr",
     "output_type": "stream",
     "text": [
      "Converting Silt to COCO: 100%|██████████| 875/875 [07:29<00:00,  1.95it/s]\n"
     ]
    },
    {
     "name": "stdout",
     "output_type": "stream",
     "text": [
      "Deleted folder: /data/Dataset_Compilation_and_Statistics/Sentinel_Datasets/LMNT01_Raw/LMNT01Sat-2024-10-30/images\n",
      "Deleted folder: /data/Dataset_Compilation_and_Statistics/Sentinel_Datasets/LMNT01_Raw/LMNT01Sat-2024-10-30/annotations\n",
      "Deleted folder: /data/Dataset_Compilation_and_Statistics/Sentinel_Datasets/LMNT01_Raw/LMNT01Sat-2024-10-30/multiframe_annotations\n"
     ]
    },
    {
     "name": "stderr",
     "output_type": "stream",
     "text": [
      "Converting Silt to COCO: 100%|██████████| 1086/1086 [07:56<00:00,  2.28it/s]\n"
     ]
    }
   ],
   "source": [
    "for path in training_set_origins_LMNT01:\n",
    "    silt_to_coco_panoptic(path, process_func=preprocess_func, percent_empty_data=.5, overlap=20, notes=\"Mixture of ZScale, raw, and log-IQR for Panoptic COCO imagery at 20 percent overlap\")"
   ]
  },
  {
   "cell_type": "markdown",
   "id": "3f496708",
   "metadata": {},
   "source": [
    "## Merge Datasets"
   ]
  },
  {
   "cell_type": "markdown",
   "id": "3f5130a4",
   "metadata": {},
   "source": [
    "### Merge Training Sets"
   ]
  },
  {
   "cell_type": "code",
   "execution_count": 5,
   "id": "bb2f4dfe",
   "metadata": {},
   "outputs": [],
   "source": [
    "satsim_data = \"/data/Dataset_Compilation_and_Statistics/Sentinel_Datasets/Finalized_datasets/satsim_sats_dataset\"\n",
    "training_set_origins_RME04.append(satsim_data)\n",
    "training_set_origins_LMNT01.append(satsim_data)\n",
    "training_set_origins_LMNT02.append(satsim_data)"
   ]
  },
  {
   "cell_type": "markdown",
   "id": "a1e4f611",
   "metadata": {},
   "source": [
    "### Merging Panoptic COCO"
   ]
  },
  {
   "cell_type": "code",
   "execution_count": null,
   "id": "8c851560",
   "metadata": {},
   "outputs": [
    {
     "name": "stdout",
     "output_type": "stream",
     "text": [
      "['/data/Dataset_Compilation_and_Statistics/Sentinel_Datasets/LMNT01_Raw/LMNT01Sat-2024-08-04', '/data/Dataset_Compilation_and_Statistics/Sentinel_Datasets/LMNT01_Raw/LMNT01Sat-2024-08-20', '/data/Dataset_Compilation_and_Statistics/Sentinel_Datasets/LMNT01_Raw/LMNT01Sat-2024-09-13', '/data/Dataset_Compilation_and_Statistics/Sentinel_Datasets/LMNT01_Raw/LMNT01Sat-2024-09-25', '/data/Dataset_Compilation_and_Statistics/Sentinel_Datasets/LMNT01_Raw/LMNT01Sat-2024-10-06', '/data/Dataset_Compilation_and_Statistics/Sentinel_Datasets/LMNT01_Raw/LMNT01Sat-2024-10-15', '/data/Dataset_Compilation_and_Statistics/Sentinel_Datasets/LMNT01_Raw/LMNT01Sat-2024-10-23', '/data/Dataset_Compilation_and_Statistics/Sentinel_Datasets/LMNT01_Raw/LMNT01Sat-2024-10-30']\n"
     ]
    },
    {
     "name": "stderr",
     "output_type": "stream",
     "text": [
      "Processing COCO Datasets: 100%|██████████| 8/8 [00:00<00:00, 41.32it/s]\n",
      "Copying images: 100%|██████████| 10058/10058 [00:02<00:00, 3846.06it/s]\n",
      "Copying images: 100%|██████████| 2512/2512 [00:00<00:00, 3979.94it/s]\n",
      "Copying images: 0it [00:00, ?it/s]\n"
     ]
    }
   ],
   "source": [
    "#For Creating Training Sets\n",
    "# training_set_origins = [T1, T2, T3, T4, T5, T6, T7, T8, T9, T10, T11]\n",
    "# satsim_data = \"/data/Dataset_Compilation_and_Statistics/Sentinel_Datasets/Finalized_datasets/SatsimMixtureC\"\n",
    "# satsim_output_data = \"/data/Dataset_Compilation_and_Statistics/Sentinel_Datasets/Finalized_datasets/SatsimMCTrain\"\n",
    "# origins = [training_set_origins_LMNT02, training_set_origins_LMNT01, training_set_origins_RME04]\n",
    "training_set_output_path_LMNT01 = os.path.join(final_data_path, f\"Panoptic_MC_LMNT01_train_20_Overlap\")\n",
    "training_set_output_path_LMNT02 = os.path.join(final_data_path, f\"Panoptic_MC_LMNT02_train_random_overlap\")\n",
    "training_set_output_path_RME04 = os.path.join(final_data_path, f\"Panoptic_MC_RME04_train_random_overlap\")\n",
    "\n",
    "origins = []\n",
    "origins.extend(training_set_origins_LMNT01)\n",
    "# origins.extend(training_set_origins_LMNT02)\n",
    "# origins.extend(training_set_origins_RME04)\n",
    "# origins.append(satsim_data)\n",
    "print(origins)\n",
    "# total_data_path = os.path.join(final_data_path, f\"Panoptic_MC_AllData_train\") #REDO THIS ONE\n",
    "\n",
    "merge_coco(origins, training_set_output_path_LMNT01, train_test_split=True, train_ratio=.8, val_ratio=.2, test_ratio=0, notes=\"19000 samples of LMNT01 panoptic stitching mixture C preprocessing \")\n",
    "# clear_local_caches(os.path.dirname(training_set_origins[0]))"
   ]
  },
  {
   "cell_type": "markdown",
   "id": "f98ddbcf",
   "metadata": {},
   "source": [
    "### Merge Evaluation Sets"
   ]
  },
  {
   "cell_type": "code",
   "execution_count": 3,
   "id": "778a7bd2",
   "metadata": {},
   "outputs": [
    {
     "name": "stderr",
     "output_type": "stream",
     "text": [
      "Converting Silt to COCO: 100%|██████████| 609/609 [00:25<00:00, 23.96it/s]\n",
      "Copying images: 100%|██████████| 609/609 [18:49<00:00,  1.85s/it]\n",
      "Processing COCO Datasets: 100%|██████████| 1/1 [00:00<00:00, 63.17it/s]\n",
      "Copying images: 100%|██████████| 609/609 [00:02<00:00, 278.34it/s]\n"
     ]
    },
    {
     "name": "stdout",
     "output_type": "stream",
     "text": [
      "Removed: /data/Sentinel_Datasets/LMNT02_Raw/LMNT02Sat-2024-09-06/annotations\n",
      "Removed: /data/Sentinel_Datasets/LMNT02_Raw/LMNT02Sat-2024-09-06/images\n",
      "Removed: /data/Sentinel_Datasets/LMNT02_Raw/LMNT02Sat-2024-11-14/annotations\n",
      "Removed: /data/Sentinel_Datasets/LMNT02_Raw/LMNT02Sat-2024-11-14/images\n"
     ]
    },
    {
     "name": "stderr",
     "output_type": "stream",
     "text": [
      "Converting Silt to COCO: 100%|██████████| 572/572 [00:22<00:00, 25.37it/s]\n",
      "Copying images: 100%|██████████| 572/572 [17:13<00:00,  1.81s/it]\n",
      "Processing COCO Datasets: 100%|██████████| 1/1 [00:00<00:00, 88.10it/s]\n",
      "Copying images: 100%|██████████| 572/572 [00:02<00:00, 274.83it/s]\n"
     ]
    },
    {
     "name": "stdout",
     "output_type": "stream",
     "text": [
      "Removed: /data/Sentinel_Datasets/LMNT02_Raw/LMNT02Sat-2024-11-14/annotations\n",
      "Removed: /data/Sentinel_Datasets/LMNT02_Raw/LMNT02Sat-2024-11-14/images\n"
     ]
    },
    {
     "name": "stderr",
     "output_type": "stream",
     "text": [
      "Converting Silt to COCO: 100%|██████████| 522/522 [00:21<00:00, 23.98it/s]\n",
      "Copying images: 100%|██████████| 522/522 [16:31<00:00,  1.90s/it]\n",
      "Processing COCO Datasets: 100%|██████████| 1/1 [00:00<00:00, 75.25it/s]\n",
      "Copying images: 100%|██████████| 522/522 [00:01<00:00, 285.12it/s]\n"
     ]
    },
    {
     "name": "stdout",
     "output_type": "stream",
     "text": [
      "Removed: /data/Sentinel_Datasets/LMNT02_Raw/LMNT02Sat-2024-12-07/annotations\n",
      "Removed: /data/Sentinel_Datasets/LMNT02_Raw/LMNT02Sat-2024-12-07/images\n"
     ]
    },
    {
     "name": "stderr",
     "output_type": "stream",
     "text": [
      "Converting Silt to COCO: 100%|██████████| 1859/1859 [01:15<00:00, 24.72it/s]\n",
      "Copying images: 100%|██████████| 1859/1859 [56:25<00:00,  1.82s/it]\n",
      "Processing COCO Datasets: 100%|██████████| 1/1 [00:00<00:00, 32.79it/s]\n",
      "Copying images: 100%|██████████| 1859/1859 [00:06<00:00, 270.88it/s]\n"
     ]
    },
    {
     "name": "stdout",
     "output_type": "stream",
     "text": [
      "Removed: /data/Sentinel_Datasets/LMNT02_Raw/LMNT02Sat-2024-09-14/annotations\n",
      "Removed: /data/Sentinel_Datasets/LMNT02_Raw/LMNT02Sat-2024-09-14/images\n"
     ]
    },
    {
     "name": "stderr",
     "output_type": "stream",
     "text": [
      "Converting Silt to COCO: 100%|██████████| 1122/1122 [00:47<00:00, 23.60it/s]\n",
      "Copying images: 100%|██████████| 1122/1122 [34:32<00:00,  1.85s/it]\n",
      "Processing COCO Datasets: 100%|██████████| 1/1 [00:00<00:00, 56.50it/s]\n",
      "Copying images: 100%|██████████| 1122/1122 [00:04<00:00, 264.46it/s]\n"
     ]
    },
    {
     "name": "stdout",
     "output_type": "stream",
     "text": [
      "Removed: /data/Sentinel_Datasets/LMNT02_Raw/LMNT02Sat-2024-11-07/annotations\n",
      "Removed: /data/Sentinel_Datasets/LMNT02_Raw/LMNT02Sat-2024-11-07/images\n"
     ]
    },
    {
     "name": "stderr",
     "output_type": "stream",
     "text": [
      "Converting Silt to COCO: 100%|██████████| 463/463 [00:19<00:00, 23.80it/s]\n",
      "Copying images: 100%|██████████| 463/463 [14:28<00:00,  1.88s/it]\n",
      "Processing COCO Datasets: 100%|██████████| 1/1 [00:00<00:00, 90.92it/s]\n",
      "Copying images: 100%|██████████| 463/463 [00:01<00:00, 242.80it/s]\n"
     ]
    },
    {
     "name": "stdout",
     "output_type": "stream",
     "text": [
      "Removed: /data/Sentinel_Datasets/LMNT02_Raw/LMNT02Sat-2024-10-08/annotations\n",
      "Removed: /data/Sentinel_Datasets/LMNT02_Raw/LMNT02Sat-2024-10-08/images\n"
     ]
    },
    {
     "name": "stderr",
     "output_type": "stream",
     "text": [
      "Converting Silt to COCO: 100%|██████████| 570/570 [00:24<00:00, 23.34it/s]\n",
      "Copying images: 100%|██████████| 570/570 [18:29<00:00,  1.95s/it]\n",
      "Processing COCO Datasets: 100%|██████████| 1/1 [00:00<00:00, 93.40it/s]\n",
      "Copying images: 100%|██████████| 570/570 [00:02<00:00, 266.13it/s]\n"
     ]
    },
    {
     "name": "stdout",
     "output_type": "stream",
     "text": [
      "Removed: /data/Sentinel_Datasets/LMNT02_Raw/LMNT02Sat-2024-10-30/annotations\n",
      "Removed: /data/Sentinel_Datasets/LMNT02_Raw/LMNT02Sat-2024-10-30/images\n"
     ]
    },
    {
     "name": "stderr",
     "output_type": "stream",
     "text": [
      "Converting Silt to COCO: 100%|██████████| 756/756 [00:32<00:00, 23.61it/s]\n",
      "Copying images: 100%|██████████| 756/756 [23:49<00:00,  1.89s/it]\n",
      "Processing COCO Datasets: 100%|██████████| 1/1 [00:00<00:00, 45.54it/s]\n",
      "Copying images: 100%|██████████| 756/756 [00:03<00:00, 246.50it/s]\n"
     ]
    },
    {
     "name": "stdout",
     "output_type": "stream",
     "text": [
      "Removed: /data/Sentinel_Datasets/LMNT02_Raw/LMNT02Sat-2024-10-10/annotations\n",
      "Removed: /data/Sentinel_Datasets/LMNT02_Raw/LMNT02Sat-2024-10-10/images\n"
     ]
    },
    {
     "name": "stderr",
     "output_type": "stream",
     "text": [
      "Converting Silt to COCO: 100%|██████████| 2795/2795 [01:58<00:00, 23.63it/s]\n",
      "Copying images: 100%|██████████| 2795/2795 [1:29:16<00:00,  1.92s/it]\n",
      "Processing COCO Datasets: 100%|██████████| 1/1 [00:00<00:00, 20.05it/s]\n",
      "Copying images: 100%|██████████| 2795/2795 [00:10<00:00, 270.55it/s]\n"
     ]
    },
    {
     "name": "stdout",
     "output_type": "stream",
     "text": [
      "Removed: /data/Sentinel_Datasets/LMNT02_Raw/LMNT02Sat-2024-12-24/annotations\n",
      "Removed: /data/Sentinel_Datasets/LMNT02_Raw/LMNT02Sat-2024-12-24/images\n"
     ]
    },
    {
     "name": "stderr",
     "output_type": "stream",
     "text": [
      "Converting Silt to COCO: 100%|██████████| 1607/1607 [01:07<00:00, 23.98it/s]\n",
      "Copying images: 100%|██████████| 1607/1607 [51:06<00:00,  1.91s/it]\n",
      "Processing COCO Datasets: 100%|██████████| 1/1 [00:00<00:00, 34.20it/s]\n",
      "Copying images: 100%|██████████| 1607/1607 [00:05<00:00, 270.77it/s]\n"
     ]
    },
    {
     "name": "stdout",
     "output_type": "stream",
     "text": [
      "Removed: /data/Sentinel_Datasets/LMNT02_Raw/LMNT02Sat-2024-12-31/annotations\n",
      "Removed: /data/Sentinel_Datasets/LMNT02_Raw/LMNT02Sat-2024-12-31/images\n"
     ]
    },
    {
     "name": "stderr",
     "output_type": "stream",
     "text": [
      "Converting Silt to COCO: 100%|██████████| 519/519 [00:19<00:00, 26.34it/s]\n",
      "Copying images: 100%|██████████| 519/519 [15:20<00:00,  1.77s/it]\n",
      "Processing COCO Datasets: 100%|██████████| 1/1 [00:00<00:00, 103.29it/s]\n",
      "Copying images: 100%|██████████| 519/519 [00:01<00:00, 311.66it/s]\n"
     ]
    },
    {
     "name": "stdout",
     "output_type": "stream",
     "text": [
      "Removed: /data/Sentinel_Datasets/LMNT02_Raw/LMNT02Sat-2024-11-19/annotations\n",
      "Removed: /data/Sentinel_Datasets/LMNT02_Raw/LMNT02Sat-2024-11-19/images\n"
     ]
    },
    {
     "name": "stderr",
     "output_type": "stream",
     "text": [
      "Converting Silt to COCO: 100%|██████████| 1236/1236 [00:51<00:00, 24.10it/s]\n",
      "Copying images: 100%|██████████| 1236/1236 [39:57<00:00,  1.94s/it]\n",
      "Processing COCO Datasets: 100%|██████████| 1/1 [00:00<00:00, 52.64it/s]\n",
      "Copying images: 100%|██████████| 1236/1236 [00:04<00:00, 263.31it/s]\n"
     ]
    },
    {
     "name": "stdout",
     "output_type": "stream",
     "text": [
      "Removed: /data/Sentinel_Datasets/LMNT02_Raw/LMNT02Sat-2024-10-31/annotations\n",
      "Removed: /data/Sentinel_Datasets/LMNT02_Raw/LMNT02Sat-2024-10-31/images\n"
     ]
    },
    {
     "name": "stderr",
     "output_type": "stream",
     "text": [
      "Converting Silt to COCO: 100%|██████████| 1596/1596 [01:07<00:00, 23.59it/s]\n",
      "Copying images:  76%|███████▌  | 1210/1596 [38:49<12:23,  1.93s/it]\n"
     ]
    },
    {
     "ename": "OSError",
     "evalue": "[Errno 28] No space left on device",
     "output_type": "error",
     "traceback": [
      "\u001b[31m---------------------------------------------------------------------------\u001b[39m",
      "\u001b[31mAttributeError\u001b[39m                            Traceback (most recent call last)",
      "\u001b[36mFile \u001b[39m\u001b[32m~/miniconda3/envs/DatasetStatistics/lib/python3.12/site-packages/PIL/ImageFile.py:643\u001b[39m, in \u001b[36m_save\u001b[39m\u001b[34m(im, fp, tile, bufsize)\u001b[39m\n\u001b[32m    642\u001b[39m \u001b[38;5;28;01mtry\u001b[39;00m:\n\u001b[32m--> \u001b[39m\u001b[32m643\u001b[39m     fh = \u001b[43mfp\u001b[49m\u001b[43m.\u001b[49m\u001b[43mfileno\u001b[49m()\n\u001b[32m    644\u001b[39m     fp.flush()\n",
      "\u001b[31mAttributeError\u001b[39m: '_idat' object has no attribute 'fileno'",
      "\nDuring handling of the above exception, another exception occurred:\n",
      "\u001b[31mOSError\u001b[39m                                   Traceback (most recent call last)",
      "\u001b[36mCell\u001b[39m\u001b[36m \u001b[39m\u001b[32mIn[3]\u001b[39m\u001b[32m, line 3\u001b[39m\n\u001b[32m      1\u001b[39m \u001b[38;5;66;03m# For creating Evaluation Sets\u001b[39;00m\n\u001b[32m      2\u001b[39m \u001b[38;5;28;01mfor\u001b[39;00m origin, destination \u001b[38;5;129;01min\u001b[39;00m \u001b[38;5;28mzip\u001b[39m(eval_origins, eval_finals):\n\u001b[32m----> \u001b[39m\u001b[32m3\u001b[39m     \u001b[43msilt_to_coco\u001b[49m\u001b[43m(\u001b[49m\u001b[43morigin\u001b[49m\u001b[43m,\u001b[49m\u001b[43m \u001b[49m\u001b[43minclude_sats\u001b[49m\u001b[43m=\u001b[49m\u001b[38;5;28;43;01mTrue\u001b[39;49;00m\u001b[43m,\u001b[49m\u001b[43m \u001b[49m\u001b[43minclude_stars\u001b[49m\u001b[43m=\u001b[49m\u001b[38;5;28;43;01mFalse\u001b[39;49;00m\u001b[43m,\u001b[49m\u001b[43m \u001b[49m\u001b[43mconvert_png\u001b[49m\u001b[43m=\u001b[49m\u001b[38;5;28;43;01mTrue\u001b[39;49;00m\u001b[43m,\u001b[49m\u001b[43m \u001b[49m\u001b[43mprocess_func\u001b[49m\u001b[43m=\u001b[49m\u001b[43mpreprocess_func\u001b[49m\u001b[43m,\u001b[49m\u001b[43m \u001b[49m\u001b[43mnotes\u001b[49m\u001b[43m=\u001b[49m\u001b[33;43m\"\u001b[39;49m\u001b[33;43mMixture of ZScale, raw, and log-IQR\u001b[39;49m\u001b[33;43m\"\u001b[39;49m\u001b[43m)\u001b[49m\n\u001b[32m      4\u001b[39m     merge_coco([origin], destination, train_test_split=\u001b[38;5;28;01mFalse\u001b[39;00m, train_ratio=\u001b[32m0\u001b[39m, val_ratio=\u001b[32m0\u001b[39m, test_ratio=\u001b[32m1\u001b[39m, notes=\u001b[33m\"\u001b[39m\u001b[33mLMNT02 dataset with satellites and MultiChannel C\u001b[39m\u001b[33m\"\u001b[39m)\n\u001b[32m      5\u001b[39m     clear_local_caches(os.path.dirname(origin))\n",
      "\u001b[36mFile \u001b[39m\u001b[32m~/Repos/Dataset_Compilation_and_Statistics/data_connections/coco_tools.py:381\u001b[39m, in \u001b[36msilt_to_coco\u001b[39m\u001b[34m(silt_dataset_path, include_sats, include_stars, zip, convert_png, process_func, notes)\u001b[39m\n\u001b[32m    379\u001b[39m     data = np.transpose(data, (\u001b[32m1\u001b[39m,\u001b[32m2\u001b[39m,\u001b[32m0\u001b[39m))\n\u001b[32m    380\u001b[39m     png = Image.fromarray(data)\n\u001b[32m--> \u001b[39m\u001b[32m381\u001b[39m     \u001b[43mpng\u001b[49m\u001b[43m.\u001b[49m\u001b[43msave\u001b[49m\u001b[43m(\u001b[49m\u001b[43mnew_file_name\u001b[49m\u001b[43m)\u001b[49m\n\u001b[32m    382\u001b[39m \u001b[38;5;28;01melse\u001b[39;00m:\n\u001b[32m    383\u001b[39m     destination_path = shutil.copy(image, images_folder)\n",
      "\u001b[36mFile \u001b[39m\u001b[32m~/miniconda3/envs/DatasetStatistics/lib/python3.12/site-packages/PIL/Image.py:2581\u001b[39m, in \u001b[36mImage.save\u001b[39m\u001b[34m(self, fp, format, **params)\u001b[39m\n\u001b[32m   2578\u001b[39m     fp = cast(IO[\u001b[38;5;28mbytes\u001b[39m], fp)\n\u001b[32m   2580\u001b[39m \u001b[38;5;28;01mtry\u001b[39;00m:\n\u001b[32m-> \u001b[39m\u001b[32m2581\u001b[39m     \u001b[43msave_handler\u001b[49m\u001b[43m(\u001b[49m\u001b[38;5;28;43mself\u001b[39;49m\u001b[43m,\u001b[49m\u001b[43m \u001b[49m\u001b[43mfp\u001b[49m\u001b[43m,\u001b[49m\u001b[43m \u001b[49m\u001b[43mfilename\u001b[49m\u001b[43m)\u001b[49m\n\u001b[32m   2582\u001b[39m \u001b[38;5;28;01mexcept\u001b[39;00m \u001b[38;5;167;01mException\u001b[39;00m:\n\u001b[32m   2583\u001b[39m     \u001b[38;5;28;01mif\u001b[39;00m open_fp:\n",
      "\u001b[36mFile \u001b[39m\u001b[32m~/miniconda3/envs/DatasetStatistics/lib/python3.12/site-packages/PIL/PngImagePlugin.py:1492\u001b[39m, in \u001b[36m_save\u001b[39m\u001b[34m(im, fp, filename, chunk, save_all)\u001b[39m\n\u001b[32m   1488\u001b[39m     single_im = _write_multiple_frames(\n\u001b[32m   1489\u001b[39m         im, fp, chunk, mode, rawmode, default_image, append_images\n\u001b[32m   1490\u001b[39m     )\n\u001b[32m   1491\u001b[39m \u001b[38;5;28;01mif\u001b[39;00m single_im:\n\u001b[32m-> \u001b[39m\u001b[32m1492\u001b[39m     \u001b[43mImageFile\u001b[49m\u001b[43m.\u001b[49m\u001b[43m_save\u001b[49m\u001b[43m(\u001b[49m\n\u001b[32m   1493\u001b[39m \u001b[43m        \u001b[49m\u001b[43msingle_im\u001b[49m\u001b[43m,\u001b[49m\n\u001b[32m   1494\u001b[39m \u001b[43m        \u001b[49m\u001b[43mcast\u001b[49m\u001b[43m(\u001b[49m\u001b[43mIO\u001b[49m\u001b[43m[\u001b[49m\u001b[38;5;28;43mbytes\u001b[39;49m\u001b[43m]\u001b[49m\u001b[43m,\u001b[49m\u001b[43m \u001b[49m\u001b[43m_idat\u001b[49m\u001b[43m(\u001b[49m\u001b[43mfp\u001b[49m\u001b[43m,\u001b[49m\u001b[43m \u001b[49m\u001b[43mchunk\u001b[49m\u001b[43m)\u001b[49m\u001b[43m)\u001b[49m\u001b[43m,\u001b[49m\n\u001b[32m   1495\u001b[39m \u001b[43m        \u001b[49m\u001b[43m[\u001b[49m\u001b[43mImageFile\u001b[49m\u001b[43m.\u001b[49m\u001b[43m_Tile\u001b[49m\u001b[43m(\u001b[49m\u001b[33;43m\"\u001b[39;49m\u001b[33;43mzip\u001b[39;49m\u001b[33;43m\"\u001b[39;49m\u001b[43m,\u001b[49m\u001b[43m \u001b[49m\u001b[43m(\u001b[49m\u001b[32;43m0\u001b[39;49m\u001b[43m,\u001b[49m\u001b[43m \u001b[49m\u001b[32;43m0\u001b[39;49m\u001b[43m)\u001b[49m\u001b[43m \u001b[49m\u001b[43m+\u001b[49m\u001b[43m \u001b[49m\u001b[43msingle_im\u001b[49m\u001b[43m.\u001b[49m\u001b[43msize\u001b[49m\u001b[43m,\u001b[49m\u001b[43m \u001b[49m\u001b[32;43m0\u001b[39;49m\u001b[43m,\u001b[49m\u001b[43m \u001b[49m\u001b[43mrawmode\u001b[49m\u001b[43m)\u001b[49m\u001b[43m]\u001b[49m\u001b[43m,\u001b[49m\n\u001b[32m   1496\u001b[39m \u001b[43m    \u001b[49m\u001b[43m)\u001b[49m\n\u001b[32m   1498\u001b[39m \u001b[38;5;28;01mif\u001b[39;00m info:\n\u001b[32m   1499\u001b[39m     \u001b[38;5;28;01mfor\u001b[39;00m info_chunk \u001b[38;5;129;01min\u001b[39;00m info.chunks:\n",
      "\u001b[36mFile \u001b[39m\u001b[32m~/miniconda3/envs/DatasetStatistics/lib/python3.12/site-packages/PIL/ImageFile.py:647\u001b[39m, in \u001b[36m_save\u001b[39m\u001b[34m(im, fp, tile, bufsize)\u001b[39m\n\u001b[32m    645\u001b[39m     _encode_tile(im, fp, tile, bufsize, fh)\n\u001b[32m    646\u001b[39m \u001b[38;5;28;01mexcept\u001b[39;00m (\u001b[38;5;167;01mAttributeError\u001b[39;00m, io.UnsupportedOperation) \u001b[38;5;28;01mas\u001b[39;00m exc:\n\u001b[32m--> \u001b[39m\u001b[32m647\u001b[39m     \u001b[43m_encode_tile\u001b[49m\u001b[43m(\u001b[49m\u001b[43mim\u001b[49m\u001b[43m,\u001b[49m\u001b[43m \u001b[49m\u001b[43mfp\u001b[49m\u001b[43m,\u001b[49m\u001b[43m \u001b[49m\u001b[43mtile\u001b[49m\u001b[43m,\u001b[49m\u001b[43m \u001b[49m\u001b[43mbufsize\u001b[49m\u001b[43m,\u001b[49m\u001b[43m \u001b[49m\u001b[38;5;28;43;01mNone\u001b[39;49;00m\u001b[43m,\u001b[49m\u001b[43m \u001b[49m\u001b[43mexc\u001b[49m\u001b[43m)\u001b[49m\n\u001b[32m    648\u001b[39m \u001b[38;5;28;01mif\u001b[39;00m \u001b[38;5;28mhasattr\u001b[39m(fp, \u001b[33m\"\u001b[39m\u001b[33mflush\u001b[39m\u001b[33m\"\u001b[39m):\n\u001b[32m    649\u001b[39m     fp.flush()\n",
      "\u001b[36mFile \u001b[39m\u001b[32m~/miniconda3/envs/DatasetStatistics/lib/python3.12/site-packages/PIL/ImageFile.py:674\u001b[39m, in \u001b[36m_encode_tile\u001b[39m\u001b[34m(im, fp, tile, bufsize, fh, exc)\u001b[39m\n\u001b[32m    672\u001b[39m \u001b[38;5;28;01mwhile\u001b[39;00m \u001b[38;5;28;01mTrue\u001b[39;00m:\n\u001b[32m    673\u001b[39m     errcode, data = encoder.encode(bufsize)[\u001b[32m1\u001b[39m:]\n\u001b[32m--> \u001b[39m\u001b[32m674\u001b[39m     \u001b[43mfp\u001b[49m\u001b[43m.\u001b[49m\u001b[43mwrite\u001b[49m\u001b[43m(\u001b[49m\u001b[43mdata\u001b[49m\u001b[43m)\u001b[49m\n\u001b[32m    675\u001b[39m     \u001b[38;5;28;01mif\u001b[39;00m errcode:\n\u001b[32m    676\u001b[39m         \u001b[38;5;28;01mbreak\u001b[39;00m\n",
      "\u001b[36mFile \u001b[39m\u001b[32m~/miniconda3/envs/DatasetStatistics/lib/python3.12/site-packages/PIL/PngImagePlugin.py:1136\u001b[39m, in \u001b[36m_idat.write\u001b[39m\u001b[34m(self, data)\u001b[39m\n\u001b[32m   1135\u001b[39m \u001b[38;5;28;01mdef\u001b[39;00m\u001b[38;5;250m \u001b[39m\u001b[34mwrite\u001b[39m(\u001b[38;5;28mself\u001b[39m, data: \u001b[38;5;28mbytes\u001b[39m) -> \u001b[38;5;28;01mNone\u001b[39;00m:\n\u001b[32m-> \u001b[39m\u001b[32m1136\u001b[39m     \u001b[38;5;28;43mself\u001b[39;49m\u001b[43m.\u001b[49m\u001b[43mchunk\u001b[49m\u001b[43m(\u001b[49m\u001b[38;5;28;43mself\u001b[39;49m\u001b[43m.\u001b[49m\u001b[43mfp\u001b[49m\u001b[43m,\u001b[49m\u001b[43m \u001b[49m\u001b[33;43mb\u001b[39;49m\u001b[33;43m\"\u001b[39;49m\u001b[33;43mIDAT\u001b[39;49m\u001b[33;43m\"\u001b[39;49m\u001b[43m,\u001b[49m\u001b[43m \u001b[49m\u001b[43mdata\u001b[49m\u001b[43m)\u001b[49m\n",
      "\u001b[36mFile \u001b[39m\u001b[32m~/miniconda3/envs/DatasetStatistics/lib/python3.12/site-packages/PIL/PngImagePlugin.py:1123\u001b[39m, in \u001b[36mputchunk\u001b[39m\u001b[34m(fp, cid, *data)\u001b[39m\n\u001b[32m   1120\u001b[39m byte_data = \u001b[33mb\u001b[39m\u001b[33m\"\u001b[39m\u001b[33m\"\u001b[39m.join(data)\n\u001b[32m   1122\u001b[39m fp.write(o32(\u001b[38;5;28mlen\u001b[39m(byte_data)) + cid)\n\u001b[32m-> \u001b[39m\u001b[32m1123\u001b[39m \u001b[43mfp\u001b[49m\u001b[43m.\u001b[49m\u001b[43mwrite\u001b[49m\u001b[43m(\u001b[49m\u001b[43mbyte_data\u001b[49m\u001b[43m)\u001b[49m\n\u001b[32m   1124\u001b[39m crc = _crc32(byte_data, _crc32(cid))\n\u001b[32m   1125\u001b[39m fp.write(o32(crc))\n",
      "\u001b[31mOSError\u001b[39m: [Errno 28] No space left on device"
     ]
    }
   ],
   "source": [
    "# For creating Evaluation Sets\n",
    "for origin, destination in zip(eval_origins, eval_finals):\n",
    "    silt_to_coco(origin, include_sats=True, include_stars=False, convert_png=True, process_func=preprocess_func, notes=\"Mixture of ZScale, raw, and log-IQR\")\n",
    "    merge_coco([origin], destination, train_test_split=False, train_ratio=0, val_ratio=0, test_ratio=1, notes=\"LMNT02 dataset with satellites and MultiChannel C\")\n",
    "    clear_local_caches(os.path.dirname(origin))"
   ]
  }
 ],
 "metadata": {
  "kernelspec": {
   "display_name": "DatasetStatistics",
   "language": "python",
   "name": "python3"
  },
  "language_info": {
   "codemirror_mode": {
    "name": "ipython",
    "version": 3
   },
   "file_extension": ".py",
   "mimetype": "text/x-python",
   "name": "python",
   "nbconvert_exporter": "python",
   "pygments_lexer": "ipython3",
   "version": "3.12.9"
  }
 },
 "nbformat": 4,
 "nbformat_minor": 5
}
