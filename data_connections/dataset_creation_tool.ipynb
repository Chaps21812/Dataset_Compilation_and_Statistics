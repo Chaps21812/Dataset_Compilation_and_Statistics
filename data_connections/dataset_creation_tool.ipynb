{
 "cells": [
  {
   "cell_type": "markdown",
   "id": "66e042e1",
   "metadata": {},
   "source": [
    "# Dataset Creation Tool\n",
    "Once your datasets have been properly curated in the training_set_management_tool, you can now use these tools to convert datasets to coco, and merge them as well. "
   ]
  },
  {
   "cell_type": "code",
   "execution_count": 1,
   "id": "b45c1487",
   "metadata": {},
   "outputs": [],
   "source": [
    "from coco_tools import silt_to_coco, satsim_to_coco, merge_coco\n",
    "from preprocess_functions import channel_mixture_A, channel_mixture_B, channel_mixture_C, adaptiveIQR, zscale, iqr_clipped, iqr_log, raw_file\n",
    "from preprocess_functions import _median_column_subtraction, _median_row_subtraction, _background_subtract\n",
    "from utilities import get_folders_in_directory, summarize_local_files, clear_local_caches, clear_local_cache, apply_bbox_corrections\n",
    "import os\n",
    "from utilities import clear_local_caches"
   ]
  },
  {
   "cell_type": "code",
   "execution_count": 2,
   "id": "aed16730",
   "metadata": {},
   "outputs": [],
   "source": [
    "T1 = \"/data/Sentinel_Datasets/LMNT02_Raw/LMNT02Sat-2024-07-12\"\n",
    "T2 = \"/data/Sentinel_Datasets/LMNT02_Raw/LMNT02Sat-2024-07-08\"\n",
    "T3 = \"/data/Sentinel_Datasets/LMNT02_Raw/LMNT02Sat-2024-07-13\"\n",
    "T4 = \"/data/Sentinel_Datasets/LMNT02_Raw/LMNT02Sat-2024-07-09\"\n",
    "T5 = \"/data/Sentinel_Datasets/LMNT02_Raw/LMNT02Sat-2024-07-10\"\n",
    "T6 = \"/data/Sentinel_Datasets/LMNT02_Raw/LMNT02Sat-2024-07-07\"\n",
    "T7 = \"/data/Sentinel_Datasets/LMNT02_Raw/LMNT02Sat-2024-08-05\"\n",
    "T8 = \"/data/Sentinel_Datasets/LMNT02_Raw/LMNT02Sat-2024-07-25\"\n",
    "T9 = \"/data/Sentinel_Datasets/LMNT02_Raw/LMNT02Sat-2024-08-21\"\n",
    "T10 = \"/data/Sentinel_Datasets/LMNT02_Raw/LMNT02Sat-2024-07-11\"\n",
    "T11 = \"/data/Sentinel_Datasets/LMNT02_Raw/LMNT02Sat-2024-08-30\"\n",
    "\n",
    "E1 = \"/data/Sentinel_Datasets/LMNT02_Raw/LMNT02Sat-2024-09-06\"\n",
    "E2 = \"/data/Sentinel_Datasets/LMNT02_Raw/LMNT02Sat-2024-11-14\"\n",
    "E3 = \"/data/Sentinel_Datasets/LMNT02_Raw/LMNT02Sat-2024-12-07\"\n",
    "E4 = \"/data/Sentinel_Datasets/LMNT02_Raw/LMNT02Sat-2024-09-14\"\n",
    "E5 = \"/data/Sentinel_Datasets/LMNT02_Raw/LMNT02Sat-2024-11-07\"\n",
    "E6 = \"/data/Sentinel_Datasets/LMNT02_Raw/LMNT02Sat-2024-10-08\"\n",
    "E7 = \"/data/Sentinel_Datasets/LMNT02_Raw/LMNT02Sat-2024-10-30\"\n",
    "E8 = \"/data/Sentinel_Datasets/LMNT02_Raw/LMNT02Sat-2024-10-10\"\n",
    "E9 = \"/data/Sentinel_Datasets/LMNT02_Raw/LMNT02Sat-2024-12-24\"\n",
    "E10 = \"/data/Sentinel_Datasets/LMNT02_Raw/LMNT02Sat-2024-12-31\"\n",
    "E11 = \"/data/Sentinel_Datasets/LMNT02_Raw/LMNT02Sat-2024-11-19\"\n",
    "E12 = \"/data/Sentinel_Datasets/LMNT02_Raw/LMNT02Sat-2024-10-31\"\n",
    "E13 = \"/data/Sentinel_Datasets/LMNT02_Raw/LMNT02Sat-2024-10-04\"\n",
    "E14 = \"/data/Sentinel_Datasets/LMNT02_Raw/LMNT02Sat-2024-09-10\"\n",
    "E15 = \"/data/Sentinel_Datasets/LMNT02_Raw/LMNT02Sat-2024-11-08\"\n",
    "E16 = \"/data/Sentinel_Datasets/LMNT02_Raw/LMNT02Sat-2025-01-08\"\n",
    "E17 = \"/data/Sentinel_Datasets/LMNT02_Raw/LMNT02Sat-2024-12-20\"\n",
    "E18 = \"/data/Sentinel_Datasets/LMNT02_Raw/LMNT02Sat-2024-09-20\"\n",
    "E19 = \"/data/Sentinel_Datasets/LMNT02_Raw/LMNT02Sat-2024-10-17\"\n",
    "E20 = \"/data/Sentinel_Datasets/LMNT02_Raw/LMNT02Sat-2025-01-04\"\n",
    "E21 = \"/data/Sentinel_Datasets/LMNT02_Raw/LMNT02Sat-2024-11-27\"\n",
    "E22 = \"/data/Sentinel_Datasets/LMNT02_Raw/LMNT02Sat-2024-12-17\"\n",
    "E23 = \"/data/Sentinel_Datasets/LMNT02_Raw/LMNT02Sat-2024-10-20\"\n",
    "E24 = \"/data/Sentinel_Datasets/LMNT02_Raw/LMNT02Sat-2024-09-12\"\n",
    "E25 = \"/data/Sentinel_Datasets/LMNT02_Raw/LMNT02Sat-2024-10-21\"\n",
    "E26 = \"/data/Sentinel_Datasets/LMNT02_Raw/LMNT02Sat-2024-11-15\"\n",
    "\n",
    "final_data_path=\"/data/Sentinel_Datasets/Finalized_datasets/\"\n",
    "\n",
    "training_set_origins = [T1, T2, T3, T4, T5, T6, T7, T8, T9, T10, T11]\n",
    "training_set_output_path = os.path.join(final_data_path, f\"LMNT02Sat_Training_Channel_Mixture_C\")\n",
    "\n",
    "eval_origins = [E1, E2, E3, E4, E5, E6, E7, E8, E9, E10, E11, E12, E13, E14, E15, E16, E17, E18, E19, E20, E21, E22, E23, E24, E25, E26]\n",
    "eval_finals = [os.path.join(final_data_path, f\"{os.path.basename(ESet)}_Channel_Mixture_C_Eval\") for ESet in eval_origins]\n",
    "\n",
    "preprocess_func = channel_mixture_C\n"
   ]
  },
  {
   "cell_type": "markdown",
   "id": "350bd770",
   "metadata": {},
   "source": [
    "## Convert SILT to COCO"
   ]
  },
  {
   "cell_type": "markdown",
   "id": "dd45e671",
   "metadata": {},
   "source": [
    "### Convert Single Path"
   ]
  },
  {
   "cell_type": "code",
   "execution_count": null,
   "id": "b0a628ad",
   "metadata": {},
   "outputs": [
    {
     "name": "stderr",
     "output_type": "stream",
     "text": [
      "Converting Silt to COCO: 100%|██████████| 712/712 [00:15<00:00, 47.46it/s]\n",
      "Copying images: 100%|██████████| 712/712 [19:28<00:00,  1.64s/it]  \n"
     ]
    }
   ],
   "source": [
    "# silt_to_coco(Process_pathB, include_sats=False, include_stars=True, zip=False, notes=\"RME01 dataset with stars only\")\n",
    "silt_to_coco(Process_pathB, include_sats=True, include_stars=False, convert_png=True, process_func=preprocess_func, notes=\"Channel Mixture of Adaptive IQR, raw, and zscaled. \")"
   ]
  },
  {
   "cell_type": "markdown",
   "id": "0d0bc3df",
   "metadata": {},
   "source": [
    "### Convert Multiple Paths"
   ]
  },
  {
   "cell_type": "code",
   "execution_count": 5,
   "id": "7d0acc5f",
   "metadata": {},
   "outputs": [
    {
     "name": "stdout",
     "output_type": "stream",
     "text": [
      "/data/Sentinel_Datasets/LMNT02_Raw/LMNT02Sat-2024-09-06\n"
     ]
    },
    {
     "name": "stderr",
     "output_type": "stream",
     "text": [
      "Converting Silt to COCO:  84%|████████▎ | 509/609 [00:21<00:04, 24.09it/s]\n"
     ]
    },
    {
     "ename": "KeyboardInterrupt",
     "evalue": "",
     "output_type": "error",
     "traceback": [
      "\u001b[31m---------------------------------------------------------------------------\u001b[39m",
      "\u001b[31mKeyboardInterrupt\u001b[39m                         Traceback (most recent call last)",
      "\u001b[36mCell\u001b[39m\u001b[36m \u001b[39m\u001b[32mIn[5]\u001b[39m\u001b[32m, line 3\u001b[39m\n\u001b[32m      1\u001b[39m \u001b[38;5;28;01mfor\u001b[39;00m path \u001b[38;5;129;01min\u001b[39;00m eval_origins:\n\u001b[32m      2\u001b[39m     \u001b[38;5;28mprint\u001b[39m(path)\n\u001b[32m----> \u001b[39m\u001b[32m3\u001b[39m     \u001b[43msilt_to_coco\u001b[49m\u001b[43m(\u001b[49m\u001b[43mpath\u001b[49m\u001b[43m,\u001b[49m\u001b[43m \u001b[49m\u001b[43minclude_sats\u001b[49m\u001b[43m=\u001b[49m\u001b[38;5;28;43;01mTrue\u001b[39;49;00m\u001b[43m,\u001b[49m\u001b[43m \u001b[49m\u001b[43minclude_stars\u001b[49m\u001b[43m=\u001b[49m\u001b[38;5;28;43;01mFalse\u001b[39;49;00m\u001b[43m,\u001b[49m\u001b[43m \u001b[49m\u001b[43mconvert_png\u001b[49m\u001b[43m=\u001b[49m\u001b[38;5;28;43;01mTrue\u001b[39;49;00m\u001b[43m,\u001b[49m\u001b[43m \u001b[49m\u001b[43mprocess_func\u001b[49m\u001b[43m=\u001b[49m\u001b[43mpreprocess_func\u001b[49m\u001b[43m,\u001b[49m\u001b[43m \u001b[49m\u001b[43mnotes\u001b[49m\u001b[43m=\u001b[49m\u001b[33;43m\"\u001b[39;49m\u001b[33;43mMixture of ZScale, raw, and log-IQR\u001b[39;49m\u001b[33;43m\"\u001b[39;49m\u001b[43m)\u001b[49m\n",
      "\u001b[36mFile \u001b[39m\u001b[32m~/Repos/Dataset_Compilation_and_Statistics/data_connections/coco_tools.py:219\u001b[39m, in \u001b[36msilt_to_coco\u001b[39m\u001b[34m(silt_dataset_path, include_sats, include_stars, zip, convert_png, process_func, notes)\u001b[39m\n\u001b[32m    216\u001b[39m     json_data = json.load(f)\n\u001b[32m    217\u001b[39m hdu = fits.open(fits_path)\n\u001b[32m--> \u001b[39m\u001b[32m219\u001b[39m sample_attributes, object_attributes = \u001b[43mcollect_stats\u001b[49m\u001b[43m(\u001b[49m\u001b[43mjson_data\u001b[49m\u001b[43m,\u001b[49m\u001b[43m \u001b[49m\u001b[43mhdu\u001b[49m\u001b[43m,\u001b[49m\u001b[43m \u001b[49m\u001b[43mpadding\u001b[49m\u001b[43m=\u001b[49m\u001b[32;43m20\u001b[39;49m\u001b[43m)\u001b[49m\n\u001b[32m    221\u001b[39m hdul = hdu[\u001b[32m0\u001b[39m]\n\u001b[32m    222\u001b[39m header = hdul.header\n",
      "\u001b[36mFile \u001b[39m\u001b[32m~/Repos/Dataset_Compilation_and_Statistics/data_connections/collect_stats.py:92\u001b[39m, in \u001b[36mcollect_stats\u001b[39m\u001b[34m(json_content, fits_content, padding)\u001b[39m\n\u001b[32m     90\u001b[39m sample_attributes[\u001b[33m\"\u001b[39m\u001b[33mexposure\u001b[39m\u001b[33m\"\u001b[39m] = hdu[\u001b[33m\"\u001b[39m\u001b[33mEXPTIME\u001b[39m\u001b[33m\"\u001b[39m]\n\u001b[32m     91\u001b[39m sample_attributes[\u001b[33m\"\u001b[39m\u001b[33mstd_intensity\u001b[39m\u001b[33m\"\u001b[39m] = np.std(data)\n\u001b[32m---> \u001b[39m\u001b[32m92\u001b[39m sample_attributes[\u001b[33m\"\u001b[39m\u001b[33mmedian_intensity\u001b[39m\u001b[33m\"\u001b[39m] = \u001b[43mnp\u001b[49m\u001b[43m.\u001b[49m\u001b[43mmedian\u001b[49m\u001b[43m(\u001b[49m\u001b[43mdata\u001b[49m\u001b[43m)\u001b[49m\n\u001b[32m     94\u001b[39m \u001b[38;5;28;01mif\u001b[39;00m sample_attributes[\u001b[33m\"\u001b[39m\u001b[33mmedian_intensity\u001b[39m\u001b[33m\"\u001b[39m] == \u001b[32m0\u001b[39m:\n\u001b[32m     95\u001b[39m     sample_attributes[\u001b[33m\"\u001b[39m\u001b[33mmedian_intensity\u001b[39m\u001b[33m\"\u001b[39m] = \u001b[32m1e-10\u001b[39m\n",
      "\u001b[36mFile \u001b[39m\u001b[32m~/miniconda3/envs/DatasetStatistics/lib/python3.12/site-packages/numpy/lib/_function_base_impl.py:4001\u001b[39m, in \u001b[36mmedian\u001b[39m\u001b[34m(a, axis, out, overwrite_input, keepdims)\u001b[39m\n\u001b[32m   3916\u001b[39m \u001b[38;5;129m@array_function_dispatch\u001b[39m(_median_dispatcher)\n\u001b[32m   3917\u001b[39m \u001b[38;5;28;01mdef\u001b[39;00m\u001b[38;5;250m \u001b[39m\u001b[34mmedian\u001b[39m(a, axis=\u001b[38;5;28;01mNone\u001b[39;00m, out=\u001b[38;5;28;01mNone\u001b[39;00m, overwrite_input=\u001b[38;5;28;01mFalse\u001b[39;00m, keepdims=\u001b[38;5;28;01mFalse\u001b[39;00m):\n\u001b[32m   3918\u001b[39m \u001b[38;5;250m    \u001b[39m\u001b[33;03m\"\"\"\u001b[39;00m\n\u001b[32m   3919\u001b[39m \u001b[33;03m    Compute the median along the specified axis.\u001b[39;00m\n\u001b[32m   3920\u001b[39m \n\u001b[32m   (...)\u001b[39m\u001b[32m   3999\u001b[39m \n\u001b[32m   4000\u001b[39m \u001b[33;03m    \"\"\"\u001b[39;00m\n\u001b[32m-> \u001b[39m\u001b[32m4001\u001b[39m     \u001b[38;5;28;01mreturn\u001b[39;00m \u001b[43m_ureduce\u001b[49m\u001b[43m(\u001b[49m\u001b[43ma\u001b[49m\u001b[43m,\u001b[49m\u001b[43m \u001b[49m\u001b[43mfunc\u001b[49m\u001b[43m=\u001b[49m\u001b[43m_median\u001b[49m\u001b[43m,\u001b[49m\u001b[43m \u001b[49m\u001b[43mkeepdims\u001b[49m\u001b[43m=\u001b[49m\u001b[43mkeepdims\u001b[49m\u001b[43m,\u001b[49m\u001b[43m \u001b[49m\u001b[43maxis\u001b[49m\u001b[43m=\u001b[49m\u001b[43maxis\u001b[49m\u001b[43m,\u001b[49m\u001b[43m \u001b[49m\u001b[43mout\u001b[49m\u001b[43m=\u001b[49m\u001b[43mout\u001b[49m\u001b[43m,\u001b[49m\n\u001b[32m   4002\u001b[39m \u001b[43m                    \u001b[49m\u001b[43moverwrite_input\u001b[49m\u001b[43m=\u001b[49m\u001b[43moverwrite_input\u001b[49m\u001b[43m)\u001b[49m\n",
      "\u001b[36mFile \u001b[39m\u001b[32m~/miniconda3/envs/DatasetStatistics/lib/python3.12/site-packages/numpy/lib/_function_base_impl.py:3894\u001b[39m, in \u001b[36m_ureduce\u001b[39m\u001b[34m(a, func, keepdims, **kwargs)\u001b[39m\n\u001b[32m   3891\u001b[39m             index_out = (\u001b[32m0\u001b[39m, ) * nd\n\u001b[32m   3892\u001b[39m             kwargs[\u001b[33m'\u001b[39m\u001b[33mout\u001b[39m\u001b[33m'\u001b[39m] = out[(\u001b[38;5;28mEllipsis\u001b[39m, ) + index_out]\n\u001b[32m-> \u001b[39m\u001b[32m3894\u001b[39m r = \u001b[43mfunc\u001b[49m\u001b[43m(\u001b[49m\u001b[43ma\u001b[49m\u001b[43m,\u001b[49m\u001b[43m \u001b[49m\u001b[43m*\u001b[49m\u001b[43m*\u001b[49m\u001b[43mkwargs\u001b[49m\u001b[43m)\u001b[49m\n\u001b[32m   3896\u001b[39m \u001b[38;5;28;01mif\u001b[39;00m out \u001b[38;5;129;01mis\u001b[39;00m \u001b[38;5;129;01mnot\u001b[39;00m \u001b[38;5;28;01mNone\u001b[39;00m:\n\u001b[32m   3897\u001b[39m     \u001b[38;5;28;01mreturn\u001b[39;00m out\n",
      "\u001b[36mFile \u001b[39m\u001b[32m~/miniconda3/envs/DatasetStatistics/lib/python3.12/site-packages/numpy/lib/_function_base_impl.py:4034\u001b[39m, in \u001b[36m_median\u001b[39m\u001b[34m(a, axis, out, overwrite_input)\u001b[39m\n\u001b[32m   4032\u001b[39m         part = a\n\u001b[32m   4033\u001b[39m \u001b[38;5;28;01melse\u001b[39;00m:\n\u001b[32m-> \u001b[39m\u001b[32m4034\u001b[39m     part = \u001b[43mpartition\u001b[49m\u001b[43m(\u001b[49m\u001b[43ma\u001b[49m\u001b[43m,\u001b[49m\u001b[43m \u001b[49m\u001b[43mkth\u001b[49m\u001b[43m,\u001b[49m\u001b[43m \u001b[49m\u001b[43maxis\u001b[49m\u001b[43m=\u001b[49m\u001b[43maxis\u001b[49m\u001b[43m)\u001b[49m\n\u001b[32m   4036\u001b[39m \u001b[38;5;28;01mif\u001b[39;00m part.shape == ():\n\u001b[32m   4037\u001b[39m     \u001b[38;5;66;03m# make 0-D arrays work\u001b[39;00m\n\u001b[32m   4038\u001b[39m     \u001b[38;5;28;01mreturn\u001b[39;00m part.item()\n",
      "\u001b[36mFile \u001b[39m\u001b[32m~/miniconda3/envs/DatasetStatistics/lib/python3.12/site-packages/numpy/_core/fromnumeric.py:868\u001b[39m, in \u001b[36mpartition\u001b[39m\u001b[34m(a, kth, axis, kind, order)\u001b[39m\n\u001b[32m    866\u001b[39m \u001b[38;5;28;01melse\u001b[39;00m:\n\u001b[32m    867\u001b[39m     a = asanyarray(a).copy(order=\u001b[33m\"\u001b[39m\u001b[33mK\u001b[39m\u001b[33m\"\u001b[39m)\n\u001b[32m--> \u001b[39m\u001b[32m868\u001b[39m \u001b[43ma\u001b[49m\u001b[43m.\u001b[49m\u001b[43mpartition\u001b[49m\u001b[43m(\u001b[49m\u001b[43mkth\u001b[49m\u001b[43m,\u001b[49m\u001b[43m \u001b[49m\u001b[43maxis\u001b[49m\u001b[43m=\u001b[49m\u001b[43maxis\u001b[49m\u001b[43m,\u001b[49m\u001b[43m \u001b[49m\u001b[43mkind\u001b[49m\u001b[43m=\u001b[49m\u001b[43mkind\u001b[49m\u001b[43m,\u001b[49m\u001b[43m \u001b[49m\u001b[43morder\u001b[49m\u001b[43m=\u001b[49m\u001b[43morder\u001b[49m\u001b[43m)\u001b[49m\n\u001b[32m    869\u001b[39m \u001b[38;5;28;01mreturn\u001b[39;00m a\n",
      "\u001b[31mKeyboardInterrupt\u001b[39m: "
     ]
    }
   ],
   "source": [
    "for path in training_set_origins:\n",
    "    print(path)\n",
    "    silt_to_coco(path, include_sats=True, include_stars=False, convert_png=True, process_func=preprocess_func, notes=\"Mixture of ZScale, raw, and log-IQR\")"
   ]
  },
  {
   "cell_type": "markdown",
   "id": "3526d6f9",
   "metadata": {},
   "source": [
    "## Convert SATSim to COCO"
   ]
  },
  {
   "cell_type": "code",
   "execution_count": null,
   "id": "ccf3a46f",
   "metadata": {},
   "outputs": [
    {
     "name": "stderr",
     "output_type": "stream",
     "text": [
      "Converting Satsim to COCO: 100%|██████████| 169/169 [00:10<00:00, 15.74it/s]\n",
      "Copying images: 100%|██████████| 1012/1012 [01:23<00:00, 12.10it/s]\n"
     ]
    }
   ],
   "source": [
    "\n",
    "satsim_to_coco(satsim_path,include_sats=False, include_stars=True, convert_png=True, process_func=None, notes=\"\")"
   ]
  },
  {
   "cell_type": "markdown",
   "id": "3f496708",
   "metadata": {},
   "source": [
    "## Merge Datasets"
   ]
  },
  {
   "cell_type": "markdown",
   "id": "3f5130a4",
   "metadata": {},
   "source": [
    "### Merge Training Sets"
   ]
  },
  {
   "cell_type": "code",
   "execution_count": 9,
   "id": "8c851560",
   "metadata": {},
   "outputs": [
    {
     "name": "stderr",
     "output_type": "stream",
     "text": [
      "Processing COCO Datasets: 100%|██████████| 11/11 [00:00<00:00, 90.57it/s]\n",
      "Copying images: 100%|██████████| 7380/7380 [00:21<00:00, 339.81it/s]\n",
      "Copying images: 100%|██████████| 820/820 [00:02<00:00, 314.81it/s]\n",
      "Copying images: 0it [00:00, ?it/s]\n"
     ]
    },
    {
     "name": "stdout",
     "output_type": "stream",
     "text": [
      "Removed: /data/Sentinel_Datasets/LMNT02_Raw/LMNT02Sat-2024-09-06/annotations\n",
      "Removed: /data/Sentinel_Datasets/LMNT02_Raw/LMNT02Sat-2024-09-06/images\n",
      "Removed: /data/Sentinel_Datasets/LMNT02_Raw/LMNT02Sat-2024-08-30/annotations\n",
      "Removed: /data/Sentinel_Datasets/LMNT02_Raw/LMNT02Sat-2024-08-30/images\n",
      "Removed: /data/Sentinel_Datasets/LMNT02_Raw/LMNT02Sat-2024-07-11/annotations\n",
      "Removed: /data/Sentinel_Datasets/LMNT02_Raw/LMNT02Sat-2024-07-11/images\n",
      "Removed: /data/Sentinel_Datasets/LMNT02_Raw/LMNT02Sat-2024-11-14/annotations\n",
      "Removed: /data/Sentinel_Datasets/LMNT02_Raw/LMNT02Sat-2024-11-14/images\n",
      "Removed: /data/Sentinel_Datasets/LMNT02_Raw/LMNT02Sat-2024-11-07/annotations\n",
      "Removed: /data/Sentinel_Datasets/LMNT02_Raw/LMNT02Sat-2024-11-07/images\n",
      "Removed: /data/Sentinel_Datasets/LMNT02_Raw/LMNT02Sat-2024-07-08/annotations\n",
      "Removed: /data/Sentinel_Datasets/LMNT02_Raw/LMNT02Sat-2024-07-08/images\n",
      "Removed: /data/Sentinel_Datasets/LMNT02_Raw/LMNT02Sat-2024-09-14/annotations\n",
      "Removed: /data/Sentinel_Datasets/LMNT02_Raw/LMNT02Sat-2024-09-14/images\n",
      "Removed: /data/Sentinel_Datasets/LMNT02_Raw/LMNT02Sat-2024-08-21/annotations\n",
      "Removed: /data/Sentinel_Datasets/LMNT02_Raw/LMNT02Sat-2024-08-21/images\n",
      "Removed: /data/Sentinel_Datasets/LMNT02_Raw/LMNT02Sat-2024-10-08/annotations\n",
      "Removed: /data/Sentinel_Datasets/LMNT02_Raw/LMNT02Sat-2024-10-08/images\n",
      "Removed: /data/Sentinel_Datasets/LMNT02_Raw/LMNT02Sat-2024-12-07/annotations\n",
      "Removed: /data/Sentinel_Datasets/LMNT02_Raw/LMNT02Sat-2024-12-07/images\n",
      "Removed: /data/Sentinel_Datasets/LMNT02_Raw/LMNT02Sat-2024-10-30/annotations\n",
      "Removed: /data/Sentinel_Datasets/LMNT02_Raw/LMNT02Sat-2024-10-30/images\n",
      "Removed: /data/Sentinel_Datasets/LMNT02_Raw/LMNT02Sat-2024-10-10/annotations\n",
      "Removed: /data/Sentinel_Datasets/LMNT02_Raw/LMNT02Sat-2024-10-10/images\n",
      "Removed: /data/Sentinel_Datasets/LMNT02_Raw/LMNT02Sat-2024-12-24/annotations\n",
      "Removed: /data/Sentinel_Datasets/LMNT02_Raw/LMNT02Sat-2024-12-24/images\n",
      "Removed: /data/Sentinel_Datasets/LMNT02_Raw/LMNT02Sat-2024-07-25/annotations\n",
      "Removed: /data/Sentinel_Datasets/LMNT02_Raw/LMNT02Sat-2024-07-25/images\n",
      "Removed: /data/Sentinel_Datasets/LMNT02_Raw/LMNT02Sat-2024-12-31/annotations\n",
      "Removed: /data/Sentinel_Datasets/LMNT02_Raw/LMNT02Sat-2024-12-31/images\n",
      "Removed: /data/Sentinel_Datasets/LMNT02_Raw/LMNT02Sat-2024-11-19/annotations\n",
      "Removed: /data/Sentinel_Datasets/LMNT02_Raw/LMNT02Sat-2024-11-19/images\n",
      "Removed: /data/Sentinel_Datasets/LMNT02_Raw/LMNT02Sat-2024-10-31/annotations\n",
      "Removed: /data/Sentinel_Datasets/LMNT02_Raw/LMNT02Sat-2024-10-31/images\n",
      "Removed: /data/Sentinel_Datasets/LMNT02_Raw/LMNT02Sat-2024-07-13/annotations\n",
      "Removed: /data/Sentinel_Datasets/LMNT02_Raw/LMNT02Sat-2024-07-13/images\n",
      "Removed: /data/Sentinel_Datasets/LMNT02_Raw/LMNT02Sat-2024-10-04/annotations\n",
      "Removed: /data/Sentinel_Datasets/LMNT02_Raw/LMNT02Sat-2024-10-04/images\n",
      "Removed: /data/Sentinel_Datasets/LMNT02_Raw/LMNT02Sat-2024-09-10/annotations\n",
      "Removed: /data/Sentinel_Datasets/LMNT02_Raw/LMNT02Sat-2024-09-10/images\n",
      "Removed: /data/Sentinel_Datasets/LMNT02_Raw/LMNT02Sat-2024-07-10/annotations\n",
      "Removed: /data/Sentinel_Datasets/LMNT02_Raw/LMNT02Sat-2024-07-10/images\n",
      "Removed: /data/Sentinel_Datasets/LMNT02_Raw/LMNT02Sat-2024-08-05/annotations\n",
      "Removed: /data/Sentinel_Datasets/LMNT02_Raw/LMNT02Sat-2024-08-05/images\n",
      "Removed: /data/Sentinel_Datasets/LMNT02_Raw/LMNT02Sat-2024-11-08/annotations\n",
      "Removed: /data/Sentinel_Datasets/LMNT02_Raw/LMNT02Sat-2024-11-08/images\n",
      "Removed: /data/Sentinel_Datasets/LMNT02_Raw/LMNT02Sat-2024-07-12/annotations\n",
      "Removed: /data/Sentinel_Datasets/LMNT02_Raw/LMNT02Sat-2024-07-12/images\n",
      "Removed: /data/Sentinel_Datasets/LMNT02_Raw/LMNT02Sat-2024-07-07/annotations\n",
      "Removed: /data/Sentinel_Datasets/LMNT02_Raw/LMNT02Sat-2024-07-07/images\n",
      "Removed: /data/Sentinel_Datasets/LMNT02_Raw/LMNT02Sat-2025-01-08/annotations\n",
      "Removed: /data/Sentinel_Datasets/LMNT02_Raw/LMNT02Sat-2025-01-08/images\n",
      "Removed: /data/Sentinel_Datasets/LMNT02_Raw/LMNT02Sat-2024-12-20/annotations\n",
      "Removed: /data/Sentinel_Datasets/LMNT02_Raw/LMNT02Sat-2024-12-20/images\n",
      "Removed: /data/Sentinel_Datasets/LMNT02_Raw/LMNT02Sat-2024-09-20/annotations\n",
      "Removed: /data/Sentinel_Datasets/LMNT02_Raw/LMNT02Sat-2024-09-20/images\n",
      "Removed: /data/Sentinel_Datasets/LMNT02_Raw/LMNT02Sat-2024-07-09/annotations\n",
      "Removed: /data/Sentinel_Datasets/LMNT02_Raw/LMNT02Sat-2024-07-09/images\n"
     ]
    }
   ],
   "source": [
    "#For Creating Training Sets\n",
    "training_set_origins = [T1, T2, T3, T4, T5, T6, T7, T8, T9, T10, T11]\n",
    "merge_coco(training_set_origins, training_set_output_path, train_test_split=True, train_ratio=.9, val_ratio=.1, test_ratio=0, notes=\"LMNT02_trainig with multi channel C satellites.Contains about 6400 Samples \")\n",
    "clear_local_caches(os.path.dirname(training_set_origins[0]))"
   ]
  },
  {
   "cell_type": "markdown",
   "id": "f98ddbcf",
   "metadata": {},
   "source": [
    "### Merge Evaluation Sets"
   ]
  },
  {
   "cell_type": "code",
   "execution_count": 3,
   "id": "778a7bd2",
   "metadata": {},
   "outputs": [
    {
     "name": "stderr",
     "output_type": "stream",
     "text": [
      "Converting Silt to COCO: 100%|██████████| 609/609 [00:25<00:00, 23.96it/s]\n",
      "Copying images: 100%|██████████| 609/609 [18:49<00:00,  1.85s/it]\n",
      "Processing COCO Datasets: 100%|██████████| 1/1 [00:00<00:00, 63.17it/s]\n",
      "Copying images: 100%|██████████| 609/609 [00:02<00:00, 278.34it/s]\n"
     ]
    },
    {
     "name": "stdout",
     "output_type": "stream",
     "text": [
      "Removed: /data/Sentinel_Datasets/LMNT02_Raw/LMNT02Sat-2024-09-06/annotations\n",
      "Removed: /data/Sentinel_Datasets/LMNT02_Raw/LMNT02Sat-2024-09-06/images\n",
      "Removed: /data/Sentinel_Datasets/LMNT02_Raw/LMNT02Sat-2024-11-14/annotations\n",
      "Removed: /data/Sentinel_Datasets/LMNT02_Raw/LMNT02Sat-2024-11-14/images\n"
     ]
    },
    {
     "name": "stderr",
     "output_type": "stream",
     "text": [
      "Converting Silt to COCO: 100%|██████████| 572/572 [00:22<00:00, 25.37it/s]\n",
      "Copying images: 100%|██████████| 572/572 [17:13<00:00,  1.81s/it]\n",
      "Processing COCO Datasets: 100%|██████████| 1/1 [00:00<00:00, 88.10it/s]\n",
      "Copying images: 100%|██████████| 572/572 [00:02<00:00, 274.83it/s]\n"
     ]
    },
    {
     "name": "stdout",
     "output_type": "stream",
     "text": [
      "Removed: /data/Sentinel_Datasets/LMNT02_Raw/LMNT02Sat-2024-11-14/annotations\n",
      "Removed: /data/Sentinel_Datasets/LMNT02_Raw/LMNT02Sat-2024-11-14/images\n"
     ]
    },
    {
     "name": "stderr",
     "output_type": "stream",
     "text": [
      "Converting Silt to COCO: 100%|██████████| 522/522 [00:21<00:00, 23.98it/s]\n",
      "Copying images: 100%|██████████| 522/522 [16:31<00:00,  1.90s/it]\n",
      "Processing COCO Datasets: 100%|██████████| 1/1 [00:00<00:00, 75.25it/s]\n",
      "Copying images: 100%|██████████| 522/522 [00:01<00:00, 285.12it/s]\n"
     ]
    },
    {
     "name": "stdout",
     "output_type": "stream",
     "text": [
      "Removed: /data/Sentinel_Datasets/LMNT02_Raw/LMNT02Sat-2024-12-07/annotations\n",
      "Removed: /data/Sentinel_Datasets/LMNT02_Raw/LMNT02Sat-2024-12-07/images\n"
     ]
    },
    {
     "name": "stderr",
     "output_type": "stream",
     "text": [
      "Converting Silt to COCO: 100%|██████████| 1859/1859 [01:15<00:00, 24.72it/s]\n",
      "Copying images: 100%|██████████| 1859/1859 [56:25<00:00,  1.82s/it]\n",
      "Processing COCO Datasets: 100%|██████████| 1/1 [00:00<00:00, 32.79it/s]\n",
      "Copying images: 100%|██████████| 1859/1859 [00:06<00:00, 270.88it/s]\n"
     ]
    },
    {
     "name": "stdout",
     "output_type": "stream",
     "text": [
      "Removed: /data/Sentinel_Datasets/LMNT02_Raw/LMNT02Sat-2024-09-14/annotations\n",
      "Removed: /data/Sentinel_Datasets/LMNT02_Raw/LMNT02Sat-2024-09-14/images\n"
     ]
    },
    {
     "name": "stderr",
     "output_type": "stream",
     "text": [
      "Converting Silt to COCO: 100%|██████████| 1122/1122 [00:47<00:00, 23.60it/s]\n",
      "Copying images: 100%|██████████| 1122/1122 [34:32<00:00,  1.85s/it]\n",
      "Processing COCO Datasets: 100%|██████████| 1/1 [00:00<00:00, 56.50it/s]\n",
      "Copying images: 100%|██████████| 1122/1122 [00:04<00:00, 264.46it/s]\n"
     ]
    },
    {
     "name": "stdout",
     "output_type": "stream",
     "text": [
      "Removed: /data/Sentinel_Datasets/LMNT02_Raw/LMNT02Sat-2024-11-07/annotations\n",
      "Removed: /data/Sentinel_Datasets/LMNT02_Raw/LMNT02Sat-2024-11-07/images\n"
     ]
    },
    {
     "name": "stderr",
     "output_type": "stream",
     "text": [
      "Converting Silt to COCO: 100%|██████████| 463/463 [00:19<00:00, 23.80it/s]\n",
      "Copying images: 100%|██████████| 463/463 [14:28<00:00,  1.88s/it]\n",
      "Processing COCO Datasets: 100%|██████████| 1/1 [00:00<00:00, 90.92it/s]\n",
      "Copying images: 100%|██████████| 463/463 [00:01<00:00, 242.80it/s]\n"
     ]
    },
    {
     "name": "stdout",
     "output_type": "stream",
     "text": [
      "Removed: /data/Sentinel_Datasets/LMNT02_Raw/LMNT02Sat-2024-10-08/annotations\n",
      "Removed: /data/Sentinel_Datasets/LMNT02_Raw/LMNT02Sat-2024-10-08/images\n"
     ]
    },
    {
     "name": "stderr",
     "output_type": "stream",
     "text": [
      "Converting Silt to COCO: 100%|██████████| 570/570 [00:24<00:00, 23.34it/s]\n",
      "Copying images: 100%|██████████| 570/570 [18:29<00:00,  1.95s/it]\n",
      "Processing COCO Datasets: 100%|██████████| 1/1 [00:00<00:00, 93.40it/s]\n",
      "Copying images: 100%|██████████| 570/570 [00:02<00:00, 266.13it/s]\n"
     ]
    },
    {
     "name": "stdout",
     "output_type": "stream",
     "text": [
      "Removed: /data/Sentinel_Datasets/LMNT02_Raw/LMNT02Sat-2024-10-30/annotations\n",
      "Removed: /data/Sentinel_Datasets/LMNT02_Raw/LMNT02Sat-2024-10-30/images\n"
     ]
    },
    {
     "name": "stderr",
     "output_type": "stream",
     "text": [
      "Converting Silt to COCO: 100%|██████████| 756/756 [00:32<00:00, 23.61it/s]\n",
      "Copying images: 100%|██████████| 756/756 [23:49<00:00,  1.89s/it]\n",
      "Processing COCO Datasets: 100%|██████████| 1/1 [00:00<00:00, 45.54it/s]\n",
      "Copying images: 100%|██████████| 756/756 [00:03<00:00, 246.50it/s]\n"
     ]
    },
    {
     "name": "stdout",
     "output_type": "stream",
     "text": [
      "Removed: /data/Sentinel_Datasets/LMNT02_Raw/LMNT02Sat-2024-10-10/annotations\n",
      "Removed: /data/Sentinel_Datasets/LMNT02_Raw/LMNT02Sat-2024-10-10/images\n"
     ]
    },
    {
     "name": "stderr",
     "output_type": "stream",
     "text": [
      "Converting Silt to COCO: 100%|██████████| 2795/2795 [01:58<00:00, 23.63it/s]\n",
      "Copying images: 100%|██████████| 2795/2795 [1:29:16<00:00,  1.92s/it]\n",
      "Processing COCO Datasets: 100%|██████████| 1/1 [00:00<00:00, 20.05it/s]\n",
      "Copying images: 100%|██████████| 2795/2795 [00:10<00:00, 270.55it/s]\n"
     ]
    },
    {
     "name": "stdout",
     "output_type": "stream",
     "text": [
      "Removed: /data/Sentinel_Datasets/LMNT02_Raw/LMNT02Sat-2024-12-24/annotations\n",
      "Removed: /data/Sentinel_Datasets/LMNT02_Raw/LMNT02Sat-2024-12-24/images\n"
     ]
    },
    {
     "name": "stderr",
     "output_type": "stream",
     "text": [
      "Converting Silt to COCO: 100%|██████████| 1607/1607 [01:07<00:00, 23.98it/s]\n",
      "Copying images: 100%|██████████| 1607/1607 [51:06<00:00,  1.91s/it]\n",
      "Processing COCO Datasets: 100%|██████████| 1/1 [00:00<00:00, 34.20it/s]\n",
      "Copying images: 100%|██████████| 1607/1607 [00:05<00:00, 270.77it/s]\n"
     ]
    },
    {
     "name": "stdout",
     "output_type": "stream",
     "text": [
      "Removed: /data/Sentinel_Datasets/LMNT02_Raw/LMNT02Sat-2024-12-31/annotations\n",
      "Removed: /data/Sentinel_Datasets/LMNT02_Raw/LMNT02Sat-2024-12-31/images\n"
     ]
    },
    {
     "name": "stderr",
     "output_type": "stream",
     "text": [
      "Converting Silt to COCO: 100%|██████████| 519/519 [00:19<00:00, 26.34it/s]\n",
      "Copying images: 100%|██████████| 519/519 [15:20<00:00,  1.77s/it]\n",
      "Processing COCO Datasets: 100%|██████████| 1/1 [00:00<00:00, 103.29it/s]\n",
      "Copying images: 100%|██████████| 519/519 [00:01<00:00, 311.66it/s]\n"
     ]
    },
    {
     "name": "stdout",
     "output_type": "stream",
     "text": [
      "Removed: /data/Sentinel_Datasets/LMNT02_Raw/LMNT02Sat-2024-11-19/annotations\n",
      "Removed: /data/Sentinel_Datasets/LMNT02_Raw/LMNT02Sat-2024-11-19/images\n"
     ]
    },
    {
     "name": "stderr",
     "output_type": "stream",
     "text": [
      "Converting Silt to COCO: 100%|██████████| 1236/1236 [00:51<00:00, 24.10it/s]\n",
      "Copying images: 100%|██████████| 1236/1236 [39:57<00:00,  1.94s/it]\n",
      "Processing COCO Datasets: 100%|██████████| 1/1 [00:00<00:00, 52.64it/s]\n",
      "Copying images: 100%|██████████| 1236/1236 [00:04<00:00, 263.31it/s]\n"
     ]
    },
    {
     "name": "stdout",
     "output_type": "stream",
     "text": [
      "Removed: /data/Sentinel_Datasets/LMNT02_Raw/LMNT02Sat-2024-10-31/annotations\n",
      "Removed: /data/Sentinel_Datasets/LMNT02_Raw/LMNT02Sat-2024-10-31/images\n"
     ]
    },
    {
     "name": "stderr",
     "output_type": "stream",
     "text": [
      "Converting Silt to COCO: 100%|██████████| 1596/1596 [01:07<00:00, 23.59it/s]\n",
      "Copying images:  76%|███████▌  | 1210/1596 [38:49<12:23,  1.93s/it]\n"
     ]
    },
    {
     "ename": "OSError",
     "evalue": "[Errno 28] No space left on device",
     "output_type": "error",
     "traceback": [
      "\u001b[31m---------------------------------------------------------------------------\u001b[39m",
      "\u001b[31mAttributeError\u001b[39m                            Traceback (most recent call last)",
      "\u001b[36mFile \u001b[39m\u001b[32m~/miniconda3/envs/DatasetStatistics/lib/python3.12/site-packages/PIL/ImageFile.py:643\u001b[39m, in \u001b[36m_save\u001b[39m\u001b[34m(im, fp, tile, bufsize)\u001b[39m\n\u001b[32m    642\u001b[39m \u001b[38;5;28;01mtry\u001b[39;00m:\n\u001b[32m--> \u001b[39m\u001b[32m643\u001b[39m     fh = \u001b[43mfp\u001b[49m\u001b[43m.\u001b[49m\u001b[43mfileno\u001b[49m()\n\u001b[32m    644\u001b[39m     fp.flush()\n",
      "\u001b[31mAttributeError\u001b[39m: '_idat' object has no attribute 'fileno'",
      "\nDuring handling of the above exception, another exception occurred:\n",
      "\u001b[31mOSError\u001b[39m                                   Traceback (most recent call last)",
      "\u001b[36mCell\u001b[39m\u001b[36m \u001b[39m\u001b[32mIn[3]\u001b[39m\u001b[32m, line 3\u001b[39m\n\u001b[32m      1\u001b[39m \u001b[38;5;66;03m# For creating Evaluation Sets\u001b[39;00m\n\u001b[32m      2\u001b[39m \u001b[38;5;28;01mfor\u001b[39;00m origin, destination \u001b[38;5;129;01min\u001b[39;00m \u001b[38;5;28mzip\u001b[39m(eval_origins, eval_finals):\n\u001b[32m----> \u001b[39m\u001b[32m3\u001b[39m     \u001b[43msilt_to_coco\u001b[49m\u001b[43m(\u001b[49m\u001b[43morigin\u001b[49m\u001b[43m,\u001b[49m\u001b[43m \u001b[49m\u001b[43minclude_sats\u001b[49m\u001b[43m=\u001b[49m\u001b[38;5;28;43;01mTrue\u001b[39;49;00m\u001b[43m,\u001b[49m\u001b[43m \u001b[49m\u001b[43minclude_stars\u001b[49m\u001b[43m=\u001b[49m\u001b[38;5;28;43;01mFalse\u001b[39;49;00m\u001b[43m,\u001b[49m\u001b[43m \u001b[49m\u001b[43mconvert_png\u001b[49m\u001b[43m=\u001b[49m\u001b[38;5;28;43;01mTrue\u001b[39;49;00m\u001b[43m,\u001b[49m\u001b[43m \u001b[49m\u001b[43mprocess_func\u001b[49m\u001b[43m=\u001b[49m\u001b[43mpreprocess_func\u001b[49m\u001b[43m,\u001b[49m\u001b[43m \u001b[49m\u001b[43mnotes\u001b[49m\u001b[43m=\u001b[49m\u001b[33;43m\"\u001b[39;49m\u001b[33;43mMixture of ZScale, raw, and log-IQR\u001b[39;49m\u001b[33;43m\"\u001b[39;49m\u001b[43m)\u001b[49m\n\u001b[32m      4\u001b[39m     merge_coco([origin], destination, train_test_split=\u001b[38;5;28;01mFalse\u001b[39;00m, train_ratio=\u001b[32m0\u001b[39m, val_ratio=\u001b[32m0\u001b[39m, test_ratio=\u001b[32m1\u001b[39m, notes=\u001b[33m\"\u001b[39m\u001b[33mLMNT02 dataset with satellites and MultiChannel C\u001b[39m\u001b[33m\"\u001b[39m)\n\u001b[32m      5\u001b[39m     clear_local_caches(os.path.dirname(origin))\n",
      "\u001b[36mFile \u001b[39m\u001b[32m~/Repos/Dataset_Compilation_and_Statistics/data_connections/coco_tools.py:381\u001b[39m, in \u001b[36msilt_to_coco\u001b[39m\u001b[34m(silt_dataset_path, include_sats, include_stars, zip, convert_png, process_func, notes)\u001b[39m\n\u001b[32m    379\u001b[39m     data = np.transpose(data, (\u001b[32m1\u001b[39m,\u001b[32m2\u001b[39m,\u001b[32m0\u001b[39m))\n\u001b[32m    380\u001b[39m     png = Image.fromarray(data)\n\u001b[32m--> \u001b[39m\u001b[32m381\u001b[39m     \u001b[43mpng\u001b[49m\u001b[43m.\u001b[49m\u001b[43msave\u001b[49m\u001b[43m(\u001b[49m\u001b[43mnew_file_name\u001b[49m\u001b[43m)\u001b[49m\n\u001b[32m    382\u001b[39m \u001b[38;5;28;01melse\u001b[39;00m:\n\u001b[32m    383\u001b[39m     destination_path = shutil.copy(image, images_folder)\n",
      "\u001b[36mFile \u001b[39m\u001b[32m~/miniconda3/envs/DatasetStatistics/lib/python3.12/site-packages/PIL/Image.py:2581\u001b[39m, in \u001b[36mImage.save\u001b[39m\u001b[34m(self, fp, format, **params)\u001b[39m\n\u001b[32m   2578\u001b[39m     fp = cast(IO[\u001b[38;5;28mbytes\u001b[39m], fp)\n\u001b[32m   2580\u001b[39m \u001b[38;5;28;01mtry\u001b[39;00m:\n\u001b[32m-> \u001b[39m\u001b[32m2581\u001b[39m     \u001b[43msave_handler\u001b[49m\u001b[43m(\u001b[49m\u001b[38;5;28;43mself\u001b[39;49m\u001b[43m,\u001b[49m\u001b[43m \u001b[49m\u001b[43mfp\u001b[49m\u001b[43m,\u001b[49m\u001b[43m \u001b[49m\u001b[43mfilename\u001b[49m\u001b[43m)\u001b[49m\n\u001b[32m   2582\u001b[39m \u001b[38;5;28;01mexcept\u001b[39;00m \u001b[38;5;167;01mException\u001b[39;00m:\n\u001b[32m   2583\u001b[39m     \u001b[38;5;28;01mif\u001b[39;00m open_fp:\n",
      "\u001b[36mFile \u001b[39m\u001b[32m~/miniconda3/envs/DatasetStatistics/lib/python3.12/site-packages/PIL/PngImagePlugin.py:1492\u001b[39m, in \u001b[36m_save\u001b[39m\u001b[34m(im, fp, filename, chunk, save_all)\u001b[39m\n\u001b[32m   1488\u001b[39m     single_im = _write_multiple_frames(\n\u001b[32m   1489\u001b[39m         im, fp, chunk, mode, rawmode, default_image, append_images\n\u001b[32m   1490\u001b[39m     )\n\u001b[32m   1491\u001b[39m \u001b[38;5;28;01mif\u001b[39;00m single_im:\n\u001b[32m-> \u001b[39m\u001b[32m1492\u001b[39m     \u001b[43mImageFile\u001b[49m\u001b[43m.\u001b[49m\u001b[43m_save\u001b[49m\u001b[43m(\u001b[49m\n\u001b[32m   1493\u001b[39m \u001b[43m        \u001b[49m\u001b[43msingle_im\u001b[49m\u001b[43m,\u001b[49m\n\u001b[32m   1494\u001b[39m \u001b[43m        \u001b[49m\u001b[43mcast\u001b[49m\u001b[43m(\u001b[49m\u001b[43mIO\u001b[49m\u001b[43m[\u001b[49m\u001b[38;5;28;43mbytes\u001b[39;49m\u001b[43m]\u001b[49m\u001b[43m,\u001b[49m\u001b[43m \u001b[49m\u001b[43m_idat\u001b[49m\u001b[43m(\u001b[49m\u001b[43mfp\u001b[49m\u001b[43m,\u001b[49m\u001b[43m \u001b[49m\u001b[43mchunk\u001b[49m\u001b[43m)\u001b[49m\u001b[43m)\u001b[49m\u001b[43m,\u001b[49m\n\u001b[32m   1495\u001b[39m \u001b[43m        \u001b[49m\u001b[43m[\u001b[49m\u001b[43mImageFile\u001b[49m\u001b[43m.\u001b[49m\u001b[43m_Tile\u001b[49m\u001b[43m(\u001b[49m\u001b[33;43m\"\u001b[39;49m\u001b[33;43mzip\u001b[39;49m\u001b[33;43m\"\u001b[39;49m\u001b[43m,\u001b[49m\u001b[43m \u001b[49m\u001b[43m(\u001b[49m\u001b[32;43m0\u001b[39;49m\u001b[43m,\u001b[49m\u001b[43m \u001b[49m\u001b[32;43m0\u001b[39;49m\u001b[43m)\u001b[49m\u001b[43m \u001b[49m\u001b[43m+\u001b[49m\u001b[43m \u001b[49m\u001b[43msingle_im\u001b[49m\u001b[43m.\u001b[49m\u001b[43msize\u001b[49m\u001b[43m,\u001b[49m\u001b[43m \u001b[49m\u001b[32;43m0\u001b[39;49m\u001b[43m,\u001b[49m\u001b[43m \u001b[49m\u001b[43mrawmode\u001b[49m\u001b[43m)\u001b[49m\u001b[43m]\u001b[49m\u001b[43m,\u001b[49m\n\u001b[32m   1496\u001b[39m \u001b[43m    \u001b[49m\u001b[43m)\u001b[49m\n\u001b[32m   1498\u001b[39m \u001b[38;5;28;01mif\u001b[39;00m info:\n\u001b[32m   1499\u001b[39m     \u001b[38;5;28;01mfor\u001b[39;00m info_chunk \u001b[38;5;129;01min\u001b[39;00m info.chunks:\n",
      "\u001b[36mFile \u001b[39m\u001b[32m~/miniconda3/envs/DatasetStatistics/lib/python3.12/site-packages/PIL/ImageFile.py:647\u001b[39m, in \u001b[36m_save\u001b[39m\u001b[34m(im, fp, tile, bufsize)\u001b[39m\n\u001b[32m    645\u001b[39m     _encode_tile(im, fp, tile, bufsize, fh)\n\u001b[32m    646\u001b[39m \u001b[38;5;28;01mexcept\u001b[39;00m (\u001b[38;5;167;01mAttributeError\u001b[39;00m, io.UnsupportedOperation) \u001b[38;5;28;01mas\u001b[39;00m exc:\n\u001b[32m--> \u001b[39m\u001b[32m647\u001b[39m     \u001b[43m_encode_tile\u001b[49m\u001b[43m(\u001b[49m\u001b[43mim\u001b[49m\u001b[43m,\u001b[49m\u001b[43m \u001b[49m\u001b[43mfp\u001b[49m\u001b[43m,\u001b[49m\u001b[43m \u001b[49m\u001b[43mtile\u001b[49m\u001b[43m,\u001b[49m\u001b[43m \u001b[49m\u001b[43mbufsize\u001b[49m\u001b[43m,\u001b[49m\u001b[43m \u001b[49m\u001b[38;5;28;43;01mNone\u001b[39;49;00m\u001b[43m,\u001b[49m\u001b[43m \u001b[49m\u001b[43mexc\u001b[49m\u001b[43m)\u001b[49m\n\u001b[32m    648\u001b[39m \u001b[38;5;28;01mif\u001b[39;00m \u001b[38;5;28mhasattr\u001b[39m(fp, \u001b[33m\"\u001b[39m\u001b[33mflush\u001b[39m\u001b[33m\"\u001b[39m):\n\u001b[32m    649\u001b[39m     fp.flush()\n",
      "\u001b[36mFile \u001b[39m\u001b[32m~/miniconda3/envs/DatasetStatistics/lib/python3.12/site-packages/PIL/ImageFile.py:674\u001b[39m, in \u001b[36m_encode_tile\u001b[39m\u001b[34m(im, fp, tile, bufsize, fh, exc)\u001b[39m\n\u001b[32m    672\u001b[39m \u001b[38;5;28;01mwhile\u001b[39;00m \u001b[38;5;28;01mTrue\u001b[39;00m:\n\u001b[32m    673\u001b[39m     errcode, data = encoder.encode(bufsize)[\u001b[32m1\u001b[39m:]\n\u001b[32m--> \u001b[39m\u001b[32m674\u001b[39m     \u001b[43mfp\u001b[49m\u001b[43m.\u001b[49m\u001b[43mwrite\u001b[49m\u001b[43m(\u001b[49m\u001b[43mdata\u001b[49m\u001b[43m)\u001b[49m\n\u001b[32m    675\u001b[39m     \u001b[38;5;28;01mif\u001b[39;00m errcode:\n\u001b[32m    676\u001b[39m         \u001b[38;5;28;01mbreak\u001b[39;00m\n",
      "\u001b[36mFile \u001b[39m\u001b[32m~/miniconda3/envs/DatasetStatistics/lib/python3.12/site-packages/PIL/PngImagePlugin.py:1136\u001b[39m, in \u001b[36m_idat.write\u001b[39m\u001b[34m(self, data)\u001b[39m\n\u001b[32m   1135\u001b[39m \u001b[38;5;28;01mdef\u001b[39;00m\u001b[38;5;250m \u001b[39m\u001b[34mwrite\u001b[39m(\u001b[38;5;28mself\u001b[39m, data: \u001b[38;5;28mbytes\u001b[39m) -> \u001b[38;5;28;01mNone\u001b[39;00m:\n\u001b[32m-> \u001b[39m\u001b[32m1136\u001b[39m     \u001b[38;5;28;43mself\u001b[39;49m\u001b[43m.\u001b[49m\u001b[43mchunk\u001b[49m\u001b[43m(\u001b[49m\u001b[38;5;28;43mself\u001b[39;49m\u001b[43m.\u001b[49m\u001b[43mfp\u001b[49m\u001b[43m,\u001b[49m\u001b[43m \u001b[49m\u001b[33;43mb\u001b[39;49m\u001b[33;43m\"\u001b[39;49m\u001b[33;43mIDAT\u001b[39;49m\u001b[33;43m\"\u001b[39;49m\u001b[43m,\u001b[49m\u001b[43m \u001b[49m\u001b[43mdata\u001b[49m\u001b[43m)\u001b[49m\n",
      "\u001b[36mFile \u001b[39m\u001b[32m~/miniconda3/envs/DatasetStatistics/lib/python3.12/site-packages/PIL/PngImagePlugin.py:1123\u001b[39m, in \u001b[36mputchunk\u001b[39m\u001b[34m(fp, cid, *data)\u001b[39m\n\u001b[32m   1120\u001b[39m byte_data = \u001b[33mb\u001b[39m\u001b[33m\"\u001b[39m\u001b[33m\"\u001b[39m.join(data)\n\u001b[32m   1122\u001b[39m fp.write(o32(\u001b[38;5;28mlen\u001b[39m(byte_data)) + cid)\n\u001b[32m-> \u001b[39m\u001b[32m1123\u001b[39m \u001b[43mfp\u001b[49m\u001b[43m.\u001b[49m\u001b[43mwrite\u001b[49m\u001b[43m(\u001b[49m\u001b[43mbyte_data\u001b[49m\u001b[43m)\u001b[49m\n\u001b[32m   1124\u001b[39m crc = _crc32(byte_data, _crc32(cid))\n\u001b[32m   1125\u001b[39m fp.write(o32(crc))\n",
      "\u001b[31mOSError\u001b[39m: [Errno 28] No space left on device"
     ]
    }
   ],
   "source": [
    "# For creating Evaluation Sets\n",
    "for origin, destination in zip(eval_origins, eval_finals):\n",
    "    silt_to_coco(origin, include_sats=True, include_stars=False, convert_png=True, process_func=preprocess_func, notes=\"Mixture of ZScale, raw, and log-IQR\")\n",
    "    merge_coco([origin], destination, train_test_split=False, train_ratio=0, val_ratio=0, test_ratio=1, notes=\"LMNT02 dataset with satellites and MultiChannel C\")\n",
    "    clear_local_caches(os.path.dirname(origin))"
   ]
  }
 ],
 "metadata": {
  "kernelspec": {
   "display_name": "DatasetStatistics",
   "language": "python",
   "name": "python3"
  },
  "language_info": {
   "codemirror_mode": {
    "name": "ipython",
    "version": 3
   },
   "file_extension": ".py",
   "mimetype": "text/x-python",
   "name": "python",
   "nbconvert_exporter": "python",
   "pygments_lexer": "ipython3",
   "version": "3.12.9"
  }
 },
 "nbformat": 4,
 "nbformat_minor": 5
}
