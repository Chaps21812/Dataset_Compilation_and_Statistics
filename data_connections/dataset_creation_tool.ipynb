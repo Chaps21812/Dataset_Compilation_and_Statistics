{
 "cells": [
  {
   "cell_type": "markdown",
   "id": "66e042e1",
   "metadata": {},
   "source": [
    "# Dataset Creation Tool\n",
    "Once your datasets have been properly curated in the training_set_management_tool, you can now use these tools to convert datasets to coco, and merge them as well. "
   ]
  },
  {
   "cell_type": "code",
   "execution_count": null,
   "id": "b45c1487",
   "metadata": {},
   "outputs": [],
   "source": [
    "from coco_tools import silt_to_coco, satsim_to_coco, merge_coco\n",
    "from preprocess_functions import channel_mixture, adaptiveIQR, zscale\n",
    "\n",
    "Process_pathA = \"/mnt/c/Users/david.chaparro/Documents/Repos/Dataset-Statistics/data/RME01AllStar/\"\n",
    "Process_pathB = \"/mnt/c/Users/david.chaparro/Documents/Repos/Dataset-Statistics/data/RME03AllStar/\"\n",
    "satsim_path = \"/mnt/c/Users/david.chaparro/Documents/Repos/SatSim/output\"\n",
    "\n",
    "final_destination_path = \"/mnt/c/Users/david.chaparro/Documents/Repos/Dataset-Statistics/data/RME03Final\""
   ]
  },
  {
   "cell_type": "markdown",
   "id": "350bd770",
   "metadata": {},
   "source": [
    "## Convert SILT to COCO"
   ]
  },
  {
   "cell_type": "code",
   "execution_count": null,
   "id": "b0a628ad",
   "metadata": {},
   "outputs": [
    {
     "name": "stderr",
     "output_type": "stream",
     "text": [
      "Converting Silt to COCO: 100%|██████████| 2676/2676 [00:25<00:00, 106.82it/s]\n",
      "Copying images: 100%|██████████| 2676/2676 [07:12<00:00,  6.18it/s] \n"
     ]
    }
   ],
   "source": [
    "# silt_to_coco(Process_pathB, include_sats=False, include_stars=True, zip=False, notes=\"RME01 dataset with stars only\")\n",
    "silt_to_coco(Process_pathB, include_sats=True, include_stars=False, convert_png=True, process_func=None, notes=\"\")"
   ]
  },
  {
   "cell_type": "markdown",
   "id": "3526d6f9",
   "metadata": {},
   "source": [
    "## Convert SATSim to COCO"
   ]
  },
  {
   "cell_type": "code",
   "execution_count": null,
   "id": "ccf3a46f",
   "metadata": {},
   "outputs": [
    {
     "name": "stderr",
     "output_type": "stream",
     "text": [
      "Converting Satsim to COCO: 100%|██████████| 169/169 [00:10<00:00, 15.74it/s]\n",
      "Copying images: 100%|██████████| 1012/1012 [01:23<00:00, 12.10it/s]\n"
     ]
    }
   ],
   "source": [
    "\n",
    "satsim_to_coco(satsim_path,include_sats=False, include_stars=True, convert_png=True, process_func=None, notes=\"\")"
   ]
  },
  {
   "cell_type": "markdown",
   "id": "3f496708",
   "metadata": {},
   "source": [
    "## Merge Datasets"
   ]
  },
  {
   "cell_type": "code",
   "execution_count": 3,
   "id": "778a7bd2",
   "metadata": {},
   "outputs": [
    {
     "name": "stderr",
     "output_type": "stream",
     "text": [
      "Processing COCO Datasets: 100%|██████████| 1/1 [00:00<00:00,  1.66it/s]\n",
      "Copying images: 100%|██████████| 2140/2140 [06:09<00:00,  5.80it/s]\n",
      "Copying images: 100%|██████████| 267/267 [00:45<00:00,  5.92it/s] \n",
      "Copying images: 100%|██████████| 269/269 [00:46<00:00,  5.80it/s] \n"
     ]
    }
   ],
   "source": [
    "datasets = [Process_pathB]\n",
    "merge_coco(datasets, final_destination_path, train_test_split=True, train_ratio=.8, val_ratio=0.1, test_ratio=.1, notes=\"RME03 dataset with stars only\")"
   ]
  }
 ],
 "metadata": {
  "kernelspec": {
   "display_name": "astrometry",
   "language": "python",
   "name": "python3"
  },
  "language_info": {
   "codemirror_mode": {
    "name": "ipython",
    "version": 3
   },
   "file_extension": ".py",
   "mimetype": "text/x-python",
   "name": "python",
   "nbconvert_exporter": "python",
   "pygments_lexer": "ipython3",
   "version": "3.9.21"
  }
 },
 "nbformat": 4,
 "nbformat_minor": 5
}
