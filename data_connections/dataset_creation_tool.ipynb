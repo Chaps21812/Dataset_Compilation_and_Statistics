{
 "cells": [
  {
   "cell_type": "markdown",
   "id": "66e042e1",
   "metadata": {},
   "source": [
    "# Dataset Creation Tool\n",
    "Once your datasets have been properly curated in the training_set_management_tool, you can now use these tools to convert datasets to coco, and merge them as well. "
   ]
  },
  {
   "cell_type": "code",
   "execution_count": 1,
   "id": "b45c1487",
   "metadata": {},
   "outputs": [],
   "source": [
    "from coco_tools import silt_to_coco, satsim_to_coco, merge_coco\n",
    "from preprocess_functions import channel_mixture, adaptiveIQR, zscale\n",
    "\n",
    "Process_pathA = \"/mnt/c/Users/david.chaparro/Documents/Repos/Dataset-Statistics/data/RME01AllStar/\"\n",
    "Process_pathB = \"/mnt/c/Users/david.chaparro/Documents/Repos/Dataset-Statistics/data/RME03AllStar/\"\n",
    "satsim_path = \"/mnt/c/Users/david.chaparro/Documents/Repos/SatSim/output\"\n",
    "\n",
    "final_destination_path = \"/mnt/c/Users/david.chaparro/Documents/data/ZScaledRME03AllStar\""
   ]
  },
  {
   "cell_type": "code",
   "execution_count": 2,
   "id": "aed16730",
   "metadata": {},
   "outputs": [],
   "source": [
    "Process_pathA = \"/mnt/c/Users/david.chaparro/Documents/Repos/Dataset-Statistics/data/PDS-RME04-2024-04-30\"\n",
    "Process_pathB = \"/mnt/c/Users/david.chaparro/Documents/Repos/Dataset-Statistics/data/PDS-RME04-2024-05-01\"\n",
    "Process_pathC = \"/mnt/c/Users/david.chaparro/Documents/Repos/Dataset-Statistics/data/PDS-RME04-2024-05-02\"\n",
    "Process_pathD = \"/mnt/c/Users/david.chaparro/Documents/Repos/Dataset-Statistics/data/PDS-RME04-2024-05-03\"\n",
    "Process_pathE = \"/mnt/c/Users/david.chaparro/Documents/Repos/Dataset-Statistics/data/PDS-RME04-2024-05-07\"\n",
    "\n",
    "Process_pathF = \"/mnt/c/Users/david.chaparro/Documents/Repos/Dataset-Statistics/data/PDS-RME04-2024-05-30\"\n",
    "Process_pathG = \"/mnt/c/Users/david.chaparro/Documents/Repos/Dataset-Statistics/data/PDS-RME04-2024-06-15\"\n",
    "Process_pathH = \"/mnt/c/Users/david.chaparro/Documents/Repos/Dataset-Statistics/data/PDS-RME04-2024-06-25\"\n",
    "Process_pathI = \"/mnt/c/Users/david.chaparro/Documents/Repos/Dataset-Statistics/data/PDS-RME04-2024-07-15\"\n",
    "Process_pathJ = \"/mnt/c/Users/david.chaparro/Documents/Repos/Dataset-Statistics/data/PDS-RME04-2024-07-31\"\n",
    "Process_pathK = \"/mnt/c/Users/david.chaparro/Documents/Repos/Dataset-Statistics/data/PDS-RME04-2024-08-19\"\n",
    "Process_pathL = \"/mnt/c/Users/david.chaparro/Documents/Repos/Dataset-Statistics/data/PDS-RME04-2024-08-28\"\n",
    "\n",
    "Output_pathF = \"/mnt/c/Users/david.chaparro/Documents/data/MultiChannelRME04Sats-2024-05-30\"\n",
    "Output_pathG = \"/mnt/c/Users/david.chaparro/Documents/data/MultiChannelRME04Sats-2024-06-15\"\n",
    "Output_pathH = \"/mnt/c/Users/david.chaparro/Documents/data/MultiChannelRME04Sats-2024-06-25\"\n",
    "Output_pathI = \"/mnt/c/Users/david.chaparro/Documents/data/MultiChannelRME04Sats-2024-07-15\"\n",
    "Output_pathJ = \"/mnt/c/Users/david.chaparro/Documents/data/MultiChannelRME04Sats-2024-07-31\"\n",
    "Output_pathK = \"/mnt/c/Users/david.chaparro/Documents/data/MultiChannelRME04Sats-2024-08-19\"\n",
    "Output_pathL = \"/mnt/c/Users/david.chaparro/Documents/data/MultiChannelRME04Sats-2024-08-28\"\n",
    "\n",
    "\n",
    "training_set_origins = [Process_pathA, Process_pathB, Process_pathC, Process_pathD, Process_pathE] \n",
    "Output_pathTraining = \"/mnt/c/Users/david.chaparro/Documents/data/MultiChannelRME04Sats_Train\"\n",
    "\n",
    "test_origins = [Process_pathF, Process_pathG, Process_pathH, Process_pathI, Process_pathJ, Process_pathK, Process_pathL]\n",
    "test_finals = [Output_pathF, Output_pathG, Output_pathH, Output_pathI, Output_pathJ, Output_pathK, Output_pathL]\n",
    "\n",
    "path_list = [Process_pathA, Process_pathB, Process_pathC, Process_pathD, Process_pathE, Process_pathF, Process_pathG, Process_pathH, Process_pathI, Process_pathJ, Process_pathK, Process_pathL] \n",
    "path_list = [ Process_pathE] \n",
    "\n"
   ]
  },
  {
   "cell_type": "markdown",
   "id": "350bd770",
   "metadata": {},
   "source": [
    "## Convert SILT to COCO"
   ]
  },
  {
   "cell_type": "code",
   "execution_count": null,
   "id": "b0a628ad",
   "metadata": {},
   "outputs": [
    {
     "name": "stderr",
     "output_type": "stream",
     "text": [
      "Converting Silt to COCO: 100%|██████████| 712/712 [00:15<00:00, 47.46it/s]\n",
      "Copying images: 100%|██████████| 712/712 [19:28<00:00,  1.64s/it]  \n"
     ]
    }
   ],
   "source": [
    "# silt_to_coco(Process_pathB, include_sats=False, include_stars=True, zip=False, notes=\"RME01 dataset with stars only\")\n",
    "silt_to_coco(Process_pathB, include_sats=True, include_stars=False, convert_png=True, process_func=channel_mixture, notes=\"Channel Mixture of Adaptive IQR, raw, and zscaled. \")"
   ]
  },
  {
   "cell_type": "code",
   "execution_count": 3,
   "id": "7d0acc5f",
   "metadata": {},
   "outputs": [
    {
     "name": "stderr",
     "output_type": "stream",
     "text": [
      "Converting Silt to COCO: 100%|██████████| 1345/1345 [00:09<00:00, 136.11it/s]\n"
     ]
    },
    {
     "name": "stdout",
     "output_type": "stream",
     "text": [
      "Deleted folder: /mnt/c/Users/david.chaparro/Documents/Repos/Dataset-Statistics/data/PDS-RME04-2024-05-07/images\n",
      "Deleted folder: /mnt/c/Users/david.chaparro/Documents/Repos/Dataset-Statistics/data/PDS-RME04-2024-05-07/annotations\n"
     ]
    },
    {
     "name": "stderr",
     "output_type": "stream",
     "text": [
      "Copying images:  71%|███████   | 957/1345 [1:06:21<26:54,  4.16s/it]  \n"
     ]
    },
    {
     "ename": "AttributeError",
     "evalue": "'NoneType' object has no attribute 'min'",
     "output_type": "error",
     "traceback": [
      "\u001b[0;31m---------------------------------------------------------------------------\u001b[0m",
      "\u001b[0;31mAttributeError\u001b[0m                            Traceback (most recent call last)",
      "Cell \u001b[0;32mIn[3], line 2\u001b[0m\n\u001b[1;32m      1\u001b[0m \u001b[38;5;28;01mfor\u001b[39;00m path \u001b[38;5;129;01min\u001b[39;00m path_list:\n\u001b[0;32m----> 2\u001b[0m     \u001b[43msilt_to_coco\u001b[49m\u001b[43m(\u001b[49m\u001b[43mpath\u001b[49m\u001b[43m,\u001b[49m\u001b[43m \u001b[49m\u001b[43minclude_sats\u001b[49m\u001b[38;5;241;43m=\u001b[39;49m\u001b[38;5;28;43;01mTrue\u001b[39;49;00m\u001b[43m,\u001b[49m\u001b[43m \u001b[49m\u001b[43minclude_stars\u001b[49m\u001b[38;5;241;43m=\u001b[39;49m\u001b[38;5;28;43;01mFalse\u001b[39;49;00m\u001b[43m,\u001b[49m\u001b[43m \u001b[49m\u001b[43mconvert_png\u001b[49m\u001b[38;5;241;43m=\u001b[39;49m\u001b[38;5;28;43;01mTrue\u001b[39;49;00m\u001b[43m,\u001b[49m\u001b[43m \u001b[49m\u001b[43mprocess_func\u001b[49m\u001b[38;5;241;43m=\u001b[39;49m\u001b[43mchannel_mixture\u001b[49m\u001b[43m,\u001b[49m\u001b[43m \u001b[49m\u001b[43mnotes\u001b[49m\u001b[38;5;241;43m=\u001b[39;49m\u001b[38;5;124;43m\"\u001b[39;49m\u001b[38;5;124;43mChannel Mixture of Adaptive IQR, raw, and zscaled. \u001b[39;49m\u001b[38;5;124;43m\"\u001b[39;49m\u001b[43m)\u001b[49m\n",
      "File \u001b[0;32m/mnt/c/Users/david.chaparro/Documents/Repos/Dataset-Statistics/data_connections/coco_tools.py:362\u001b[0m, in \u001b[0;36msilt_to_coco\u001b[0;34m(silt_dataset_path, include_sats, include_stars, zip, convert_png, process_func, notes)\u001b[0m\n\u001b[1;32m    360\u001b[0m     \u001b[38;5;28;01mcontinue\u001b[39;00m\n\u001b[1;32m    361\u001b[0m \u001b[38;5;28;01mif\u001b[39;00m process_func \u001b[38;5;129;01mis\u001b[39;00m \u001b[38;5;129;01mnot\u001b[39;00m \u001b[38;5;28;01mNone\u001b[39;00m:\n\u001b[0;32m--> 362\u001b[0m     data \u001b[38;5;241m=\u001b[39m \u001b[43mprocess_func\u001b[49m\u001b[43m(\u001b[49m\u001b[43mdata\u001b[49m\u001b[43m)\u001b[49m\n\u001b[1;32m    363\u001b[0m \u001b[38;5;28;01melse\u001b[39;00m: \n\u001b[1;32m    364\u001b[0m     data \u001b[38;5;241m=\u001b[39m np\u001b[38;5;241m.\u001b[39mstack([data,data,data], axis\u001b[38;5;241m=\u001b[39m\u001b[38;5;241m0\u001b[39m)\n",
      "File \u001b[0;32m/mnt/c/Users/david.chaparro/Documents/Repos/Dataset-Statistics/data_connections/preprocess_functions.py:83\u001b[0m, in \u001b[0;36mchannel_mixture\u001b[0;34m(data)\u001b[0m\n\u001b[1;32m     81\u001b[0m zscaled \u001b[38;5;241m=\u001b[39m (zscaled \u001b[38;5;241m*\u001b[39m \u001b[38;5;241m255\u001b[39m)\u001b[38;5;241m.\u001b[39mastype(np\u001b[38;5;241m.\u001b[39muint8)\n\u001b[1;32m     82\u001b[0m contrast_enhance \u001b[38;5;241m=\u001b[39m _adaptive_iqr(data)\n\u001b[0;32m---> 83\u001b[0m contrast_enhance \u001b[38;5;241m=\u001b[39m (\u001b[43m_minmax_scale\u001b[49m\u001b[43m(\u001b[49m\u001b[43mcontrast_enhance\u001b[49m\u001b[43m)\u001b[49m\u001b[38;5;241m*\u001b[39m\u001b[38;5;241m255\u001b[39m)\u001b[38;5;241m.\u001b[39mastype(np\u001b[38;5;241m.\u001b[39muint8)\n\u001b[1;32m     85\u001b[0m data \u001b[38;5;241m=\u001b[39m (data \u001b[38;5;241m/\u001b[39m \u001b[38;5;241m255\u001b[39m)\u001b[38;5;241m.\u001b[39mastype(np\u001b[38;5;241m.\u001b[39muint8)\n\u001b[1;32m     86\u001b[0m \u001b[38;5;28;01mreturn\u001b[39;00m np\u001b[38;5;241m.\u001b[39mstack([data, contrast_enhance, zscaled], axis\u001b[38;5;241m=\u001b[39m\u001b[38;5;241m0\u001b[39m)\n",
      "File \u001b[0;32m/mnt/c/Users/david.chaparro/Documents/Repos/Dataset-Statistics/data_connections/preprocess_functions.py:65\u001b[0m, in \u001b[0;36m_minmax_scale\u001b[0;34m(arr)\u001b[0m\n\u001b[1;32m     63\u001b[0m \u001b[38;5;28;01mdef\u001b[39;00m\u001b[38;5;250m \u001b[39m\u001b[38;5;21m_minmax_scale\u001b[39m(arr:np\u001b[38;5;241m.\u001b[39mndarray) \u001b[38;5;241m-\u001b[39m\u001b[38;5;241m>\u001b[39m np\u001b[38;5;241m.\u001b[39mndarray:\n\u001b[1;32m     64\u001b[0m \u001b[38;5;250m    \u001b[39m\u001b[38;5;124;03m\"\"\"Scales a 2D NumPy array to the range [0, 1] using min-max normalization.\"\"\"\u001b[39;00m\n\u001b[0;32m---> 65\u001b[0m     arr_min \u001b[38;5;241m=\u001b[39m \u001b[43marr\u001b[49m\u001b[38;5;241;43m.\u001b[39;49m\u001b[43mmin\u001b[49m()\n\u001b[1;32m     66\u001b[0m     arr_max \u001b[38;5;241m=\u001b[39m arr\u001b[38;5;241m.\u001b[39mmax()\n\u001b[1;32m     67\u001b[0m     \u001b[38;5;28;01mif\u001b[39;00m arr_max \u001b[38;5;241m==\u001b[39m arr_min:\n",
      "\u001b[0;31mAttributeError\u001b[0m: 'NoneType' object has no attribute 'min'"
     ]
    }
   ],
   "source": [
    "for path in path_list:\n",
    "    silt_to_coco(path, include_sats=True, include_stars=False, convert_png=True, process_func=channel_mixture, notes=\"Channel Mixture of Adaptive IQR, raw, and zscaled. \")"
   ]
  },
  {
   "cell_type": "markdown",
   "id": "3526d6f9",
   "metadata": {},
   "source": [
    "## Convert SATSim to COCO"
   ]
  },
  {
   "cell_type": "code",
   "execution_count": null,
   "id": "ccf3a46f",
   "metadata": {},
   "outputs": [
    {
     "name": "stderr",
     "output_type": "stream",
     "text": [
      "Converting Satsim to COCO: 100%|██████████| 169/169 [00:10<00:00, 15.74it/s]\n",
      "Copying images: 100%|██████████| 1012/1012 [01:23<00:00, 12.10it/s]\n"
     ]
    }
   ],
   "source": [
    "\n",
    "satsim_to_coco(satsim_path,include_sats=False, include_stars=True, convert_png=True, process_func=None, notes=\"\")"
   ]
  },
  {
   "cell_type": "markdown",
   "id": "3f496708",
   "metadata": {},
   "source": [
    "## Merge Datasets"
   ]
  },
  {
   "cell_type": "code",
   "execution_count": 4,
   "id": "778a7bd2",
   "metadata": {},
   "outputs": [
    {
     "name": "stderr",
     "output_type": "stream",
     "text": [
      "Processing COCO Datasets: 100%|██████████| 5/5 [00:00<00:00, 11.95it/s]\n",
      "Copying images: 100%|██████████| 4050/4050 [08:48<00:00,  7.66it/s]\n",
      "Copying images: 100%|██████████| 450/450 [00:58<00:00,  7.65it/s]\n",
      "Copying images: 0it [00:00, ?it/s]\n"
     ]
    }
   ],
   "source": [
    "# for origin, destination in zip(test_origins, test_finals):\n",
    "#     merge_coco([origin], destination, train_test_split=False, train_ratio=0, val_ratio=0, test_ratio=1, notes=\"RME03 dataset with stars only\")\n",
    "\n",
    "merge_coco(training_set_origins, Output_pathTraining, train_test_split=True, train_ratio=.9, val_ratio=.1, test_ratio=0, notes=\"RME03 dataset with stars only\")"
   ]
  }
 ],
 "metadata": {
  "kernelspec": {
   "display_name": "astrometry",
   "language": "python",
   "name": "python3"
  },
  "language_info": {
   "codemirror_mode": {
    "name": "ipython",
    "version": 3
   },
   "file_extension": ".py",
   "mimetype": "text/x-python",
   "name": "python",
   "nbconvert_exporter": "python",
   "pygments_lexer": "ipython3",
   "version": "3.9.21"
  }
 },
 "nbformat": 4,
 "nbformat_minor": 5
}
