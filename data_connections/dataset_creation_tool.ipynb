{
 "cells": [
  {
   "cell_type": "markdown",
   "id": "66e042e1",
   "metadata": {},
   "source": [
    "# Dataset Creation Tool\n",
    "Once your datasets have been properly curated in the training_set_management_tool, you can now use these tools to convert datasets to coco, and merge them as well. "
   ]
  },
  {
   "cell_type": "code",
   "execution_count": null,
   "id": "b45c1487",
   "metadata": {},
   "outputs": [
    {
     "name": "stderr",
     "output_type": "stream",
     "text": [
      "/home/davidchaparro/miniconda3/envs/DatasetStatistics/lib/python3.12/site-packages/tqdm/auto.py:21: TqdmWarning: IProgress not found. Please update jupyter and ipywidgets. See https://ipywidgets.readthedocs.io/en/stable/user_install.html\n",
      "  from .autonotebook import tqdm as notebook_tqdm\n"
     ]
    }
   ],
   "source": [
    "from coco_tools import silt_to_coco, satsim_to_coco, merge_coco\n",
    "from preprocess_functions import channel_mixture_A, channel_mixture_B, channel_mixture_C, adaptiveIQR, zscale, iqr_clipped, iqr_log, raw_file\n",
    "from preprocess_functions import _median_column_subtraction, _median_row_subtraction, _background_subtract\n",
    "\n",
    "# Process_pathA = \"/mnt/c/Users/david.chaparro/Documents/Repos/Dataset-Statistics/data/RME01AllStar/\"\n",
    "# Process_pathB = \"/mnt/c/Users/david.chaparro/Documents/Repos/Dataset-Statistics/data/RME03AllStar/\"\n",
    "# satsim_path = \"/mnt/c/Users/david.chaparro/Documents/Repos/SatSim/output\"\n",
    "\n",
    "# final_destination_path = \"/mnt/c/Users/david.chaparro/Documents/data/ZScaledRME03AllStar\""
   ]
  },
  {
   "cell_type": "code",
   "execution_count": 6,
   "id": "aed16730",
   "metadata": {},
   "outputs": [],
   "source": [
    "Process_pathA = \"/home/davidchaparro/Repos/Dataset_Compilation_and_Statistics/data/LMNT02Sat-2024-07-07\"\n",
    "Process_pathB = \"/home/davidchaparro/Repos/Dataset_Compilation_and_Statistics/data/LMNT02Sat-2024-07-08\"\n",
    "Process_pathC = \"/home/davidchaparro/Repos/Dataset_Compilation_and_Statistics/data/LMNT02Sat-2024-07-10\"\n",
    "Process_pathD = \"/home/davidchaparro/Repos/Dataset_Compilation_and_Statistics/data/LMNT02Sat-2024-07-11\"\n",
    "Process_pathE = \"/home/davidchaparro/Repos/Dataset_Compilation_and_Statistics/data/LMNT02Sat-2024-07-24\"\n",
    "\n",
    "Process_pathF = \"/home/davidchaparro/Repos/Dataset_Compilation_and_Statistics/data/LMNT02Sat-2024-08-05\"\n",
    "Process_pathG = \"/home/davidchaparro/Repos/Dataset_Compilation_and_Statistics/data/LMNT02Sat-2024-08-21\"\n",
    "Process_pathH = \"/home/davidchaparro/Repos/Dataset_Compilation_and_Statistics/data/LMNT02Sat-2024-09-06\"\n",
    "Process_pathI = \"/home/davidchaparro/Repos/Dataset_Compilation_and_Statistics/data/LMNT02Sat-2024-09-14\"\n",
    "Process_pathJ = \"/home/davidchaparro/Repos/Dataset_Compilation_and_Statistics/data/LMNT02Sat-2024-10-08\"\n",
    "Process_pathK = \"/home/davidchaparro/Repos/Dataset_Compilation_and_Statistics/data/LMNT02Sat-2024-10-17\"\n",
    "Process_pathL = \"/home/davidchaparro/Repos/Dataset_Compilation_and_Statistics/data/LMNT02Sat-2024-10-31\"\n",
    "Process_pathM = \"/home/davidchaparro/Repos/Dataset_Compilation_and_Statistics/data/LMNT02Sat-2024-11-15\"\n",
    "Process_pathN = \"/home/davidchaparro/Repos/Dataset_Compilation_and_Statistics/data/LMNT02Sat-2024-11-27\"\n",
    "Process_pathO = \"/home/davidchaparro/Repos/Dataset_Compilation_and_Statistics/data/LMNT02Sat-2024-12-20\"\n",
    "Process_pathP = \"/home/davidchaparro/Repos/Dataset_Compilation_and_Statistics/data/LMNT02Sat-2024-12-31\"\n",
    "Process_pathQ = \"/home/davidchaparro/Repos/Dataset_Compilation_and_Statistics/data/LMNT02Sat-2025-01-08\"\n",
    "\n",
    "Output_pathF = \"/home/davidchaparro/Datasets/MultiChannelLMNT02-2024-08-05\"\n",
    "Output_pathG = \"/home/davidchaparro/Datasets/MultiChannelLMNT02-2024-08-21\"\n",
    "Output_pathH = \"/home/davidchaparro/Datasets/MultiChannelLMNT02-2024-09-06\"\n",
    "Output_pathI = \"/home/davidchaparro/Datasets/MultiChannelLMNT02-2024-09-14\"\n",
    "Output_pathJ = \"/home/davidchaparro/Datasets/MultiChannelLMNT02-2024-10-08\"\n",
    "Output_pathK = \"/home/davidchaparro/Datasets/MultiChannelLMNT02-2024-10-17\"\n",
    "Output_pathL = \"/home/davidchaparro/Datasets/MultiChannelLMNT02-2024-10-31\"\n",
    "Output_pathM = \"/home/davidchaparro/Datasets/MultiChannelLMNT02-2024-11-15\"\n",
    "Output_pathN = \"/home/davidchaparro/Datasets/MultiChannelLMNT02-2024-11-27\"\n",
    "Output_pathO = \"/home/davidchaparro/Datasets/MultiChannelLMNT02-2024-12-20\"\n",
    "Output_pathP = \"/home/davidchaparro/Datasets/MultiChannelLMNT02-2024-12-31\"\n",
    "Output_pathQ = \"/home/davidchaparro/Datasets/MultiChannelLMNT02-2025-01-08\"\n",
    "\n",
    "training_set_origins = [Process_pathA, Process_pathB, Process_pathC, Process_pathD, Process_pathE] \n",
    "Output_pathTraining = \"/home/davidchaparro/Datasets/MultiChannelLMNT02_Train\"\n",
    "\n",
    "path_list = [Process_pathF, Process_pathG, Process_pathH, Process_pathI, Process_pathJ, Process_pathK, Process_pathL, Process_pathM, Process_pathN, Process_pathO, Process_pathP, Process_pathQ]\n",
    "test_origins = [Process_pathF, Process_pathG, Process_pathH, Process_pathI, Process_pathJ, Process_pathK, Process_pathL, Process_pathM, Process_pathN, Process_pathO, Process_pathP, Process_pathQ]\n",
    "test_finals = [Output_pathF, Output_pathG, Output_pathH, Output_pathI, Output_pathJ, Output_pathK, Output_pathL, Output_pathM, Output_pathN, Output_pathO, Output_pathP, Output_pathQ]\n",
    "\n",
    "\n",
    "\n"
   ]
  },
  {
   "cell_type": "markdown",
   "id": "350bd770",
   "metadata": {},
   "source": [
    "## Convert SILT to COCO"
   ]
  },
  {
   "cell_type": "code",
   "execution_count": null,
   "id": "b0a628ad",
   "metadata": {},
   "outputs": [
    {
     "name": "stderr",
     "output_type": "stream",
     "text": [
      "Converting Silt to COCO: 100%|██████████| 712/712 [00:15<00:00, 47.46it/s]\n",
      "Copying images: 100%|██████████| 712/712 [19:28<00:00,  1.64s/it]  \n"
     ]
    }
   ],
   "source": [
    "# silt_to_coco(Process_pathB, include_sats=False, include_stars=True, zip=False, notes=\"RME01 dataset with stars only\")\n",
    "silt_to_coco(Process_pathB, include_sats=True, include_stars=False, convert_png=True, process_func=channel_mixture, notes=\"Channel Mixture of Adaptive IQR, raw, and zscaled. \")"
   ]
  },
  {
   "cell_type": "code",
   "execution_count": 7,
   "id": "7d0acc5f",
   "metadata": {},
   "outputs": [
    {
     "name": "stderr",
     "output_type": "stream",
     "text": [
      "Converting Silt to COCO: 100%|██████████| 536/536 [00:00<00:00, 828.29it/s] \n",
      "Copying images: 100%|██████████| 536/536 [37:24<00:00,  4.19s/it]\n",
      "Converting Silt to COCO: 100%|██████████| 775/775 [00:00<00:00, 1141.09it/s]\n",
      "Copying images: 100%|██████████| 775/775 [52:04<00:00,  4.03s/it]\n",
      "Converting Silt to COCO: 100%|██████████| 909/909 [00:00<00:00, 1146.92it/s]\n",
      "Copying images: 100%|██████████| 909/909 [1:00:59<00:00,  4.03s/it]\n",
      "Converting Silt to COCO: 100%|██████████| 500/500 [00:00<00:00, 1440.83it/s]\n",
      "Copying images: 100%|██████████| 500/500 [33:28<00:00,  4.02s/it]\n",
      "Converting Silt to COCO: 100%|██████████| 528/528 [00:00<00:00, 1245.79it/s]\n",
      "Copying images: 100%|██████████| 528/528 [36:14<00:00,  4.12s/it]\n"
     ]
    }
   ],
   "source": [
    "for path in training_set_origins:\n",
    "    silt_to_coco(path, include_sats=True, include_stars=False, convert_png=True, process_func=channel_mixture, notes=\"Channel Mixture of Adaptive IQR, raw, and zscaled. \")"
   ]
  },
  {
   "cell_type": "markdown",
   "id": "3526d6f9",
   "metadata": {},
   "source": [
    "## Convert SATSim to COCO"
   ]
  },
  {
   "cell_type": "code",
   "execution_count": null,
   "id": "ccf3a46f",
   "metadata": {},
   "outputs": [
    {
     "name": "stderr",
     "output_type": "stream",
     "text": [
      "Converting Satsim to COCO: 100%|██████████| 169/169 [00:10<00:00, 15.74it/s]\n",
      "Copying images: 100%|██████████| 1012/1012 [01:23<00:00, 12.10it/s]\n"
     ]
    }
   ],
   "source": [
    "\n",
    "satsim_to_coco(satsim_path,include_sats=False, include_stars=True, convert_png=True, process_func=None, notes=\"\")"
   ]
  },
  {
   "cell_type": "markdown",
   "id": "3f496708",
   "metadata": {},
   "source": [
    "## Merge Datasets"
   ]
  },
  {
   "cell_type": "code",
   "execution_count": 8,
   "id": "778a7bd2",
   "metadata": {},
   "outputs": [
    {
     "name": "stderr",
     "output_type": "stream",
     "text": [
      "Processing COCO Datasets: 100%|██████████| 5/5 [00:00<00:00, 166.73it/s]\n",
      "Copying images: 100%|██████████| 2923/2923 [00:08<00:00, 352.69it/s]\n",
      "Copying images: 100%|██████████| 324/324 [00:00<00:00, 348.99it/s]\n",
      "Copying images: 100%|██████████| 1/1 [00:00<00:00, 263.02it/s]\n"
     ]
    }
   ],
   "source": [
    "# for origin, destination in zip(test_origins, test_finals):\n",
    "#     merge_coco([origin], destination, train_test_split=False, train_ratio=0, val_ratio=0, test_ratio=1, notes=\"RME03 dataset with stars only\")\n",
    "\n",
    "merge_coco(training_set_origins, Output_pathTraining, train_test_split=True, train_ratio=.9, val_ratio=.1, test_ratio=0, notes=\"LMNT02_trainig with multi channel satellites. \")"
   ]
  }
 ],
 "metadata": {
  "kernelspec": {
   "display_name": "DatasetStatistics",
   "language": "python",
   "name": "python3"
  },
  "language_info": {
   "codemirror_mode": {
    "name": "ipython",
    "version": 3
   },
   "file_extension": ".py",
   "mimetype": "text/x-python",
   "name": "python",
   "nbconvert_exporter": "python",
   "pygments_lexer": "ipython3",
   "version": "3.12.9"
  }
 },
 "nbformat": 4,
 "nbformat_minor": 5
}
