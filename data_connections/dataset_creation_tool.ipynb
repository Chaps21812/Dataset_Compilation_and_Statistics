{
 "cells": [
  {
   "cell_type": "markdown",
   "id": "66e042e1",
   "metadata": {},
   "source": [
    "# Dataset Creation Tool\n",
    "Once your datasets have been properly curated in the training_set_management_tool, you can now use these tools to convert datasets to coco, and merge them as well. "
   ]
  },
  {
   "cell_type": "code",
   "execution_count": 6,
   "id": "b45c1487",
   "metadata": {},
   "outputs": [],
   "source": [
    "from coco_tools import silt_to_coco, satsim_to_coco, merge_coco\n",
    "from preprocess_functions import channel_mixture_A, channel_mixture_B, channel_mixture_C, adaptiveIQR, zscale, iqr_clipped, iqr_log, raw_file\n",
    "from preprocess_functions import _median_column_subtraction, _median_row_subtraction, _background_subtract\n",
    "from utilities import get_folders_in_directory, get_local_files, clear_local_caches, clear_local_cache, apply_bbox_corrections\n",
    "import os\n",
    "from utilities import clear_local_caches"
   ]
  },
  {
   "cell_type": "code",
   "execution_count": 7,
   "id": "ec5500cf",
   "metadata": {},
   "outputs": [
    {
     "name": "stdout",
     "output_type": "stream",
     "text": [
      "8200\n"
     ]
    }
   ],
   "source": [
    "\n",
    "print(1933+775+994+902+909+536+418+75+1068+500+90)"
   ]
  },
  {
   "cell_type": "code",
   "execution_count": null,
   "id": "aed16730",
   "metadata": {},
   "outputs": [],
   "source": [
    "T1 = \"/data/Sentinel_Datasets/LMNT02_Raw/LMNT02Sat-2024-07-12\"\n",
    "T2 = \"/data/Sentinel_Datasets/LMNT02_Raw/LMNT02Sat-2024-07-08\"\n",
    "T3 = \"/data/Sentinel_Datasets/LMNT02_Raw/LMNT02Sat-2024-07-13\"\n",
    "T4 = \"/data/Sentinel_Datasets/LMNT02_Raw/LMNT02Sat-2024-07-09\"\n",
    "T5 = \"/data/Sentinel_Datasets/LMNT02_Raw/LMNT02Sat-2024-07-10\"\n",
    "T6 = \"/data/Sentinel_Datasets/LMNT02_Raw/LMNT02Sat-2024-07-07\"\n",
    "T7 = \"/data/Sentinel_Datasets/LMNT02_Raw/LMNT02Sat-2024-08-05\"\n",
    "T8 = \"/data/Sentinel_Datasets/LMNT02_Raw/LMNT02Sat-2024-07-25\"\n",
    "T9 = \"/data/Sentinel_Datasets/LMNT02_Raw/LMNT02Sat-2024-08-21\"\n",
    "T10 = \"/data/Sentinel_Datasets/LMNT02_Raw/LMNT02Sat-2024-07-11\"\n",
    "T11 = \"/data/Sentinel_Datasets/LMNT02_Raw/LMNT02Sat-2024-08-30\"\n",
    "\n",
    "E1 = \"/data/Sentinel_Datasets/LMNT02_Raw/LMNT02Sat-2024-09-06\"\n",
    "E2 = \"/data/Sentinel_Datasets/LMNT02_Raw/LMNT02Sat-2024-11-14\"\n",
    "E3 = \"/data/Sentinel_Datasets/LMNT02_Raw/LMNT02Sat-2024-12-07\"\n",
    "E4 = \"/data/Sentinel_Datasets/LMNT02_Raw/LMNT02Sat-2024-09-14\"\n",
    "E5 = \"/data/Sentinel_Datasets/LMNT02_Raw/LMNT02Sat-2024-11-07\"\n",
    "E6 = \"/data/Sentinel_Datasets/LMNT02_Raw/LMNT02Sat-2024-10-08\"\n",
    "E7 = \"/data/Sentinel_Datasets/LMNT02_Raw/LMNT02Sat-2024-10-30\"\n",
    "E8 = \"/data/Sentinel_Datasets/LMNT02_Raw/LMNT02Sat-2024-10-10\"\n",
    "E9 = \"/data/Sentinel_Datasets/LMNT02_Raw/LMNT02Sat-2024-12-24\"\n",
    "E10 = \"/data/Sentinel_Datasets/LMNT02_Raw/LMNT02Sat-2024-12-31\"\n",
    "E11 = \"/data/Sentinel_Datasets/LMNT02_Raw/LMNT02Sat-2024-11-19\"\n",
    "E12 = \"/data/Sentinel_Datasets/LMNT02_Raw/LMNT02Sat-2024-10-31\"\n",
    "E13 = \"/data/Sentinel_Datasets/LMNT02_Raw/LMNT02Sat-2024-10-04\"\n",
    "E14 = \"/data/Sentinel_Datasets/LMNT02_Raw/LMNT02Sat-2024-09-10\"\n",
    "E15 = \"/data/Sentinel_Datasets/LMNT02_Raw/LMNT02Sat-2024-11-08\"\n",
    "E16 = \"/data/Sentinel_Datasets/LMNT02_Raw/LMNT02Sat-2025-01-08\"\n",
    "E17 = \"/data/Sentinel_Datasets/LMNT02_Raw/LMNT02Sat-2024-12-20\"\n",
    "E18 = \"/data/Sentinel_Datasets/LMNT02_Raw/LMNT02Sat-2024-09-20\"\n",
    "E19 = \"/data/Sentinel_Datasets/LMNT02_Raw/LMNT02Sat-2024-10-17\"\n",
    "E20 = \"/data/Sentinel_Datasets/LMNT02_Raw/LMNT02Sat-2025-01-04\"\n",
    "E21 = \"/data/Sentinel_Datasets/LMNT02_Raw/LMNT02Sat-2024-11-27\"\n",
    "E22 = \"/data/Sentinel_Datasets/LMNT02_Raw/LMNT02Sat-2024-12-17\"\n",
    "E23 = \"/data/Sentinel_Datasets/LMNT02_Raw/LMNT02Sat-2024-10-20\"\n",
    "E24 = \"/data/Sentinel_Datasets/LMNT02_Raw/LMNT02Sat-2024-09-12\"\n",
    "E25 = \"/data/Sentinel_Datasets/LMNT02_Raw/LMNT02Sat-2024-10-21\"\n",
    "E26 = \"/data/Sentinel_Datasets/LMNT02_Raw/LMNT02Sat-2024-11-15\"\n",
    "\n",
    "final_data_path=\"/data/Sentinel_Datasets/Finalized_datasets/\"\n",
    "\n",
    "training_set_origins = [T1, T2, T3, T4, T5, T6, T7, T8, T9, T10, T11]\n",
    "training_set_output_path = os.path.join(final_data_path, f\"LMNT02Sat_Training_Channel_Mixture_C\")\n",
    "\n",
    "eval_origins = [E1, E2, E3, E4, E5, E6, E7, E8, E9, E10, E11, E12, E13, E14, E15, E16, E17, E18, E19, E20, E21, E22, E23, E24, E25, E26]\n",
    "eval_finals = [os.path.join(final_data_path, f\"{os.path.basename(ESet)}_Channel_Mixture_C_Eval\") for ESet in eval_origins]\n",
    "\n",
    "preprocess_func = channel_mixture_C\n"
   ]
  },
  {
   "cell_type": "markdown",
   "id": "350bd770",
   "metadata": {},
   "source": [
    "## Convert SILT to COCO"
   ]
  },
  {
   "cell_type": "markdown",
   "id": "dd45e671",
   "metadata": {},
   "source": [
    "### Convert Single Path"
   ]
  },
  {
   "cell_type": "code",
   "execution_count": null,
   "id": "b0a628ad",
   "metadata": {},
   "outputs": [
    {
     "name": "stderr",
     "output_type": "stream",
     "text": [
      "Converting Silt to COCO: 100%|██████████| 712/712 [00:15<00:00, 47.46it/s]\n",
      "Copying images: 100%|██████████| 712/712 [19:28<00:00,  1.64s/it]  \n"
     ]
    }
   ],
   "source": [
    "# silt_to_coco(Process_pathB, include_sats=False, include_stars=True, zip=False, notes=\"RME01 dataset with stars only\")\n",
    "silt_to_coco(Process_pathB, include_sats=True, include_stars=False, convert_png=True, process_func=preprocess_func, notes=\"Channel Mixture of Adaptive IQR, raw, and zscaled. \")"
   ]
  },
  {
   "cell_type": "markdown",
   "id": "0d0bc3df",
   "metadata": {},
   "source": [
    "### Convert Multiple Paths"
   ]
  },
  {
   "cell_type": "code",
   "execution_count": 5,
   "id": "7d0acc5f",
   "metadata": {},
   "outputs": [
    {
     "name": "stdout",
     "output_type": "stream",
     "text": [
      "/data/Sentinel_Datasets/LMNT02_Raw/LMNT02Sat-2024-07-12\n"
     ]
    },
    {
     "name": "stderr",
     "output_type": "stream",
     "text": [
      "Converting Silt to COCO:   0%|          | 0/1933 [00:00<?, ?it/s]"
     ]
    },
    {
     "name": "stderr",
     "output_type": "stream",
     "text": [
      "Converting Silt to COCO: 100%|██████████| 1933/1933 [01:11<00:00, 26.86it/s]\n",
      "Copying images: 100%|██████████| 1933/1933 [52:11<00:00,  1.62s/it]\n"
     ]
    },
    {
     "name": "stdout",
     "output_type": "stream",
     "text": [
      "/data/Sentinel_Datasets/LMNT02_Raw/LMNT02Sat-2024-07-08\n"
     ]
    },
    {
     "name": "stderr",
     "output_type": "stream",
     "text": [
      "Converting Silt to COCO: 100%|██████████| 775/775 [00:28<00:00, 26.95it/s]\n",
      "Copying images: 100%|██████████| 775/775 [21:06<00:00,  1.63s/it]\n"
     ]
    },
    {
     "name": "stdout",
     "output_type": "stream",
     "text": [
      "/data/Sentinel_Datasets/LMNT02_Raw/LMNT02Sat-2024-07-13\n"
     ]
    },
    {
     "name": "stderr",
     "output_type": "stream",
     "text": [
      "Converting Silt to COCO: 100%|██████████| 994/994 [00:34<00:00, 28.52it/s]\n",
      "Copying images: 100%|██████████| 994/994 [25:34<00:00,  1.54s/it]\n"
     ]
    },
    {
     "name": "stdout",
     "output_type": "stream",
     "text": [
      "/data/Sentinel_Datasets/LMNT02_Raw/LMNT02Sat-2024-07-09\n"
     ]
    },
    {
     "name": "stderr",
     "output_type": "stream",
     "text": [
      "Converting Silt to COCO: 100%|██████████| 902/902 [00:31<00:00, 28.41it/s]\n",
      "Copying images: 100%|██████████| 902/902 [24:33<00:00,  1.63s/it]\n"
     ]
    },
    {
     "name": "stdout",
     "output_type": "stream",
     "text": [
      "/data/Sentinel_Datasets/LMNT02_Raw/LMNT02Sat-2024-07-10\n"
     ]
    },
    {
     "name": "stderr",
     "output_type": "stream",
     "text": [
      "Converting Silt to COCO: 100%|██████████| 909/909 [00:33<00:00, 27.05it/s]\n",
      "Copying images: 100%|██████████| 909/909 [24:30<00:00,  1.62s/it]\n"
     ]
    },
    {
     "name": "stdout",
     "output_type": "stream",
     "text": [
      "/data/Sentinel_Datasets/LMNT02_Raw/LMNT02Sat-2024-07-07\n"
     ]
    },
    {
     "name": "stderr",
     "output_type": "stream",
     "text": [
      "Converting Silt to COCO: 100%|██████████| 536/536 [00:19<00:00, 27.01it/s]\n",
      "Copying images: 100%|██████████| 536/536 [14:37<00:00,  1.64s/it]\n"
     ]
    },
    {
     "name": "stdout",
     "output_type": "stream",
     "text": [
      "/data/Sentinel_Datasets/LMNT02_Raw/LMNT02Sat-2024-08-05\n"
     ]
    },
    {
     "name": "stderr",
     "output_type": "stream",
     "text": [
      "Converting Silt to COCO: 100%|██████████| 418/418 [00:15<00:00, 26.84it/s]\n",
      "Copying images: 100%|██████████| 418/418 [11:29<00:00,  1.65s/it]\n"
     ]
    },
    {
     "name": "stdout",
     "output_type": "stream",
     "text": [
      "/data/Sentinel_Datasets/LMNT02_Raw/LMNT02Sat-2024-07-25\n"
     ]
    },
    {
     "name": "stderr",
     "output_type": "stream",
     "text": [
      "Converting Silt to COCO: 100%|██████████| 75/75 [00:02<00:00, 28.93it/s]\n"
     ]
    },
    {
     "name": "stdout",
     "output_type": "stream",
     "text": [
      "Deleted folder: /data/Sentinel_Datasets/LMNT02_Raw/LMNT02Sat-2024-07-25/images\n",
      "Deleted folder: /data/Sentinel_Datasets/LMNT02_Raw/LMNT02Sat-2024-07-25/annotations\n"
     ]
    },
    {
     "name": "stderr",
     "output_type": "stream",
     "text": [
      "Copying images: 100%|██████████| 75/75 [02:01<00:00,  1.62s/it]\n"
     ]
    },
    {
     "name": "stdout",
     "output_type": "stream",
     "text": [
      "/data/Sentinel_Datasets/LMNT02_Raw/LMNT02Sat-2024-08-21\n"
     ]
    },
    {
     "name": "stderr",
     "output_type": "stream",
     "text": [
      "Converting Silt to COCO: 100%|██████████| 1068/1068 [00:35<00:00, 30.29it/s]\n"
     ]
    },
    {
     "name": "stdout",
     "output_type": "stream",
     "text": [
      "Deleted folder: /data/Sentinel_Datasets/LMNT02_Raw/LMNT02Sat-2024-08-21/images\n",
      "Deleted folder: /data/Sentinel_Datasets/LMNT02_Raw/LMNT02Sat-2024-08-21/annotations\n"
     ]
    },
    {
     "name": "stderr",
     "output_type": "stream",
     "text": [
      "Copying images: 100%|██████████| 1068/1068 [27:30<00:00,  1.55s/it]\n"
     ]
    },
    {
     "name": "stdout",
     "output_type": "stream",
     "text": [
      "/data/Sentinel_Datasets/LMNT02_Raw/LMNT02Sat-2024-07-11\n"
     ]
    },
    {
     "name": "stderr",
     "output_type": "stream",
     "text": [
      "Converting Silt to COCO: 100%|██████████| 500/500 [00:17<00:00, 28.34it/s]\n"
     ]
    },
    {
     "name": "stdout",
     "output_type": "stream",
     "text": [
      "Deleted folder: /data/Sentinel_Datasets/LMNT02_Raw/LMNT02Sat-2024-07-11/images\n",
      "Deleted folder: /data/Sentinel_Datasets/LMNT02_Raw/LMNT02Sat-2024-07-11/annotations\n"
     ]
    },
    {
     "name": "stderr",
     "output_type": "stream",
     "text": [
      "Copying images: 100%|██████████| 500/500 [13:18<00:00,  1.60s/it]\n"
     ]
    },
    {
     "name": "stdout",
     "output_type": "stream",
     "text": [
      "/data/Sentinel_Datasets/LMNT02_Raw/LMNT02Sat-2024-08-30\n"
     ]
    },
    {
     "name": "stderr",
     "output_type": "stream",
     "text": [
      "Converting Silt to COCO: 100%|██████████| 90/90 [00:03<00:00, 28.46it/s]\n"
     ]
    },
    {
     "name": "stdout",
     "output_type": "stream",
     "text": [
      "Deleted folder: /data/Sentinel_Datasets/LMNT02_Raw/LMNT02Sat-2024-08-30/images\n",
      "Deleted folder: /data/Sentinel_Datasets/LMNT02_Raw/LMNT02Sat-2024-08-30/annotations\n"
     ]
    },
    {
     "name": "stderr",
     "output_type": "stream",
     "text": [
      "Copying images: 100%|██████████| 90/90 [02:27<00:00,  1.64s/it]\n"
     ]
    }
   ],
   "source": [
    "for path in training_set_origins:\n",
    "    print(path)\n",
    "    silt_to_coco(path, include_sats=True, include_stars=False, convert_png=True, process_func=preprocess_func, notes=\"Mixture of ZScale, raw, and log-IQR\")"
   ]
  },
  {
   "cell_type": "markdown",
   "id": "3526d6f9",
   "metadata": {},
   "source": [
    "## Convert SATSim to COCO"
   ]
  },
  {
   "cell_type": "code",
   "execution_count": null,
   "id": "ccf3a46f",
   "metadata": {},
   "outputs": [
    {
     "name": "stderr",
     "output_type": "stream",
     "text": [
      "Converting Satsim to COCO: 100%|██████████| 169/169 [00:10<00:00, 15.74it/s]\n",
      "Copying images: 100%|██████████| 1012/1012 [01:23<00:00, 12.10it/s]\n"
     ]
    }
   ],
   "source": [
    "\n",
    "satsim_to_coco(satsim_path,include_sats=False, include_stars=True, convert_png=True, process_func=None, notes=\"\")"
   ]
  },
  {
   "cell_type": "markdown",
   "id": "3f496708",
   "metadata": {},
   "source": [
    "## Merge Datasets"
   ]
  },
  {
   "cell_type": "markdown",
   "id": "3f5130a4",
   "metadata": {},
   "source": [
    "### Merge Training Sets"
   ]
  },
  {
   "cell_type": "code",
   "execution_count": 9,
   "id": "8c851560",
   "metadata": {},
   "outputs": [
    {
     "name": "stderr",
     "output_type": "stream",
     "text": [
      "Processing COCO Datasets: 100%|██████████| 11/11 [00:00<00:00, 90.57it/s]\n",
      "Copying images: 100%|██████████| 7380/7380 [00:21<00:00, 339.81it/s]\n",
      "Copying images: 100%|██████████| 820/820 [00:02<00:00, 314.81it/s]\n",
      "Copying images: 0it [00:00, ?it/s]\n"
     ]
    },
    {
     "name": "stdout",
     "output_type": "stream",
     "text": [
      "Removed: /data/Sentinel_Datasets/LMNT02_Raw/LMNT02Sat-2024-09-06/annotations\n",
      "Removed: /data/Sentinel_Datasets/LMNT02_Raw/LMNT02Sat-2024-09-06/images\n",
      "Removed: /data/Sentinel_Datasets/LMNT02_Raw/LMNT02Sat-2024-08-30/annotations\n",
      "Removed: /data/Sentinel_Datasets/LMNT02_Raw/LMNT02Sat-2024-08-30/images\n",
      "Removed: /data/Sentinel_Datasets/LMNT02_Raw/LMNT02Sat-2024-07-11/annotations\n",
      "Removed: /data/Sentinel_Datasets/LMNT02_Raw/LMNT02Sat-2024-07-11/images\n",
      "Removed: /data/Sentinel_Datasets/LMNT02_Raw/LMNT02Sat-2024-11-14/annotations\n",
      "Removed: /data/Sentinel_Datasets/LMNT02_Raw/LMNT02Sat-2024-11-14/images\n",
      "Removed: /data/Sentinel_Datasets/LMNT02_Raw/LMNT02Sat-2024-11-07/annotations\n",
      "Removed: /data/Sentinel_Datasets/LMNT02_Raw/LMNT02Sat-2024-11-07/images\n",
      "Removed: /data/Sentinel_Datasets/LMNT02_Raw/LMNT02Sat-2024-07-08/annotations\n",
      "Removed: /data/Sentinel_Datasets/LMNT02_Raw/LMNT02Sat-2024-07-08/images\n",
      "Removed: /data/Sentinel_Datasets/LMNT02_Raw/LMNT02Sat-2024-09-14/annotations\n",
      "Removed: /data/Sentinel_Datasets/LMNT02_Raw/LMNT02Sat-2024-09-14/images\n",
      "Removed: /data/Sentinel_Datasets/LMNT02_Raw/LMNT02Sat-2024-08-21/annotations\n",
      "Removed: /data/Sentinel_Datasets/LMNT02_Raw/LMNT02Sat-2024-08-21/images\n",
      "Removed: /data/Sentinel_Datasets/LMNT02_Raw/LMNT02Sat-2024-10-08/annotations\n",
      "Removed: /data/Sentinel_Datasets/LMNT02_Raw/LMNT02Sat-2024-10-08/images\n",
      "Removed: /data/Sentinel_Datasets/LMNT02_Raw/LMNT02Sat-2024-12-07/annotations\n",
      "Removed: /data/Sentinel_Datasets/LMNT02_Raw/LMNT02Sat-2024-12-07/images\n",
      "Removed: /data/Sentinel_Datasets/LMNT02_Raw/LMNT02Sat-2024-10-30/annotations\n",
      "Removed: /data/Sentinel_Datasets/LMNT02_Raw/LMNT02Sat-2024-10-30/images\n",
      "Removed: /data/Sentinel_Datasets/LMNT02_Raw/LMNT02Sat-2024-10-10/annotations\n",
      "Removed: /data/Sentinel_Datasets/LMNT02_Raw/LMNT02Sat-2024-10-10/images\n",
      "Removed: /data/Sentinel_Datasets/LMNT02_Raw/LMNT02Sat-2024-12-24/annotations\n",
      "Removed: /data/Sentinel_Datasets/LMNT02_Raw/LMNT02Sat-2024-12-24/images\n",
      "Removed: /data/Sentinel_Datasets/LMNT02_Raw/LMNT02Sat-2024-07-25/annotations\n",
      "Removed: /data/Sentinel_Datasets/LMNT02_Raw/LMNT02Sat-2024-07-25/images\n",
      "Removed: /data/Sentinel_Datasets/LMNT02_Raw/LMNT02Sat-2024-12-31/annotations\n",
      "Removed: /data/Sentinel_Datasets/LMNT02_Raw/LMNT02Sat-2024-12-31/images\n",
      "Removed: /data/Sentinel_Datasets/LMNT02_Raw/LMNT02Sat-2024-11-19/annotations\n",
      "Removed: /data/Sentinel_Datasets/LMNT02_Raw/LMNT02Sat-2024-11-19/images\n",
      "Removed: /data/Sentinel_Datasets/LMNT02_Raw/LMNT02Sat-2024-10-31/annotations\n",
      "Removed: /data/Sentinel_Datasets/LMNT02_Raw/LMNT02Sat-2024-10-31/images\n",
      "Removed: /data/Sentinel_Datasets/LMNT02_Raw/LMNT02Sat-2024-07-13/annotations\n",
      "Removed: /data/Sentinel_Datasets/LMNT02_Raw/LMNT02Sat-2024-07-13/images\n",
      "Removed: /data/Sentinel_Datasets/LMNT02_Raw/LMNT02Sat-2024-10-04/annotations\n",
      "Removed: /data/Sentinel_Datasets/LMNT02_Raw/LMNT02Sat-2024-10-04/images\n",
      "Removed: /data/Sentinel_Datasets/LMNT02_Raw/LMNT02Sat-2024-09-10/annotations\n",
      "Removed: /data/Sentinel_Datasets/LMNT02_Raw/LMNT02Sat-2024-09-10/images\n",
      "Removed: /data/Sentinel_Datasets/LMNT02_Raw/LMNT02Sat-2024-07-10/annotations\n",
      "Removed: /data/Sentinel_Datasets/LMNT02_Raw/LMNT02Sat-2024-07-10/images\n",
      "Removed: /data/Sentinel_Datasets/LMNT02_Raw/LMNT02Sat-2024-08-05/annotations\n",
      "Removed: /data/Sentinel_Datasets/LMNT02_Raw/LMNT02Sat-2024-08-05/images\n",
      "Removed: /data/Sentinel_Datasets/LMNT02_Raw/LMNT02Sat-2024-11-08/annotations\n",
      "Removed: /data/Sentinel_Datasets/LMNT02_Raw/LMNT02Sat-2024-11-08/images\n",
      "Removed: /data/Sentinel_Datasets/LMNT02_Raw/LMNT02Sat-2024-07-12/annotations\n",
      "Removed: /data/Sentinel_Datasets/LMNT02_Raw/LMNT02Sat-2024-07-12/images\n",
      "Removed: /data/Sentinel_Datasets/LMNT02_Raw/LMNT02Sat-2024-07-07/annotations\n",
      "Removed: /data/Sentinel_Datasets/LMNT02_Raw/LMNT02Sat-2024-07-07/images\n",
      "Removed: /data/Sentinel_Datasets/LMNT02_Raw/LMNT02Sat-2025-01-08/annotations\n",
      "Removed: /data/Sentinel_Datasets/LMNT02_Raw/LMNT02Sat-2025-01-08/images\n",
      "Removed: /data/Sentinel_Datasets/LMNT02_Raw/LMNT02Sat-2024-12-20/annotations\n",
      "Removed: /data/Sentinel_Datasets/LMNT02_Raw/LMNT02Sat-2024-12-20/images\n",
      "Removed: /data/Sentinel_Datasets/LMNT02_Raw/LMNT02Sat-2024-09-20/annotations\n",
      "Removed: /data/Sentinel_Datasets/LMNT02_Raw/LMNT02Sat-2024-09-20/images\n",
      "Removed: /data/Sentinel_Datasets/LMNT02_Raw/LMNT02Sat-2024-07-09/annotations\n",
      "Removed: /data/Sentinel_Datasets/LMNT02_Raw/LMNT02Sat-2024-07-09/images\n"
     ]
    }
   ],
   "source": [
    "#For Creating Training Sets\n",
    "training_set_origins = [T1, T2, T3, T4, T5, T6, T7, T8, T9, T10, T11]\n",
    "merge_coco(training_set_origins, training_set_output_path, train_test_split=True, train_ratio=.9, val_ratio=.1, test_ratio=0, notes=\"LMNT02_trainig with multi channel C satellites.Contains about 6400 Samples \")\n",
    "clear_local_caches(os.path.dirname(training_set_origins[0]))"
   ]
  },
  {
   "cell_type": "markdown",
   "id": "f98ddbcf",
   "metadata": {},
   "source": [
    "### Merge Evaluation Sets"
   ]
  },
  {
   "cell_type": "code",
   "execution_count": null,
   "id": "778a7bd2",
   "metadata": {},
   "outputs": [
    {
     "name": "stderr",
     "output_type": "stream",
     "text": [
      "Converting Silt to COCO:   0%|          | 3/609 [00:00<00:22, 27.05it/s]"
     ]
    },
    {
     "name": "stderr",
     "output_type": "stream",
     "text": [
      "Converting Silt to COCO: 100%|██████████| 609/609 [00:22<00:00, 27.18it/s]\n",
      "Copying images: 100%|██████████| 609/609 [16:04<00:00,  1.58s/it]\n",
      "Processing COCO Datasets: 100%|██████████| 1/1 [00:00<00:00, 114.03it/s]\n",
      "Copying images: 100%|██████████| 609/609 [00:02<00:00, 294.60it/s]\n"
     ]
    },
    {
     "name": "stdout",
     "output_type": "stream",
     "text": [
      "Removed: /data/Sentinel_Datasets/LMNT02_Raw/LMNT02Sat-2024-09-06/annotations\n",
      "Removed: /data/Sentinel_Datasets/LMNT02_Raw/LMNT02Sat-2024-09-06/images\n"
     ]
    },
    {
     "name": "stderr",
     "output_type": "stream",
     "text": [
      "Converting Silt to COCO: 100%|██████████| 572/572 [00:21<00:00, 26.25it/s]\n",
      "Copying images:  23%|██▎       | 132/572 [03:57<13:07,  1.79s/it]"
     ]
    }
   ],
   "source": [
    "# For creating Evaluation Sets\n",
    "for origin, destination in zip(eval_origins, eval_finals):\n",
    "    silt_to_coco(origin, include_sats=True, include_stars=False, convert_png=True, process_func=preprocess_func, notes=\"Mixture of ZScale, raw, and log-IQR\")\n",
    "    merge_coco([origin], destination, train_test_split=False, train_ratio=0, val_ratio=0, test_ratio=1, notes=\"LMNT02 dataset with satellites and MultiChannel C\")\n",
    "    clear_local_caches(os.path.dirname(origin))"
   ]
  }
 ],
 "metadata": {
  "kernelspec": {
   "display_name": "DatasetStatistics",
   "language": "python",
   "name": "python3"
  },
  "language_info": {
   "codemirror_mode": {
    "name": "ipython",
    "version": 3
   },
   "file_extension": ".py",
   "mimetype": "text/x-python",
   "name": "python",
   "nbconvert_exporter": "python",
   "pygments_lexer": "ipython3",
   "version": "3.12.9"
  }
 },
 "nbformat": 4,
 "nbformat_minor": 5
}
