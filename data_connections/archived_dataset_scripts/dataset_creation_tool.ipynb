{
 "cells": [
  {
   "cell_type": "markdown",
   "id": "66e042e1",
   "metadata": {},
   "source": [
    "# Dataset Creation Tool\n",
    "Once your datasets have been properly curated in the training_set_management_tool, you can now use these tools to convert datasets to coco, and merge them as well. "
   ]
  },
  {
   "cell_type": "code",
   "execution_count": 1,
   "id": "b45c1487",
   "metadata": {},
   "outputs": [],
   "source": [
    "from coco_tools import silt_to_coco, satsim_to_coco, merge_coco, silt_to_coco_panoptic, partition_dataset, build_coco_satnet\n",
    "from preprocess_functions import channel_mixture_A, channel_mixture_B, channel_mixture_C, adaptiveIQR, zscale, iqr_clipped, iqr_log, raw_file\n",
    "from preprocess_functions import _median_column_subtraction, _median_row_subtraction, _background_subtract\n",
    "from utilities import get_folders_in_directory, summarize_local_files, clear_local_caches, clear_local_cache, apply_bbox_corrections\n",
    "import os\n",
    "from utilities import clear_local_caches"
   ]
  },
  {
   "cell_type": "code",
   "execution_count": null,
   "id": "e0beb833",
   "metadata": {},
   "outputs": [
    {
     "name": "stdout",
     "output_type": "stream",
     "text": [
      "Deleted folder: /data/Dataset_Compilation_and_Statistics/Sentinel_Datasets/SatNet1.4/images\n",
      "Deleted folder: /data/Dataset_Compilation_and_Statistics/Sentinel_Datasets/SatNet1.4/annotations\n",
      "Deleted folder: /data/Dataset_Compilation_and_Statistics/Sentinel_Datasets/SatNet1.4/multiframe_annotations\n"
     ]
    },
    {
     "name": "stderr",
     "output_type": "stream",
     "text": [
      "Converting SatNet to COCO:   0%|          | 0/241 [00:00<?, ?it/s]"
     ]
    },
    {
     "name": "stderr",
     "output_type": "stream",
     "text": [
      "Converting rme03.2022.01.18 to COCO: 495it [00:01, 338.84it/s]\n",
      "Converting abq01.12.11.2017 to COCO: 3174it [00:12, 258.80it/s]  1.46s/it]\n",
      "Converting rme02.10.08.2017 to COCO: 2448it [00:08, 285.45it/s]  7.82s/it]\n",
      "Converting rme02.07.17.2015 to COCO: 996it [00:03, 285.90it/s],  8.17s/it]\n",
      "Converting abq01.2022.03.20 to COCO: 78it [00:00, 272.37it/s]7,  6.32s/it]\n",
      "Converting abq01.2022.03.12 to COCO: 264it [00:00, 280.34it/s],  4.15s/it]\n",
      "Converting rme03.2022.01.14 to COCO: 198it [00:00, 337.62it/s],  3.06s/it]\n",
      "Converting rme02.05.21.2015 to COCO: 636it [00:02, 277.03it/s],  2.25s/it]\n",
      "Converting rme02.05.29.2015 to COCO: 1074it [00:03, 270.21it/s]  2.27s/it]\n",
      "Converting rme02.05.07.2015 to COCO: 636it [00:02, 278.65it/s],  2.80s/it]\n",
      "Converting rme03.2022.04.14 to COCO: 811it [00:02, 374.45it/s]0,  2.64s/it]\n",
      "Converting rme02.04.24.2015 to COCO: 660it [00:02, 279.42it/s]4,  2.50s/it]\n",
      "Converting rme04.2022.01.25 to COCO: 426it [00:01, 282.06it/s]2,  2.46s/it]\n",
      "Converting rme02.07.25.2015 to COCO: 1350it [00:04, 276.14it/s],  2.17s/it]\n",
      "Converting rme02.12.09.2018 to COCO: 709it [00:02, 280.16it/s]9,  2.99s/it]\n",
      "Converting rme02.12.05.2018 to COCO: 833it [00:03, 273.83it/s]5,  2.86s/it]\n",
      "Converting rme03.2022.02.17 to COCO: 403it [00:01, 337.34it/s]5,  2.91s/it]\n",
      "Converting pr01.2022.03.23 to COCO: 1614it [00:05, 300.05it/s]6,  2.40s/it]\n",
      "Converting rme02.07.31.2015 to COCO: 1362it [00:04, 289.63it/s],  3.29s/it]\n",
      "Converting rme03.10.31.2017 to COCO: 3066it [00:09, 327.09it/s],  3.72s/it]\n",
      "Converting rme02.12.02.2018 to COCO: 649it [00:02, 277.61it/s]7,  5.42s/it]\n",
      "Converting rme02.05.13.2015 to COCO: 624it [00:02, 282.25it/s]8,  4.49s/it]\n",
      "Converting rme02.12.18.2018 to COCO: 792it [00:02, 281.83it/s]4,  3.81s/it]\n",
      "Converting rme02.12.12.2018 to COCO: 682it [00:02, 277.35it/s]5,  3.51s/it]\n",
      "Converting rme02.05.22.2015 to COCO: 834it [00:02, 280.22it/s]3,  3.20s/it]\n",
      "Converting rme03.2022.01.28 to COCO: 914it [00:02, 317.69it/s]6,  3.13s/it]\n",
      "Converting rme03.2022.02.09 to COCO: 502it [00:01, 290.56it/s]7,  3.06s/it]\n",
      "Converting rme02.08.11.2015 to COCO: 1080it [00:03, 280.10it/s],  2.66s/it]\n",
      "Converting lmnt02.12.09.2018 to COCO: 356it [00:03, 94.51it/s]3,  3.02s/it]\n",
      "Converting abq01.2022.01.07 to COCO: 306it [00:01, 293.12it/s]7,  3.24s/it]\n",
      "Converting rme03.2022.01.23 to COCO: 645it [00:01, 326.85it/s]5,  2.59s/it]\n",
      "Converting abq01.11.28.2017 to COCO: 2766it [00:09, 295.17it/s],  2.40s/it]\n",
      "Converting rme02.10.16.2017 to COCO: 2262it [00:08, 279.89it/s],  4.49s/it]\n",
      "Converting abq01.2022.01.06 to COCO: 190it [00:00, 288.76it/s]9,  5.57s/it]\n",
      "Converting rme02.09.26.2017 to COCO: 2280it [00:08, 282.88it/s],  4.10s/it]\n",
      "Converting rme02.12.11.2018 to COCO: 995it [00:03, 280.22it/s]9,  5.29s/it]\n",
      "Converting rme04.2022.01.10 to COCO: 3371it [00:11, 289.59it/s],  4.77s/it]\n",
      "Converting abq01.2022.03.14 to COCO: 308it [00:01, 285.29it/s]3,  6.83s/it]\n",
      "Converting rme02.01.09.2019 to COCO: 848it [00:02, 282.99it/s]6,  5.11s/it]\n",
      "Converting rme03.2022.01.11 to COCO: 66it [00:00, 303.93it/s]03,  4.48s/it]\n",
      "Converting rme02.08.12.2015 to COCO: 1218it [00:04, 279.02it/s],  3.20s/it]\n",
      "Converting lmnt02.12.04.2018 to COCO: 194it [00:02, 94.54it/s]0,  3.55s/it]\n",
      "Converting rme02.05.27.2015 to COCO: 702it [00:02, 286.68it/s]7,  3.10s/it]\n",
      "Converting rme02.11.27.2018 to COCO: 1278it [00:04, 283.94it/s],  2.91s/it]\n",
      "Converting abq01.2022.01.04 to COCO: 354it [00:01, 285.61it/s]7,  3.39s/it]\n",
      "Converting rme02.12.10.2018 to COCO: 863it [00:03, 280.85it/s]7,  2.74s/it]\n",
      "Converting rme04.2022.01.18 to COCO: 52it [00:00, 523.53it/s]14,  2.84s/it]\n",
      "Converting rme03.2022.02.23 to COCO: 341it [00:01, 300.00it/s]2,  2.02s/it]\n",
      "Converting rme02.12.08.2018 to COCO: 909it [00:03, 276.55it/s]9,  1.76s/it]\n",
      "Converting rme02.12.17.2018 to COCO: 896it [00:03, 278.18it/s]5,  2.22s/it]\n",
      "Converting rme02.07.02.2015 to COCO: 1104it [00:03, 281.07it/s],  2.52s/it]\n",
      "Converting rme02.10.15.2017 to COCO: 2190it [00:07, 285.79it/s],  2.94s/it]\n",
      "Converting rme02.12.25.2018 to COCO: 328it [00:01, 268.98it/s]4,  4.36s/it]\n",
      "Converting lmnt02.12.11.2018 to COCO: 317it [00:03, 93.69it/s]2,  3.42s/it]\n",
      "Converting rme04.2022.01.06 to COCO: 4608it [00:16, 280.22it/s],  3.41s/it]\n",
      "Converting rme03.2022.03.07 to COCO: 66it [00:00, 267.17it/s]41,  7.32s/it]\n",
      "Converting rme03.10.28.2017 to COCO: 2934it [00:09, 311.58it/s],  5.20s/it]\n",
      "Converting rme03.2022.02.12 to COCO: 561it [00:01, 304.38it/s]9,  6.47s/it]\n",
      "Converting lmnt02.12.06.2018 to COCO: 110it [00:01, 95.78it/s]9,  5.08s/it]\n",
      "Converting rme04.2022.01.09 to COCO: 3978it [00:14, 281.18it/s],  3.90s/it]\n",
      "Converting rme02.05.01.2015 to COCO: 642it [00:02, 283.70it/s]2,  6.98s/it]\n",
      "Converting rme02.06.09.2015 to COCO: 1176it [00:04, 285.16it/s],  5.56s/it]\n",
      "Converting rme02.11.29.2018 to COCO: 1335it [00:04, 272.81it/s],  5.13s/it]\n",
      "Converting abq01.2022.01.08 to COCO: 273it [00:00, 284.48it/s]1,  5.06s/it]\n",
      "Converting rme03.2022.03.19 to COCO: 33it [00:00, 337.66it/s]18,  3.83s/it]\n",
      "Converting rme02.06.12.2015 to COCO: 1314it [00:04, 273.67it/s],  2.71s/it]\n",
      "Converting rme02.07.29.2015 to COCO: 1110it [00:03, 287.83it/s],  3.34s/it]\n",
      "Converting rme02.11.30.2018 to COCO: 1283it [00:04, 273.11it/s],  3.50s/it]\n",
      "Converting rme02.01.08.2019 to COCO: 956it [00:03, 278.32it/s]7,  3.86s/it]\n",
      "Converting rme02.01.04.2019 to COCO: 617it [00:02, 280.18it/s]2,  3.73s/it]\n",
      "Converting rme03.2022.01.24 to COCO: 744it [00:02, 324.19it/s]9,  3.27s/it]\n",
      "Converting lmnt02.12.01.2018 to COCO: 295it [00:03, 92.55it/s]6,  2.98s/it]\n",
      "Converting pr01.2022.03.21 to COCO: 580it [00:01, 290.09it/s]34,  3.04s/it]\n",
      "Converting rme02.01.11.2019 to COCO: 791it [00:02, 290.07it/s]8,  2.73s/it]\n",
      "Converting rme02.10.01.2017 to COCO: 2064it [00:08, 229.42it/s],  2.73s/it]\n",
      "Converting rme02.06.18.2015 to COCO: 1308it [00:04, 291.89it/s],  4.61s/it]\n",
      "Converting rme02.04.22.2015 to COCO: 660it [00:02, 273.83it/s]4,  4.57s/it]\n",
      "Converting pr01.2022.03.12 to COCO: 630it [00:02, 290.52it/s]43,  3.93s/it]\n",
      "Converting abq01.2022.01.09 to COCO: 384it [00:01, 290.23it/s]4,  3.40s/it]\n",
      "Converting rme02.07.15.2015 to COCO: 1320it [00:04, 286.27it/s],  2.78s/it]\n",
      "Converting lmnt02.12.07.2018 to COCO: 150it [00:01, 94.66it/s]6,  3.33s/it]\n",
      "Converting rme02.12.21.2018 to COCO: 422it [00:01, 281.52it/s]9,  2.81s/it]\n",
      "Converting rme03.2022.02.21 to COCO: 588it [00:01, 320.99it/s]4,  2.42s/it]\n",
      "Converting lmnt02.12.10.2018 to COCO: 402it [00:04, 93.64it/s]4,  2.24s/it]\n",
      "Converting rme03.2022.03.09 to COCO: 1944it [00:06, 316.02it/s],  2.86s/it]\n",
      "Converting rme03.2022.02.11 to COCO: 362it [00:01, 299.55it/s]0,  3.85s/it]\n",
      "Converting rme03.2022.01.16 to COCO: 330it [00:00, 336.98it/s]3,  3.06s/it]\n",
      "Converting rme02.05.08.2015 to COCO: 834it [00:03, 270.07it/s]4,  2.43s/it]\n",
      "Converting rme03.2022.01.22 to COCO: 711it [00:02, 333.67it/s]2,  2.63s/it]\n",
      "Converting rme02.05.14.2015 to COCO: 846it [00:03, 274.22it/s]7,  2.48s/it]\n",
      "Converting rme04.2022.01.07 to COCO: 4422it [00:15, 280.10it/s],  2.66s/it]\n",
      "Converting rme03.2022.02.18 to COCO: 448it [00:01, 346.87it/s]0,  6.60s/it]\n",
      "Converting rme03.2022.03.05 to COCO: 429it [00:01, 300.40it/s]6,  5.01s/it]\n",
      "Converting rme02.06.10.2015 to COCO: 1302it [00:04, 287.85it/s],  3.94s/it]\n",
      "Converting rme03.2022.03.12 to COCO: 33it [00:00, 323.15it/s]04,  4.11s/it]\n",
      "Converting rme02.11.20.2018 to COCO: 160it [00:00, 281.59it/s]5,  2.91s/it]\n",
      "Converting abq01.2022.03.13 to COCO: 396it [00:01, 283.29it/s]0,  2.21s/it]\n",
      "Converting rme02.12.13.2018 to COCO: 587it [00:02, 276.62it/s]3,  1.97s/it]\n",
      "Converting rme02.08.28.2015 to COCO: 1470it [00:05, 272.77it/s],  2.01s/it]\n",
      "Converting rme03.2022.01.17 to COCO: 297it [00:00, 336.04it/s]0,  3.03s/it]\n",
      "Converting abq01.2022.03.26 to COCO: 72it [00:00, 247.42it/s]:36,  2.39s/it]\n",
      "Converting rme02.12.16.2018 to COCO: 416it [00:01, 287.82it/s]06,  1.76s/it]\n",
      "Converting lmnt02.12.13.2018 to COCO: 1127it [00:11, 95.19it/s]1,  1.67s/it]\n",
      "Converting rme03.2022.01.26 to COCO: 1202it [00:03, 306.25it/s]1,  4.72s/it]\n",
      "Converting rme03.2022.03.04 to COCO: 452it [00:01, 311.79it/s]14,  4.48s/it]\n",
      "Converting pr01.2022.03.28 to COCO: 1860it [00:06, 302.30it/s]06,  3.57s/it]\n",
      "Converting pr01.2022.03.24 to COCO: 168it [00:00, 293.22it/s]:47,  4.35s/it]\n",
      "Converting lmnt02.12.16.2018 to COCO: 714it [00:07, 96.96it/s] 1,  3.22s/it]\n",
      "Converting rme02.07.24.2015 to COCO: 1134it [00:03, 285.53it/s]3,  4.46s/it]\n",
      "Converting rme04.2022.01.13 to COCO: 40it [00:00, 295.55it/s]:29,  4.32s/it]\n",
      "Converting rme02.10.02.2017 to COCO: 2082it [00:07, 285.30it/s]1,  3.06s/it]\n",
      "Converting rme02.04.29.2015 to COCO: 636it [00:02, 290.11it/s]23,  4.33s/it]\n",
      "Converting rme03.2022.02.07 to COCO: 462it [00:01, 314.20it/s]56,  3.69s/it]\n",
      "Converting abq01.12.10.2017 to COCO: 3156it [00:11, 284.59it/s]7,  3.03s/it]\n",
      "Converting rme02.06.06.2015 to COCO: 1302it [00:04, 285.26it/s]1,  5.45s/it]\n",
      "Converting abq01.2022.01.16 to COCO: 54it [00:00, 270.26it/s]:53,  5.18s/it]\n",
      "Converting pr01.2022.03.27 to COCO: 1602it [00:05, 279.77it/s]41,  3.69s/it]\n",
      "Converting rme02.07.30.2015 to COCO: 1134it [00:04, 277.37it/s]3,  4.30s/it]\n",
      "Converting rme03.2022.02.22 to COCO: 323it [00:01, 315.74it/s]41,  4.24s/it]\n",
      "Converting rme03.2022.02.24 to COCO: 435it [00:01, 302.11it/s]39,  3.28s/it]\n",
      "Converting rme03.2022.02.04 to COCO: 237it [00:00, 354.14it/s]29,  2.73s/it]\n",
      "Converting pr01.2022.03.14 to COCO: 1230it [00:04, 282.63it/s]13,  2.11s/it]\n",
      "Converting rme03.2022.01.12 to COCO: 495it [00:01, 311.71it/s]31,  2.78s/it]\n",
      "Converting lmnt02.11.25.2018 to COCO: 271it [00:02, 91.17it/s]46,  2.43s/it]\n",
      "Converting rme02.05.09.2015 to COCO: 570it [00:01, 287.26it/s]03,  2.59s/it]\n",
      "Converting pr01.2022.03.26 to COCO: 408it [00:01, 284.40it/s]:39,  2.41s/it]\n",
      "Converting rme03.2022.01.13 to COCO: 173it [00:00, 368.98it/s]03,  2.12s/it]\n",
      "Converting rme02.01.01.2019 to COCO: 449it [00:01, 273.20it/s]05,  1.62s/it]\n",
      "Converting rme02.06.16.2015 to COCO: 1314it [00:04, 281.18it/s]4,  1.63s/it]\n",
      "Converting rme02.07.23.2015 to COCO: 1338it [00:04, 278.48it/s]5,  2.55s/it]\n",
      "Converting rme04.2022.01.22 to COCO: 78it [00:00, 398.55it/s]:57,  3.22s/it]\n",
      "Converting rme02.05.23.2015 to COCO: 558it [00:01, 289.59it/s]14,  2.32s/it]\n",
      "Converting lmnt02.11.22.2018 to COCO: 272it [00:02, 95.15it/s]59,  2.20s/it]\n",
      "Converting rme04.2022.01.17 to COCO: 34it [00:00, 525.54it/s]:19,  2.40s/it]\n",
      "Converting rme02.12.14.2018 to COCO: 792it [00:02, 277.31it/s]\n",
      "Converting rme02.12.24.2018 to COCO: 733it [00:02, 279.94it/s]28,  1.97s/it]\n",
      "Converting lmnt02.11.27.2018 to COCO: 397it [00:04, 93.71it/s]43,  2.13s/it]\n",
      "Converting rme02.01.03.2019 to COCO: 640it [00:02, 271.78it/s]38,  2.68s/it]\n",
      "Converting rme02.01.06.2019 to COCO: 742it [00:02, 291.03it/s]27,  2.59s/it]\n",
      "Converting rme03.2022.01.05 to COCO: 198it [00:00, 299.17it/s]23,  2.58s/it]\n",
      "Converting rme02.12.27.2018 to COCO: 974it [00:03, 287.73it/s]25,  2.04s/it]\n",
      "Converting rme03.10.26.2017 to COCO: 1266it [00:03, 332.09it/s]2,  2.43s/it]\n",
      "Converting rme02.07.28.2015 to COCO: 1152it [00:04, 274.21it/s]0,  2.83s/it]\n",
      "Converting rme02.10.30.2017 to COCO: 2550it [00:09, 274.10it/s]7,  3.24s/it]\n",
      "Converting lmnt02.11.30.2018 to COCO: 279it [00:02, 94.73it/s]08,  5.04s/it]\n",
      "Converting rme02.11.28.2018 to COCO: 1393it [00:05, 278.26it/s]3,  4.42s/it]\n",
      "Converting rme02.05.20.2015 to COCO: 846it [00:02, 293.50it/s]16,  4.59s/it]\n",
      "Converting rme02.01.05.2019 to COCO: 1313it [00:04, 278.47it/s]3,  4.08s/it]\n",
      "Converting rme02.07.22.2015 to COCO: 1104it [00:03, 278.85it/s]7,  4.27s/it]\n",
      "Converting rme02.05.05.2015 to COCO: 630it [00:02, 279.40it/s]24,  4.18s/it]\n",
      "Converting lmnt02.11.29.2018 to COCO: 135it [00:01, 98.60it/s]28,  3.61s/it]\n",
      "Converting lmnt02.12.03.2018 to COCO: 361it [00:03, 94.38it/s]24,  2.94s/it]\n",
      "Converting rme02.05.30.2015 to COCO: 1200it [00:04, 289.99it/s]5,  3.20s/it]\n",
      "Converting lmnt02.12.12.2018 to COCO: 261it [00:02, 93.40it/s]06,  3.49s/it]\n",
      "Converting rme02.06.17.2015 to COCO: 1086it [00:03, 282.97it/s]5,  3.28s/it]\n",
      "Converting rme02.07.14.2015 to COCO: 1104it [00:03, 281.53it/s]6,  3.45s/it]\n",
      "Converting rme02.06.13.2015 to COCO: 1170it [00:04, 284.02it/s]5,  3.59s/it]\n",
      "Converting rme02.08.21.2015 to COCO: 1020it [00:03, 278.60it/s]5,  3.75s/it]\n",
      "Converting rme03.2022.03.02 to COCO: 3313it [00:11, 300.75it/s]9,  3.73s/it]\n",
      "Converting rme02.06.11.2015 to COCO: 1146it [00:04, 282.75it/s]4,  5.91s/it]\n",
      "Converting lmnt02.12.05.2018 to COCO: 269it [00:02, 91.96it/s]13,  5.36s/it]\n",
      "Converting rme02.08.14.2015 to COCO: 1224it [00:04, 286.76it/s]0,  4.63s/it]\n",
      "Converting abq01.2022.01.17 to COCO: 402it [00:01, 284.59it/s]57,  4.52s/it]\n",
      "Converting rme02.07.03.2015 to COCO: 1320it [00:04, 283.39it/s]0,  3.59s/it]\n",
      "Converting rme02.05.19.2015 to COCO: 612it [00:02, 281.30it/s]01,  3.91s/it]\n",
      "Converting pr01.2022.03.19 to COCO: 635it [00:02, 293.30it/s]:17,  3.39s/it]\n",
      "Converting abq01.2022.02.01 to COCO: 72it [00:00, 281.76it/s]:46,  3.03s/it]\n",
      "Converting rme04.2022.01.23 to COCO: 354it [00:01, 297.38it/s]42,  2.20s/it]\n",
      "Converting rme04.2022.01.21 to COCO: 246it [00:00, 288.50it/s]18,  1.89s/it]\n",
      "Converting rme03.2022.03.03 to COCO: 242it [00:00, 293.15it/s]53,  1.58s/it]\n",
      "Converting rme02.05.06.2015 to COCO: 876it [00:03, 267.47it/s]36,  1.36s/it]\n",
      "Converting rme02.10.23.2017 to COCO: 2526it [00:09, 277.67it/s]5,  1.93s/it]\n",
      "Converting abq01.2022.01.15 to COCO: 402it [00:01, 285.81it/s]41,  4.08s/it]\n",
      "Converting rme02.11.19.2018 to COCO: 484it [00:01, 278.83it/s]43,  3.28s/it]\n",
      "Converting rme03.2022.01.04 to COCO: 5790it [00:19, 300.53it/s]8,  2.82s/it]\n",
      "Converting rme03.2022.03.10 to COCO: 591it [00:01, 313.09it/s]31,  7.76s/it]\n",
      "Converting lmnt02.11.24.2018 to COCO: 315it [00:05, 61.31it/s]29,  6.00s/it]\n",
      "Converting rme02.05.12.2015 to COCO: 864it [00:02, 291.03it/s]07,  5.74s/it]\n",
      "Converting rme03.2022.02.05 to COCO: 405it [00:01, 317.75it/s]09,  4.91s/it]\n",
      "Converting pr01.2022.03.10 to COCO: 127it [00:00, 268.30it/s]:56,  3.82s/it]\n",
      "Converting rme02.08.26.2015 to COCO: 258it [00:00, 280.10it/s]51,  2.82s/it]\n",
      "Converting rme03.2022.01.31 to COCO: 920it [00:02, 319.09it/s]14,  2.25s/it]\n",
      "Converting rme02.08.29.2015 to COCO: 1164it [00:04, 283.93it/s]3,  2.44s/it]\n",
      "Converting rme03.2022.02.13 to COCO: 412it [00:01, 319.53it/s]50,  2.94s/it]\n",
      "Converting rme04.2022.01.12 to COCO: 67it [00:00, 303.59it/s]:19,  2.44s/it]\n",
      "Converting abq01.2022.03.25 to COCO: 18it [00:00, 296.53it/s]:39,  1.78s/it]\n",
      "Converting rme03.2022.01.07 to COCO: 4146it [00:13, 304.89it/s]\n",
      "Converting rme03.2022.02.02 to COCO: 618it [00:01, 318.48it/s]41,  4.11s/it]\n",
      "Converting rme02.12.30.2018 to COCO: 300it [00:01, 295.19it/s]09,  3.57s/it]\n",
      "Converting rme03.2022.03.08 to COCO: 92it [00:00, 305.53it/s]:31,  2.91s/it]\n",
      "Converting rme03.10.27.2017 to COCO: 2706it [00:07, 340.83it/s]2,  2.20s/it]\n",
      "Converting rme02.07.16.2015 to COCO: 1110it [00:03, 292.02it/s]0,  3.81s/it]\n",
      "Converting rme03.2022.03.01 to COCO: 307it [00:00, 327.31it/s]06,  3.80s/it]\n",
      "Converting rme03.2022.03.15 to COCO: 330it [00:01, 326.53it/s]22,  2.97s/it]\n",
      "Converting rme03.2022.01.06 to COCO: 5489it [00:17, 305.68it/s]2,  2.40s/it]\n",
      "Converting rme02.12.07.2018 to COCO: 452it [00:01, 288.17it/s]21,  6.99s/it]\n",
      "Converting rme03.2022.03.06 to COCO: 627it [00:02, 308.33it/s]02,  5.38s/it]\n",
      "Converting abq01.2022.01.10 to COCO: 264it [00:00, 280.89it/s]13,  4.39s/it]\n",
      "Converting rme02.12.20.2018 to COCO: 346it [00:01, 281.79it/s]24,  3.36s/it]\n",
      "Converting lmnt02.12.02.2018 to COCO: 305it [00:03, 95.64it/s]54,  2.72s/it]\n",
      "Converting rme03.2022.02.06 to COCO: 329it [00:01, 302.92it/s]57,  2.86s/it]\n",
      "Converting rme03.2022.02.03 to COCO: 602it [00:01, 316.73it/s]33,  2.33s/it]\n",
      "Converting abq01.12.17.2017 to COCO: 1710it [00:05, 299.65it/s]5,  2.20s/it]\n",
      "Converting rme02.07.01.2015 to COCO: 1320it [00:04, 284.01it/s]3,  3.25s/it]\n",
      "Converting rme02.12.06.2018 to COCO: 197it [00:00, 280.28it/s]15,  3.67s/it]\n",
      "Converting rme04.2022.01.08 to COCO: 4278it [00:15, 281.12it/s]0,  2.78s/it]\n",
      "Converting rme04.2022.01.04 to COCO: 4308it [00:15, 280.22it/s]7,  6.51s/it]\n",
      "Converting rme03.2022.01.27 to COCO: 860it [00:02, 311.30it/s]11,  9.17s/it]\n",
      "Converting lmnt02.12.14.2018 to COCO: 1729it [00:17, 97.70it/s]9,  7.25s/it]\n",
      "Converting rme03.2022.01.20 to COCO: 770it [00:02, 326.07it/s]32, 10.38s/it]\n",
      "Converting abq01.10.13.2017 to COCO: 1776it [00:05, 303.60it/s]7,  7.98s/it]\n",
      "Converting rme03.2022.01.15 to COCO: 619it [00:01, 329.39it/s]40,  7.34s/it]\n",
      "Converting rme03.2022.02.25 to COCO: 503it [00:01, 315.08it/s]45,  5.70s/it]\n",
      "Converting rme02.12.04.2018 to COCO: 1089it [00:03, 277.41it/s]5,  4.47s/it]\n",
      "Converting rme02.12.03.2018 to COCO: 619it [00:02, 281.68it/s]56,  4.31s/it]\n",
      "Converting abq01.12.09.2017 to COCO: 3198it [00:11, 282.06it/s]5,  3.68s/it]\n",
      "Converting rme02.07.04.2015 to COCO: 1110it [00:03, 283.90it/s]9,  5.98s/it]\n",
      "Converting rme03.2022.02.19 to COCO: 79it [00:00, 305.95it/s]:08,  5.36s/it]\n",
      "Converting lmnt02.11.26.2018 to COCO: 190it [00:02, 92.65it/s]28,  3.83s/it]\n",
      "Converting lmnt02.12.08.2018 to COCO: 204it [00:02, 94.51it/s]12,  3.30s/it]\n",
      "Converting rme03.2022.02.10 to COCO: 594it [00:01, 312.23it/s]02,  2.96s/it]\n",
      "Converting rme02.08.07.2015 to COCO: 942it [00:03, 278.89it/s]52,  2.64s/it]\n",
      "Converting pr01.2022.03.20 to COCO: 568it [00:01, 309.82it/s]:54,  2.86s/it]\n",
      "Converting pr01.2022.03.18 to COCO: 342it [00:01, 302.12it/s]:45,  2.55s/it]\n",
      "Converting rme02.04.30.2015 to COCO: 858it [00:03, 275.19it/s]36,  2.13s/it]\n",
      "Converting rme02.06.03.2015 to COCO: 1098it [00:03, 275.57it/s]8,  2.43s/it]\n",
      "Converting rme02.11.22.2018 to COCO: 843it [00:02, 289.41it/s]43,  2.89s/it]\n",
      "Converting rme02.07.07.2015 to COCO: 1326it [00:04, 280.10it/s]0,  2.90s/it]\n",
      "Converting abq01.2022.03.28 to COCO: 78it [00:00, 281.26it/s]:44,  3.45s/it]\n",
      "Converting rme02.12.31.2018 to COCO: 480it [00:01, 280.79it/s]30,  2.50s/it]\n",
      "Converting rme03.2022.02.20 to COCO: 572it [00:01, 300.54it/s]24,  2.26s/it]\n",
      "Converting pr01.2022.03.22 to COCO: 594it [00:02, 294.14it/s]:21,  2.16s/it]\n",
      "Converting pr01.2022.04.08 to COCO: 420it [00:01, 303.09it/s]:19,  2.12s/it]\n",
      "Converting abq01.2022.03.27 to COCO: 42it [00:00, 289.37it/s]:15,  1.90s/it]\n",
      "Converting rme03.2022.01.19 to COCO: 687it [00:02, 323.39it/s]09,  1.37s/it]\n",
      "Converting rme02.08.01.2015 to COCO: 1140it [00:03, 295.26it/s]9,  1.60s/it]\n",
      "Converting rme03.2022.01.25 to COCO: 1081it [00:03, 317.17it/s]1,  2.28s/it]\n",
      "Converting rme02.04.23.2015 to COCO: 870it [00:03, 275.79it/s]10,  2.62s/it]\n",
      "Converting rme02.11.24.2018 to COCO: 811it [00:02, 288.77it/s]08,  2.78s/it]\n",
      "Converting rme02.08.08.2015 to COCO: 1128it [00:04, 279.42it/s]5,  2.79s/it]\n",
      "Converting rme03.2022.01.03 to COCO: 528it [00:01, 304.85it/s]03,  3.16s/it]\n",
      "Converting SatNet to COCO: 100%|██████████| 241/241 [14:12<00:00,  3.54s/it]\n",
      "Copying images:  28%|██▊       | 62793/228135 [2:04:20<4:54:48,  9.35it/s] "
     ]
    }
   ],
   "source": [
    "build_coco_satnet(\"/data/SatNet/SatNet/SatNet.v.1.4.0.0\", \"/data/Dataset_Compilation_and_Statistics/Sentinel_Datasets/SatNet1.4\", process_func=channel_mixture_C)"
   ]
  },
  {
   "cell_type": "code",
   "execution_count": null,
   "id": "1ae86c35",
   "metadata": {},
   "outputs": [],
   "source": [
    "L1 = \"/data/Sentinel_Datasets/LMNT01_Raw/LMNT01Sat-2024-07-12\"\n",
    "L2 = \"/data/Sentinel_Datasets/LMNT02_Raw/LMNT02Sat-2024-07-09\"\n",
    "L3 = \"/data/Sentinel_Datasets/RME04_Raw/RME04Sat-2025-05-21\"\n",
    "\n",
    "training_set_origins = [L1, L2, L3]\n",
    "preprocess_func = channel_mixture_C\n",
    "final_data_path =  \"/data/Sentinel_Datasets/Finalized_datasets\"\n",
    "training_set_output_path = os.path.join(final_data_path, f\"MixedSensors_MixtureC_Training\")"
   ]
  },
  {
   "cell_type": "markdown",
   "id": "a1e51d47",
   "metadata": {},
   "source": [
    "### RME04"
   ]
  },
  {
   "cell_type": "code",
   "execution_count": 2,
   "id": "6465786d",
   "metadata": {},
   "outputs": [],
   "source": [
    "R1 = \"/data/Dataset_Compilation_and_Statistics/Sentinel_Datasets/RME04_Raw/RME04Sat-2024-04-24\"\n",
    "R2 = \"/data/Dataset_Compilation_and_Statistics/Sentinel_Datasets/RME04_Raw/RME04Sat-2024-04-25\"\n",
    "R3 = \"/data/Dataset_Compilation_and_Statistics/Sentinel_Datasets/RME04_Raw/RME04Sat-2024-04-26\"\n",
    "R4 = \"/data/Dataset_Compilation_and_Statistics/Sentinel_Datasets/RME04_Raw/RME04Sat-2024-04-27\"\n",
    "R5 = \"/data/Dataset_Compilation_and_Statistics/Sentinel_Datasets/RME04_Raw/RME04Sat-2024-04-28\"\n",
    "R6 = \"/data/Dataset_Compilation_and_Statistics/Sentinel_Datasets/RME04_Raw/RME04Sat-2024-04-29\"\n",
    "R7 = \"/data/Dataset_Compilation_and_Statistics/Sentinel_Datasets/RME04_Raw/RME04Sat-2024-04-30\"\n",
    "R8 = \"/data/Dataset_Compilation_and_Statistics/Sentinel_Datasets/RME04_Raw/RME04Sat-2024-05-01\"\n",
    "R9 = \"/data/Dataset_Compilation_and_Statistics/Sentinel_Datasets/RME04_Raw/RME04Sat-2024-05-02\"\n",
    "R10 = \"/data/Dataset_Compilation_and_Statistics/Sentinel_Datasets/RME04_Raw/RME04Sat-2024-05-03\"\n",
    "R11 = \"/data/Dataset_Compilation_and_Statistics/Sentinel_Datasets/RME04_Raw/RME04Sat-2024-05-07\"\n",
    "R12 = \"/data/Dataset_Compilation_and_Statistics/Sentinel_Datasets/RME04_Raw/RME04Sat-2024-05-08\"\n",
    "R13 = \"/data/Dataset_Compilation_and_Statistics/Sentinel_Datasets/RME04_Raw/RME04Sat-2024-05-09\"\n",
    "R14 = \"/data/Dataset_Compilation_and_Statistics/Sentinel_Datasets/RME04_Raw/RME04Sat-2024-05-10\"\n",
    "R15 = \"/data/Dataset_Compilation_and_Statistics/Sentinel_Datasets/RME04_Raw/RME04Sat-2024-05-30\"\n",
    "R16 = \"/data/Dataset_Compilation_and_Statistics/Sentinel_Datasets/RME04_Raw/RME04Sat-2024-05-31\"\n",
    "\n",
    "R17 = \"/data/Dataset_Compilation_and_Statistics/Sentinel_Datasets/RME04_Raw/RME04Sat-2024-06-04\"\n",
    "R18 = \"/data/Dataset_Compilation_and_Statistics/Sentinel_Datasets/RME04_Raw/RME04Sat-2024-06-05\"\n",
    "R19 = \"/data/Dataset_Compilation_and_Statistics/Sentinel_Datasets/RME04_Raw/RME04Sat-2024-06-06\"\n",
    "R20 = \"/data/Dataset_Compilation_and_Statistics/Sentinel_Datasets/RME04_Raw/RME04Sat-2024-06-07\"\n",
    "R21 = \"/data/Dataset_Compilation_and_Statistics/Sentinel_Datasets/RME04_Raw/RME04Sat-2024-06-08\"\n",
    "R22 = \"/data/Dataset_Compilation_and_Statistics/Sentinel_Datasets/RME04_Raw/RME04Sat-2024-06-09\"\n",
    "R23 = \"/data/Dataset_Compilation_and_Statistics/Sentinel_Datasets/RME04_Raw/RME04Sat-2024-06-11\"\n",
    "R24 = \"/data/Dataset_Compilation_and_Statistics/Sentinel_Datasets/RME04_Raw/RME04Sat-2024-06-12\"\n",
    "R25 = \"/data/Dataset_Compilation_and_Statistics/Sentinel_Datasets/RME04_Raw/RME04Sat-2024-06-13\"\n",
    "R26 = \"/data/Dataset_Compilation_and_Statistics/Sentinel_Datasets/RME04_Raw/RME04Sat-2024-06-15\"\n",
    "R27 = \"/data/Dataset_Compilation_and_Statistics/Sentinel_Datasets/RME04_Raw/RME04Sat-2024-06-28\"\n",
    "R28 = \"/data/Dataset_Compilation_and_Statistics/Sentinel_Datasets/RME04_Raw/RME04Sat-2024-07-09\"\n",
    "R29 = \"/data/Dataset_Compilation_and_Statistics/Sentinel_Datasets/RME04_Raw/RME04Sat-2024-07-19\"\n",
    "R30 = \"/data/Dataset_Compilation_and_Statistics/Sentinel_Datasets/RME04_Raw/RME04Sat-2025-05-10\"\n",
    "R31 = \"/data/Dataset_Compilation_and_Statistics/Sentinel_Datasets/RME04_Raw/RME04Sat-2025-05-21\"\n",
    "R32 = \"/data/Dataset_Compilation_and_Statistics/Sentinel_Datasets/RME04_Raw/RME04Sat-2025-05-30\"\n",
    "R33 = \"/data/Dataset_Compilation_and_Statistics/Sentinel_Datasets/RME04_Raw/RME04Sat-2025-06-04\"\n",
    "\n",
    "final_data_path=\"/data/Dataset_Compilation_and_Statistics/Sentinel_Datasets/Finalized_datasets\"\n",
    "\n",
    "all_origins = [R1, R2, R3, R4, R5, R6, R7, R8, R9, R10, R11, R12, R13, R14, R15, R16, R17, R18, R19, R20, R21, R22, R23, R24, R25, R26, R27, R28, R29, R30, R31, R32, R33]\n",
    "\n",
    "training_set_origins_RME04 = [R1, R2, R3, R4, R5, R6, R7, R8, R9, R10, R11, R12, R13, R14, R15, R16]\n",
    "training_set_output_path_RME04 = os.path.join(final_data_path, f\"Panoptic_MC_RME04_train\")\n",
    "\n",
    "eval_origins =  [R17, R18, R19, R20, R21, R22, R23, R24, R25, R26, R27, R28, R29, R30, R31, R32, R33]\n",
    "eval_finals = [os.path.join(final_data_path, f\"{os.path.basename(ESet)}_Panoptic_MC_Eval\") for ESet in eval_origins]\n",
    "\n",
    "preprocess_func = channel_mixture_C\n"
   ]
  },
  {
   "cell_type": "markdown",
   "id": "eb668b00",
   "metadata": {},
   "source": [
    "### LMNT01"
   ]
  },
  {
   "cell_type": "code",
   "execution_count": 3,
   "id": "f8bec2fe",
   "metadata": {},
   "outputs": [],
   "source": [
    "LA1 = \"/data/Dataset_Compilation_and_Statistics/Sentinel_Datasets/LMNT01_Raw/LMNT01Sat-2024-07-08\"\n",
    "LA2 = \"/data/Dataset_Compilation_and_Statistics/Sentinel_Datasets/LMNT01_Raw/LMNT01Sat-2024-07-09\"\n",
    "LA3 = \"/data/Dataset_Compilation_and_Statistics/Sentinel_Datasets/LMNT01_Raw/LMNT01Sat-2024-07-10\"\n",
    "LA4 = \"/data/Dataset_Compilation_and_Statistics/Sentinel_Datasets/LMNT01_Raw/LMNT01Sat-2024-07-11\"\n",
    "LA5 = \"/data/Dataset_Compilation_and_Statistics/Sentinel_Datasets/LMNT01_Raw/LMNT01Sat-2024-07-12\"\n",
    "LA6 = \"/data/Dataset_Compilation_and_Statistics/Sentinel_Datasets/LMNT01_Raw/LMNT01Sat-2024-07-13\"\n",
    "LA7 = \"/data/Dataset_Compilation_and_Statistics/Sentinel_Datasets/LMNT01_Raw/LMNT01Sat-2024-07-29\"\n",
    "\n",
    "LA8 = \"/data/Dataset_Compilation_and_Statistics/Sentinel_Datasets/LMNT01_Raw/LMNT01Sat-2024-08-04\"\n",
    "LA9 = \"/data/Dataset_Compilation_and_Statistics/Sentinel_Datasets/LMNT01_Raw/LMNT01Sat-2024-08-20\"\n",
    "LA10 = \"/data/Dataset_Compilation_and_Statistics/Sentinel_Datasets/LMNT01_Raw/LMNT01Sat-2024-09-13\"\n",
    "LA11 = \"/data/Dataset_Compilation_and_Statistics/Sentinel_Datasets/LMNT01_Raw/LMNT01Sat-2024-09-25\"\n",
    "LA12 = \"/data/Dataset_Compilation_and_Statistics/Sentinel_Datasets/LMNT01_Raw/LMNT01Sat-2024-10-06\"\n",
    "LA13 = \"/data/Dataset_Compilation_and_Statistics/Sentinel_Datasets/LMNT01_Raw/LMNT01Sat-2024-10-15\"\n",
    "LA14 = \"/data/Dataset_Compilation_and_Statistics/Sentinel_Datasets/LMNT01_Raw/LMNT01Sat-2024-10-23\"\n",
    "LA15 = \"/data/Dataset_Compilation_and_Statistics/Sentinel_Datasets/LMNT01_Raw/LMNT01Sat-2024-10-30\"\n",
    "LA16 = \"/data/Dataset_Compilation_and_Statistics/Sentinel_Datasets/LMNT01_Raw/LMNT01Sat-2024-11-07\"\n",
    "LA17 = \"/data/Dataset_Compilation_and_Statistics/Sentinel_Datasets/LMNT01_Raw/LMNT01Sat-2024-11-15\"\n",
    "LA18 = \"/data/Dataset_Compilation_and_Statistics/Sentinel_Datasets/LMNT01_Raw/LMNT01Sat-2024-11-26\"\n",
    "LA19 = \"/data/Dataset_Compilation_and_Statistics/Sentinel_Datasets/LMNT01_Raw/LMNT01Sat-2024-12-06\"\n",
    "LA20 = \"/data/Dataset_Compilation_and_Statistics/Sentinel_Datasets/LMNT01_Raw/LMNT01Sat-2024-12-17\"\n",
    "LA21 = \"/data/Dataset_Compilation_and_Statistics/Sentinel_Datasets/LMNT01_Raw/LMNT01Sat-2024-12-20\"\n",
    "LA22 = \"/data/Dataset_Compilation_and_Statistics/Sentinel_Datasets/LMNT01_Raw/LMNT01Sat-2024-12-30\"\n",
    "LA23 = \"/data/Dataset_Compilation_and_Statistics/Sentinel_Datasets/LMNT01_Raw/LMNT01Sat-2025-01-07\"\n",
    "LA24 = \"/data/Dataset_Compilation_and_Statistics/Sentinel_Datasets/LMNT01_Raw/LMNT01Sat-2025-01-10\"\n",
    "LA25 = \"/data/Dataset_Compilation_and_Statistics/Sentinel_Datasets/LMNT01_Raw/LMNT01Sat-2025-01-23\"\n",
    "LA26 = \"/data/Dataset_Compilation_and_Statistics/Sentinel_Datasets/LMNT01_Raw/LMNT01Sat-2025-05-03\"\n",
    "LA27 = \"/data/Dataset_Compilation_and_Statistics/Sentinel_Datasets/LMNT01_Raw/LMNT01Sat-2025-05-10\"\n",
    "LA28 = \"/data/Dataset_Compilation_and_Statistics/Sentinel_Datasets/LMNT01_Raw/LMNT01Sat-2025-05-16\"\n",
    "LA29 = \"/data/Dataset_Compilation_and_Statistics/Sentinel_Datasets/LMNT01_Raw/LMNT01Sat-2025-05-25\"\n",
    "\n",
    "final_data_path=\"/data/Dataset_Compilation_and_Statistics/Sentinel_Datasets/Finalized_datasets\"\n",
    "\n",
    "all_origins = [LA1, LA2, LA3, LA4, LA5, LA6, LA7, LA8, LA9, LA10, LA11, LA12, LA13, LA14, LA15, LA16, LA17, LA18, LA19, LA20, LA21, LA22, LA23, LA24, LA25, LA26, LA27, LA28, LA29]\n",
    "\n",
    "# training_set_origins_LMNT01 = [LA1, LA2, LA3, LA4, LA5, LA6, LA7] # ORIGINAL TRAINING SET DO NOT DELETE\n",
    "training_set_origins_LMNT01 = [LA8, LA9, LA10, LA11, LA12, LA13, LA14, LA15]\n",
    "# training_set_origins_LMNT01 = [LA1, LA2, LA3, LA4, LA5, LA6, LA7, LA10, LA11, LA12, LA13, LA14, LA15]\n",
    "training_set_output_path_LMNT01 = os.path.join(final_data_path, f\"No_Chipping_LMNT01_dataset\")\n",
    "\n",
    "eval_origins =  [LA8, LA9, LA10, LA11, LA12, LA13, LA14, LA15, LA16, LA17, LA18, LA19, LA20, LA21, LA22, LA23, LA24, LA25, LA26, LA27, LA28, LA29]\n",
    "eval_finals = [os.path.join(final_data_path, f\"{os.path.basename(ESet)}_Panoptic_MC_Eval\") for ESet in eval_origins]\n",
    "\n",
    "preprocess_func = channel_mixture_C"
   ]
  },
  {
   "cell_type": "markdown",
   "id": "c2be1d36",
   "metadata": {},
   "source": [
    "### LMNT02"
   ]
  },
  {
   "cell_type": "code",
   "execution_count": 4,
   "id": "aed16730",
   "metadata": {},
   "outputs": [],
   "source": [
    "\n",
    "\n",
    "T1 = \"/data/Sentinel_Datasets/LMNT02_Raw/LMNT02Sat-2024-07-12\"\n",
    "T2 = \"/data/Sentinel_Datasets/LMNT02_Raw/LMNT02Sat-2024-07-08\"\n",
    "T3 = \"/data/Sentinel_Datasets/LMNT02_Raw/LMNT02Sat-2024-07-13\"\n",
    "T4 = \"/data/Sentinel_Datasets/LMNT02_Raw/LMNT02Sat-2024-07-09\"\n",
    "T5 = \"/data/Sentinel_Datasets/LMNT02_Raw/LMNT02Sat-2024-07-10\"\n",
    "T6 = \"/data/Sentinel_Datasets/LMNT02_Raw/LMNT02Sat-2024-07-07\"\n",
    "T7 = \"/data/Sentinel_Datasets/LMNT02_Raw/LMNT02Sat-2024-08-05\"\n",
    "T8 = \"/data/Sentinel_Datasets/LMNT02_Raw/LMNT02Sat-2024-07-25\"\n",
    "T9 = \"/data/Sentinel_Datasets/LMNT02_Raw/LMNT02Sat-2024-08-21\"\n",
    "T10 = \"/data/Sentinel_Datasets/LMNT02_Raw/LMNT02Sat-2024-07-11\"\n",
    "T11 = \"/data/Sentinel_Datasets/LMNT02_Raw/LMNT02Sat-2024-08-30\"\n",
    "\n",
    "E1 = \"/data/Sentinel_Datasets/LMNT02_Raw/LMNT02Sat-2024-09-06\"\n",
    "E2 = \"/data/Sentinel_Datasets/LMNT02_Raw/LMNT02Sat-2024-11-14\"\n",
    "E3 = \"/data/Sentinel_Datasets/LMNT02_Raw/LMNT02Sat-2024-12-07\"\n",
    "E4 = \"/data/Sentinel_Datasets/LMNT02_Raw/LMNT02Sat-2024-09-14\"\n",
    "E5 = \"/data/Sentinel_Datasets/LMNT02_Raw/LMNT02Sat-2024-11-07\"\n",
    "E6 = \"/data/Sentinel_Datasets/LMNT02_Raw/LMNT02Sat-2024-10-08\"\n",
    "E7 = \"/data/Sentinel_Datasets/LMNT02_Raw/LMNT02Sat-2024-10-30\"\n",
    "E8 = \"/data/Sentinel_Datasets/LMNT02_Raw/LMNT02Sat-2024-10-10\"\n",
    "E9 = \"/data/Sentinel_Datasets/LMNT02_Raw/LMNT02Sat-2024-12-24\"\n",
    "E10 = \"/data/Sentinel_Datasets/LMNT02_Raw/LMNT02Sat-2024-12-31\"\n",
    "E11 = \"/data/Sentinel_Datasets/LMNT02_Raw/LMNT02Sat-2024-11-19\"\n",
    "E12 = \"/data/Sentinel_Datasets/LMNT02_Raw/LMNT02Sat-2024-10-31\"\n",
    "E13 = \"/data/Sentinel_Datasets/LMNT02_Raw/LMNT02Sat-2024-10-04\"\n",
    "E14 = \"/data/Sentinel_Datasets/LMNT02_Raw/LMNT02Sat-2024-09-10\"\n",
    "E15 = \"/data/Sentinel_Datasets/LMNT02_Raw/LMNT02Sat-2024-11-08\"\n",
    "E16 = \"/data/Sentinel_Datasets/LMNT02_Raw/LMNT02Sat-2025-01-08\"\n",
    "E17 = \"/data/Sentinel_Datasets/LMNT02_Raw/LMNT02Sat-2024-12-20\"\n",
    "E18 = \"/data/Sentinel_Datasets/LMNT02_Raw/LMNT02Sat-2024-09-20\"\n",
    "E19 = \"/data/Sentinel_Datasets/LMNT02_Raw/LMNT02Sat-2024-10-17\"\n",
    "E20 = \"/data/Sentinel_Datasets/LMNT02_Raw/LMNT02Sat-2025-01-04\"\n",
    "E21 = \"/data/Sentinel_Datasets/LMNT02_Raw/LMNT02Sat-2024-11-27\"\n",
    "E22 = \"/data/Sentinel_Datasets/LMNT02_Raw/LMNT02Sat-2024-12-17\"\n",
    "E23 = \"/data/Sentinel_Datasets/LMNT02_Raw/LMNT02Sat-2024-10-20\"\n",
    "E24 = \"/data/Sentinel_Datasets/LMNT02_Raw/LMNT02Sat-2024-09-12\"\n",
    "E25 = \"/data/Sentinel_Datasets/LMNT02_Raw/LMNT02Sat-2024-10-21\"\n",
    "E26 = \"/data/Sentinel_Datasets/LMNT02_Raw/LMNT02Sat-2024-11-15\"\n",
    "\n",
    "final_data_path=\"/data/Dataset_Compilation_and_Statistics/Sentinel_Datasets/Finalized_datasets\"\n",
    "\n",
    "all_origins = [T1, T2, T3, T4, T5, T6, T7, T8, T9, T10, T11, E1, E2, E3, E4, E5, E6, E7, E8, E9, E10, E11, E12, E13, E14, E15, E16, E17, E18, E19, E20, E21, E22, E23, E24, E25, E26]\n",
    "\n",
    "training_set_origins_LMNT02 = [ T2, T3, T4, T5, T7, T8, T9, T10, T11]\n",
    "# training_set_origins_LMNT02 = [E1, E2, E3, E4, E5, E6, E7, E8, E9, E10, E11]\n",
    "training_set_output_path_LMNT02 = os.path.join(final_data_path, f\"Panoptic_MC_LMNT02_train\")\n",
    "\n",
    "eval_origins = [E1, E2, E3, E4, E5, E6, E7, E8, E9, E10, E11, E12, E13, E14, E15, E16, E17, E18, E19, E20, E21, E22, E23, E24, E25, E26]\n",
    "eval_finals = [os.path.join(final_data_path, f\"{os.path.basename(ESet)}_Panoptic_MC_Eval\") for ESet in eval_origins]\n",
    "\n",
    "preprocess_func = channel_mixture_C\n"
   ]
  },
  {
   "cell_type": "markdown",
   "id": "569744bd",
   "metadata": {},
   "source": [
    "### Injected Folders"
   ]
  },
  {
   "cell_type": "code",
   "execution_count": 14,
   "id": "cdd689e5",
   "metadata": {},
   "outputs": [],
   "source": [
    "path1 = \"/data/Dataset_Compilation_and_Statistics/Sentinel_Datasets/RME04_Raw/RME04Sat-2024-05-14-injected\"\n",
    "path2 = \"/data/Dataset_Compilation_and_Statistics/Sentinel_Datasets/RME04_Raw/RME04Sat-2024-05-15-injected\"\n",
    "path3 = \"/data/Dataset_Compilation_and_Statistics/Sentinel_Datasets/RME04_Raw/RME04Sat-2024-05-16-injected\"\n",
    "path4 = \"/data/Dataset_Compilation_and_Statistics/Sentinel_Datasets/RME04_Raw/RME04Sat-2024-05-17-injected\"\n",
    "path5 = \"/data/Dataset_Compilation_and_Statistics/Sentinel_Datasets/RME04_Raw/RME04Sat-2024-07-29-injected\"\n",
    "path6 = \"/data/Dataset_Compilation_and_Statistics/Sentinel_Datasets/LMNT02_Raw/LMNT02Sat-2024-12-30-injected\"\n",
    "path7 = \"/data/Dataset_Compilation_and_Statistics/Sentinel_Datasets/LMNT02_Raw/LMNT02Sat-2024-07-21-injected\"\n",
    "\n",
    "\n",
    "training_set_origins = [path1, path2, path3, path4, path5, path6, path7]\n",
    "final_data_path=\"/data/Dataset_Compilation_and_Statistics/Sentinel_Datasets/Finalized_datasets\"\n",
    "training_set_output_path = os.path.join(final_data_path, f\"R4L2-Target-Injection_11k\")\n",
    "preprocess_func = channel_mixture_C"
   ]
  },
  {
   "cell_type": "code",
   "execution_count": null,
   "id": "d9a96bc8",
   "metadata": {},
   "outputs": [
    {
     "name": "stdout",
     "output_type": "stream",
     "text": [
      "4017\n",
      "4147\n",
      "3779\n"
     ]
    }
   ],
   "source": [
    "L1Eval_set = [\"/data/Dataset_Compilation_and_Statistics/Sentinel_Datasets/Finalized_datasets/LMNT01Sat-2024-11-15_Channel_Mixture_C_Eval\", #672\n",
    "\"/data/Dataset_Compilation_and_Statistics/Sentinel_Datasets/Finalized_datasets/LMNT01Sat-2024-11-26_Channel_Mixture_C_Eval\", #429\n",
    "\"/data/Dataset_Compilation_and_Statistics/Sentinel_Datasets/Finalized_datasets/LMNT01Sat-2024-12-06_Channel_Mixture_C_Eval\", #222\n",
    "\"/data/Dataset_Compilation_and_Statistics/Sentinel_Datasets/Finalized_datasets/LMNT01Sat-2024-12-17_Channel_Mixture_C_Eval\", #193\n",
    "\"/data/Dataset_Compilation_and_Statistics/Sentinel_Datasets/Finalized_datasets/LMNT01Sat-2024-12-20_Channel_Mixture_C_Eval\", #264\n",
    "\"/data/Dataset_Compilation_and_Statistics/Sentinel_Datasets/Finalized_datasets/LMNT01Sat-2024-12-30_Channel_Mixture_C_Eval\", #276\n",
    "\"/data/Dataset_Compilation_and_Statistics/Sentinel_Datasets/Finalized_datasets/LMNT01Sat-2025-01-07_Channel_Mixture_C_Eval\", #1202\n",
    "\"/data/Dataset_Compilation_and_Statistics/Sentinel_Datasets/Finalized_datasets/LMNT01Sat-2025-01-10_Channel_Mixture_C_Eval\", #759\n",
    "]\n",
    "print(672+429+222+193+264+276+1202+759)\n",
    "\n",
    "L2_Eval_Set = [\"/data/Dataset_Compilation_and_Statistics/Sentinel_Datasets/Finalized_datasets/LMNT02Sat-2024-10-08_Channel_Mixture_C_Eval\", #463\n",
    "\"/data/Dataset_Compilation_and_Statistics/Sentinel_Datasets/Finalized_datasets/LMNT02Sat-2024-10-10_Channel_Mixture_C_Eval\", #756\n",
    "\"/data/Dataset_Compilation_and_Statistics/Sentinel_Datasets/Finalized_datasets/LMNT02Sat-2024-10-30_Channel_Mixture_C_Eval\", #570\n",
    "\"/data/Dataset_Compilation_and_Statistics/Sentinel_Datasets/Finalized_datasets/LMNT02Sat-2024-10-31_Channel_Mixture_C_Eval\", #1236\n",
    "\"/data/Dataset_Compilation_and_Statistics/Sentinel_Datasets/Finalized_datasets/LMNT02Sat-2024-11-07_Channel_Mixture_C_Eval\", #1122\n",
    "]\n",
    "print(463+756+570+1236+1122)\n",
    "\n",
    "R4_Eval_set = [\"/data/Dataset_Compilation_and_Statistics/Sentinel_Datasets/Finalized_datasets/RME04Sat-2024-06-06_Channel_Mixture_C\", #245\n",
    "\"/data/Dataset_Compilation_and_Statistics/Sentinel_Datasets/Finalized_datasets/RME04Sat-2024-06-07_Channel_Mixture_C\", #318\n",
    "\"/data/Dataset_Compilation_and_Statistics/Sentinel_Datasets/Finalized_datasets/RME04Sat-2024-06-08_Channel_Mixture_C\", #85\n",
    "\"/data/Dataset_Compilation_and_Statistics/Sentinel_Datasets/Finalized_datasets/RME04Sat-2024-06-09_Channel_Mixture_C\", #317\n",
    "\"/data/Dataset_Compilation_and_Statistics/Sentinel_Datasets/Finalized_datasets/RME04Sat-2024-06-11_Channel_Mixture_C\", #30\n",
    "\"/data/Dataset_Compilation_and_Statistics/Sentinel_Datasets/Finalized_datasets/RME04Sat-2024-06-12_Channel_Mixture_C\", #368\n",
    "\"/data/Dataset_Compilation_and_Statistics/Sentinel_Datasets/Finalized_datasets/RME04Sat-2024-06-13_Channel_Mixture_C\", #566\n",
    "\"/data/Dataset_Compilation_and_Statistics/Sentinel_Datasets/Finalized_datasets/RME04Sat-2024-06-15_Channel_Mixture_C\", #162\n",
    "\"/data/Dataset_Compilation_and_Statistics/Sentinel_Datasets/Finalized_datasets/RME04Sat-2024-06-28_Channel_Mixture_C\", #315\n",
    "\"/data/Dataset_Compilation_and_Statistics/Sentinel_Datasets/Finalized_datasets/RME04Sat-2024-07-09_Channel_Mixture_C\", #385\n",
    "\"/data/Dataset_Compilation_and_Statistics/Sentinel_Datasets/Finalized_datasets/RME04Sat-2024-07-19_Channel_Mixture_C\", #404\n",
    "\"/data/Dataset_Compilation_and_Statistics/Sentinel_Datasets/Finalized_datasets/RME04Sat-2025-06-04_Channel_Mixture_C\", #584\n",
    "]\n",
    "print(245+318+85+317+30+368+566+162+315+385+404+584)"
   ]
  },
  {
   "cell_type": "markdown",
   "id": "350bd770",
   "metadata": {},
   "source": [
    "## Convert SILT to COCO"
   ]
  },
  {
   "cell_type": "markdown",
   "id": "dd45e671",
   "metadata": {},
   "source": [
    "### Convert Single Path"
   ]
  },
  {
   "cell_type": "code",
   "execution_count": 7,
   "id": "b0a628ad",
   "metadata": {},
   "outputs": [
    {
     "name": "stdout",
     "output_type": "stream",
     "text": [
      "Deleted folder: /data/Dataset_Compilation_and_Statistics/Sentinel_Datasets/LMNT01_Raw/LMNT01Sat-2024-10-23/images\n",
      "Deleted folder: /data/Dataset_Compilation_and_Statistics/Sentinel_Datasets/LMNT01_Raw/LMNT01Sat-2024-10-23/annotations\n",
      "Deleted folder: /data/Dataset_Compilation_and_Statistics/Sentinel_Datasets/LMNT01_Raw/LMNT01Sat-2024-10-23/multiframe_annotations\n"
     ]
    },
    {
     "name": "stderr",
     "output_type": "stream",
     "text": [
      "Converting Silt to COCO: 100%|██████████| 875/875 [02:02<00:00,  7.14it/s]\n",
      "Copying images: 100%|██████████| 875/875 [1:18:55<00:00,  5.41s/it]\n"
     ]
    }
   ],
   "source": [
    "# silt_to_coco(Process_pathB, include_sats=False, include_stars=True, zip=False, notes=\"RME01 dataset with stars only\")\n",
    "silt_to_coco(LA14, include_sats=True, include_stars=False, convert_png=True, process_func=preprocess_func, notes=\"Mixture of ZScale, raw, and log-IQR for target injection imagery\")"
   ]
  },
  {
   "cell_type": "markdown",
   "id": "0d0bc3df",
   "metadata": {},
   "source": [
    "### Convert Multiple Paths"
   ]
  },
  {
   "cell_type": "code",
   "execution_count": 4,
   "id": "7d0acc5f",
   "metadata": {},
   "outputs": [
    {
     "name": "stdout",
     "output_type": "stream",
     "text": [
      "/data/Dataset_Compilation_and_Statistics/Sentinel_Datasets/LMNT01_Raw/LMNT01Sat-2024-08-04\n",
      "Deleted folder: /data/Dataset_Compilation_and_Statistics/Sentinel_Datasets/LMNT01_Raw/LMNT01Sat-2024-08-04/images\n",
      "Deleted folder: /data/Dataset_Compilation_and_Statistics/Sentinel_Datasets/LMNT01_Raw/LMNT01Sat-2024-08-04/annotations\n",
      "Deleted folder: /data/Dataset_Compilation_and_Statistics/Sentinel_Datasets/LMNT01_Raw/LMNT01Sat-2024-08-04/multiframe_annotations\n"
     ]
    },
    {
     "name": "stderr",
     "output_type": "stream",
     "text": [
      "Converting Silt to COCO:  32%|███▏      | 170/535 [00:12<00:26, 13.91it/s]\n"
     ]
    },
    {
     "ename": "KeyboardInterrupt",
     "evalue": "",
     "output_type": "error",
     "traceback": [
      "\u001b[31m---------------------------------------------------------------------------\u001b[39m",
      "\u001b[31mKeyboardInterrupt\u001b[39m                         Traceback (most recent call last)",
      "\u001b[36mCell\u001b[39m\u001b[36m \u001b[39m\u001b[32mIn[4]\u001b[39m\u001b[32m, line 3\u001b[39m\n\u001b[32m      1\u001b[39m \u001b[38;5;28;01mfor\u001b[39;00m path \u001b[38;5;129;01min\u001b[39;00m training_set_origins_LMNT01:\n\u001b[32m      2\u001b[39m     \u001b[38;5;28mprint\u001b[39m(path)\n\u001b[32m----> \u001b[39m\u001b[32m3\u001b[39m     \u001b[43msilt_to_coco\u001b[49m\u001b[43m(\u001b[49m\u001b[43mpath\u001b[49m\u001b[43m,\u001b[49m\u001b[43m \u001b[49m\u001b[43minclude_sats\u001b[49m\u001b[43m=\u001b[49m\u001b[38;5;28;43;01mTrue\u001b[39;49;00m\u001b[43m,\u001b[49m\u001b[43m \u001b[49m\u001b[43minclude_stars\u001b[49m\u001b[43m=\u001b[49m\u001b[38;5;28;43;01mFalse\u001b[39;49;00m\u001b[43m,\u001b[49m\u001b[43m \u001b[49m\u001b[43mconvert_png\u001b[49m\u001b[43m=\u001b[49m\u001b[38;5;28;43;01mTrue\u001b[39;49;00m\u001b[43m,\u001b[49m\u001b[43m \u001b[49m\u001b[43mprocess_func\u001b[49m\u001b[43m=\u001b[49m\u001b[43mpreprocess_func\u001b[49m\u001b[43m,\u001b[49m\u001b[43m \u001b[49m\u001b[43mnotes\u001b[49m\u001b[43m=\u001b[49m\u001b[33;43m\"\u001b[39;49m\u001b[33;43mMixture of ZScale, raw, and log-IQR for target injection imagery\u001b[39;49m\u001b[33;43m\"\u001b[39;49m\u001b[43m)\u001b[49m\n",
      "\u001b[36mFile \u001b[39m\u001b[32m/data/Dataset_Compilation_and_Statistics/data_connections/coco_tools.py:348\u001b[39m, in \u001b[36msilt_to_coco\u001b[39m\u001b[34m(silt_dataset_path, include_sats, include_stars, zip, convert_png, process_func, notes)\u001b[39m\n\u001b[32m    345\u001b[39m     json_data = json.load(f)\n\u001b[32m    346\u001b[39m hdu = fits.open(fits_path)\n\u001b[32m--> \u001b[39m\u001b[32m348\u001b[39m sample_attributes, object_attributes = \u001b[43mcollect_stats\u001b[49m\u001b[43m(\u001b[49m\u001b[43mjson_data\u001b[49m\u001b[43m,\u001b[49m\u001b[43m \u001b[49m\u001b[43mhdu\u001b[49m\u001b[43m,\u001b[49m\u001b[43m \u001b[49m\u001b[43mpadding\u001b[49m\u001b[43m=\u001b[49m\u001b[32;43m20\u001b[39;49m\u001b[43m)\u001b[49m\n\u001b[32m    350\u001b[39m hdul = hdu[\u001b[32m0\u001b[39m]\n\u001b[32m    351\u001b[39m header = hdul.header\n",
      "\u001b[36mFile \u001b[39m\u001b[32m/data/Dataset_Compilation_and_Statistics/data_connections/collect_stats.py:92\u001b[39m, in \u001b[36mcollect_stats\u001b[39m\u001b[34m(json_content, fits_content, padding)\u001b[39m\n\u001b[32m     90\u001b[39m sample_attributes[\u001b[33m\"\u001b[39m\u001b[33mexposure\u001b[39m\u001b[33m\"\u001b[39m] = hdu[\u001b[33m\"\u001b[39m\u001b[33mEXPTIME\u001b[39m\u001b[33m\"\u001b[39m]\n\u001b[32m     91\u001b[39m sample_attributes[\u001b[33m\"\u001b[39m\u001b[33mstd_intensity\u001b[39m\u001b[33m\"\u001b[39m] = np.std(data)\n\u001b[32m---> \u001b[39m\u001b[32m92\u001b[39m sample_attributes[\u001b[33m\"\u001b[39m\u001b[33mmedian_intensity\u001b[39m\u001b[33m\"\u001b[39m] = \u001b[43mnp\u001b[49m\u001b[43m.\u001b[49m\u001b[43mmedian\u001b[49m\u001b[43m(\u001b[49m\u001b[43mdata\u001b[49m\u001b[43m)\u001b[49m\n\u001b[32m     94\u001b[39m \u001b[38;5;28;01mif\u001b[39;00m sample_attributes[\u001b[33m\"\u001b[39m\u001b[33mmedian_intensity\u001b[39m\u001b[33m\"\u001b[39m] == \u001b[32m0\u001b[39m:\n\u001b[32m     95\u001b[39m     sample_attributes[\u001b[33m\"\u001b[39m\u001b[33mmedian_intensity\u001b[39m\u001b[33m\"\u001b[39m] = \u001b[32m1e-10\u001b[39m\n",
      "\u001b[36mFile \u001b[39m\u001b[32m~/miniconda3/envs/DatasetStatistics/lib/python3.12/site-packages/numpy/lib/_function_base_impl.py:4001\u001b[39m, in \u001b[36mmedian\u001b[39m\u001b[34m(a, axis, out, overwrite_input, keepdims)\u001b[39m\n\u001b[32m   3916\u001b[39m \u001b[38;5;129m@array_function_dispatch\u001b[39m(_median_dispatcher)\n\u001b[32m   3917\u001b[39m \u001b[38;5;28;01mdef\u001b[39;00m\u001b[38;5;250m \u001b[39m\u001b[34mmedian\u001b[39m(a, axis=\u001b[38;5;28;01mNone\u001b[39;00m, out=\u001b[38;5;28;01mNone\u001b[39;00m, overwrite_input=\u001b[38;5;28;01mFalse\u001b[39;00m, keepdims=\u001b[38;5;28;01mFalse\u001b[39;00m):\n\u001b[32m   3918\u001b[39m \u001b[38;5;250m    \u001b[39m\u001b[33;03m\"\"\"\u001b[39;00m\n\u001b[32m   3919\u001b[39m \u001b[33;03m    Compute the median along the specified axis.\u001b[39;00m\n\u001b[32m   3920\u001b[39m \n\u001b[32m   (...)\u001b[39m\u001b[32m   3999\u001b[39m \n\u001b[32m   4000\u001b[39m \u001b[33;03m    \"\"\"\u001b[39;00m\n\u001b[32m-> \u001b[39m\u001b[32m4001\u001b[39m     \u001b[38;5;28;01mreturn\u001b[39;00m \u001b[43m_ureduce\u001b[49m\u001b[43m(\u001b[49m\u001b[43ma\u001b[49m\u001b[43m,\u001b[49m\u001b[43m \u001b[49m\u001b[43mfunc\u001b[49m\u001b[43m=\u001b[49m\u001b[43m_median\u001b[49m\u001b[43m,\u001b[49m\u001b[43m \u001b[49m\u001b[43mkeepdims\u001b[49m\u001b[43m=\u001b[49m\u001b[43mkeepdims\u001b[49m\u001b[43m,\u001b[49m\u001b[43m \u001b[49m\u001b[43maxis\u001b[49m\u001b[43m=\u001b[49m\u001b[43maxis\u001b[49m\u001b[43m,\u001b[49m\u001b[43m \u001b[49m\u001b[43mout\u001b[49m\u001b[43m=\u001b[49m\u001b[43mout\u001b[49m\u001b[43m,\u001b[49m\n\u001b[32m   4002\u001b[39m \u001b[43m                    \u001b[49m\u001b[43moverwrite_input\u001b[49m\u001b[43m=\u001b[49m\u001b[43moverwrite_input\u001b[49m\u001b[43m)\u001b[49m\n",
      "\u001b[36mFile \u001b[39m\u001b[32m~/miniconda3/envs/DatasetStatistics/lib/python3.12/site-packages/numpy/lib/_function_base_impl.py:3894\u001b[39m, in \u001b[36m_ureduce\u001b[39m\u001b[34m(a, func, keepdims, **kwargs)\u001b[39m\n\u001b[32m   3891\u001b[39m             index_out = (\u001b[32m0\u001b[39m, ) * nd\n\u001b[32m   3892\u001b[39m             kwargs[\u001b[33m'\u001b[39m\u001b[33mout\u001b[39m\u001b[33m'\u001b[39m] = out[(\u001b[38;5;28mEllipsis\u001b[39m, ) + index_out]\n\u001b[32m-> \u001b[39m\u001b[32m3894\u001b[39m r = \u001b[43mfunc\u001b[49m\u001b[43m(\u001b[49m\u001b[43ma\u001b[49m\u001b[43m,\u001b[49m\u001b[43m \u001b[49m\u001b[43m*\u001b[49m\u001b[43m*\u001b[49m\u001b[43mkwargs\u001b[49m\u001b[43m)\u001b[49m\n\u001b[32m   3896\u001b[39m \u001b[38;5;28;01mif\u001b[39;00m out \u001b[38;5;129;01mis\u001b[39;00m \u001b[38;5;129;01mnot\u001b[39;00m \u001b[38;5;28;01mNone\u001b[39;00m:\n\u001b[32m   3897\u001b[39m     \u001b[38;5;28;01mreturn\u001b[39;00m out\n",
      "\u001b[36mFile \u001b[39m\u001b[32m~/miniconda3/envs/DatasetStatistics/lib/python3.12/site-packages/numpy/lib/_function_base_impl.py:4034\u001b[39m, in \u001b[36m_median\u001b[39m\u001b[34m(a, axis, out, overwrite_input)\u001b[39m\n\u001b[32m   4032\u001b[39m         part = a\n\u001b[32m   4033\u001b[39m \u001b[38;5;28;01melse\u001b[39;00m:\n\u001b[32m-> \u001b[39m\u001b[32m4034\u001b[39m     part = \u001b[43mpartition\u001b[49m\u001b[43m(\u001b[49m\u001b[43ma\u001b[49m\u001b[43m,\u001b[49m\u001b[43m \u001b[49m\u001b[43mkth\u001b[49m\u001b[43m,\u001b[49m\u001b[43m \u001b[49m\u001b[43maxis\u001b[49m\u001b[43m=\u001b[49m\u001b[43maxis\u001b[49m\u001b[43m)\u001b[49m\n\u001b[32m   4036\u001b[39m \u001b[38;5;28;01mif\u001b[39;00m part.shape == ():\n\u001b[32m   4037\u001b[39m     \u001b[38;5;66;03m# make 0-D arrays work\u001b[39;00m\n\u001b[32m   4038\u001b[39m     \u001b[38;5;28;01mreturn\u001b[39;00m part.item()\n",
      "\u001b[36mFile \u001b[39m\u001b[32m~/miniconda3/envs/DatasetStatistics/lib/python3.12/site-packages/numpy/_core/fromnumeric.py:868\u001b[39m, in \u001b[36mpartition\u001b[39m\u001b[34m(a, kth, axis, kind, order)\u001b[39m\n\u001b[32m    866\u001b[39m \u001b[38;5;28;01melse\u001b[39;00m:\n\u001b[32m    867\u001b[39m     a = asanyarray(a).copy(order=\u001b[33m\"\u001b[39m\u001b[33mK\u001b[39m\u001b[33m\"\u001b[39m)\n\u001b[32m--> \u001b[39m\u001b[32m868\u001b[39m \u001b[43ma\u001b[49m\u001b[43m.\u001b[49m\u001b[43mpartition\u001b[49m\u001b[43m(\u001b[49m\u001b[43mkth\u001b[49m\u001b[43m,\u001b[49m\u001b[43m \u001b[49m\u001b[43maxis\u001b[49m\u001b[43m=\u001b[49m\u001b[43maxis\u001b[49m\u001b[43m,\u001b[49m\u001b[43m \u001b[49m\u001b[43mkind\u001b[49m\u001b[43m=\u001b[49m\u001b[43mkind\u001b[49m\u001b[43m,\u001b[49m\u001b[43m \u001b[49m\u001b[43morder\u001b[49m\u001b[43m=\u001b[49m\u001b[43morder\u001b[49m\u001b[43m)\u001b[49m\n\u001b[32m    869\u001b[39m \u001b[38;5;28;01mreturn\u001b[39;00m a\n",
      "\u001b[31mKeyboardInterrupt\u001b[39m: "
     ]
    }
   ],
   "source": [
    "\n",
    "\n",
    "for path in training_set_origins_LMNT01:\n",
    "    print(path)\n",
    "    silt_to_coco(path, include_sats=True, include_stars=False, convert_png=True, process_func=preprocess_func, notes=\"Mixture of ZScale, raw, and log-IQR for target injection imagery\")"
   ]
  },
  {
   "cell_type": "markdown",
   "id": "3526d6f9",
   "metadata": {},
   "source": [
    "## Convert SATSim to COCO"
   ]
  },
  {
   "cell_type": "code",
   "execution_count": 5,
   "id": "ccf3a46f",
   "metadata": {},
   "outputs": [
    {
     "name": "stderr",
     "output_type": "stream",
     "text": [
      "Converting Satsim to COCO:   6%|▋         | 319/5000 [00:06<01:33, 50.17it/s] \n"
     ]
    },
    {
     "ename": "KeyboardInterrupt",
     "evalue": "",
     "output_type": "error",
     "traceback": [
      "\u001b[31m---------------------------------------------------------------------------\u001b[39m",
      "\u001b[31mKeyboardInterrupt\u001b[39m                         Traceback (most recent call last)",
      "\u001b[36mCell\u001b[39m\u001b[36m \u001b[39m\u001b[32mIn[5]\u001b[39m\u001b[32m, line 3\u001b[39m\n\u001b[32m      1\u001b[39m satsim_path = \u001b[33m\"\u001b[39m\u001b[33m/home/davidchaparro/Repos/SatSim/output\u001b[39m\u001b[33m\"\u001b[39m\n\u001b[32m      2\u001b[39m output_dataset = \u001b[33m\"\u001b[39m\u001b[33m/data/Dataset_Compilation_and_Statistics/Sentinel_Datasets/Finalized_datasets/SatsimMixtureC\u001b[39m\u001b[33m\"\u001b[39m\n\u001b[32m----> \u001b[39m\u001b[32m3\u001b[39m \u001b[43msatsim_to_coco\u001b[49m\u001b[43m(\u001b[49m\u001b[43msatsim_path\u001b[49m\u001b[43m,\u001b[49m\u001b[43moutput_dataset\u001b[49m\u001b[43m,\u001b[49m\u001b[43minclude_sats\u001b[49m\u001b[43m=\u001b[49m\u001b[38;5;28;43;01mTrue\u001b[39;49;00m\u001b[43m,\u001b[49m\u001b[43m \u001b[49m\u001b[43minclude_stars\u001b[49m\u001b[43m=\u001b[49m\u001b[38;5;28;43;01mFalse\u001b[39;49;00m\u001b[43m,\u001b[49m\u001b[43m \u001b[49m\u001b[43mconvert_png\u001b[49m\u001b[43m=\u001b[49m\u001b[38;5;28;43;01mTrue\u001b[39;49;00m\u001b[43m,\u001b[49m\u001b[43m \u001b[49m\u001b[43mprocess_func\u001b[49m\u001b[43m=\u001b[49m\u001b[43mchannel_mixture_C\u001b[49m\u001b[43m,\u001b[49m\u001b[43m \u001b[49m\u001b[43mnotes\u001b[49m\u001b[43m=\u001b[49m\u001b[33;43m\"\u001b[39;49m\u001b[33;43m\"\u001b[39;49m\u001b[43m)\u001b[49m\n",
      "\u001b[36mFile \u001b[39m\u001b[32m/data/Dataset_Compilation_and_Statistics/data_connections/coco_tools.py:821\u001b[39m, in \u001b[36msatsim_to_coco\u001b[39m\u001b[34m(satsim_path, output_dataset, include_sats, include_stars, zip, convert_png, process_func, notes)\u001b[39m\n\u001b[32m    818\u001b[39m image_num = \u001b[38;5;28mfloat\u001b[39m(fits_name.split(\u001b[33m\"\u001b[39m\u001b[33m.\u001b[39m\u001b[33m\"\u001b[39m)[\u001b[32m1\u001b[39m])\n\u001b[32m    819\u001b[39m \u001b[38;5;28;01mwith\u001b[39;00m \u001b[38;5;28mopen\u001b[39m(json_file, \u001b[33m'\u001b[39m\u001b[33mr\u001b[39m\u001b[33m'\u001b[39m) \u001b[38;5;28;01mas\u001b[39;00m f:\n\u001b[32m    820\u001b[39m     \u001b[38;5;66;03m#Load satellite annotation data\u001b[39;00m\n\u001b[32m--> \u001b[39m\u001b[32m821\u001b[39m     json_data = \u001b[43mjson\u001b[49m\u001b[43m.\u001b[49m\u001b[43mload\u001b[49m\u001b[43m(\u001b[49m\u001b[43mf\u001b[49m\u001b[43m)\u001b[49m\n\u001b[32m    822\u001b[39m     object_list = json_data[\u001b[33m\"\u001b[39m\u001b[33mdata\u001b[39m\u001b[33m\"\u001b[39m][\u001b[33m\"\u001b[39m\u001b[33mobjects\u001b[39m\u001b[33m\"\u001b[39m]\n\u001b[32m    823\u001b[39m     data = json_data[\u001b[33m\"\u001b[39m\u001b[33mdata\u001b[39m\u001b[33m\"\u001b[39m]\n",
      "\u001b[36mFile \u001b[39m\u001b[32m~/miniconda3/envs/DatasetStatistics/lib/python3.12/json/__init__.py:293\u001b[39m, in \u001b[36mload\u001b[39m\u001b[34m(fp, cls, object_hook, parse_float, parse_int, parse_constant, object_pairs_hook, **kw)\u001b[39m\n\u001b[32m    274\u001b[39m \u001b[38;5;28;01mdef\u001b[39;00m\u001b[38;5;250m \u001b[39m\u001b[34mload\u001b[39m(fp, *, \u001b[38;5;28mcls\u001b[39m=\u001b[38;5;28;01mNone\u001b[39;00m, object_hook=\u001b[38;5;28;01mNone\u001b[39;00m, parse_float=\u001b[38;5;28;01mNone\u001b[39;00m,\n\u001b[32m    275\u001b[39m         parse_int=\u001b[38;5;28;01mNone\u001b[39;00m, parse_constant=\u001b[38;5;28;01mNone\u001b[39;00m, object_pairs_hook=\u001b[38;5;28;01mNone\u001b[39;00m, **kw):\n\u001b[32m    276\u001b[39m \u001b[38;5;250m    \u001b[39m\u001b[33;03m\"\"\"Deserialize ``fp`` (a ``.read()``-supporting file-like object containing\u001b[39;00m\n\u001b[32m    277\u001b[39m \u001b[33;03m    a JSON document) to a Python object.\u001b[39;00m\n\u001b[32m    278\u001b[39m \n\u001b[32m   (...)\u001b[39m\u001b[32m    291\u001b[39m \u001b[33;03m    kwarg; otherwise ``JSONDecoder`` is used.\u001b[39;00m\n\u001b[32m    292\u001b[39m \u001b[33;03m    \"\"\"\u001b[39;00m\n\u001b[32m--> \u001b[39m\u001b[32m293\u001b[39m     \u001b[38;5;28;01mreturn\u001b[39;00m loads(\u001b[43mfp\u001b[49m\u001b[43m.\u001b[49m\u001b[43mread\u001b[49m\u001b[43m(\u001b[49m\u001b[43m)\u001b[49m,\n\u001b[32m    294\u001b[39m         \u001b[38;5;28mcls\u001b[39m=\u001b[38;5;28mcls\u001b[39m, object_hook=object_hook,\n\u001b[32m    295\u001b[39m         parse_float=parse_float, parse_int=parse_int,\n\u001b[32m    296\u001b[39m         parse_constant=parse_constant, object_pairs_hook=object_pairs_hook, **kw)\n",
      "\u001b[36mFile \u001b[39m\u001b[32m<frozen codecs>:319\u001b[39m, in \u001b[36mdecode\u001b[39m\u001b[34m(self, input, final)\u001b[39m\n",
      "\u001b[31mKeyboardInterrupt\u001b[39m: "
     ]
    }
   ],
   "source": [
    "satsim_path = \"/home/davidchaparro/Repos/SatSim/output\"\n",
    "output_dataset = \"/data/Dataset_Compilation_and_Statistics/Sentinel_Datasets/Finalized_datasets/SatsimMixtureC\"\n",
    "satsim_to_coco(satsim_path,output_dataset,include_sats=True, include_stars=False, convert_png=True, process_func=channel_mixture_C, notes=\"\")"
   ]
  },
  {
   "cell_type": "markdown",
   "id": "cbb48e98",
   "metadata": {},
   "source": [
    "## Convert Silt to Panoptic COCO"
   ]
  },
  {
   "cell_type": "code",
   "execution_count": 6,
   "id": "4e93fe0b",
   "metadata": {},
   "outputs": [
    {
     "name": "stdout",
     "output_type": "stream",
     "text": [
      "Deleted folder: /data/Dataset_Compilation_and_Statistics/Sentinel_Datasets/LMNT01_Raw/LMNT01Sat-2024-08-04/images\n",
      "Deleted folder: /data/Dataset_Compilation_and_Statistics/Sentinel_Datasets/LMNT01_Raw/LMNT01Sat-2024-08-04/annotations\n",
      "Deleted folder: /data/Dataset_Compilation_and_Statistics/Sentinel_Datasets/LMNT01_Raw/LMNT01Sat-2024-08-04/multiframe_annotations\n"
     ]
    },
    {
     "name": "stderr",
     "output_type": "stream",
     "text": [
      "Converting Silt to COCO:   0%|          | 0/535 [00:00<?, ?it/s]"
     ]
    },
    {
     "name": "stderr",
     "output_type": "stream",
     "text": [
      "Converting Silt to COCO: 100%|██████████| 535/535 [04:35<00:00,  1.94it/s]\n"
     ]
    }
   ],
   "source": [
    "# for path in training_set_origins_LMNT01:\n",
    "for path in [LA8]:\n",
    "    silt_to_coco_panoptic(path, process_func=preprocess_func, percent_empty_data=0.33, overlap=10, notes=\"Mixture of ZScale, raw, and log-IQR for Panoptic COCO imagery at 10 percent overlap, no empty frames\")"
   ]
  },
  {
   "cell_type": "markdown",
   "id": "3f496708",
   "metadata": {},
   "source": [
    "## Merge Datasets"
   ]
  },
  {
   "cell_type": "markdown",
   "id": "3f5130a4",
   "metadata": {},
   "source": [
    "### Merge Training Sets"
   ]
  },
  {
   "cell_type": "code",
   "execution_count": 9,
   "id": "1ebff69b",
   "metadata": {},
   "outputs": [
    {
     "name": "stderr",
     "output_type": "stream",
     "text": [
      "Processing COCO Datasets: 100%|██████████| 8/8 [00:02<00:00,  3.51it/s]\n",
      "Copying images: 100%|██████████| 6737/6737 [02:19<00:00, 48.17it/s] \n",
      "Copying images: 100%|██████████| 743/743 [00:14<00:00, 50.77it/s] \n",
      "Copying images: 0it [00:00, ?it/s]\n"
     ]
    }
   ],
   "source": [
    "merge_coco(training_set_origins_LMNT01, training_set_output_path_LMNT01, train_test_split=True, train_ratio=.9, val_ratio=.1, test_ratio=0, notes=\"2 Months of L2 data, no chipping \")\n",
    "\n"
   ]
  },
  {
   "cell_type": "code",
   "execution_count": 5,
   "id": "bb2f4dfe",
   "metadata": {},
   "outputs": [],
   "source": [
    "satsim_data = \"/data/Dataset_Compilation_and_Statistics/Sentinel_Datasets/Finalized_datasets/satsim_sats_dataset\"\n",
    "training_set_origins_RME04.append(satsim_data)\n",
    "training_set_origins_LMNT01.append(satsim_data)\n",
    "training_set_origins_LMNT02.append(satsim_data)"
   ]
  },
  {
   "cell_type": "markdown",
   "id": "a1e4f611",
   "metadata": {},
   "source": [
    "### Merging Panoptic COCO"
   ]
  },
  {
   "cell_type": "code",
   "execution_count": null,
   "id": "8c851560",
   "metadata": {},
   "outputs": [
    {
     "name": "stdout",
     "output_type": "stream",
     "text": [
      "['/data/Dataset_Compilation_and_Statistics/Sentinel_Datasets/LMNT01_Raw/LMNT01Sat-2024-08-04', '/data/Dataset_Compilation_and_Statistics/Sentinel_Datasets/LMNT01_Raw/LMNT01Sat-2024-08-20', '/data/Dataset_Compilation_and_Statistics/Sentinel_Datasets/LMNT01_Raw/LMNT01Sat-2024-09-13', '/data/Dataset_Compilation_and_Statistics/Sentinel_Datasets/LMNT01_Raw/LMNT01Sat-2024-09-25', '/data/Dataset_Compilation_and_Statistics/Sentinel_Datasets/LMNT01_Raw/LMNT01Sat-2024-10-06', '/data/Dataset_Compilation_and_Statistics/Sentinel_Datasets/LMNT01_Raw/LMNT01Sat-2024-10-15', '/data/Dataset_Compilation_and_Statistics/Sentinel_Datasets/LMNT01_Raw/LMNT01Sat-2024-10-23', '/data/Dataset_Compilation_and_Statistics/Sentinel_Datasets/LMNT01_Raw/LMNT01Sat-2024-10-30']\n"
     ]
    },
    {
     "name": "stderr",
     "output_type": "stream",
     "text": [
      "Processing COCO Datasets: 100%|██████████| 8/8 [00:00<00:00, 15.33it/s]\n",
      "Copying images: 100%|██████████| 26863/26863 [00:07<00:00, 3468.09it/s]\n",
      "Copying images: 100%|██████████| 6699/6699 [00:01<00:00, 3534.65it/s]\n",
      "Copying images: 0it [00:00, ?it/s]\n"
     ]
    }
   ],
   "source": [
    "#For Creating Training Sets\n",
    "# training_set_origins = [T1, T2, T3, T4, T5, T6, T7, T8, T9, T10, T11]\n",
    "# satsim_data = \"/data/Dataset_Compilation_and_Statistics/Sentinel_Datasets/Finalized_datasets/SatsimMixtureC\"\n",
    "# satsim_output_data = \"/data/Dataset_Compilation_and_Statistics/Sentinel_Datasets/Finalized_datasets/SatsimMCTrain\"\n",
    "# origins = [training_set_origins_LMNT02, training_set_origins_LMNT01, training_set_origins_RME04]\n",
    "training_set_output_path_LMNT01 = os.path.join(final_data_path, f\"Panoptic_MC_LMNT01_train_30_Overlap\")\n",
    "training_set_output_path_LMNT02 = os.path.join(final_data_path, f\"Panoptic_MC_LMNT02_train_random_overlap\")\n",
    "training_set_output_path_RME04 = os.path.join(final_data_path, f\"Panoptic_MC_RME04_train_random_overlap\")\n",
    "\n",
    "origins = []\n",
    "origins.extend(training_set_origins_LMNT01)\n",
    "# origins.extend(training_set_origins_LMNT02)\n",
    "# origins.extend(training_set_origins_RME04)\n",
    "# origins.append(satsim_data)\n",
    "print(origins)\n",
    "# total_data_path = os.path.join(final_data_path, f\"Panoptic_MC_AllData_train\") #REDO THIS ONE\n",
    "\n",
    "merge_coco(origins, training_set_output_path_LMNT01, train_test_split=True, train_ratio=.75, val_ratio=.15, test_ratio=0.15, notes=\"LMNT01 10percent overlap with no empty frames for SNR Curriculum Learning study \")\n",
    "# clear_local_caches(os.path.dirname(training_set_origins[0]))"
   ]
  },
  {
   "cell_type": "markdown",
   "id": "f98ddbcf",
   "metadata": {},
   "source": [
    "### Merge Evaluation Sets"
   ]
  },
  {
   "cell_type": "code",
   "execution_count": null,
   "id": "778a7bd2",
   "metadata": {},
   "outputs": [
    {
     "name": "stderr",
     "output_type": "stream",
     "text": [
      "Converting Silt to COCO: 100%|██████████| 609/609 [00:25<00:00, 23.96it/s]\n",
      "Copying images: 100%|██████████| 609/609 [18:49<00:00,  1.85s/it]\n",
      "Processing COCO Datasets: 100%|██████████| 1/1 [00:00<00:00, 63.17it/s]\n",
      "Copying images: 100%|██████████| 609/609 [00:02<00:00, 278.34it/s]\n"
     ]
    },
    {
     "name": "stdout",
     "output_type": "stream",
     "text": [
      "Removed: /data/Sentinel_Datasets/LMNT02_Raw/LMNT02Sat-2024-09-06/annotations\n",
      "Removed: /data/Sentinel_Datasets/LMNT02_Raw/LMNT02Sat-2024-09-06/images\n",
      "Removed: /data/Sentinel_Datasets/LMNT02_Raw/LMNT02Sat-2024-11-14/annotations\n",
      "Removed: /data/Sentinel_Datasets/LMNT02_Raw/LMNT02Sat-2024-11-14/images\n"
     ]
    },
    {
     "name": "stderr",
     "output_type": "stream",
     "text": [
      "Converting Silt to COCO: 100%|██████████| 572/572 [00:22<00:00, 25.37it/s]\n",
      "Copying images: 100%|██████████| 572/572 [17:13<00:00,  1.81s/it]\n",
      "Processing COCO Datasets: 100%|██████████| 1/1 [00:00<00:00, 88.10it/s]\n",
      "Copying images: 100%|██████████| 572/572 [00:02<00:00, 274.83it/s]\n"
     ]
    },
    {
     "name": "stdout",
     "output_type": "stream",
     "text": [
      "Removed: /data/Sentinel_Datasets/LMNT02_Raw/LMNT02Sat-2024-11-14/annotations\n",
      "Removed: /data/Sentinel_Datasets/LMNT02_Raw/LMNT02Sat-2024-11-14/images\n"
     ]
    },
    {
     "name": "stderr",
     "output_type": "stream",
     "text": [
      "Converting Silt to COCO: 100%|██████████| 522/522 [00:21<00:00, 23.98it/s]\n",
      "Copying images: 100%|██████████| 522/522 [16:31<00:00,  1.90s/it]\n",
      "Processing COCO Datasets: 100%|██████████| 1/1 [00:00<00:00, 75.25it/s]\n",
      "Copying images: 100%|██████████| 522/522 [00:01<00:00, 285.12it/s]\n"
     ]
    },
    {
     "name": "stdout",
     "output_type": "stream",
     "text": [
      "Removed: /data/Sentinel_Datasets/LMNT02_Raw/LMNT02Sat-2024-12-07/annotations\n",
      "Removed: /data/Sentinel_Datasets/LMNT02_Raw/LMNT02Sat-2024-12-07/images\n"
     ]
    },
    {
     "name": "stderr",
     "output_type": "stream",
     "text": [
      "Converting Silt to COCO: 100%|██████████| 1859/1859 [01:15<00:00, 24.72it/s]\n",
      "Copying images: 100%|██████████| 1859/1859 [56:25<00:00,  1.82s/it]\n",
      "Processing COCO Datasets: 100%|██████████| 1/1 [00:00<00:00, 32.79it/s]\n",
      "Copying images: 100%|██████████| 1859/1859 [00:06<00:00, 270.88it/s]\n"
     ]
    },
    {
     "name": "stdout",
     "output_type": "stream",
     "text": [
      "Removed: /data/Sentinel_Datasets/LMNT02_Raw/LMNT02Sat-2024-09-14/annotations\n",
      "Removed: /data/Sentinel_Datasets/LMNT02_Raw/LMNT02Sat-2024-09-14/images\n"
     ]
    },
    {
     "name": "stderr",
     "output_type": "stream",
     "text": [
      "Converting Silt to COCO: 100%|██████████| 1122/1122 [00:47<00:00, 23.60it/s]\n",
      "Copying images: 100%|██████████| 1122/1122 [34:32<00:00,  1.85s/it]\n",
      "Processing COCO Datasets: 100%|██████████| 1/1 [00:00<00:00, 56.50it/s]\n",
      "Copying images: 100%|██████████| 1122/1122 [00:04<00:00, 264.46it/s]\n"
     ]
    },
    {
     "name": "stdout",
     "output_type": "stream",
     "text": [
      "Removed: /data/Sentinel_Datasets/LMNT02_Raw/LMNT02Sat-2024-11-07/annotations\n",
      "Removed: /data/Sentinel_Datasets/LMNT02_Raw/LMNT02Sat-2024-11-07/images\n"
     ]
    },
    {
     "name": "stderr",
     "output_type": "stream",
     "text": [
      "Converting Silt to COCO: 100%|██████████| 463/463 [00:19<00:00, 23.80it/s]\n",
      "Copying images: 100%|██████████| 463/463 [14:28<00:00,  1.88s/it]\n",
      "Processing COCO Datasets: 100%|██████████| 1/1 [00:00<00:00, 90.92it/s]\n",
      "Copying images: 100%|██████████| 463/463 [00:01<00:00, 242.80it/s]\n"
     ]
    },
    {
     "name": "stdout",
     "output_type": "stream",
     "text": [
      "Removed: /data/Sentinel_Datasets/LMNT02_Raw/LMNT02Sat-2024-10-08/annotations\n",
      "Removed: /data/Sentinel_Datasets/LMNT02_Raw/LMNT02Sat-2024-10-08/images\n"
     ]
    },
    {
     "name": "stderr",
     "output_type": "stream",
     "text": [
      "Converting Silt to COCO: 100%|██████████| 570/570 [00:24<00:00, 23.34it/s]\n",
      "Copying images: 100%|██████████| 570/570 [18:29<00:00,  1.95s/it]\n",
      "Processing COCO Datasets: 100%|██████████| 1/1 [00:00<00:00, 93.40it/s]\n",
      "Copying images: 100%|██████████| 570/570 [00:02<00:00, 266.13it/s]\n"
     ]
    },
    {
     "name": "stdout",
     "output_type": "stream",
     "text": [
      "Removed: /data/Sentinel_Datasets/LMNT02_Raw/LMNT02Sat-2024-10-30/annotations\n",
      "Removed: /data/Sentinel_Datasets/LMNT02_Raw/LMNT02Sat-2024-10-30/images\n"
     ]
    },
    {
     "name": "stderr",
     "output_type": "stream",
     "text": [
      "Converting Silt to COCO: 100%|██████████| 756/756 [00:32<00:00, 23.61it/s]\n",
      "Copying images: 100%|██████████| 756/756 [23:49<00:00,  1.89s/it]\n",
      "Processing COCO Datasets: 100%|██████████| 1/1 [00:00<00:00, 45.54it/s]\n",
      "Copying images: 100%|██████████| 756/756 [00:03<00:00, 246.50it/s]\n"
     ]
    },
    {
     "name": "stdout",
     "output_type": "stream",
     "text": [
      "Removed: /data/Sentinel_Datasets/LMNT02_Raw/LMNT02Sat-2024-10-10/annotations\n",
      "Removed: /data/Sentinel_Datasets/LMNT02_Raw/LMNT02Sat-2024-10-10/images\n"
     ]
    },
    {
     "name": "stderr",
     "output_type": "stream",
     "text": [
      "Converting Silt to COCO: 100%|██████████| 2795/2795 [01:58<00:00, 23.63it/s]\n",
      "Copying images: 100%|██████████| 2795/2795 [1:29:16<00:00,  1.92s/it]\n",
      "Processing COCO Datasets: 100%|██████████| 1/1 [00:00<00:00, 20.05it/s]\n",
      "Copying images: 100%|██████████| 2795/2795 [00:10<00:00, 270.55it/s]\n"
     ]
    },
    {
     "name": "stdout",
     "output_type": "stream",
     "text": [
      "Removed: /data/Sentinel_Datasets/LMNT02_Raw/LMNT02Sat-2024-12-24/annotations\n",
      "Removed: /data/Sentinel_Datasets/LMNT02_Raw/LMNT02Sat-2024-12-24/images\n"
     ]
    },
    {
     "name": "stderr",
     "output_type": "stream",
     "text": [
      "Converting Silt to COCO: 100%|██████████| 1607/1607 [01:07<00:00, 23.98it/s]\n",
      "Copying images: 100%|██████████| 1607/1607 [51:06<00:00,  1.91s/it]\n",
      "Processing COCO Datasets: 100%|██████████| 1/1 [00:00<00:00, 34.20it/s]\n",
      "Copying images: 100%|██████████| 1607/1607 [00:05<00:00, 270.77it/s]\n"
     ]
    },
    {
     "name": "stdout",
     "output_type": "stream",
     "text": [
      "Removed: /data/Sentinel_Datasets/LMNT02_Raw/LMNT02Sat-2024-12-31/annotations\n",
      "Removed: /data/Sentinel_Datasets/LMNT02_Raw/LMNT02Sat-2024-12-31/images\n"
     ]
    },
    {
     "name": "stderr",
     "output_type": "stream",
     "text": [
      "Converting Silt to COCO: 100%|██████████| 519/519 [00:19<00:00, 26.34it/s]\n",
      "Copying images: 100%|██████████| 519/519 [15:20<00:00,  1.77s/it]\n",
      "Processing COCO Datasets: 100%|██████████| 1/1 [00:00<00:00, 103.29it/s]\n",
      "Copying images: 100%|██████████| 519/519 [00:01<00:00, 311.66it/s]\n"
     ]
    },
    {
     "name": "stdout",
     "output_type": "stream",
     "text": [
      "Removed: /data/Sentinel_Datasets/LMNT02_Raw/LMNT02Sat-2024-11-19/annotations\n",
      "Removed: /data/Sentinel_Datasets/LMNT02_Raw/LMNT02Sat-2024-11-19/images\n"
     ]
    },
    {
     "name": "stderr",
     "output_type": "stream",
     "text": [
      "Converting Silt to COCO: 100%|██████████| 1236/1236 [00:51<00:00, 24.10it/s]\n",
      "Copying images: 100%|██████████| 1236/1236 [39:57<00:00,  1.94s/it]\n",
      "Processing COCO Datasets: 100%|██████████| 1/1 [00:00<00:00, 52.64it/s]\n",
      "Copying images: 100%|██████████| 1236/1236 [00:04<00:00, 263.31it/s]\n"
     ]
    },
    {
     "name": "stdout",
     "output_type": "stream",
     "text": [
      "Removed: /data/Sentinel_Datasets/LMNT02_Raw/LMNT02Sat-2024-10-31/annotations\n",
      "Removed: /data/Sentinel_Datasets/LMNT02_Raw/LMNT02Sat-2024-10-31/images\n"
     ]
    },
    {
     "name": "stderr",
     "output_type": "stream",
     "text": [
      "Converting Silt to COCO: 100%|██████████| 1596/1596 [01:07<00:00, 23.59it/s]\n",
      "Copying images:  76%|███████▌  | 1210/1596 [38:49<12:23,  1.93s/it]\n"
     ]
    },
    {
     "ename": "OSError",
     "evalue": "[Errno 28] No space left on device",
     "output_type": "error",
     "traceback": [
      "\u001b[31m---------------------------------------------------------------------------\u001b[39m",
      "\u001b[31mAttributeError\u001b[39m                            Traceback (most recent call last)",
      "\u001b[36mFile \u001b[39m\u001b[32m~/miniconda3/envs/DatasetStatistics/lib/python3.12/site-packages/PIL/ImageFile.py:643\u001b[39m, in \u001b[36m_save\u001b[39m\u001b[34m(im, fp, tile, bufsize)\u001b[39m\n\u001b[32m    642\u001b[39m \u001b[38;5;28;01mtry\u001b[39;00m:\n\u001b[32m--> \u001b[39m\u001b[32m643\u001b[39m     fh = \u001b[43mfp\u001b[49m\u001b[43m.\u001b[49m\u001b[43mfileno\u001b[49m()\n\u001b[32m    644\u001b[39m     fp.flush()\n",
      "\u001b[31mAttributeError\u001b[39m: '_idat' object has no attribute 'fileno'",
      "\nDuring handling of the above exception, another exception occurred:\n",
      "\u001b[31mOSError\u001b[39m                                   Traceback (most recent call last)",
      "\u001b[36mCell\u001b[39m\u001b[36m \u001b[39m\u001b[32mIn[3]\u001b[39m\u001b[32m, line 3\u001b[39m\n\u001b[32m      1\u001b[39m \u001b[38;5;66;03m# For creating Evaluation Sets\u001b[39;00m\n\u001b[32m      2\u001b[39m \u001b[38;5;28;01mfor\u001b[39;00m origin, destination \u001b[38;5;129;01min\u001b[39;00m \u001b[38;5;28mzip\u001b[39m(eval_origins, eval_finals):\n\u001b[32m----> \u001b[39m\u001b[32m3\u001b[39m     \u001b[43msilt_to_coco\u001b[49m\u001b[43m(\u001b[49m\u001b[43morigin\u001b[49m\u001b[43m,\u001b[49m\u001b[43m \u001b[49m\u001b[43minclude_sats\u001b[49m\u001b[43m=\u001b[49m\u001b[38;5;28;43;01mTrue\u001b[39;49;00m\u001b[43m,\u001b[49m\u001b[43m \u001b[49m\u001b[43minclude_stars\u001b[49m\u001b[43m=\u001b[49m\u001b[38;5;28;43;01mFalse\u001b[39;49;00m\u001b[43m,\u001b[49m\u001b[43m \u001b[49m\u001b[43mconvert_png\u001b[49m\u001b[43m=\u001b[49m\u001b[38;5;28;43;01mTrue\u001b[39;49;00m\u001b[43m,\u001b[49m\u001b[43m \u001b[49m\u001b[43mprocess_func\u001b[49m\u001b[43m=\u001b[49m\u001b[43mpreprocess_func\u001b[49m\u001b[43m,\u001b[49m\u001b[43m \u001b[49m\u001b[43mnotes\u001b[49m\u001b[43m=\u001b[49m\u001b[33;43m\"\u001b[39;49m\u001b[33;43mMixture of ZScale, raw, and log-IQR\u001b[39;49m\u001b[33;43m\"\u001b[39;49m\u001b[43m)\u001b[49m\n\u001b[32m      4\u001b[39m     merge_coco([origin], destination, train_test_split=\u001b[38;5;28;01mFalse\u001b[39;00m, train_ratio=\u001b[32m0\u001b[39m, val_ratio=\u001b[32m0\u001b[39m, test_ratio=\u001b[32m1\u001b[39m, notes=\u001b[33m\"\u001b[39m\u001b[33mLMNT02 dataset with satellites and MultiChannel C\u001b[39m\u001b[33m\"\u001b[39m)\n\u001b[32m      5\u001b[39m     clear_local_caches(os.path.dirname(origin))\n",
      "\u001b[36mFile \u001b[39m\u001b[32m~/Repos/Dataset_Compilation_and_Statistics/data_connections/coco_tools.py:381\u001b[39m, in \u001b[36msilt_to_coco\u001b[39m\u001b[34m(silt_dataset_path, include_sats, include_stars, zip, convert_png, process_func, notes)\u001b[39m\n\u001b[32m    379\u001b[39m     data = np.transpose(data, (\u001b[32m1\u001b[39m,\u001b[32m2\u001b[39m,\u001b[32m0\u001b[39m))\n\u001b[32m    380\u001b[39m     png = Image.fromarray(data)\n\u001b[32m--> \u001b[39m\u001b[32m381\u001b[39m     \u001b[43mpng\u001b[49m\u001b[43m.\u001b[49m\u001b[43msave\u001b[49m\u001b[43m(\u001b[49m\u001b[43mnew_file_name\u001b[49m\u001b[43m)\u001b[49m\n\u001b[32m    382\u001b[39m \u001b[38;5;28;01melse\u001b[39;00m:\n\u001b[32m    383\u001b[39m     destination_path = shutil.copy(image, images_folder)\n",
      "\u001b[36mFile \u001b[39m\u001b[32m~/miniconda3/envs/DatasetStatistics/lib/python3.12/site-packages/PIL/Image.py:2581\u001b[39m, in \u001b[36mImage.save\u001b[39m\u001b[34m(self, fp, format, **params)\u001b[39m\n\u001b[32m   2578\u001b[39m     fp = cast(IO[\u001b[38;5;28mbytes\u001b[39m], fp)\n\u001b[32m   2580\u001b[39m \u001b[38;5;28;01mtry\u001b[39;00m:\n\u001b[32m-> \u001b[39m\u001b[32m2581\u001b[39m     \u001b[43msave_handler\u001b[49m\u001b[43m(\u001b[49m\u001b[38;5;28;43mself\u001b[39;49m\u001b[43m,\u001b[49m\u001b[43m \u001b[49m\u001b[43mfp\u001b[49m\u001b[43m,\u001b[49m\u001b[43m \u001b[49m\u001b[43mfilename\u001b[49m\u001b[43m)\u001b[49m\n\u001b[32m   2582\u001b[39m \u001b[38;5;28;01mexcept\u001b[39;00m \u001b[38;5;167;01mException\u001b[39;00m:\n\u001b[32m   2583\u001b[39m     \u001b[38;5;28;01mif\u001b[39;00m open_fp:\n",
      "\u001b[36mFile \u001b[39m\u001b[32m~/miniconda3/envs/DatasetStatistics/lib/python3.12/site-packages/PIL/PngImagePlugin.py:1492\u001b[39m, in \u001b[36m_save\u001b[39m\u001b[34m(im, fp, filename, chunk, save_all)\u001b[39m\n\u001b[32m   1488\u001b[39m     single_im = _write_multiple_frames(\n\u001b[32m   1489\u001b[39m         im, fp, chunk, mode, rawmode, default_image, append_images\n\u001b[32m   1490\u001b[39m     )\n\u001b[32m   1491\u001b[39m \u001b[38;5;28;01mif\u001b[39;00m single_im:\n\u001b[32m-> \u001b[39m\u001b[32m1492\u001b[39m     \u001b[43mImageFile\u001b[49m\u001b[43m.\u001b[49m\u001b[43m_save\u001b[49m\u001b[43m(\u001b[49m\n\u001b[32m   1493\u001b[39m \u001b[43m        \u001b[49m\u001b[43msingle_im\u001b[49m\u001b[43m,\u001b[49m\n\u001b[32m   1494\u001b[39m \u001b[43m        \u001b[49m\u001b[43mcast\u001b[49m\u001b[43m(\u001b[49m\u001b[43mIO\u001b[49m\u001b[43m[\u001b[49m\u001b[38;5;28;43mbytes\u001b[39;49m\u001b[43m]\u001b[49m\u001b[43m,\u001b[49m\u001b[43m \u001b[49m\u001b[43m_idat\u001b[49m\u001b[43m(\u001b[49m\u001b[43mfp\u001b[49m\u001b[43m,\u001b[49m\u001b[43m \u001b[49m\u001b[43mchunk\u001b[49m\u001b[43m)\u001b[49m\u001b[43m)\u001b[49m\u001b[43m,\u001b[49m\n\u001b[32m   1495\u001b[39m \u001b[43m        \u001b[49m\u001b[43m[\u001b[49m\u001b[43mImageFile\u001b[49m\u001b[43m.\u001b[49m\u001b[43m_Tile\u001b[49m\u001b[43m(\u001b[49m\u001b[33;43m\"\u001b[39;49m\u001b[33;43mzip\u001b[39;49m\u001b[33;43m\"\u001b[39;49m\u001b[43m,\u001b[49m\u001b[43m \u001b[49m\u001b[43m(\u001b[49m\u001b[32;43m0\u001b[39;49m\u001b[43m,\u001b[49m\u001b[43m \u001b[49m\u001b[32;43m0\u001b[39;49m\u001b[43m)\u001b[49m\u001b[43m \u001b[49m\u001b[43m+\u001b[49m\u001b[43m \u001b[49m\u001b[43msingle_im\u001b[49m\u001b[43m.\u001b[49m\u001b[43msize\u001b[49m\u001b[43m,\u001b[49m\u001b[43m \u001b[49m\u001b[32;43m0\u001b[39;49m\u001b[43m,\u001b[49m\u001b[43m \u001b[49m\u001b[43mrawmode\u001b[49m\u001b[43m)\u001b[49m\u001b[43m]\u001b[49m\u001b[43m,\u001b[49m\n\u001b[32m   1496\u001b[39m \u001b[43m    \u001b[49m\u001b[43m)\u001b[49m\n\u001b[32m   1498\u001b[39m \u001b[38;5;28;01mif\u001b[39;00m info:\n\u001b[32m   1499\u001b[39m     \u001b[38;5;28;01mfor\u001b[39;00m info_chunk \u001b[38;5;129;01min\u001b[39;00m info.chunks:\n",
      "\u001b[36mFile \u001b[39m\u001b[32m~/miniconda3/envs/DatasetStatistics/lib/python3.12/site-packages/PIL/ImageFile.py:647\u001b[39m, in \u001b[36m_save\u001b[39m\u001b[34m(im, fp, tile, bufsize)\u001b[39m\n\u001b[32m    645\u001b[39m     _encode_tile(im, fp, tile, bufsize, fh)\n\u001b[32m    646\u001b[39m \u001b[38;5;28;01mexcept\u001b[39;00m (\u001b[38;5;167;01mAttributeError\u001b[39;00m, io.UnsupportedOperation) \u001b[38;5;28;01mas\u001b[39;00m exc:\n\u001b[32m--> \u001b[39m\u001b[32m647\u001b[39m     \u001b[43m_encode_tile\u001b[49m\u001b[43m(\u001b[49m\u001b[43mim\u001b[49m\u001b[43m,\u001b[49m\u001b[43m \u001b[49m\u001b[43mfp\u001b[49m\u001b[43m,\u001b[49m\u001b[43m \u001b[49m\u001b[43mtile\u001b[49m\u001b[43m,\u001b[49m\u001b[43m \u001b[49m\u001b[43mbufsize\u001b[49m\u001b[43m,\u001b[49m\u001b[43m \u001b[49m\u001b[38;5;28;43;01mNone\u001b[39;49;00m\u001b[43m,\u001b[49m\u001b[43m \u001b[49m\u001b[43mexc\u001b[49m\u001b[43m)\u001b[49m\n\u001b[32m    648\u001b[39m \u001b[38;5;28;01mif\u001b[39;00m \u001b[38;5;28mhasattr\u001b[39m(fp, \u001b[33m\"\u001b[39m\u001b[33mflush\u001b[39m\u001b[33m\"\u001b[39m):\n\u001b[32m    649\u001b[39m     fp.flush()\n",
      "\u001b[36mFile \u001b[39m\u001b[32m~/miniconda3/envs/DatasetStatistics/lib/python3.12/site-packages/PIL/ImageFile.py:674\u001b[39m, in \u001b[36m_encode_tile\u001b[39m\u001b[34m(im, fp, tile, bufsize, fh, exc)\u001b[39m\n\u001b[32m    672\u001b[39m \u001b[38;5;28;01mwhile\u001b[39;00m \u001b[38;5;28;01mTrue\u001b[39;00m:\n\u001b[32m    673\u001b[39m     errcode, data = encoder.encode(bufsize)[\u001b[32m1\u001b[39m:]\n\u001b[32m--> \u001b[39m\u001b[32m674\u001b[39m     \u001b[43mfp\u001b[49m\u001b[43m.\u001b[49m\u001b[43mwrite\u001b[49m\u001b[43m(\u001b[49m\u001b[43mdata\u001b[49m\u001b[43m)\u001b[49m\n\u001b[32m    675\u001b[39m     \u001b[38;5;28;01mif\u001b[39;00m errcode:\n\u001b[32m    676\u001b[39m         \u001b[38;5;28;01mbreak\u001b[39;00m\n",
      "\u001b[36mFile \u001b[39m\u001b[32m~/miniconda3/envs/DatasetStatistics/lib/python3.12/site-packages/PIL/PngImagePlugin.py:1136\u001b[39m, in \u001b[36m_idat.write\u001b[39m\u001b[34m(self, data)\u001b[39m\n\u001b[32m   1135\u001b[39m \u001b[38;5;28;01mdef\u001b[39;00m\u001b[38;5;250m \u001b[39m\u001b[34mwrite\u001b[39m(\u001b[38;5;28mself\u001b[39m, data: \u001b[38;5;28mbytes\u001b[39m) -> \u001b[38;5;28;01mNone\u001b[39;00m:\n\u001b[32m-> \u001b[39m\u001b[32m1136\u001b[39m     \u001b[38;5;28;43mself\u001b[39;49m\u001b[43m.\u001b[49m\u001b[43mchunk\u001b[49m\u001b[43m(\u001b[49m\u001b[38;5;28;43mself\u001b[39;49m\u001b[43m.\u001b[49m\u001b[43mfp\u001b[49m\u001b[43m,\u001b[49m\u001b[43m \u001b[49m\u001b[33;43mb\u001b[39;49m\u001b[33;43m\"\u001b[39;49m\u001b[33;43mIDAT\u001b[39;49m\u001b[33;43m\"\u001b[39;49m\u001b[43m,\u001b[49m\u001b[43m \u001b[49m\u001b[43mdata\u001b[49m\u001b[43m)\u001b[49m\n",
      "\u001b[36mFile \u001b[39m\u001b[32m~/miniconda3/envs/DatasetStatistics/lib/python3.12/site-packages/PIL/PngImagePlugin.py:1123\u001b[39m, in \u001b[36mputchunk\u001b[39m\u001b[34m(fp, cid, *data)\u001b[39m\n\u001b[32m   1120\u001b[39m byte_data = \u001b[33mb\u001b[39m\u001b[33m\"\u001b[39m\u001b[33m\"\u001b[39m.join(data)\n\u001b[32m   1122\u001b[39m fp.write(o32(\u001b[38;5;28mlen\u001b[39m(byte_data)) + cid)\n\u001b[32m-> \u001b[39m\u001b[32m1123\u001b[39m \u001b[43mfp\u001b[49m\u001b[43m.\u001b[49m\u001b[43mwrite\u001b[49m\u001b[43m(\u001b[49m\u001b[43mbyte_data\u001b[49m\u001b[43m)\u001b[49m\n\u001b[32m   1124\u001b[39m crc = _crc32(byte_data, _crc32(cid))\n\u001b[32m   1125\u001b[39m fp.write(o32(crc))\n",
      "\u001b[31mOSError\u001b[39m: [Errno 28] No space left on device"
     ]
    }
   ],
   "source": [
    "# training_set_origins_LMNT01 = [LA1, LA2, LA3, LA4, LA5, LA6, LA7] # ORIGINAL TRAINING SET DO NOT DELETE\n",
    "training_set_origins_LMNT01 = [LA8, LA9, LA10, LA11, LA12, LA13, LA14, LA15]\n",
    "# training_set_origins_LMNT01 = [LA1, LA2, LA3, LA4, LA5, LA6, LA7, LA10, LA11, LA12, LA13, LA14, LA15]\n",
    "training_set_output_path_LMNT01 = os.path.join(final_data_path, f\"Panoptic_LMNT01_No_Chipping_train\")\n",
    "\n",
    "# For creating Evaluation Sets\n",
    "for origin, destination in zip(eval_origins, eval_finals):\n",
    "    silt_to_coco(origin, include_sats=True, include_stars=False, convert_png=True, process_func=preprocess_func, notes=\"Mixture of ZScale, raw, and log-IQR\")\n",
    "    merge_coco([origin], destination, train_test_split=False, train_ratio=0, val_ratio=0, test_ratio=1, notes=\"LMNT02 dataset with satellites and MultiChannel C\")\n",
    "    clear_local_caches(os.path.dirname(origin))"
   ]
  },
  {
   "cell_type": "markdown",
   "id": "055c5eb5",
   "metadata": {},
   "source": [
    "### Curriculum Learning Datasets"
   ]
  },
  {
   "cell_type": "code",
   "execution_count": 16,
   "id": "7d20deef",
   "metadata": {},
   "outputs": [
    {
     "name": "stdout",
     "output_type": "stream",
     "text": [
      "Creating Original L1 Dataset\n"
     ]
    },
    {
     "name": "stderr",
     "output_type": "stream",
     "text": [
      "Processing COCO Datasets: 100%|██████████| 8/8 [00:00<00:00, 15.56it/s]\n",
      "Copying images: 100%|██████████| 6526/6526 [00:07<00:00, 910.58it/s] \n",
      "Copying images: 0it [00:00, ?it/s]\n",
      "Copying images: 100%|██████████| 1630/1630 [00:02<00:00, 769.36it/s] \n"
     ]
    },
    {
     "name": "stdout",
     "output_type": "stream",
     "text": [
      "Creating Original SIM Dataset\n"
     ]
    },
    {
     "name": "stderr",
     "output_type": "stream",
     "text": [
      "Copying images: 100%|██████████| 12000/12000 [00:14<00:00, 805.73it/s]\n",
      "Processing COCO Datasets: 100%|██████████| 1/1 [00:00<00:00,  1.63it/s]\n",
      "Copying images: 100%|██████████| 9600/9600 [00:10<00:00, 912.94it/s] \n",
      "Copying images: 0it [00:00, ?it/s]\n",
      "Copying images: 100%|██████████| 2400/2400 [00:04<00:00, 552.31it/s]\n"
     ]
    },
    {
     "name": "stdout",
     "output_type": "stream",
     "text": [
      "Creating CL Partitions\n"
     ]
    },
    {
     "name": "stderr",
     "output_type": "stream",
     "text": [
      "Copying images: 100%|██████████| 3265/3265 [00:05<00:00, 596.49it/s] \n",
      "Copying images: 100%|██████████| 3261/3261 [00:06<00:00, 511.24it/s]\n",
      "Copying images: 100%|██████████| 1308/1308 [00:01<00:00, 1064.60it/s]\n",
      "Copying images: 100%|██████████| 1309/1309 [00:02<00:00, 558.88it/s]\n",
      "Copying images: 100%|██████████| 1311/1311 [00:02<00:00, 596.71it/s]\n",
      "Copying images: 100%|██████████| 1308/1308 [00:02<00:00, 534.67it/s]\n",
      "Copying images: 100%|██████████| 1290/1290 [00:01<00:00, 698.50it/s]\n",
      "Copying images: 100%|██████████| 4800/4800 [00:08<00:00, 551.62it/s] \n",
      "Copying images: 100%|██████████| 4800/4800 [00:06<00:00, 701.20it/s] \n",
      "Copying images: 100%|██████████| 1920/1920 [00:03<00:00, 605.80it/s]\n",
      "Copying images: 100%|██████████| 1920/1920 [00:03<00:00, 604.24it/s]\n",
      "Copying images: 100%|██████████| 1920/1920 [00:02<00:00, 714.30it/s]\n",
      "Copying images: 100%|██████████| 1920/1920 [00:04<00:00, 423.33it/s]\n",
      "Copying images: 100%|██████████| 1920/1920 [00:02<00:00, 862.56it/s] \n"
     ]
    },
    {
     "name": "stdout",
     "output_type": "stream",
     "text": [
      "Creating Train Test Splits\n",
      "/data/Dataset_Compilation_and_Statistics/Sentinel_Datasets/Finalized_datasets/CL_L1_High\n"
     ]
    },
    {
     "name": "stderr",
     "output_type": "stream",
     "text": [
      "Processing COCO Datasets: 100%|██████████| 1/1 [00:00<00:00, 12.10it/s]\n",
      "Copying images: 100%|██████████| 2860/2860 [00:05<00:00, 485.77it/s]\n",
      "Copying images: 100%|██████████| 405/405 [00:00<00:00, 628.94it/s] \n",
      "Copying images: 0it [00:00, ?it/s]\n"
     ]
    },
    {
     "name": "stdout",
     "output_type": "stream",
     "text": [
      "/data/Dataset_Compilation_and_Statistics/Sentinel_Datasets/Finalized_datasets/CL_L1_Low\n"
     ]
    },
    {
     "name": "stderr",
     "output_type": "stream",
     "text": [
      "Processing COCO Datasets: 100%|██████████| 1/1 [00:00<00:00,  5.33it/s]\n",
      "Copying images: 100%|██████████| 2854/2854 [00:04<00:00, 587.32it/s]\n",
      "Copying images: 100%|██████████| 407/407 [00:00<00:00, 1167.24it/s]\n",
      "Copying images: 0it [00:00, ?it/s]\n"
     ]
    },
    {
     "name": "stdout",
     "output_type": "stream",
     "text": [
      "/data/Dataset_Compilation_and_Statistics/Sentinel_Datasets/Finalized_datasets/CL_L1_1\n"
     ]
    },
    {
     "name": "stderr",
     "output_type": "stream",
     "text": [
      "Processing COCO Datasets: 100%|██████████| 1/1 [00:00<00:00, 22.81it/s]\n",
      "Copying images: 100%|██████████| 1146/1146 [00:02<00:00, 454.30it/s]\n",
      "Copying images: 100%|██████████| 162/162 [00:00<00:00, 326.24it/s]\n",
      "Copying images: 0it [00:00, ?it/s]\n"
     ]
    },
    {
     "name": "stdout",
     "output_type": "stream",
     "text": [
      "/data/Dataset_Compilation_and_Statistics/Sentinel_Datasets/Finalized_datasets/CL_L1_2\n"
     ]
    },
    {
     "name": "stderr",
     "output_type": "stream",
     "text": [
      "Processing COCO Datasets: 100%|██████████| 1/1 [00:00<00:00, 10.05it/s]\n",
      "Copying images: 100%|██████████| 1147/1147 [00:01<00:00, 609.86it/s]\n",
      "Copying images: 100%|██████████| 162/162 [00:00<00:00, 332.80it/s]\n",
      "Copying images: 0it [00:00, ?it/s]\n"
     ]
    },
    {
     "name": "stdout",
     "output_type": "stream",
     "text": [
      "/data/Dataset_Compilation_and_Statistics/Sentinel_Datasets/Finalized_datasets/CL_L1_3\n"
     ]
    },
    {
     "name": "stderr",
     "output_type": "stream",
     "text": [
      "Processing COCO Datasets: 100%|██████████| 1/1 [00:00<00:00, 18.61it/s]\n",
      "Copying images: 100%|██████████| 1152/1152 [00:01<00:00, 968.52it/s] \n",
      "Copying images: 100%|██████████| 159/159 [00:00<00:00, 1672.41it/s]\n",
      "Copying images: 0it [00:00, ?it/s]\n"
     ]
    },
    {
     "name": "stdout",
     "output_type": "stream",
     "text": [
      "/data/Dataset_Compilation_and_Statistics/Sentinel_Datasets/Finalized_datasets/CL_L1_4\n"
     ]
    },
    {
     "name": "stderr",
     "output_type": "stream",
     "text": [
      "Processing COCO Datasets: 100%|██████████| 1/1 [00:00<00:00, 17.31it/s]\n",
      "Copying images: 100%|██████████| 1146/1146 [00:01<00:00, 706.33it/s]\n",
      "Copying images: 100%|██████████| 162/162 [00:00<00:00, 820.46it/s]\n",
      "Copying images: 0it [00:00, ?it/s]\n"
     ]
    },
    {
     "name": "stdout",
     "output_type": "stream",
     "text": [
      "/data/Dataset_Compilation_and_Statistics/Sentinel_Datasets/Finalized_datasets/CL_L1_5\n"
     ]
    },
    {
     "name": "stderr",
     "output_type": "stream",
     "text": [
      "Processing COCO Datasets: 100%|██████████| 1/1 [00:00<00:00, 16.19it/s]\n",
      "Copying images: 100%|██████████| 1128/1128 [00:03<00:00, 333.07it/s]\n",
      "Copying images: 100%|██████████| 162/162 [00:00<00:00, 438.00it/s]\n",
      "Copying images: 0it [00:00, ?it/s]\n"
     ]
    },
    {
     "name": "stdout",
     "output_type": "stream",
     "text": [
      "/data/Dataset_Compilation_and_Statistics/Sentinel_Datasets/Finalized_datasets/CL_Sim_High\n"
     ]
    },
    {
     "name": "stderr",
     "output_type": "stream",
     "text": [
      "Processing COCO Datasets: 100%|██████████| 1/1 [00:00<00:00,  8.65it/s]\n",
      "Copying images: 100%|██████████| 4200/4200 [00:08<00:00, 471.61it/s] \n",
      "Copying images: 100%|██████████| 600/600 [00:01<00:00, 319.68it/s]\n",
      "Copying images: 0it [00:00, ?it/s]\n"
     ]
    },
    {
     "name": "stdout",
     "output_type": "stream",
     "text": [
      "/data/Dataset_Compilation_and_Statistics/Sentinel_Datasets/Finalized_datasets/CL_Sim_Low\n"
     ]
    },
    {
     "name": "stderr",
     "output_type": "stream",
     "text": [
      "Processing COCO Datasets: 100%|██████████| 1/1 [00:00<00:00,  3.08it/s]\n",
      "Copying images: 100%|██████████| 4200/4200 [00:08<00:00, 492.68it/s] \n",
      "Copying images: 100%|██████████| 600/600 [00:01<00:00, 493.83it/s]\n",
      "Copying images: 0it [00:00, ?it/s]\n"
     ]
    },
    {
     "name": "stdout",
     "output_type": "stream",
     "text": [
      "/data/Dataset_Compilation_and_Statistics/Sentinel_Datasets/Finalized_datasets/CL_Sim_1\n"
     ]
    },
    {
     "name": "stderr",
     "output_type": "stream",
     "text": [
      "Processing COCO Datasets: 100%|██████████| 1/1 [00:00<00:00,  6.09it/s]\n",
      "Copying images: 100%|██████████| 1680/1680 [00:03<00:00, 432.05it/s]\n",
      "Copying images: 100%|██████████| 240/240 [00:00<00:00, 314.12it/s]\n",
      "Copying images: 0it [00:00, ?it/s]\n"
     ]
    },
    {
     "name": "stdout",
     "output_type": "stream",
     "text": [
      "/data/Dataset_Compilation_and_Statistics/Sentinel_Datasets/Finalized_datasets/CL_Sim_2\n"
     ]
    },
    {
     "name": "stderr",
     "output_type": "stream",
     "text": [
      "Processing COCO Datasets: 100%|██████████| 1/1 [00:00<00:00,  8.51it/s]\n",
      "Copying images: 100%|██████████| 1680/1680 [00:03<00:00, 508.49it/s]\n",
      "Copying images: 100%|██████████| 240/240 [00:00<00:00, 449.37it/s]\n",
      "Copying images: 0it [00:00, ?it/s]\n"
     ]
    },
    {
     "name": "stdout",
     "output_type": "stream",
     "text": [
      "/data/Dataset_Compilation_and_Statistics/Sentinel_Datasets/Finalized_datasets/CL_Sim_3\n"
     ]
    },
    {
     "name": "stderr",
     "output_type": "stream",
     "text": [
      "Processing COCO Datasets: 100%|██████████| 1/1 [00:00<00:00,  5.17it/s]\n",
      "Copying images: 100%|██████████| 1680/1680 [00:02<00:00, 607.72it/s] \n",
      "Copying images: 100%|██████████| 240/240 [00:00<00:00, 592.26it/s]\n",
      "Copying images: 0it [00:00, ?it/s]\n"
     ]
    },
    {
     "name": "stdout",
     "output_type": "stream",
     "text": [
      "/data/Dataset_Compilation_and_Statistics/Sentinel_Datasets/Finalized_datasets/CL_Sim_4\n"
     ]
    },
    {
     "name": "stderr",
     "output_type": "stream",
     "text": [
      "Processing COCO Datasets: 100%|██████████| 1/1 [00:00<00:00,  8.93it/s]\n",
      "Copying images: 100%|██████████| 1680/1680 [00:04<00:00, 397.51it/s] \n",
      "Copying images: 100%|██████████| 240/240 [00:00<00:00, 595.60it/s]\n",
      "Copying images: 0it [00:00, ?it/s]\n"
     ]
    },
    {
     "name": "stdout",
     "output_type": "stream",
     "text": [
      "/data/Dataset_Compilation_and_Statistics/Sentinel_Datasets/Finalized_datasets/CL_Sim_5\n"
     ]
    },
    {
     "name": "stderr",
     "output_type": "stream",
     "text": [
      "Processing COCO Datasets: 100%|██████████| 1/1 [00:00<00:00, 15.37it/s]\n",
      "Copying images: 100%|██████████| 1680/1680 [00:03<00:00, 458.35it/s]\n",
      "Copying images: 100%|██████████| 240/240 [00:00<00:00, 656.42it/s]\n",
      "Copying images: 0it [00:00, ?it/s]\n"
     ]
    },
    {
     "name": "stdout",
     "output_type": "stream",
     "text": [
      "/data/Dataset_Compilation_and_Statistics/Sentinel_Datasets/Finalized_datasets/CL_Sim/train\n"
     ]
    },
    {
     "name": "stderr",
     "output_type": "stream",
     "text": [
      "Processing COCO Datasets: 100%|██████████| 1/1 [00:00<00:00,  2.37it/s]\n",
      "Copying images: 100%|██████████| 8400/8400 [00:12<00:00, 687.91it/s] \n",
      "Copying images: 100%|██████████| 1200/1200 [00:01<00:00, 912.04it/s] \n",
      "Copying images: 0it [00:00, ?it/s]\n"
     ]
    },
    {
     "name": "stdout",
     "output_type": "stream",
     "text": [
      "/data/Dataset_Compilation_and_Statistics/Sentinel_Datasets/Finalized_datasets/CL_L1/train\n"
     ]
    },
    {
     "name": "stderr",
     "output_type": "stream",
     "text": [
      "Processing COCO Datasets: 100%|██████████| 1/1 [00:00<00:00,  1.90it/s]\n",
      "Copying images: 100%|██████████| 5719/5719 [00:08<00:00, 684.44it/s] \n",
      "Copying images: 100%|██████████| 807/807 [00:00<00:00, 1250.81it/s]\n",
      "Copying images: 0it [00:00, ?it/s]\n"
     ]
    }
   ],
   "source": [
    "Real1Step = \"/data/Dataset_Compilation_and_Statistics/Sentinel_Datasets/Finalized_datasets/CL_L1\"\n",
    "Real2Step = [\"/data/Dataset_Compilation_and_Statistics/Sentinel_Datasets/Finalized_datasets/CL_L1_High\",\n",
    "            \"/data/Dataset_Compilation_and_Statistics/Sentinel_Datasets/Finalized_datasets/CL_L1_Low\"]\n",
    "Real5Step = [\"/data/Dataset_Compilation_and_Statistics/Sentinel_Datasets/Finalized_datasets/CL_L1_1\",\n",
    "            \"/data/Dataset_Compilation_and_Statistics/Sentinel_Datasets/Finalized_datasets/CL_L1_2\",\n",
    "            \"/data/Dataset_Compilation_and_Statistics/Sentinel_Datasets/Finalized_datasets/CL_L1_3\",\n",
    "            \"/data/Dataset_Compilation_and_Statistics/Sentinel_Datasets/Finalized_datasets/CL_L1_4\",\n",
    "            \"/data/Dataset_Compilation_and_Statistics/Sentinel_Datasets/Finalized_datasets/CL_L1_5\"]\n",
    "SIM1Step = \"/data/Dataset_Compilation_and_Statistics/Sentinel_Datasets/Finalized_datasets/CL_Sim\"\n",
    "SIM2Step = [\"/data/Dataset_Compilation_and_Statistics/Sentinel_Datasets/Finalized_datasets/CL_Sim_High\",\n",
    "            \"/data/Dataset_Compilation_and_Statistics/Sentinel_Datasets/Finalized_datasets/CL_Sim_Low\"]\n",
    "SIM5STep = [\"/data/Dataset_Compilation_and_Statistics/Sentinel_Datasets/Finalized_datasets/CL_Sim_1\",\n",
    "            \"/data/Dataset_Compilation_and_Statistics/Sentinel_Datasets/Finalized_datasets/CL_Sim_2\",\n",
    "            \"/data/Dataset_Compilation_and_Statistics/Sentinel_Datasets/Finalized_datasets/CL_Sim_3\",\n",
    "            \"/data/Dataset_Compilation_and_Statistics/Sentinel_Datasets/Finalized_datasets/CL_Sim_4\",\n",
    "            \"/data/Dataset_Compilation_and_Statistics/Sentinel_Datasets/Finalized_datasets/CL_Sim_5\"]\n",
    "\n",
    "print(\"Creating Original L1 Dataset\")\n",
    "merge_coco(training_set_origins_LMNT01, Real1Step, train_test_split=True, train_ratio=.80, val_ratio=0, test_ratio=0.20, notes=\"LMNT01 10percent overlap with no empty frames for SNR Curriculum Learning study \")\n",
    "\n",
    "print(\"Creating Original SIM Dataset\")\n",
    "satsim_path = \"/data/Dataset_Compilation_and_Statistics/Sentinel_Datasets/Finalized_datasets/SingleSatSNRDataset\"\n",
    "new_satsim_path = \"/data/Dataset_Compilation_and_Statistics/Sentinel_Datasets/Finalized_datasets/CL_Sim_temp\"\n",
    "partition_dataset(satsim_path, [new_satsim_path], \"snr\", 12000)\n",
    "merge_coco([new_satsim_path], SIM1Step, train_test_split=True, train_ratio=.80, val_ratio=0, test_ratio=0.20, notes=\"Satsim train test split \")\n",
    "\n",
    "print(\"Creating CL Partitions\")\n",
    "partition_dataset(os.path.join(Real1Step, \"train\"), Real2Step, \"local_snr\")\n",
    "partition_dataset(os.path.join(Real1Step, \"train\"), Real5Step, \"local_snr\")\n",
    "partition_dataset(os.path.join(SIM1Step, \"train\"), SIM2Step, \"snr\")\n",
    "partition_dataset(os.path.join(SIM1Step, \"train\"), SIM5STep, \"snr\")\n",
    "\n",
    "print(\"Creating Train Test Splits\")\n",
    "all_paths = Real2Step+ Real5Step+ SIM2Step+ SIM5STep + [os.path.join(SIM1Step, \"train\")] + [os.path.join(Real1Step, \"train\")]\n",
    "for pt in all_paths:\n",
    "    new_path = pt+\"_TTS\"\n",
    "    print(pt)\n",
    "    merge_coco([pt], new_path, train_test_split=True, train_ratio=.875, val_ratio=.125, test_ratio=0)"
   ]
  },
  {
   "cell_type": "code",
   "execution_count": 2,
   "id": "01ba1c17",
   "metadata": {},
   "outputs": [
    {
     "name": "stderr",
     "output_type": "stream",
     "text": [
      "Copying images: 100%|██████████| 10000/10000 [00:14<00:00, 681.41it/s]\n",
      "Copying images: 100%|██████████| 2000/2000 [00:01<00:00, 1089.42it/s]\n",
      "Copying images: 100%|██████████| 10000/10000 [00:10<00:00, 952.02it/s]\n",
      "Copying images: 100%|██████████| 2000/2000 [00:03<00:00, 545.67it/s]\n"
     ]
    }
   ],
   "source": [
    "# /data/Dataset_Compilation_and_Statistics/Sentinel_Datasets/Finalized_datasets/Panoptic_MC_LMNT01_train_30_Overlap/train/images: 26863\n",
    "# /data/Dataset_Compilation_and_Statistics/Sentinel_Datasets/Finalized_datasets/Panoptic_MC_LMNT01_train_30_Overlap/test/images: 0\n",
    "# /data/Dataset_Compilation_and_Statistics/Sentinel_Datasets/Finalized_datasets/Panoptic_MC_LMNT01_train_30_Overlap/val/images: 6699\n",
    "Large_val = \"/data/Dataset_Compilation_and_Statistics/Sentinel_Datasets/Finalized_datasets/Panoptic_MC_LMNT01_train_30_Overlap/val\"\n",
    "small_val = \"/data/Dataset_Compilation_and_Statistics/Sentinel_Datasets/Finalized_datasets/Panoptic_MC_LMNT01_train_30_Overlap/small_val\"\n",
    "Large_dataset = \"/data/Dataset_Compilation_and_Statistics/Sentinel_Datasets/Finalized_datasets/Panoptic_MC_LMNT01_train_30_Overlap/train\"\n",
    "Small_Dataset = \"/data/Dataset_Compilation_and_Statistics/Sentinel_Datasets/Finalized_datasets/Panoptic_MC_LMNT01_train_30_Overlap/small_train\"\n",
    "\n",
    "# /data/Dataset_Compilation_and_Statistics/Sentinel_Datasets/Finalized_datasets/Panoptic_MC_LMNT01_train_random_Overlap/train/images: 15369\n",
    "# /data/Dataset_Compilation_and_Statistics/Sentinel_Datasets/Finalized_datasets/Panoptic_MC_LMNT01_train_random_Overlap/test/images: 0\n",
    "# /data/Dataset_Compilation_and_Statistics/Sentinel_Datasets/Finalized_datasets/Panoptic_MC_LMNT01_train_random_Overlap/val/images: 3837\n",
    "\n",
    "large_train_random = \"/data/Dataset_Compilation_and_Statistics/Sentinel_Datasets/Finalized_datasets/Panoptic_MC_LMNT01_train_random_Overlap/train\"\n",
    "small_train_random = \"/data/Dataset_Compilation_and_Statistics/Sentinel_Datasets/Finalized_datasets/Panoptic_MC_LMNT01_train_random_Overlap/small_train\"\n",
    "large_val_random = \"/data/Dataset_Compilation_and_Statistics/Sentinel_Datasets/Finalized_datasets/Panoptic_MC_LMNT01_train_random_Overlap/val\"\n",
    "small_val_random = \"/data/Dataset_Compilation_and_Statistics/Sentinel_Datasets/Finalized_datasets/Panoptic_MC_LMNT01_train_random_Overlap/small_val\"\n",
    "\n",
    "partition_dataset(Large_dataset, [Small_Dataset], dataset_size=10000)\n",
    "partition_dataset(Large_val, [small_val], dataset_size=2000)\n",
    "partition_dataset(large_train_random, [small_train_random], dataset_size=10000)\n",
    "partition_dataset(large_val_random, [small_val_random], dataset_size=2000)"
   ]
  }
 ],
 "metadata": {
  "kernelspec": {
   "display_name": "DatasetStatistics",
   "language": "python",
   "name": "python3"
  },
  "language_info": {
   "codemirror_mode": {
    "name": "ipython",
    "version": 3
   },
   "file_extension": ".py",
   "mimetype": "text/x-python",
   "name": "python",
   "nbconvert_exporter": "python",
   "pygments_lexer": "ipython3",
   "version": "3.12.9"
  }
 },
 "nbformat": 4,
 "nbformat_minor": 5
}
