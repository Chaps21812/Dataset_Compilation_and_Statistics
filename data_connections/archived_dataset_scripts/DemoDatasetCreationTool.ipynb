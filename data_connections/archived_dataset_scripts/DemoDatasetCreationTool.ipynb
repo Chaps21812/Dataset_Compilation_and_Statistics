{
 "cells": [
  {
   "cell_type": "markdown",
   "id": "66e042e1",
   "metadata": {},
   "source": [
    "# Dataset Creation Tool\n",
    "Once your datasets have been properly curated in the training_set_management_tool, you can now use these tools to convert datasets to coco, and merge them as well. "
   ]
  },
  {
   "cell_type": "code",
   "execution_count": 1,
   "id": "b45c1487",
   "metadata": {},
   "outputs": [],
   "source": [
    "from coco_tools import silt_to_coco, satsim_to_coco, merge_coco, silt_to_coco_panoptic, partition_dataset\n",
    "from preprocess_functions import channel_mixture_A, channel_mixture_B, channel_mixture_C, adaptiveIQR, zscale, iqr_clipped, iqr_log, raw_file\n",
    "from preprocess_functions import _median_column_subtraction, _median_row_subtraction, _background_subtract\n",
    "from utilities import get_folders_in_directory, summarize_local_files, clear_local_caches, clear_local_cache, apply_bbox_corrections\n",
    "import os\n",
    "from utilities import clear_local_caches"
   ]
  },
  {
   "cell_type": "markdown",
   "id": "eb668b00",
   "metadata": {},
   "source": [
    "### LMNT01"
   ]
  },
  {
   "cell_type": "code",
   "execution_count": 2,
   "id": "f8bec2fe",
   "metadata": {},
   "outputs": [],
   "source": [
    "final_data_path=\"/data/Dataset_Compilation_and_Statistics/Sentinel_Datasets/Finalized_datasets\"\n",
    "\n",
    "\n",
    "dirctoryA = \"/data/Dataset_Compilation_and_Statistics/Sentinel_Datasets/RME01-2025Data\"\n",
    "final_outputA = os.path.join(final_data_path, f\"RME01_2025\")\n",
    "dirctoryB = \"/data/Dataset_Compilation_and_Statistics/Sentinel_Datasets/RME04-2025Data\"\n",
    "final_outputB = os.path.join(final_data_path, f\"RME04_2025\")\n",
    "\n",
    "all_origins = [dirctoryA, dirctoryB]\n",
    "\n",
    "preprocess_func = iqr_log"
   ]
  },
  {
   "cell_type": "markdown",
   "id": "350bd770",
   "metadata": {},
   "source": [
    "## Convert SILT to COCO"
   ]
  },
  {
   "cell_type": "markdown",
   "id": "dd45e671",
   "metadata": {},
   "source": [
    "### Convert Single Path"
   ]
  },
  {
   "cell_type": "markdown",
   "id": "0d0bc3df",
   "metadata": {},
   "source": [
    "### Convert Multiple Paths"
   ]
  },
  {
   "cell_type": "code",
   "execution_count": 3,
   "id": "7d0acc5f",
   "metadata": {},
   "outputs": [
    {
     "name": "stdout",
     "output_type": "stream",
     "text": [
      "/data/Dataset_Compilation_and_Statistics/Sentinel_Datasets/RME01-2025Data\n"
     ]
    },
    {
     "name": "stderr",
     "output_type": "stream",
     "text": [
      "Converting Silt to COCO: 100%|██████████| 10257/10257 [06:50<00:00, 24.98it/s]\n",
      "Copying images:   2%|▏         | 249/10257 [05:04<3:24:10,  1.22s/it]\n"
     ]
    },
    {
     "ename": "KeyboardInterrupt",
     "evalue": "",
     "output_type": "error",
     "traceback": [
      "\u001b[31m---------------------------------------------------------------------------\u001b[39m",
      "\u001b[31mKeyboardInterrupt\u001b[39m                         Traceback (most recent call last)",
      "\u001b[36mCell\u001b[39m\u001b[36m \u001b[39m\u001b[32mIn[3]\u001b[39m\u001b[32m, line 3\u001b[39m\n\u001b[32m      1\u001b[39m \u001b[38;5;28;01mfor\u001b[39;00m path \u001b[38;5;129;01min\u001b[39;00m all_origins:\n\u001b[32m      2\u001b[39m     \u001b[38;5;28mprint\u001b[39m(path)\n\u001b[32m----> \u001b[39m\u001b[32m3\u001b[39m     \u001b[43msilt_to_coco\u001b[49m\u001b[43m(\u001b[49m\u001b[43mpath\u001b[49m\u001b[43m,\u001b[49m\u001b[43m \u001b[49m\u001b[43minclude_sats\u001b[49m\u001b[43m=\u001b[49m\u001b[38;5;28;43;01mTrue\u001b[39;49;00m\u001b[43m,\u001b[49m\u001b[43m \u001b[49m\u001b[43minclude_stars\u001b[49m\u001b[43m=\u001b[49m\u001b[38;5;28;43;01mFalse\u001b[39;49;00m\u001b[43m,\u001b[49m\u001b[43m \u001b[49m\u001b[43mconvert_png\u001b[49m\u001b[43m=\u001b[49m\u001b[38;5;28;43;01mTrue\u001b[39;49;00m\u001b[43m,\u001b[49m\u001b[43m \u001b[49m\u001b[43mprocess_func\u001b[49m\u001b[43m=\u001b[49m\u001b[43mpreprocess_func\u001b[49m\u001b[43m,\u001b[49m\u001b[43m \u001b[49m\u001b[43mnotes\u001b[49m\u001b[43m=\u001b[49m\u001b[33;43mf\u001b[39;49m\u001b[33;43m\"\u001b[39;49m\u001b[33;43mLog_IQR_preprocessing for stability on new 2025 data from \u001b[39;49m\u001b[38;5;132;43;01m{\u001b[39;49;00m\u001b[43mpath\u001b[49m\u001b[38;5;132;43;01m}\u001b[39;49;00m\u001b[33;43m\"\u001b[39;49m\u001b[43m)\u001b[49m\n",
      "\u001b[36mFile \u001b[39m\u001b[32m/data/Dataset_Compilation_and_Statistics/data_connections/coco_tools.py:544\u001b[39m, in \u001b[36msilt_to_coco\u001b[39m\u001b[34m(silt_dataset_path, include_sats, include_stars, zip, convert_png, process_func, notes)\u001b[39m\n\u001b[32m    542\u001b[39m     \u001b[38;5;28;01mcontinue\u001b[39;00m\n\u001b[32m    543\u001b[39m \u001b[38;5;28;01mif\u001b[39;00m process_func \u001b[38;5;129;01mis\u001b[39;00m \u001b[38;5;129;01mnot\u001b[39;00m \u001b[38;5;28;01mNone\u001b[39;00m:\n\u001b[32m--> \u001b[39m\u001b[32m544\u001b[39m     data = \u001b[43mprocess_func\u001b[49m\u001b[43m(\u001b[49m\u001b[43mdata\u001b[49m\u001b[43m)\u001b[49m\n\u001b[32m    545\u001b[39m \u001b[38;5;28;01melse\u001b[39;00m: \n\u001b[32m    546\u001b[39m     data = np.stack([data,data,data], axis=\u001b[32m0\u001b[39m)\n",
      "\u001b[36mFile \u001b[39m\u001b[32m/data/Dataset_Compilation_and_Statistics/data_connections/preprocess_functions.py:189\u001b[39m, in \u001b[36miqr_log\u001b[39m\u001b[34m(data, threshold)\u001b[39m\n\u001b[32m    188\u001b[39m \u001b[38;5;28;01mdef\u001b[39;00m\u001b[38;5;250m \u001b[39m\u001b[34miqr_log\u001b[39m(data, threshold=\u001b[32m5\u001b[39m) -> np.ndarray:\n\u001b[32m--> \u001b[39m\u001b[32m189\u001b[39m     data = \u001b[43m_iqr_log\u001b[49m\u001b[43m(\u001b[49m\u001b[43mdata\u001b[49m\u001b[43m,\u001b[49m\u001b[43m \u001b[49m\u001b[43mthreshold\u001b[49m\u001b[43m)\u001b[49m\n\u001b[32m    190\u001b[39m     data = (_minmax_scale(data)*\u001b[32m255\u001b[39m).astype(np.uint8)\n\u001b[32m    191\u001b[39m     \u001b[38;5;28;01mreturn\u001b[39;00m np.stack([data]*\u001b[32m3\u001b[39m, axis=\u001b[32m0\u001b[39m)\n",
      "\u001b[36mFile \u001b[39m\u001b[32m/data/Dataset_Compilation_and_Statistics/data_connections/preprocess_functions.py:45\u001b[39m, in \u001b[36m_iqr_log\u001b[39m\u001b[34m(x, threshold)\u001b[39m\n\u001b[32m     35\u001b[39m \u001b[38;5;250m\u001b[39m\u001b[33;03m\"\"\"\u001b[39;00m\n\u001b[32m     36\u001b[39m \u001b[33;03mIQR-Log normalization: IQR-based normalization followed by log compression of outliers.\u001b[39;00m\n\u001b[32m     37\u001b[39m \u001b[33;03m\u001b[39;00m\n\u001b[32m   (...)\u001b[39m\u001b[32m     42\u001b[39m \u001b[33;03m    np.ndarray: Soft-clipped image using log transform for values > ±5 IQR\u001b[39;00m\n\u001b[32m     43\u001b[39m \u001b[33;03m\"\"\"\u001b[39;00m\n\u001b[32m     44\u001b[39m x = x.astype(np.float32)\n\u001b[32m---> \u001b[39m\u001b[32m45\u001b[39m q1 = \u001b[43mnp\u001b[49m\u001b[43m.\u001b[49m\u001b[43mpercentile\u001b[49m\u001b[43m(\u001b[49m\u001b[43mx\u001b[49m\u001b[43m,\u001b[49m\u001b[43m \u001b[49m\u001b[32;43m25\u001b[39;49m\u001b[43m)\u001b[49m\n\u001b[32m     46\u001b[39m q2 = np.percentile(x, \u001b[32m50\u001b[39m)\n\u001b[32m     47\u001b[39m q3 = np.percentile(x, \u001b[32m75\u001b[39m)\n",
      "\u001b[36mFile \u001b[39m\u001b[32m~/miniconda3/envs/DatasetStatistics/lib/python3.12/site-packages/numpy/lib/_function_base_impl.py:4273\u001b[39m, in \u001b[36mpercentile\u001b[39m\u001b[34m(a, q, axis, out, overwrite_input, method, keepdims, weights, interpolation)\u001b[39m\n\u001b[32m   4270\u001b[39m     \u001b[38;5;28;01mif\u001b[39;00m np.any(weights < \u001b[32m0\u001b[39m):\n\u001b[32m   4271\u001b[39m         \u001b[38;5;28;01mraise\u001b[39;00m \u001b[38;5;167;01mValueError\u001b[39;00m(\u001b[33m\"\u001b[39m\u001b[33mWeights must be non-negative.\u001b[39m\u001b[33m\"\u001b[39m)\n\u001b[32m-> \u001b[39m\u001b[32m4273\u001b[39m \u001b[38;5;28;01mreturn\u001b[39;00m \u001b[43m_quantile_unchecked\u001b[49m\u001b[43m(\u001b[49m\n\u001b[32m   4274\u001b[39m \u001b[43m    \u001b[49m\u001b[43ma\u001b[49m\u001b[43m,\u001b[49m\u001b[43m \u001b[49m\u001b[43mq\u001b[49m\u001b[43m,\u001b[49m\u001b[43m \u001b[49m\u001b[43maxis\u001b[49m\u001b[43m,\u001b[49m\u001b[43m \u001b[49m\u001b[43mout\u001b[49m\u001b[43m,\u001b[49m\u001b[43m \u001b[49m\u001b[43moverwrite_input\u001b[49m\u001b[43m,\u001b[49m\u001b[43m \u001b[49m\u001b[43mmethod\u001b[49m\u001b[43m,\u001b[49m\u001b[43m \u001b[49m\u001b[43mkeepdims\u001b[49m\u001b[43m,\u001b[49m\u001b[43m \u001b[49m\u001b[43mweights\u001b[49m\u001b[43m)\u001b[49m\n",
      "\u001b[36mFile \u001b[39m\u001b[32m~/miniconda3/envs/DatasetStatistics/lib/python3.12/site-packages/numpy/lib/_function_base_impl.py:4550\u001b[39m, in \u001b[36m_quantile_unchecked\u001b[39m\u001b[34m(a, q, axis, out, overwrite_input, method, keepdims, weights)\u001b[39m\n\u001b[32m   4541\u001b[39m \u001b[38;5;28;01mdef\u001b[39;00m\u001b[38;5;250m \u001b[39m\u001b[34m_quantile_unchecked\u001b[39m(a,\n\u001b[32m   4542\u001b[39m                         q,\n\u001b[32m   4543\u001b[39m                         axis=\u001b[38;5;28;01mNone\u001b[39;00m,\n\u001b[32m   (...)\u001b[39m\u001b[32m   4547\u001b[39m                         keepdims=\u001b[38;5;28;01mFalse\u001b[39;00m,\n\u001b[32m   4548\u001b[39m                         weights=\u001b[38;5;28;01mNone\u001b[39;00m):\n\u001b[32m   4549\u001b[39m \u001b[38;5;250m    \u001b[39m\u001b[33;03m\"\"\"Assumes that q is in [0, 1], and is an ndarray\"\"\"\u001b[39;00m\n\u001b[32m-> \u001b[39m\u001b[32m4550\u001b[39m     \u001b[38;5;28;01mreturn\u001b[39;00m \u001b[43m_ureduce\u001b[49m\u001b[43m(\u001b[49m\u001b[43ma\u001b[49m\u001b[43m,\u001b[49m\n\u001b[32m   4551\u001b[39m \u001b[43m                    \u001b[49m\u001b[43mfunc\u001b[49m\u001b[43m=\u001b[49m\u001b[43m_quantile_ureduce_func\u001b[49m\u001b[43m,\u001b[49m\n\u001b[32m   4552\u001b[39m \u001b[43m                    \u001b[49m\u001b[43mq\u001b[49m\u001b[43m=\u001b[49m\u001b[43mq\u001b[49m\u001b[43m,\u001b[49m\n\u001b[32m   4553\u001b[39m \u001b[43m                    \u001b[49m\u001b[43mweights\u001b[49m\u001b[43m=\u001b[49m\u001b[43mweights\u001b[49m\u001b[43m,\u001b[49m\n\u001b[32m   4554\u001b[39m \u001b[43m                    \u001b[49m\u001b[43mkeepdims\u001b[49m\u001b[43m=\u001b[49m\u001b[43mkeepdims\u001b[49m\u001b[43m,\u001b[49m\n\u001b[32m   4555\u001b[39m \u001b[43m                    \u001b[49m\u001b[43maxis\u001b[49m\u001b[43m=\u001b[49m\u001b[43maxis\u001b[49m\u001b[43m,\u001b[49m\n\u001b[32m   4556\u001b[39m \u001b[43m                    \u001b[49m\u001b[43mout\u001b[49m\u001b[43m=\u001b[49m\u001b[43mout\u001b[49m\u001b[43m,\u001b[49m\n\u001b[32m   4557\u001b[39m \u001b[43m                    \u001b[49m\u001b[43moverwrite_input\u001b[49m\u001b[43m=\u001b[49m\u001b[43moverwrite_input\u001b[49m\u001b[43m,\u001b[49m\n\u001b[32m   4558\u001b[39m \u001b[43m                    \u001b[49m\u001b[43mmethod\u001b[49m\u001b[43m=\u001b[49m\u001b[43mmethod\u001b[49m\u001b[43m)\u001b[49m\n",
      "\u001b[36mFile \u001b[39m\u001b[32m~/miniconda3/envs/DatasetStatistics/lib/python3.12/site-packages/numpy/lib/_function_base_impl.py:3894\u001b[39m, in \u001b[36m_ureduce\u001b[39m\u001b[34m(a, func, keepdims, **kwargs)\u001b[39m\n\u001b[32m   3891\u001b[39m             index_out = (\u001b[32m0\u001b[39m, ) * nd\n\u001b[32m   3892\u001b[39m             kwargs[\u001b[33m'\u001b[39m\u001b[33mout\u001b[39m\u001b[33m'\u001b[39m] = out[(\u001b[38;5;28mEllipsis\u001b[39m, ) + index_out]\n\u001b[32m-> \u001b[39m\u001b[32m3894\u001b[39m r = \u001b[43mfunc\u001b[49m\u001b[43m(\u001b[49m\u001b[43ma\u001b[49m\u001b[43m,\u001b[49m\u001b[43m \u001b[49m\u001b[43m*\u001b[49m\u001b[43m*\u001b[49m\u001b[43mkwargs\u001b[49m\u001b[43m)\u001b[49m\n\u001b[32m   3896\u001b[39m \u001b[38;5;28;01mif\u001b[39;00m out \u001b[38;5;129;01mis\u001b[39;00m \u001b[38;5;129;01mnot\u001b[39;00m \u001b[38;5;28;01mNone\u001b[39;00m:\n\u001b[32m   3897\u001b[39m     \u001b[38;5;28;01mreturn\u001b[39;00m out\n",
      "\u001b[36mFile \u001b[39m\u001b[32m~/miniconda3/envs/DatasetStatistics/lib/python3.12/site-packages/numpy/lib/_function_base_impl.py:4727\u001b[39m, in \u001b[36m_quantile_ureduce_func\u001b[39m\u001b[34m(a, q, weights, axis, out, overwrite_input, method)\u001b[39m\n\u001b[32m   4725\u001b[39m         arr = a.copy()\n\u001b[32m   4726\u001b[39m         wgt = weights\n\u001b[32m-> \u001b[39m\u001b[32m4727\u001b[39m result = \u001b[43m_quantile\u001b[49m\u001b[43m(\u001b[49m\u001b[43marr\u001b[49m\u001b[43m,\u001b[49m\n\u001b[32m   4728\u001b[39m \u001b[43m                   \u001b[49m\u001b[43mquantiles\u001b[49m\u001b[43m=\u001b[49m\u001b[43mq\u001b[49m\u001b[43m,\u001b[49m\n\u001b[32m   4729\u001b[39m \u001b[43m                   \u001b[49m\u001b[43maxis\u001b[49m\u001b[43m=\u001b[49m\u001b[43maxis\u001b[49m\u001b[43m,\u001b[49m\n\u001b[32m   4730\u001b[39m \u001b[43m                   \u001b[49m\u001b[43mmethod\u001b[49m\u001b[43m=\u001b[49m\u001b[43mmethod\u001b[49m\u001b[43m,\u001b[49m\n\u001b[32m   4731\u001b[39m \u001b[43m                   \u001b[49m\u001b[43mout\u001b[49m\u001b[43m=\u001b[49m\u001b[43mout\u001b[49m\u001b[43m,\u001b[49m\n\u001b[32m   4732\u001b[39m \u001b[43m                   \u001b[49m\u001b[43mweights\u001b[49m\u001b[43m=\u001b[49m\u001b[43mwgt\u001b[49m\u001b[43m)\u001b[49m\n\u001b[32m   4733\u001b[39m \u001b[38;5;28;01mreturn\u001b[39;00m result\n",
      "\u001b[36mFile \u001b[39m\u001b[32m~/miniconda3/envs/DatasetStatistics/lib/python3.12/site-packages/numpy/lib/_function_base_impl.py:4842\u001b[39m, in \u001b[36m_quantile\u001b[39m\u001b[34m(arr, quantiles, axis, method, out, weights)\u001b[39m\n\u001b[32m   4838\u001b[39m previous_indexes, next_indexes = _get_indexes(arr,\n\u001b[32m   4839\u001b[39m                                               virtual_indexes,\n\u001b[32m   4840\u001b[39m                                               values_count)\n\u001b[32m   4841\u001b[39m \u001b[38;5;66;03m# --- Sorting\u001b[39;00m\n\u001b[32m-> \u001b[39m\u001b[32m4842\u001b[39m \u001b[43marr\u001b[49m\u001b[43m.\u001b[49m\u001b[43mpartition\u001b[49m\u001b[43m(\u001b[49m\n\u001b[32m   4843\u001b[39m \u001b[43m    \u001b[49m\u001b[43mnp\u001b[49m\u001b[43m.\u001b[49m\u001b[43munique\u001b[49m\u001b[43m(\u001b[49m\u001b[43mnp\u001b[49m\u001b[43m.\u001b[49m\u001b[43mconcatenate\u001b[49m\u001b[43m(\u001b[49m\u001b[43m(\u001b[49m\u001b[43m[\u001b[49m\u001b[32;43m0\u001b[39;49m\u001b[43m,\u001b[49m\u001b[43m \u001b[49m\u001b[43m-\u001b[49m\u001b[32;43m1\u001b[39;49m\u001b[43m]\u001b[49m\u001b[43m,\u001b[49m\n\u001b[32m   4844\u001b[39m \u001b[43m                              \u001b[49m\u001b[43mprevious_indexes\u001b[49m\u001b[43m.\u001b[49m\u001b[43mravel\u001b[49m\u001b[43m(\u001b[49m\u001b[43m)\u001b[49m\u001b[43m,\u001b[49m\n\u001b[32m   4845\u001b[39m \u001b[43m                              \u001b[49m\u001b[43mnext_indexes\u001b[49m\u001b[43m.\u001b[49m\u001b[43mravel\u001b[49m\u001b[43m(\u001b[49m\u001b[43m)\u001b[49m\u001b[43m,\u001b[49m\n\u001b[32m   4846\u001b[39m \u001b[43m                              \u001b[49m\u001b[43m)\u001b[49m\u001b[43m)\u001b[49m\u001b[43m)\u001b[49m\u001b[43m,\u001b[49m\n\u001b[32m   4847\u001b[39m \u001b[43m    \u001b[49m\u001b[43maxis\u001b[49m\u001b[43m=\u001b[49m\u001b[32;43m0\u001b[39;49m\u001b[43m)\u001b[49m\n\u001b[32m   4848\u001b[39m \u001b[38;5;28;01mif\u001b[39;00m supports_nans:\n\u001b[32m   4849\u001b[39m     slices_having_nans = np.isnan(arr[-\u001b[32m1\u001b[39m, ...])\n",
      "\u001b[31mKeyboardInterrupt\u001b[39m: "
     ]
    }
   ],
   "source": [
    "\n",
    "for path in all_origins:\n",
    "    print(path)\n",
    "    silt_to_coco(path, include_sats=True, include_stars=False, convert_png=True, process_func=preprocess_func, notes=f\"Log_IQR_preprocessing for stability on new 2025 data from {path}\")"
   ]
  },
  {
   "cell_type": "markdown",
   "id": "3526d6f9",
   "metadata": {},
   "source": [
    "## Convert SATSim to COCO"
   ]
  },
  {
   "cell_type": "markdown",
   "id": "cbb48e98",
   "metadata": {},
   "source": [
    "## Convert Silt to Panoptic COCO"
   ]
  },
  {
   "cell_type": "markdown",
   "id": "3f496708",
   "metadata": {},
   "source": [
    "## Merge Datasets"
   ]
  },
  {
   "cell_type": "markdown",
   "id": "3f5130a4",
   "metadata": {},
   "source": [
    "### Merge Training Sets"
   ]
  },
  {
   "cell_type": "code",
   "execution_count": 4,
   "id": "1ebff69b",
   "metadata": {},
   "outputs": [
    {
     "name": "stderr",
     "output_type": "stream",
     "text": [
      "Processing COCO Datasets: 100%|██████████| 29/29 [00:00<00:00, 76.44it/s]\n",
      "Copying images: 100%|██████████| 17054/17054 [00:31<00:00, 535.60it/s]\n",
      "Copying images: 100%|██████████| 2133/2133 [00:04<00:00, 520.92it/s]\n",
      "Copying images: 100%|██████████| 2128/2128 [00:04<00:00, 430.68it/s]\n"
     ]
    }
   ],
   "source": [
    "merge_coco(all_origins, training_set_output_path_LMNT01, train_test_split=True, train_ratio=.8, val_ratio=.1, test_ratio=.1, notes=\"Large LMNT01 Dataset \")\n"
   ]
  },
  {
   "cell_type": "code",
   "execution_count": 5,
   "id": "bb2f4dfe",
   "metadata": {},
   "outputs": [],
   "source": [
    "satsim_data = \"/data/Dataset_Compilation_and_Statistics/Sentinel_Datasets/Finalized_datasets/satsim_sats_dataset\"\n",
    "training_set_origins_RME04.append(satsim_data)\n",
    "training_set_origins_LMNT01.append(satsim_data)\n",
    "training_set_origins_LMNT02.append(satsim_data)"
   ]
  },
  {
   "cell_type": "markdown",
   "id": "a1e4f611",
   "metadata": {},
   "source": [
    "### Merging Panoptic COCO"
   ]
  },
  {
   "cell_type": "code",
   "execution_count": null,
   "id": "8c851560",
   "metadata": {},
   "outputs": [
    {
     "name": "stdout",
     "output_type": "stream",
     "text": [
      "['/data/Dataset_Compilation_and_Statistics/Sentinel_Datasets/LMNT01_Raw/LMNT01Sat-2024-08-04', '/data/Dataset_Compilation_and_Statistics/Sentinel_Datasets/LMNT01_Raw/LMNT01Sat-2024-08-20', '/data/Dataset_Compilation_and_Statistics/Sentinel_Datasets/LMNT01_Raw/LMNT01Sat-2024-09-13', '/data/Dataset_Compilation_and_Statistics/Sentinel_Datasets/LMNT01_Raw/LMNT01Sat-2024-09-25', '/data/Dataset_Compilation_and_Statistics/Sentinel_Datasets/LMNT01_Raw/LMNT01Sat-2024-10-06', '/data/Dataset_Compilation_and_Statistics/Sentinel_Datasets/LMNT01_Raw/LMNT01Sat-2024-10-15', '/data/Dataset_Compilation_and_Statistics/Sentinel_Datasets/LMNT01_Raw/LMNT01Sat-2024-10-23', '/data/Dataset_Compilation_and_Statistics/Sentinel_Datasets/LMNT01_Raw/LMNT01Sat-2024-10-30']\n"
     ]
    },
    {
     "name": "stderr",
     "output_type": "stream",
     "text": [
      "Processing COCO Datasets: 100%|██████████| 8/8 [00:00<00:00, 15.33it/s]\n",
      "Copying images: 100%|██████████| 26863/26863 [00:07<00:00, 3468.09it/s]\n",
      "Copying images: 100%|██████████| 6699/6699 [00:01<00:00, 3534.65it/s]\n",
      "Copying images: 0it [00:00, ?it/s]\n"
     ]
    }
   ],
   "source": [
    "#For Creating Training Sets\n",
    "# training_set_origins = [T1, T2, T3, T4, T5, T6, T7, T8, T9, T10, T11]\n",
    "# satsim_data = \"/data/Dataset_Compilation_and_Statistics/Sentinel_Datasets/Finalized_datasets/SatsimMixtureC\"\n",
    "# satsim_output_data = \"/data/Dataset_Compilation_and_Statistics/Sentinel_Datasets/Finalized_datasets/SatsimMCTrain\"\n",
    "# origins = [training_set_origins_LMNT02, training_set_origins_LMNT01, training_set_origins_RME04]\n",
    "training_set_output_path_LMNT01 = os.path.join(final_data_path, f\"Panoptic_MC_LMNT01_train_30_Overlap\")\n",
    "training_set_output_path_LMNT02 = os.path.join(final_data_path, f\"Panoptic_MC_LMNT02_train_random_overlap\")\n",
    "training_set_output_path_RME04 = os.path.join(final_data_path, f\"Panoptic_MC_RME04_train_random_overlap\")\n",
    "\n",
    "origins = []\n",
    "origins.extend(training_set_origins_LMNT01)\n",
    "# origins.extend(training_set_origins_LMNT02)\n",
    "# origins.extend(training_set_origins_RME04)\n",
    "# origins.append(satsim_data)\n",
    "print(origins)\n",
    "# total_data_path = os.path.join(final_data_path, f\"Panoptic_MC_AllData_train\") #REDO THIS ONE\n",
    "\n",
    "merge_coco(origins, training_set_output_path_LMNT01, train_test_split=True, train_ratio=.75, val_ratio=.15, test_ratio=0.15, notes=\"LMNT01 10percent overlap with no empty frames for SNR Curriculum Learning study \")\n",
    "# clear_local_caches(os.path.dirname(training_set_origins[0]))"
   ]
  },
  {
   "cell_type": "markdown",
   "id": "f98ddbcf",
   "metadata": {},
   "source": [
    "### Merge Evaluation Sets"
   ]
  },
  {
   "cell_type": "code",
   "execution_count": null,
   "id": "778a7bd2",
   "metadata": {},
   "outputs": [
    {
     "name": "stderr",
     "output_type": "stream",
     "text": [
      "Converting Silt to COCO: 100%|██████████| 609/609 [00:25<00:00, 23.96it/s]\n",
      "Copying images: 100%|██████████| 609/609 [18:49<00:00,  1.85s/it]\n",
      "Processing COCO Datasets: 100%|██████████| 1/1 [00:00<00:00, 63.17it/s]\n",
      "Copying images: 100%|██████████| 609/609 [00:02<00:00, 278.34it/s]\n"
     ]
    },
    {
     "name": "stdout",
     "output_type": "stream",
     "text": [
      "Removed: /data/Sentinel_Datasets/LMNT02_Raw/LMNT02Sat-2024-09-06/annotations\n",
      "Removed: /data/Sentinel_Datasets/LMNT02_Raw/LMNT02Sat-2024-09-06/images\n",
      "Removed: /data/Sentinel_Datasets/LMNT02_Raw/LMNT02Sat-2024-11-14/annotations\n",
      "Removed: /data/Sentinel_Datasets/LMNT02_Raw/LMNT02Sat-2024-11-14/images\n"
     ]
    },
    {
     "name": "stderr",
     "output_type": "stream",
     "text": [
      "Converting Silt to COCO: 100%|██████████| 572/572 [00:22<00:00, 25.37it/s]\n",
      "Copying images: 100%|██████████| 572/572 [17:13<00:00,  1.81s/it]\n",
      "Processing COCO Datasets: 100%|██████████| 1/1 [00:00<00:00, 88.10it/s]\n",
      "Copying images: 100%|██████████| 572/572 [00:02<00:00, 274.83it/s]\n"
     ]
    },
    {
     "name": "stdout",
     "output_type": "stream",
     "text": [
      "Removed: /data/Sentinel_Datasets/LMNT02_Raw/LMNT02Sat-2024-11-14/annotations\n",
      "Removed: /data/Sentinel_Datasets/LMNT02_Raw/LMNT02Sat-2024-11-14/images\n"
     ]
    },
    {
     "name": "stderr",
     "output_type": "stream",
     "text": [
      "Converting Silt to COCO: 100%|██████████| 522/522 [00:21<00:00, 23.98it/s]\n",
      "Copying images: 100%|██████████| 522/522 [16:31<00:00,  1.90s/it]\n",
      "Processing COCO Datasets: 100%|██████████| 1/1 [00:00<00:00, 75.25it/s]\n",
      "Copying images: 100%|██████████| 522/522 [00:01<00:00, 285.12it/s]\n"
     ]
    },
    {
     "name": "stdout",
     "output_type": "stream",
     "text": [
      "Removed: /data/Sentinel_Datasets/LMNT02_Raw/LMNT02Sat-2024-12-07/annotations\n",
      "Removed: /data/Sentinel_Datasets/LMNT02_Raw/LMNT02Sat-2024-12-07/images\n"
     ]
    },
    {
     "name": "stderr",
     "output_type": "stream",
     "text": [
      "Converting Silt to COCO: 100%|██████████| 1859/1859 [01:15<00:00, 24.72it/s]\n",
      "Copying images: 100%|██████████| 1859/1859 [56:25<00:00,  1.82s/it]\n",
      "Processing COCO Datasets: 100%|██████████| 1/1 [00:00<00:00, 32.79it/s]\n",
      "Copying images: 100%|██████████| 1859/1859 [00:06<00:00, 270.88it/s]\n"
     ]
    },
    {
     "name": "stdout",
     "output_type": "stream",
     "text": [
      "Removed: /data/Sentinel_Datasets/LMNT02_Raw/LMNT02Sat-2024-09-14/annotations\n",
      "Removed: /data/Sentinel_Datasets/LMNT02_Raw/LMNT02Sat-2024-09-14/images\n"
     ]
    },
    {
     "name": "stderr",
     "output_type": "stream",
     "text": [
      "Converting Silt to COCO: 100%|██████████| 1122/1122 [00:47<00:00, 23.60it/s]\n",
      "Copying images: 100%|██████████| 1122/1122 [34:32<00:00,  1.85s/it]\n",
      "Processing COCO Datasets: 100%|██████████| 1/1 [00:00<00:00, 56.50it/s]\n",
      "Copying images: 100%|██████████| 1122/1122 [00:04<00:00, 264.46it/s]\n"
     ]
    },
    {
     "name": "stdout",
     "output_type": "stream",
     "text": [
      "Removed: /data/Sentinel_Datasets/LMNT02_Raw/LMNT02Sat-2024-11-07/annotations\n",
      "Removed: /data/Sentinel_Datasets/LMNT02_Raw/LMNT02Sat-2024-11-07/images\n"
     ]
    },
    {
     "name": "stderr",
     "output_type": "stream",
     "text": [
      "Converting Silt to COCO: 100%|██████████| 463/463 [00:19<00:00, 23.80it/s]\n",
      "Copying images: 100%|██████████| 463/463 [14:28<00:00,  1.88s/it]\n",
      "Processing COCO Datasets: 100%|██████████| 1/1 [00:00<00:00, 90.92it/s]\n",
      "Copying images: 100%|██████████| 463/463 [00:01<00:00, 242.80it/s]\n"
     ]
    },
    {
     "name": "stdout",
     "output_type": "stream",
     "text": [
      "Removed: /data/Sentinel_Datasets/LMNT02_Raw/LMNT02Sat-2024-10-08/annotations\n",
      "Removed: /data/Sentinel_Datasets/LMNT02_Raw/LMNT02Sat-2024-10-08/images\n"
     ]
    },
    {
     "name": "stderr",
     "output_type": "stream",
     "text": [
      "Converting Silt to COCO: 100%|██████████| 570/570 [00:24<00:00, 23.34it/s]\n",
      "Copying images: 100%|██████████| 570/570 [18:29<00:00,  1.95s/it]\n",
      "Processing COCO Datasets: 100%|██████████| 1/1 [00:00<00:00, 93.40it/s]\n",
      "Copying images: 100%|██████████| 570/570 [00:02<00:00, 266.13it/s]\n"
     ]
    },
    {
     "name": "stdout",
     "output_type": "stream",
     "text": [
      "Removed: /data/Sentinel_Datasets/LMNT02_Raw/LMNT02Sat-2024-10-30/annotations\n",
      "Removed: /data/Sentinel_Datasets/LMNT02_Raw/LMNT02Sat-2024-10-30/images\n"
     ]
    },
    {
     "name": "stderr",
     "output_type": "stream",
     "text": [
      "Converting Silt to COCO: 100%|██████████| 756/756 [00:32<00:00, 23.61it/s]\n",
      "Copying images: 100%|██████████| 756/756 [23:49<00:00,  1.89s/it]\n",
      "Processing COCO Datasets: 100%|██████████| 1/1 [00:00<00:00, 45.54it/s]\n",
      "Copying images: 100%|██████████| 756/756 [00:03<00:00, 246.50it/s]\n"
     ]
    },
    {
     "name": "stdout",
     "output_type": "stream",
     "text": [
      "Removed: /data/Sentinel_Datasets/LMNT02_Raw/LMNT02Sat-2024-10-10/annotations\n",
      "Removed: /data/Sentinel_Datasets/LMNT02_Raw/LMNT02Sat-2024-10-10/images\n"
     ]
    },
    {
     "name": "stderr",
     "output_type": "stream",
     "text": [
      "Converting Silt to COCO: 100%|██████████| 2795/2795 [01:58<00:00, 23.63it/s]\n",
      "Copying images: 100%|██████████| 2795/2795 [1:29:16<00:00,  1.92s/it]\n",
      "Processing COCO Datasets: 100%|██████████| 1/1 [00:00<00:00, 20.05it/s]\n",
      "Copying images: 100%|██████████| 2795/2795 [00:10<00:00, 270.55it/s]\n"
     ]
    },
    {
     "name": "stdout",
     "output_type": "stream",
     "text": [
      "Removed: /data/Sentinel_Datasets/LMNT02_Raw/LMNT02Sat-2024-12-24/annotations\n",
      "Removed: /data/Sentinel_Datasets/LMNT02_Raw/LMNT02Sat-2024-12-24/images\n"
     ]
    },
    {
     "name": "stderr",
     "output_type": "stream",
     "text": [
      "Converting Silt to COCO: 100%|██████████| 1607/1607 [01:07<00:00, 23.98it/s]\n",
      "Copying images: 100%|██████████| 1607/1607 [51:06<00:00,  1.91s/it]\n",
      "Processing COCO Datasets: 100%|██████████| 1/1 [00:00<00:00, 34.20it/s]\n",
      "Copying images: 100%|██████████| 1607/1607 [00:05<00:00, 270.77it/s]\n"
     ]
    },
    {
     "name": "stdout",
     "output_type": "stream",
     "text": [
      "Removed: /data/Sentinel_Datasets/LMNT02_Raw/LMNT02Sat-2024-12-31/annotations\n",
      "Removed: /data/Sentinel_Datasets/LMNT02_Raw/LMNT02Sat-2024-12-31/images\n"
     ]
    },
    {
     "name": "stderr",
     "output_type": "stream",
     "text": [
      "Converting Silt to COCO: 100%|██████████| 519/519 [00:19<00:00, 26.34it/s]\n",
      "Copying images: 100%|██████████| 519/519 [15:20<00:00,  1.77s/it]\n",
      "Processing COCO Datasets: 100%|██████████| 1/1 [00:00<00:00, 103.29it/s]\n",
      "Copying images: 100%|██████████| 519/519 [00:01<00:00, 311.66it/s]\n"
     ]
    },
    {
     "name": "stdout",
     "output_type": "stream",
     "text": [
      "Removed: /data/Sentinel_Datasets/LMNT02_Raw/LMNT02Sat-2024-11-19/annotations\n",
      "Removed: /data/Sentinel_Datasets/LMNT02_Raw/LMNT02Sat-2024-11-19/images\n"
     ]
    },
    {
     "name": "stderr",
     "output_type": "stream",
     "text": [
      "Converting Silt to COCO: 100%|██████████| 1236/1236 [00:51<00:00, 24.10it/s]\n",
      "Copying images: 100%|██████████| 1236/1236 [39:57<00:00,  1.94s/it]\n",
      "Processing COCO Datasets: 100%|██████████| 1/1 [00:00<00:00, 52.64it/s]\n",
      "Copying images: 100%|██████████| 1236/1236 [00:04<00:00, 263.31it/s]\n"
     ]
    },
    {
     "name": "stdout",
     "output_type": "stream",
     "text": [
      "Removed: /data/Sentinel_Datasets/LMNT02_Raw/LMNT02Sat-2024-10-31/annotations\n",
      "Removed: /data/Sentinel_Datasets/LMNT02_Raw/LMNT02Sat-2024-10-31/images\n"
     ]
    },
    {
     "name": "stderr",
     "output_type": "stream",
     "text": [
      "Converting Silt to COCO: 100%|██████████| 1596/1596 [01:07<00:00, 23.59it/s]\n",
      "Copying images:  76%|███████▌  | 1210/1596 [38:49<12:23,  1.93s/it]\n"
     ]
    },
    {
     "ename": "OSError",
     "evalue": "[Errno 28] No space left on device",
     "output_type": "error",
     "traceback": [
      "\u001b[31m---------------------------------------------------------------------------\u001b[39m",
      "\u001b[31mAttributeError\u001b[39m                            Traceback (most recent call last)",
      "\u001b[36mFile \u001b[39m\u001b[32m~/miniconda3/envs/DatasetStatistics/lib/python3.12/site-packages/PIL/ImageFile.py:643\u001b[39m, in \u001b[36m_save\u001b[39m\u001b[34m(im, fp, tile, bufsize)\u001b[39m\n\u001b[32m    642\u001b[39m \u001b[38;5;28;01mtry\u001b[39;00m:\n\u001b[32m--> \u001b[39m\u001b[32m643\u001b[39m     fh = \u001b[43mfp\u001b[49m\u001b[43m.\u001b[49m\u001b[43mfileno\u001b[49m()\n\u001b[32m    644\u001b[39m     fp.flush()\n",
      "\u001b[31mAttributeError\u001b[39m: '_idat' object has no attribute 'fileno'",
      "\nDuring handling of the above exception, another exception occurred:\n",
      "\u001b[31mOSError\u001b[39m                                   Traceback (most recent call last)",
      "\u001b[36mCell\u001b[39m\u001b[36m \u001b[39m\u001b[32mIn[3]\u001b[39m\u001b[32m, line 3\u001b[39m\n\u001b[32m      1\u001b[39m \u001b[38;5;66;03m# For creating Evaluation Sets\u001b[39;00m\n\u001b[32m      2\u001b[39m \u001b[38;5;28;01mfor\u001b[39;00m origin, destination \u001b[38;5;129;01min\u001b[39;00m \u001b[38;5;28mzip\u001b[39m(eval_origins, eval_finals):\n\u001b[32m----> \u001b[39m\u001b[32m3\u001b[39m     \u001b[43msilt_to_coco\u001b[49m\u001b[43m(\u001b[49m\u001b[43morigin\u001b[49m\u001b[43m,\u001b[49m\u001b[43m \u001b[49m\u001b[43minclude_sats\u001b[49m\u001b[43m=\u001b[49m\u001b[38;5;28;43;01mTrue\u001b[39;49;00m\u001b[43m,\u001b[49m\u001b[43m \u001b[49m\u001b[43minclude_stars\u001b[49m\u001b[43m=\u001b[49m\u001b[38;5;28;43;01mFalse\u001b[39;49;00m\u001b[43m,\u001b[49m\u001b[43m \u001b[49m\u001b[43mconvert_png\u001b[49m\u001b[43m=\u001b[49m\u001b[38;5;28;43;01mTrue\u001b[39;49;00m\u001b[43m,\u001b[49m\u001b[43m \u001b[49m\u001b[43mprocess_func\u001b[49m\u001b[43m=\u001b[49m\u001b[43mpreprocess_func\u001b[49m\u001b[43m,\u001b[49m\u001b[43m \u001b[49m\u001b[43mnotes\u001b[49m\u001b[43m=\u001b[49m\u001b[33;43m\"\u001b[39;49m\u001b[33;43mMixture of ZScale, raw, and log-IQR\u001b[39;49m\u001b[33;43m\"\u001b[39;49m\u001b[43m)\u001b[49m\n\u001b[32m      4\u001b[39m     merge_coco([origin], destination, train_test_split=\u001b[38;5;28;01mFalse\u001b[39;00m, train_ratio=\u001b[32m0\u001b[39m, val_ratio=\u001b[32m0\u001b[39m, test_ratio=\u001b[32m1\u001b[39m, notes=\u001b[33m\"\u001b[39m\u001b[33mLMNT02 dataset with satellites and MultiChannel C\u001b[39m\u001b[33m\"\u001b[39m)\n\u001b[32m      5\u001b[39m     clear_local_caches(os.path.dirname(origin))\n",
      "\u001b[36mFile \u001b[39m\u001b[32m~/Repos/Dataset_Compilation_and_Statistics/data_connections/coco_tools.py:381\u001b[39m, in \u001b[36msilt_to_coco\u001b[39m\u001b[34m(silt_dataset_path, include_sats, include_stars, zip, convert_png, process_func, notes)\u001b[39m\n\u001b[32m    379\u001b[39m     data = np.transpose(data, (\u001b[32m1\u001b[39m,\u001b[32m2\u001b[39m,\u001b[32m0\u001b[39m))\n\u001b[32m    380\u001b[39m     png = Image.fromarray(data)\n\u001b[32m--> \u001b[39m\u001b[32m381\u001b[39m     \u001b[43mpng\u001b[49m\u001b[43m.\u001b[49m\u001b[43msave\u001b[49m\u001b[43m(\u001b[49m\u001b[43mnew_file_name\u001b[49m\u001b[43m)\u001b[49m\n\u001b[32m    382\u001b[39m \u001b[38;5;28;01melse\u001b[39;00m:\n\u001b[32m    383\u001b[39m     destination_path = shutil.copy(image, images_folder)\n",
      "\u001b[36mFile \u001b[39m\u001b[32m~/miniconda3/envs/DatasetStatistics/lib/python3.12/site-packages/PIL/Image.py:2581\u001b[39m, in \u001b[36mImage.save\u001b[39m\u001b[34m(self, fp, format, **params)\u001b[39m\n\u001b[32m   2578\u001b[39m     fp = cast(IO[\u001b[38;5;28mbytes\u001b[39m], fp)\n\u001b[32m   2580\u001b[39m \u001b[38;5;28;01mtry\u001b[39;00m:\n\u001b[32m-> \u001b[39m\u001b[32m2581\u001b[39m     \u001b[43msave_handler\u001b[49m\u001b[43m(\u001b[49m\u001b[38;5;28;43mself\u001b[39;49m\u001b[43m,\u001b[49m\u001b[43m \u001b[49m\u001b[43mfp\u001b[49m\u001b[43m,\u001b[49m\u001b[43m \u001b[49m\u001b[43mfilename\u001b[49m\u001b[43m)\u001b[49m\n\u001b[32m   2582\u001b[39m \u001b[38;5;28;01mexcept\u001b[39;00m \u001b[38;5;167;01mException\u001b[39;00m:\n\u001b[32m   2583\u001b[39m     \u001b[38;5;28;01mif\u001b[39;00m open_fp:\n",
      "\u001b[36mFile \u001b[39m\u001b[32m~/miniconda3/envs/DatasetStatistics/lib/python3.12/site-packages/PIL/PngImagePlugin.py:1492\u001b[39m, in \u001b[36m_save\u001b[39m\u001b[34m(im, fp, filename, chunk, save_all)\u001b[39m\n\u001b[32m   1488\u001b[39m     single_im = _write_multiple_frames(\n\u001b[32m   1489\u001b[39m         im, fp, chunk, mode, rawmode, default_image, append_images\n\u001b[32m   1490\u001b[39m     )\n\u001b[32m   1491\u001b[39m \u001b[38;5;28;01mif\u001b[39;00m single_im:\n\u001b[32m-> \u001b[39m\u001b[32m1492\u001b[39m     \u001b[43mImageFile\u001b[49m\u001b[43m.\u001b[49m\u001b[43m_save\u001b[49m\u001b[43m(\u001b[49m\n\u001b[32m   1493\u001b[39m \u001b[43m        \u001b[49m\u001b[43msingle_im\u001b[49m\u001b[43m,\u001b[49m\n\u001b[32m   1494\u001b[39m \u001b[43m        \u001b[49m\u001b[43mcast\u001b[49m\u001b[43m(\u001b[49m\u001b[43mIO\u001b[49m\u001b[43m[\u001b[49m\u001b[38;5;28;43mbytes\u001b[39;49m\u001b[43m]\u001b[49m\u001b[43m,\u001b[49m\u001b[43m \u001b[49m\u001b[43m_idat\u001b[49m\u001b[43m(\u001b[49m\u001b[43mfp\u001b[49m\u001b[43m,\u001b[49m\u001b[43m \u001b[49m\u001b[43mchunk\u001b[49m\u001b[43m)\u001b[49m\u001b[43m)\u001b[49m\u001b[43m,\u001b[49m\n\u001b[32m   1495\u001b[39m \u001b[43m        \u001b[49m\u001b[43m[\u001b[49m\u001b[43mImageFile\u001b[49m\u001b[43m.\u001b[49m\u001b[43m_Tile\u001b[49m\u001b[43m(\u001b[49m\u001b[33;43m\"\u001b[39;49m\u001b[33;43mzip\u001b[39;49m\u001b[33;43m\"\u001b[39;49m\u001b[43m,\u001b[49m\u001b[43m \u001b[49m\u001b[43m(\u001b[49m\u001b[32;43m0\u001b[39;49m\u001b[43m,\u001b[49m\u001b[43m \u001b[49m\u001b[32;43m0\u001b[39;49m\u001b[43m)\u001b[49m\u001b[43m \u001b[49m\u001b[43m+\u001b[49m\u001b[43m \u001b[49m\u001b[43msingle_im\u001b[49m\u001b[43m.\u001b[49m\u001b[43msize\u001b[49m\u001b[43m,\u001b[49m\u001b[43m \u001b[49m\u001b[32;43m0\u001b[39;49m\u001b[43m,\u001b[49m\u001b[43m \u001b[49m\u001b[43mrawmode\u001b[49m\u001b[43m)\u001b[49m\u001b[43m]\u001b[49m\u001b[43m,\u001b[49m\n\u001b[32m   1496\u001b[39m \u001b[43m    \u001b[49m\u001b[43m)\u001b[49m\n\u001b[32m   1498\u001b[39m \u001b[38;5;28;01mif\u001b[39;00m info:\n\u001b[32m   1499\u001b[39m     \u001b[38;5;28;01mfor\u001b[39;00m info_chunk \u001b[38;5;129;01min\u001b[39;00m info.chunks:\n",
      "\u001b[36mFile \u001b[39m\u001b[32m~/miniconda3/envs/DatasetStatistics/lib/python3.12/site-packages/PIL/ImageFile.py:647\u001b[39m, in \u001b[36m_save\u001b[39m\u001b[34m(im, fp, tile, bufsize)\u001b[39m\n\u001b[32m    645\u001b[39m     _encode_tile(im, fp, tile, bufsize, fh)\n\u001b[32m    646\u001b[39m \u001b[38;5;28;01mexcept\u001b[39;00m (\u001b[38;5;167;01mAttributeError\u001b[39;00m, io.UnsupportedOperation) \u001b[38;5;28;01mas\u001b[39;00m exc:\n\u001b[32m--> \u001b[39m\u001b[32m647\u001b[39m     \u001b[43m_encode_tile\u001b[49m\u001b[43m(\u001b[49m\u001b[43mim\u001b[49m\u001b[43m,\u001b[49m\u001b[43m \u001b[49m\u001b[43mfp\u001b[49m\u001b[43m,\u001b[49m\u001b[43m \u001b[49m\u001b[43mtile\u001b[49m\u001b[43m,\u001b[49m\u001b[43m \u001b[49m\u001b[43mbufsize\u001b[49m\u001b[43m,\u001b[49m\u001b[43m \u001b[49m\u001b[38;5;28;43;01mNone\u001b[39;49;00m\u001b[43m,\u001b[49m\u001b[43m \u001b[49m\u001b[43mexc\u001b[49m\u001b[43m)\u001b[49m\n\u001b[32m    648\u001b[39m \u001b[38;5;28;01mif\u001b[39;00m \u001b[38;5;28mhasattr\u001b[39m(fp, \u001b[33m\"\u001b[39m\u001b[33mflush\u001b[39m\u001b[33m\"\u001b[39m):\n\u001b[32m    649\u001b[39m     fp.flush()\n",
      "\u001b[36mFile \u001b[39m\u001b[32m~/miniconda3/envs/DatasetStatistics/lib/python3.12/site-packages/PIL/ImageFile.py:674\u001b[39m, in \u001b[36m_encode_tile\u001b[39m\u001b[34m(im, fp, tile, bufsize, fh, exc)\u001b[39m\n\u001b[32m    672\u001b[39m \u001b[38;5;28;01mwhile\u001b[39;00m \u001b[38;5;28;01mTrue\u001b[39;00m:\n\u001b[32m    673\u001b[39m     errcode, data = encoder.encode(bufsize)[\u001b[32m1\u001b[39m:]\n\u001b[32m--> \u001b[39m\u001b[32m674\u001b[39m     \u001b[43mfp\u001b[49m\u001b[43m.\u001b[49m\u001b[43mwrite\u001b[49m\u001b[43m(\u001b[49m\u001b[43mdata\u001b[49m\u001b[43m)\u001b[49m\n\u001b[32m    675\u001b[39m     \u001b[38;5;28;01mif\u001b[39;00m errcode:\n\u001b[32m    676\u001b[39m         \u001b[38;5;28;01mbreak\u001b[39;00m\n",
      "\u001b[36mFile \u001b[39m\u001b[32m~/miniconda3/envs/DatasetStatistics/lib/python3.12/site-packages/PIL/PngImagePlugin.py:1136\u001b[39m, in \u001b[36m_idat.write\u001b[39m\u001b[34m(self, data)\u001b[39m\n\u001b[32m   1135\u001b[39m \u001b[38;5;28;01mdef\u001b[39;00m\u001b[38;5;250m \u001b[39m\u001b[34mwrite\u001b[39m(\u001b[38;5;28mself\u001b[39m, data: \u001b[38;5;28mbytes\u001b[39m) -> \u001b[38;5;28;01mNone\u001b[39;00m:\n\u001b[32m-> \u001b[39m\u001b[32m1136\u001b[39m     \u001b[38;5;28;43mself\u001b[39;49m\u001b[43m.\u001b[49m\u001b[43mchunk\u001b[49m\u001b[43m(\u001b[49m\u001b[38;5;28;43mself\u001b[39;49m\u001b[43m.\u001b[49m\u001b[43mfp\u001b[49m\u001b[43m,\u001b[49m\u001b[43m \u001b[49m\u001b[33;43mb\u001b[39;49m\u001b[33;43m\"\u001b[39;49m\u001b[33;43mIDAT\u001b[39;49m\u001b[33;43m\"\u001b[39;49m\u001b[43m,\u001b[49m\u001b[43m \u001b[49m\u001b[43mdata\u001b[49m\u001b[43m)\u001b[49m\n",
      "\u001b[36mFile \u001b[39m\u001b[32m~/miniconda3/envs/DatasetStatistics/lib/python3.12/site-packages/PIL/PngImagePlugin.py:1123\u001b[39m, in \u001b[36mputchunk\u001b[39m\u001b[34m(fp, cid, *data)\u001b[39m\n\u001b[32m   1120\u001b[39m byte_data = \u001b[33mb\u001b[39m\u001b[33m\"\u001b[39m\u001b[33m\"\u001b[39m.join(data)\n\u001b[32m   1122\u001b[39m fp.write(o32(\u001b[38;5;28mlen\u001b[39m(byte_data)) + cid)\n\u001b[32m-> \u001b[39m\u001b[32m1123\u001b[39m \u001b[43mfp\u001b[49m\u001b[43m.\u001b[49m\u001b[43mwrite\u001b[49m\u001b[43m(\u001b[49m\u001b[43mbyte_data\u001b[49m\u001b[43m)\u001b[49m\n\u001b[32m   1124\u001b[39m crc = _crc32(byte_data, _crc32(cid))\n\u001b[32m   1125\u001b[39m fp.write(o32(crc))\n",
      "\u001b[31mOSError\u001b[39m: [Errno 28] No space left on device"
     ]
    }
   ],
   "source": [
    "# training_set_origins_LMNT01 = [LA1, LA2, LA3, LA4, LA5, LA6, LA7] # ORIGINAL TRAINING SET DO NOT DELETE\n",
    "training_set_origins_LMNT01 = [LA8, LA9, LA10, LA11, LA12, LA13, LA14, LA15]\n",
    "# training_set_origins_LMNT01 = [LA1, LA2, LA3, LA4, LA5, LA6, LA7, LA10, LA11, LA12, LA13, LA14, LA15]\n",
    "training_set_output_path_LMNT01 = os.path.join(final_data_path, f\"Panoptic_LMNT01_No_Chipping_train\")\n",
    "\n",
    "# For creating Evaluation Sets\n",
    "for origin, destination in zip(eval_origins, eval_finals):\n",
    "    silt_to_coco(origin, include_sats=True, include_stars=False, convert_png=True, process_func=preprocess_func, notes=\"Mixture of ZScale, raw, and log-IQR\")\n",
    "    merge_coco([origin], destination, train_test_split=False, train_ratio=0, val_ratio=0, test_ratio=1, notes=\"LMNT02 dataset with satellites and MultiChannel C\")\n",
    "    clear_local_caches(os.path.dirname(origin))"
   ]
  },
  {
   "cell_type": "markdown",
   "id": "055c5eb5",
   "metadata": {},
   "source": [
    "### Curriculum Learning Datasets"
   ]
  },
  {
   "cell_type": "code",
   "execution_count": 16,
   "id": "7d20deef",
   "metadata": {},
   "outputs": [
    {
     "name": "stdout",
     "output_type": "stream",
     "text": [
      "Creating Original L1 Dataset\n"
     ]
    },
    {
     "name": "stderr",
     "output_type": "stream",
     "text": [
      "Processing COCO Datasets: 100%|██████████| 8/8 [00:00<00:00, 15.56it/s]\n",
      "Copying images: 100%|██████████| 6526/6526 [00:07<00:00, 910.58it/s] \n",
      "Copying images: 0it [00:00, ?it/s]\n",
      "Copying images: 100%|██████████| 1630/1630 [00:02<00:00, 769.36it/s] \n"
     ]
    },
    {
     "name": "stdout",
     "output_type": "stream",
     "text": [
      "Creating Original SIM Dataset\n"
     ]
    },
    {
     "name": "stderr",
     "output_type": "stream",
     "text": [
      "Copying images: 100%|██████████| 12000/12000 [00:14<00:00, 805.73it/s]\n",
      "Processing COCO Datasets: 100%|██████████| 1/1 [00:00<00:00,  1.63it/s]\n",
      "Copying images: 100%|██████████| 9600/9600 [00:10<00:00, 912.94it/s] \n",
      "Copying images: 0it [00:00, ?it/s]\n",
      "Copying images: 100%|██████████| 2400/2400 [00:04<00:00, 552.31it/s]\n"
     ]
    },
    {
     "name": "stdout",
     "output_type": "stream",
     "text": [
      "Creating CL Partitions\n"
     ]
    },
    {
     "name": "stderr",
     "output_type": "stream",
     "text": [
      "Copying images: 100%|██████████| 3265/3265 [00:05<00:00, 596.49it/s] \n",
      "Copying images: 100%|██████████| 3261/3261 [00:06<00:00, 511.24it/s]\n",
      "Copying images: 100%|██████████| 1308/1308 [00:01<00:00, 1064.60it/s]\n",
      "Copying images: 100%|██████████| 1309/1309 [00:02<00:00, 558.88it/s]\n",
      "Copying images: 100%|██████████| 1311/1311 [00:02<00:00, 596.71it/s]\n",
      "Copying images: 100%|██████████| 1308/1308 [00:02<00:00, 534.67it/s]\n",
      "Copying images: 100%|██████████| 1290/1290 [00:01<00:00, 698.50it/s]\n",
      "Copying images: 100%|██████████| 4800/4800 [00:08<00:00, 551.62it/s] \n",
      "Copying images: 100%|██████████| 4800/4800 [00:06<00:00, 701.20it/s] \n",
      "Copying images: 100%|██████████| 1920/1920 [00:03<00:00, 605.80it/s]\n",
      "Copying images: 100%|██████████| 1920/1920 [00:03<00:00, 604.24it/s]\n",
      "Copying images: 100%|██████████| 1920/1920 [00:02<00:00, 714.30it/s]\n",
      "Copying images: 100%|██████████| 1920/1920 [00:04<00:00, 423.33it/s]\n",
      "Copying images: 100%|██████████| 1920/1920 [00:02<00:00, 862.56it/s] \n"
     ]
    },
    {
     "name": "stdout",
     "output_type": "stream",
     "text": [
      "Creating Train Test Splits\n",
      "/data/Dataset_Compilation_and_Statistics/Sentinel_Datasets/Finalized_datasets/CL_L1_High\n"
     ]
    },
    {
     "name": "stderr",
     "output_type": "stream",
     "text": [
      "Processing COCO Datasets: 100%|██████████| 1/1 [00:00<00:00, 12.10it/s]\n",
      "Copying images: 100%|██████████| 2860/2860 [00:05<00:00, 485.77it/s]\n",
      "Copying images: 100%|██████████| 405/405 [00:00<00:00, 628.94it/s] \n",
      "Copying images: 0it [00:00, ?it/s]\n"
     ]
    },
    {
     "name": "stdout",
     "output_type": "stream",
     "text": [
      "/data/Dataset_Compilation_and_Statistics/Sentinel_Datasets/Finalized_datasets/CL_L1_Low\n"
     ]
    },
    {
     "name": "stderr",
     "output_type": "stream",
     "text": [
      "Processing COCO Datasets: 100%|██████████| 1/1 [00:00<00:00,  5.33it/s]\n",
      "Copying images: 100%|██████████| 2854/2854 [00:04<00:00, 587.32it/s]\n",
      "Copying images: 100%|██████████| 407/407 [00:00<00:00, 1167.24it/s]\n",
      "Copying images: 0it [00:00, ?it/s]\n"
     ]
    },
    {
     "name": "stdout",
     "output_type": "stream",
     "text": [
      "/data/Dataset_Compilation_and_Statistics/Sentinel_Datasets/Finalized_datasets/CL_L1_1\n"
     ]
    },
    {
     "name": "stderr",
     "output_type": "stream",
     "text": [
      "Processing COCO Datasets: 100%|██████████| 1/1 [00:00<00:00, 22.81it/s]\n",
      "Copying images: 100%|██████████| 1146/1146 [00:02<00:00, 454.30it/s]\n",
      "Copying images: 100%|██████████| 162/162 [00:00<00:00, 326.24it/s]\n",
      "Copying images: 0it [00:00, ?it/s]\n"
     ]
    },
    {
     "name": "stdout",
     "output_type": "stream",
     "text": [
      "/data/Dataset_Compilation_and_Statistics/Sentinel_Datasets/Finalized_datasets/CL_L1_2\n"
     ]
    },
    {
     "name": "stderr",
     "output_type": "stream",
     "text": [
      "Processing COCO Datasets: 100%|██████████| 1/1 [00:00<00:00, 10.05it/s]\n",
      "Copying images: 100%|██████████| 1147/1147 [00:01<00:00, 609.86it/s]\n",
      "Copying images: 100%|██████████| 162/162 [00:00<00:00, 332.80it/s]\n",
      "Copying images: 0it [00:00, ?it/s]\n"
     ]
    },
    {
     "name": "stdout",
     "output_type": "stream",
     "text": [
      "/data/Dataset_Compilation_and_Statistics/Sentinel_Datasets/Finalized_datasets/CL_L1_3\n"
     ]
    },
    {
     "name": "stderr",
     "output_type": "stream",
     "text": [
      "Processing COCO Datasets: 100%|██████████| 1/1 [00:00<00:00, 18.61it/s]\n",
      "Copying images: 100%|██████████| 1152/1152 [00:01<00:00, 968.52it/s] \n",
      "Copying images: 100%|██████████| 159/159 [00:00<00:00, 1672.41it/s]\n",
      "Copying images: 0it [00:00, ?it/s]\n"
     ]
    },
    {
     "name": "stdout",
     "output_type": "stream",
     "text": [
      "/data/Dataset_Compilation_and_Statistics/Sentinel_Datasets/Finalized_datasets/CL_L1_4\n"
     ]
    },
    {
     "name": "stderr",
     "output_type": "stream",
     "text": [
      "Processing COCO Datasets: 100%|██████████| 1/1 [00:00<00:00, 17.31it/s]\n",
      "Copying images: 100%|██████████| 1146/1146 [00:01<00:00, 706.33it/s]\n",
      "Copying images: 100%|██████████| 162/162 [00:00<00:00, 820.46it/s]\n",
      "Copying images: 0it [00:00, ?it/s]\n"
     ]
    },
    {
     "name": "stdout",
     "output_type": "stream",
     "text": [
      "/data/Dataset_Compilation_and_Statistics/Sentinel_Datasets/Finalized_datasets/CL_L1_5\n"
     ]
    },
    {
     "name": "stderr",
     "output_type": "stream",
     "text": [
      "Processing COCO Datasets: 100%|██████████| 1/1 [00:00<00:00, 16.19it/s]\n",
      "Copying images: 100%|██████████| 1128/1128 [00:03<00:00, 333.07it/s]\n",
      "Copying images: 100%|██████████| 162/162 [00:00<00:00, 438.00it/s]\n",
      "Copying images: 0it [00:00, ?it/s]\n"
     ]
    },
    {
     "name": "stdout",
     "output_type": "stream",
     "text": [
      "/data/Dataset_Compilation_and_Statistics/Sentinel_Datasets/Finalized_datasets/CL_Sim_High\n"
     ]
    },
    {
     "name": "stderr",
     "output_type": "stream",
     "text": [
      "Processing COCO Datasets: 100%|██████████| 1/1 [00:00<00:00,  8.65it/s]\n",
      "Copying images: 100%|██████████| 4200/4200 [00:08<00:00, 471.61it/s] \n",
      "Copying images: 100%|██████████| 600/600 [00:01<00:00, 319.68it/s]\n",
      "Copying images: 0it [00:00, ?it/s]\n"
     ]
    },
    {
     "name": "stdout",
     "output_type": "stream",
     "text": [
      "/data/Dataset_Compilation_and_Statistics/Sentinel_Datasets/Finalized_datasets/CL_Sim_Low\n"
     ]
    },
    {
     "name": "stderr",
     "output_type": "stream",
     "text": [
      "Processing COCO Datasets: 100%|██████████| 1/1 [00:00<00:00,  3.08it/s]\n",
      "Copying images: 100%|██████████| 4200/4200 [00:08<00:00, 492.68it/s] \n",
      "Copying images: 100%|██████████| 600/600 [00:01<00:00, 493.83it/s]\n",
      "Copying images: 0it [00:00, ?it/s]\n"
     ]
    },
    {
     "name": "stdout",
     "output_type": "stream",
     "text": [
      "/data/Dataset_Compilation_and_Statistics/Sentinel_Datasets/Finalized_datasets/CL_Sim_1\n"
     ]
    },
    {
     "name": "stderr",
     "output_type": "stream",
     "text": [
      "Processing COCO Datasets: 100%|██████████| 1/1 [00:00<00:00,  6.09it/s]\n",
      "Copying images: 100%|██████████| 1680/1680 [00:03<00:00, 432.05it/s]\n",
      "Copying images: 100%|██████████| 240/240 [00:00<00:00, 314.12it/s]\n",
      "Copying images: 0it [00:00, ?it/s]\n"
     ]
    },
    {
     "name": "stdout",
     "output_type": "stream",
     "text": [
      "/data/Dataset_Compilation_and_Statistics/Sentinel_Datasets/Finalized_datasets/CL_Sim_2\n"
     ]
    },
    {
     "name": "stderr",
     "output_type": "stream",
     "text": [
      "Processing COCO Datasets: 100%|██████████| 1/1 [00:00<00:00,  8.51it/s]\n",
      "Copying images: 100%|██████████| 1680/1680 [00:03<00:00, 508.49it/s]\n",
      "Copying images: 100%|██████████| 240/240 [00:00<00:00, 449.37it/s]\n",
      "Copying images: 0it [00:00, ?it/s]\n"
     ]
    },
    {
     "name": "stdout",
     "output_type": "stream",
     "text": [
      "/data/Dataset_Compilation_and_Statistics/Sentinel_Datasets/Finalized_datasets/CL_Sim_3\n"
     ]
    },
    {
     "name": "stderr",
     "output_type": "stream",
     "text": [
      "Processing COCO Datasets: 100%|██████████| 1/1 [00:00<00:00,  5.17it/s]\n",
      "Copying images: 100%|██████████| 1680/1680 [00:02<00:00, 607.72it/s] \n",
      "Copying images: 100%|██████████| 240/240 [00:00<00:00, 592.26it/s]\n",
      "Copying images: 0it [00:00, ?it/s]\n"
     ]
    },
    {
     "name": "stdout",
     "output_type": "stream",
     "text": [
      "/data/Dataset_Compilation_and_Statistics/Sentinel_Datasets/Finalized_datasets/CL_Sim_4\n"
     ]
    },
    {
     "name": "stderr",
     "output_type": "stream",
     "text": [
      "Processing COCO Datasets: 100%|██████████| 1/1 [00:00<00:00,  8.93it/s]\n",
      "Copying images: 100%|██████████| 1680/1680 [00:04<00:00, 397.51it/s] \n",
      "Copying images: 100%|██████████| 240/240 [00:00<00:00, 595.60it/s]\n",
      "Copying images: 0it [00:00, ?it/s]\n"
     ]
    },
    {
     "name": "stdout",
     "output_type": "stream",
     "text": [
      "/data/Dataset_Compilation_and_Statistics/Sentinel_Datasets/Finalized_datasets/CL_Sim_5\n"
     ]
    },
    {
     "name": "stderr",
     "output_type": "stream",
     "text": [
      "Processing COCO Datasets: 100%|██████████| 1/1 [00:00<00:00, 15.37it/s]\n",
      "Copying images: 100%|██████████| 1680/1680 [00:03<00:00, 458.35it/s]\n",
      "Copying images: 100%|██████████| 240/240 [00:00<00:00, 656.42it/s]\n",
      "Copying images: 0it [00:00, ?it/s]\n"
     ]
    },
    {
     "name": "stdout",
     "output_type": "stream",
     "text": [
      "/data/Dataset_Compilation_and_Statistics/Sentinel_Datasets/Finalized_datasets/CL_Sim/train\n"
     ]
    },
    {
     "name": "stderr",
     "output_type": "stream",
     "text": [
      "Processing COCO Datasets: 100%|██████████| 1/1 [00:00<00:00,  2.37it/s]\n",
      "Copying images: 100%|██████████| 8400/8400 [00:12<00:00, 687.91it/s] \n",
      "Copying images: 100%|██████████| 1200/1200 [00:01<00:00, 912.04it/s] \n",
      "Copying images: 0it [00:00, ?it/s]\n"
     ]
    },
    {
     "name": "stdout",
     "output_type": "stream",
     "text": [
      "/data/Dataset_Compilation_and_Statistics/Sentinel_Datasets/Finalized_datasets/CL_L1/train\n"
     ]
    },
    {
     "name": "stderr",
     "output_type": "stream",
     "text": [
      "Processing COCO Datasets: 100%|██████████| 1/1 [00:00<00:00,  1.90it/s]\n",
      "Copying images: 100%|██████████| 5719/5719 [00:08<00:00, 684.44it/s] \n",
      "Copying images: 100%|██████████| 807/807 [00:00<00:00, 1250.81it/s]\n",
      "Copying images: 0it [00:00, ?it/s]\n"
     ]
    }
   ],
   "source": [
    "Real1Step = \"/data/Dataset_Compilation_and_Statistics/Sentinel_Datasets/Finalized_datasets/CL_L1\"\n",
    "Real2Step = [\"/data/Dataset_Compilation_and_Statistics/Sentinel_Datasets/Finalized_datasets/CL_L1_High\",\n",
    "            \"/data/Dataset_Compilation_and_Statistics/Sentinel_Datasets/Finalized_datasets/CL_L1_Low\"]\n",
    "Real5Step = [\"/data/Dataset_Compilation_and_Statistics/Sentinel_Datasets/Finalized_datasets/CL_L1_1\",\n",
    "            \"/data/Dataset_Compilation_and_Statistics/Sentinel_Datasets/Finalized_datasets/CL_L1_2\",\n",
    "            \"/data/Dataset_Compilation_and_Statistics/Sentinel_Datasets/Finalized_datasets/CL_L1_3\",\n",
    "            \"/data/Dataset_Compilation_and_Statistics/Sentinel_Datasets/Finalized_datasets/CL_L1_4\",\n",
    "            \"/data/Dataset_Compilation_and_Statistics/Sentinel_Datasets/Finalized_datasets/CL_L1_5\"]\n",
    "SIM1Step = \"/data/Dataset_Compilation_and_Statistics/Sentinel_Datasets/Finalized_datasets/CL_Sim\"\n",
    "SIM2Step = [\"/data/Dataset_Compilation_and_Statistics/Sentinel_Datasets/Finalized_datasets/CL_Sim_High\",\n",
    "            \"/data/Dataset_Compilation_and_Statistics/Sentinel_Datasets/Finalized_datasets/CL_Sim_Low\"]\n",
    "SIM5STep = [\"/data/Dataset_Compilation_and_Statistics/Sentinel_Datasets/Finalized_datasets/CL_Sim_1\",\n",
    "            \"/data/Dataset_Compilation_and_Statistics/Sentinel_Datasets/Finalized_datasets/CL_Sim_2\",\n",
    "            \"/data/Dataset_Compilation_and_Statistics/Sentinel_Datasets/Finalized_datasets/CL_Sim_3\",\n",
    "            \"/data/Dataset_Compilation_and_Statistics/Sentinel_Datasets/Finalized_datasets/CL_Sim_4\",\n",
    "            \"/data/Dataset_Compilation_and_Statistics/Sentinel_Datasets/Finalized_datasets/CL_Sim_5\"]\n",
    "\n",
    "print(\"Creating Original L1 Dataset\")\n",
    "merge_coco(training_set_origins_LMNT01, Real1Step, train_test_split=True, train_ratio=.80, val_ratio=0, test_ratio=0.20, notes=\"LMNT01 10percent overlap with no empty frames for SNR Curriculum Learning study \")\n",
    "\n",
    "print(\"Creating Original SIM Dataset\")\n",
    "satsim_path = \"/data/Dataset_Compilation_and_Statistics/Sentinel_Datasets/Finalized_datasets/SingleSatSNRDataset\"\n",
    "new_satsim_path = \"/data/Dataset_Compilation_and_Statistics/Sentinel_Datasets/Finalized_datasets/CL_Sim_temp\"\n",
    "partition_dataset(satsim_path, [new_satsim_path], \"snr\", 12000)\n",
    "merge_coco([new_satsim_path], SIM1Step, train_test_split=True, train_ratio=.80, val_ratio=0, test_ratio=0.20, notes=\"Satsim train test split \")\n",
    "\n",
    "print(\"Creating CL Partitions\")\n",
    "partition_dataset(os.path.join(Real1Step, \"train\"), Real2Step, \"local_snr\")\n",
    "partition_dataset(os.path.join(Real1Step, \"train\"), Real5Step, \"local_snr\")\n",
    "partition_dataset(os.path.join(SIM1Step, \"train\"), SIM2Step, \"snr\")\n",
    "partition_dataset(os.path.join(SIM1Step, \"train\"), SIM5STep, \"snr\")\n",
    "\n",
    "print(\"Creating Train Test Splits\")\n",
    "all_paths = Real2Step+ Real5Step+ SIM2Step+ SIM5STep + [os.path.join(SIM1Step, \"train\")] + [os.path.join(Real1Step, \"train\")]\n",
    "for pt in all_paths:\n",
    "    new_path = pt+\"_TTS\"\n",
    "    print(pt)\n",
    "    merge_coco([pt], new_path, train_test_split=True, train_ratio=.875, val_ratio=.125, test_ratio=0)"
   ]
  },
  {
   "cell_type": "code",
   "execution_count": 2,
   "id": "01ba1c17",
   "metadata": {},
   "outputs": [
    {
     "name": "stderr",
     "output_type": "stream",
     "text": [
      "Copying images: 100%|██████████| 10000/10000 [00:14<00:00, 681.41it/s]\n",
      "Copying images: 100%|██████████| 2000/2000 [00:01<00:00, 1089.42it/s]\n",
      "Copying images: 100%|██████████| 10000/10000 [00:10<00:00, 952.02it/s]\n",
      "Copying images: 100%|██████████| 2000/2000 [00:03<00:00, 545.67it/s]\n"
     ]
    }
   ],
   "source": [
    "# /data/Dataset_Compilation_and_Statistics/Sentinel_Datasets/Finalized_datasets/Panoptic_MC_LMNT01_train_30_Overlap/train/images: 26863\n",
    "# /data/Dataset_Compilation_and_Statistics/Sentinel_Datasets/Finalized_datasets/Panoptic_MC_LMNT01_train_30_Overlap/test/images: 0\n",
    "# /data/Dataset_Compilation_and_Statistics/Sentinel_Datasets/Finalized_datasets/Panoptic_MC_LMNT01_train_30_Overlap/val/images: 6699\n",
    "Large_val = \"/data/Dataset_Compilation_and_Statistics/Sentinel_Datasets/Finalized_datasets/Panoptic_MC_LMNT01_train_30_Overlap/val\"\n",
    "small_val = \"/data/Dataset_Compilation_and_Statistics/Sentinel_Datasets/Finalized_datasets/Panoptic_MC_LMNT01_train_30_Overlap/small_val\"\n",
    "Large_dataset = \"/data/Dataset_Compilation_and_Statistics/Sentinel_Datasets/Finalized_datasets/Panoptic_MC_LMNT01_train_30_Overlap/train\"\n",
    "Small_Dataset = \"/data/Dataset_Compilation_and_Statistics/Sentinel_Datasets/Finalized_datasets/Panoptic_MC_LMNT01_train_30_Overlap/small_train\"\n",
    "\n",
    "# /data/Dataset_Compilation_and_Statistics/Sentinel_Datasets/Finalized_datasets/Panoptic_MC_LMNT01_train_random_Overlap/train/images: 15369\n",
    "# /data/Dataset_Compilation_and_Statistics/Sentinel_Datasets/Finalized_datasets/Panoptic_MC_LMNT01_train_random_Overlap/test/images: 0\n",
    "# /data/Dataset_Compilation_and_Statistics/Sentinel_Datasets/Finalized_datasets/Panoptic_MC_LMNT01_train_random_Overlap/val/images: 3837\n",
    "\n",
    "large_train_random = \"/data/Dataset_Compilation_and_Statistics/Sentinel_Datasets/Finalized_datasets/Panoptic_MC_LMNT01_train_random_Overlap/train\"\n",
    "small_train_random = \"/data/Dataset_Compilation_and_Statistics/Sentinel_Datasets/Finalized_datasets/Panoptic_MC_LMNT01_train_random_Overlap/small_train\"\n",
    "large_val_random = \"/data/Dataset_Compilation_and_Statistics/Sentinel_Datasets/Finalized_datasets/Panoptic_MC_LMNT01_train_random_Overlap/val\"\n",
    "small_val_random = \"/data/Dataset_Compilation_and_Statistics/Sentinel_Datasets/Finalized_datasets/Panoptic_MC_LMNT01_train_random_Overlap/small_val\"\n",
    "\n",
    "partition_dataset(Large_dataset, [Small_Dataset], dataset_size=10000)\n",
    "partition_dataset(Large_val, [small_val], dataset_size=2000)\n",
    "partition_dataset(large_train_random, [small_train_random], dataset_size=10000)\n",
    "partition_dataset(large_val_random, [small_val_random], dataset_size=2000)"
   ]
  }
 ],
 "metadata": {
  "kernelspec": {
   "display_name": "DatasetStatistics",
   "language": "python",
   "name": "python3"
  },
  "language_info": {
   "codemirror_mode": {
    "name": "ipython",
    "version": 3
   },
   "file_extension": ".py",
   "mimetype": "text/x-python",
   "name": "python",
   "nbconvert_exporter": "python",
   "pygments_lexer": "ipython3",
   "version": "3.12.9"
  }
 },
 "nbformat": 4,
 "nbformat_minor": 5
}
