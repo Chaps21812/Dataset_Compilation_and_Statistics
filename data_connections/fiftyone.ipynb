{
 "cells": [
  {
   "cell_type": "code",
   "execution_count": null,
   "id": "87609014",
   "metadata": {},
   "outputs": [],
   "source": [
    "import fiftyone as fo\n",
    "import fiftyone.zoo as foz\n",
    "\n",
    "\n",
    "\n",
    "# Load a sample dataset\n",
    "dataset = foz.load_zoo_dataset(\"quickstart\")\n",
    "session = fo.launch_app(dataset)\n",
    "session.show()\n",
    "\n"
   ]
  }
 ],
 "metadata": {
  "kernelspec": {
   "display_name": "DatasetStatistics",
   "language": "python",
   "name": "python3"
  },
  "language_info": {
   "name": "python",
   "version": "3.12.9"
  }
 },
 "nbformat": 4,
 "nbformat_minor": 5
}
