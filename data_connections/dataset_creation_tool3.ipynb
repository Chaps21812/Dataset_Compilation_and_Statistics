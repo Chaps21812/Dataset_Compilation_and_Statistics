{
 "cells": [
  {
   "cell_type": "markdown",
   "id": "66e042e1",
   "metadata": {},
   "source": [
    "# Dataset Creation Tool\n",
    "Once your datasets have been properly curated in the training_set_management_tool, you can now use these tools to convert datasets to coco, and merge them as well. "
   ]
  },
  {
   "cell_type": "code",
   "execution_count": 7,
   "id": "b45c1487",
   "metadata": {},
   "outputs": [],
   "source": [
    "from coco_tools import silt_to_coco, satsim_to_coco, merge_coco\n",
    "from preprocess_functions import channel_mixture_A, channel_mixture_B, channel_mixture_C, adaptiveIQR, zscale, iqr_clipped, iqr_log, raw_file\n",
    "from preprocess_functions import _median_column_subtraction, _median_row_subtraction, _background_subtract\n",
    "from utilities import get_folders_in_directory, summarize_local_files, clear_local_caches, clear_local_cache, apply_bbox_corrections\n",
    "import os\n",
    "from utilities import clear_local_caches"
   ]
  },
  {
   "cell_type": "code",
   "execution_count": 8,
   "id": "aed16730",
   "metadata": {},
   "outputs": [],
   "source": [
    "T1 = \"/data/Sentinel_Datasets/LMNT01_Raw/LMNT01Sat-2024-07-08\"\n",
    "T2 = \"/data/Sentinel_Datasets/LMNT01_Raw/LMNT01Sat-2024-07-29\"\n",
    "T3 = \"/data/Sentinel_Datasets/LMNT01_Raw/LMNT01Sat-2024-07-09\"\n",
    "T4 = \"/data/Sentinel_Datasets/LMNT01_Raw/LMNT01Sat-2024-07-10\"\n",
    "T5 = \"/data/Sentinel_Datasets/LMNT01_Raw/LMNT01Sat-2024-07-11\"\n",
    "T6 = \"/data/Sentinel_Datasets/LMNT01_Raw/LMNT01Sat-2024-07-13\"\n",
    "T7 = \"/data/Sentinel_Datasets/LMNT01_Raw/LMNT01Sat-2024-07-12\"\n",
    "T8 = \"/data/Sentinel_Datasets/LMNT01_Raw/LMNT01Sat-2024-08-20\"\n",
    "T9 = \"/data/Sentinel_Datasets/LMNT01_Raw/LMNT01Sat-2024-08-04\"\n",
    "\n",
    "E1 = \"/data/Sentinel_Datasets/LMNT01_Raw/LMNT01Sat-2024-11-15\"\n",
    "E2 = \"/data/Sentinel_Datasets/LMNT01_Raw/LMNT01Sat-2024-11-07\"\n",
    "E3 = \"/data/Sentinel_Datasets/LMNT01_Raw/LMNT01Sat-2024-10-15\"\n",
    "E4 = \"/data/Sentinel_Datasets/LMNT01_Raw/LMNT01Sat-2024-10-23\"\n",
    "E5 = \"/data/Sentinel_Datasets/LMNT01_Raw/LMNT01Sat-2024-12-17\"\n",
    "E6 = \"/data/Sentinel_Datasets/LMNT01_Raw/LMNT01Sat-2024-10-30\"\n",
    "E7 = \"/data/Sentinel_Datasets/LMNT01_Raw/LMNT01Sat-2024-09-13\"\n",
    "E8 = \"/data/Sentinel_Datasets/LMNT01_Raw/LMNT01Sat-2024-11-26\"\n",
    "E9 = \"/data/Sentinel_Datasets/LMNT01_Raw/LMNT01Sat-2024-12-20\"\n",
    "E10 = \"/data/Sentinel_Datasets/LMNT01_Raw/LMNT01Sat-2024-09-25\"\n",
    "E11 = \"/data/Sentinel_Datasets/LMNT01_Raw/LMNT01Sat-2024-10-06\"\n",
    "E12 = \"/data/Sentinel_Datasets/LMNT01_Raw/LMNT01Sat-2024-12-30\"\n",
    "E13 = \"/data/Sentinel_Datasets/LMNT01_Raw/LMNT01Sat-2024-12-06\"\n",
    "E14 = \"/data/Sentinel_Datasets/LMNT01_Raw/LMNT01Sat-2025-05-25\"\n",
    "E15 = \"/data/Sentinel_Datasets/LMNT01_Raw/LMNT01Sat-2025-05-10\"\n",
    "E16 = \"/data/Sentinel_Datasets/LMNT01_Raw/LMNT01Sat-2025-05-03\"\n",
    "E17 = \"/data/Sentinel_Datasets/LMNT01_Raw/LMNT01Sat-2025-01-10\"\n",
    "E18 = \"/data/Sentinel_Datasets/LMNT01_Raw/LMNT01Sat-2025-05-16\"\n",
    "E19 = \"/data/Sentinel_Datasets/LMNT01_Raw/LMNT01Sat-2025-01-07\"\n",
    "E20 = \"/data/Sentinel_Datasets/LMNT01_Raw/LMNT01Sat-2025-01-23\"\n",
    "\n",
    "final_data_path=\"/data/Sentinel_Datasets/Finalized_datasets/\"\n",
    "\n",
    "training_set_origins = [T1, T2, T3, T4, T5, T6, T7, T8, T9]\n",
    "training_set_output_path = os.path.join(final_data_path, f\"LMNT01Sat_Training_Channel_Mixture_C\")\n",
    "\n",
    "eval_origins = [E1, E2, E3, E4, E5, E6, E7, E8, E9, E10, E11, E12, E13, E14, E15, E16, E17, E18, E19, E20]\n",
    "eval_origins = [ E19, E20]\n",
    "eval_finals = [os.path.join(final_data_path, f\"{os.path.basename(ESet)}_Channel_Mixture_C_Eval\") for ESet in eval_origins]\n",
    "\n",
    "preprocess_func = channel_mixture_C\n"
   ]
  },
  {
   "cell_type": "markdown",
   "id": "350bd770",
   "metadata": {},
   "source": [
    "## Convert SILT to COCO"
   ]
  },
  {
   "cell_type": "markdown",
   "id": "dd45e671",
   "metadata": {},
   "source": [
    "### Convert Single Path"
   ]
  },
  {
   "cell_type": "code",
   "execution_count": null,
   "id": "b0a628ad",
   "metadata": {},
   "outputs": [
    {
     "name": "stderr",
     "output_type": "stream",
     "text": [
      "Converting Silt to COCO: 100%|██████████| 712/712 [00:15<00:00, 47.46it/s]\n",
      "Copying images: 100%|██████████| 712/712 [19:28<00:00,  1.64s/it]  \n"
     ]
    }
   ],
   "source": [
    "# silt_to_coco(Process_pathB, include_sats=False, include_stars=True, zip=False, notes=\"RME01 dataset with stars only\")\n",
    "silt_to_coco(Process_pathB, include_sats=True, include_stars=False, convert_png=True, process_func=preprocess_func, notes=\"Channel Mixture of Adaptive IQR, raw, and zscaled. \")"
   ]
  },
  {
   "cell_type": "markdown",
   "id": "0d0bc3df",
   "metadata": {},
   "source": [
    "### Convert Multiple Paths"
   ]
  },
  {
   "cell_type": "code",
   "execution_count": null,
   "id": "7d0acc5f",
   "metadata": {},
   "outputs": [
    {
     "name": "stdout",
     "output_type": "stream",
     "text": [
      "/data/Sentinel_Datasets/LMNT01_Raw/LMNT01Sat-2024-07-08\n"
     ]
    },
    {
     "name": "stderr",
     "output_type": "stream",
     "text": [
      "Converting Silt to COCO: 100%|██████████| 281/281 [00:10<00:00, 26.74it/s]\n",
      "Copying images:  48%|████▊     | 134/281 [03:36<03:46,  1.54s/it]"
     ]
    }
   ],
   "source": [
    "for path in training_set_origins:\n",
    "    print(path)\n",
    "    silt_to_coco(path, include_sats=True, include_stars=False, convert_png=True, process_func=preprocess_func, notes=\"Mixture of ZScale, raw, and log-IQR\")"
   ]
  },
  {
   "cell_type": "markdown",
   "id": "3526d6f9",
   "metadata": {},
   "source": [
    "## Convert SATSim to COCO"
   ]
  },
  {
   "cell_type": "code",
   "execution_count": null,
   "id": "ccf3a46f",
   "metadata": {},
   "outputs": [
    {
     "name": "stderr",
     "output_type": "stream",
     "text": [
      "Converting Satsim to COCO: 100%|██████████| 169/169 [00:10<00:00, 15.74it/s]\n",
      "Copying images: 100%|██████████| 1012/1012 [01:23<00:00, 12.10it/s]\n"
     ]
    }
   ],
   "source": [
    "\n",
    "satsim_to_coco(satsim_path,include_sats=False, include_stars=True, convert_png=True, process_func=None, notes=\"\")"
   ]
  },
  {
   "cell_type": "markdown",
   "id": "3f496708",
   "metadata": {},
   "source": [
    "## Merge Datasets"
   ]
  },
  {
   "cell_type": "markdown",
   "id": "3f5130a4",
   "metadata": {},
   "source": [
    "### Merge Training Sets"
   ]
  },
  {
   "cell_type": "code",
   "execution_count": 5,
   "id": "8c851560",
   "metadata": {},
   "outputs": [
    {
     "name": "stderr",
     "output_type": "stream",
     "text": [
      "Processing COCO Datasets: 100%|██████████| 9/9 [00:00<00:00, 60.68it/s]\n",
      "Copying images: 100%|██████████| 6077/6077 [00:25<00:00, 242.55it/s]\n",
      "Copying images: 100%|██████████| 675/675 [00:03<00:00, 221.87it/s]\n",
      "Copying images: 100%|██████████| 1/1 [00:00<00:00, 407.89it/s]\n"
     ]
    },
    {
     "name": "stdout",
     "output_type": "stream",
     "text": [
      "Removed: /data/Sentinel_Datasets/LMNT01_Raw/LMNT01Sat-2024-07-12/annotations\n",
      "Removed: /data/Sentinel_Datasets/LMNT01_Raw/LMNT01Sat-2024-07-12/images\n",
      "Removed: /data/Sentinel_Datasets/LMNT01_Raw/LMNT01Sat-2024-08-20/annotations\n",
      "Removed: /data/Sentinel_Datasets/LMNT01_Raw/LMNT01Sat-2024-08-20/images\n",
      "Removed: /data/Sentinel_Datasets/LMNT01_Raw/LMNT01Sat-2024-07-08/annotations\n",
      "Removed: /data/Sentinel_Datasets/LMNT01_Raw/LMNT01Sat-2024-07-08/images\n",
      "Removed: /data/Sentinel_Datasets/LMNT01_Raw/LMNT01Sat-2024-07-29/annotations\n",
      "Removed: /data/Sentinel_Datasets/LMNT01_Raw/LMNT01Sat-2024-07-29/images\n",
      "Removed: /data/Sentinel_Datasets/LMNT01_Raw/LMNT01Sat-2024-07-09/annotations\n",
      "Removed: /data/Sentinel_Datasets/LMNT01_Raw/LMNT01Sat-2024-07-09/images\n",
      "Removed: /data/Sentinel_Datasets/LMNT01_Raw/LMNT01Sat-2024-07-10/annotations\n",
      "Removed: /data/Sentinel_Datasets/LMNT01_Raw/LMNT01Sat-2024-07-10/images\n",
      "Removed: /data/Sentinel_Datasets/LMNT01_Raw/LMNT01Sat-2024-07-11/annotations\n",
      "Removed: /data/Sentinel_Datasets/LMNT01_Raw/LMNT01Sat-2024-07-11/images\n",
      "Removed: /data/Sentinel_Datasets/LMNT01_Raw/LMNT01Sat-2024-08-04/annotations\n",
      "Removed: /data/Sentinel_Datasets/LMNT01_Raw/LMNT01Sat-2024-08-04/images\n",
      "Removed: /data/Sentinel_Datasets/LMNT01_Raw/LMNT01Sat-2024-07-13/annotations\n",
      "Removed: /data/Sentinel_Datasets/LMNT01_Raw/LMNT01Sat-2024-07-13/images\n"
     ]
    }
   ],
   "source": [
    "#For Creating Training Sets\n",
    "training_set_origins = [T1, T2, T3, T4, T5, T6, T7, T8, T9]\n",
    "merge_coco(training_set_origins, training_set_output_path, train_test_split=True, train_ratio=.9, val_ratio=.1, test_ratio=0, notes=\"LMNT01_trainig with multi channel C satellites.Contains about 6400 Samples \")\n",
    "clear_local_caches(os.path.dirname(training_set_origins[0]))"
   ]
  },
  {
   "cell_type": "markdown",
   "id": "f98ddbcf",
   "metadata": {},
   "source": [
    "### Merge Evaluation Sets"
   ]
  },
  {
   "cell_type": "code",
   "execution_count": 9,
   "id": "778a7bd2",
   "metadata": {},
   "outputs": [
    {
     "name": "stderr",
     "output_type": "stream",
     "text": [
      "Converting Silt to COCO: 100%|██████████| 601/601 [00:23<00:00, 25.73it/s]\n",
      "Copying images: 100%|██████████| 601/601 [20:10<00:00,  2.01s/it]\n",
      "Processing COCO Datasets: 100%|██████████| 1/1 [00:00<00:00, 77.57it/s]\n",
      "Copying images: 100%|██████████| 601/601 [00:02<00:00, 256.57it/s]\n"
     ]
    },
    {
     "name": "stdout",
     "output_type": "stream",
     "text": [
      "Removed: /data/Sentinel_Datasets/LMNT01_Raw/LMNT01Sat-2025-01-07/annotations\n",
      "Removed: /data/Sentinel_Datasets/LMNT01_Raw/LMNT01Sat-2025-01-07/images\n"
     ]
    },
    {
     "name": "stderr",
     "output_type": "stream",
     "text": [
      "Converting Silt to COCO: 100%|██████████| 2452/2452 [01:48<00:00, 22.51it/s]\n",
      "Copying images: 100%|██████████| 2452/2452 [1:23:14<00:00,  2.04s/it]\n",
      "Processing COCO Datasets: 100%|██████████| 1/1 [00:00<00:00, 19.21it/s]\n",
      "Copying images: 100%|██████████| 2452/2452 [00:09<00:00, 262.29it/s]\n"
     ]
    },
    {
     "name": "stdout",
     "output_type": "stream",
     "text": [
      "Removed: /data/Sentinel_Datasets/LMNT01_Raw/LMNT01Sat-2025-01-23/annotations\n",
      "Removed: /data/Sentinel_Datasets/LMNT01_Raw/LMNT01Sat-2025-01-23/images\n"
     ]
    }
   ],
   "source": [
    "# For creating Evaluation Sets\n",
    "for origin, destination in zip(eval_origins, eval_finals):\n",
    "    silt_to_coco(origin, include_sats=True, include_stars=False, convert_png=True, process_func=preprocess_func, notes=\"Mixture of ZScale, raw, and log-IQR\")\n",
    "    merge_coco([origin], destination, train_test_split=False, train_ratio=0, val_ratio=0, test_ratio=1, notes=\"LMNT01 dataset with satellites and MultiChannel C\")\n",
    "    clear_local_caches(os.path.dirname(origin))"
   ]
  }
 ],
 "metadata": {
  "kernelspec": {
   "display_name": "DatasetStatistics",
   "language": "python",
   "name": "python3"
  },
  "language_info": {
   "codemirror_mode": {
    "name": "ipython",
    "version": 3
   },
   "file_extension": ".py",
   "mimetype": "text/x-python",
   "name": "python",
   "nbconvert_exporter": "python",
   "pygments_lexer": "ipython3",
   "version": "3.12.9"
  }
 },
 "nbformat": 4,
 "nbformat_minor": 5
}
