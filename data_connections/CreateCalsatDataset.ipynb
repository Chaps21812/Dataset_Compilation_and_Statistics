{
 "cells": [
  {
   "cell_type": "markdown",
   "id": "99414329",
   "metadata": {},
   "source": [
    "# Create Calsat Dataset"
   ]
  },
  {
   "cell_type": "code",
   "execution_count": 3,
   "id": "27b2f254",
   "metadata": {},
   "outputs": [
    {
     "name": "stderr",
     "output_type": "stream",
     "text": [
      "15it [00:00, 22199.92it/s]\n"
     ]
    },
    {
     "name": "stdout",
     "output_type": "stream",
     "text": [
      "Num calsats: 0\n",
      "New database created at /data/Dataset_Compilation_and_Statistics/Sentinel_Datasets/RME01-2025_Annotations/2025-04-08/dataset_statistics.pkl\n"
     ]
    },
    {
     "name": "stderr",
     "output_type": "stream",
     "text": [
      "Recalculating Statistics: 100%|██████████| 15/15 [00:00<00:00, 22.91it/s]\n"
     ]
    }
   ],
   "source": [
    "from src.raw_datset import raw_dataset\n",
    "\n",
    "directory = \"/data/Dataset_Compilation_and_Statistics/Sentinel_Datasets/RME01-2025_Annotations/2025-04-08\"\n",
    "new_directory = \"/data/Dataset_Compilation_and_Statistics/Sentinel_Datasets/RME01-2025_Annotations/Calsattest\"\n",
    "dataset = raw_dataset(directory)\n",
    "dataset.create_calsat_dataset(new_directory, \"copy\")\n",
    "\n",
    "\n"
   ]
  }
 ],
 "metadata": {
  "kernelspec": {
   "display_name": "DatasetStatistics",
   "language": "python",
   "name": "python3"
  },
  "language_info": {
   "codemirror_mode": {
    "name": "ipython",
    "version": 3
   },
   "file_extension": ".py",
   "mimetype": "text/x-python",
   "name": "python",
   "nbconvert_exporter": "python",
   "pygments_lexer": "ipython3",
   "version": "3.12.9"
  }
 },
 "nbformat": 4,
 "nbformat_minor": 5
}
