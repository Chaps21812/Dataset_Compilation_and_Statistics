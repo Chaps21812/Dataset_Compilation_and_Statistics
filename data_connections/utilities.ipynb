{
 "cells": [
  {
   "cell_type": "code",
   "execution_count": 1,
   "id": "c02e1822",
   "metadata": {},
   "outputs": [
    {
     "name": "stderr",
     "output_type": "stream",
     "text": [
      "/home/david-chaparro/miniconda3/envs/DatasetStatistics/lib/python3.12/site-packages/tqdm/auto.py:21: TqdmWarning: IProgress not found. Please update jupyter and ipywidgets. See https://ipywidgets.readthedocs.io/en/stable/user_install.html\n",
      "  from .autonotebook import tqdm as notebook_tqdm\n"
     ]
    }
   ],
   "source": [
    "from data_download_tool import download_data, summarize_s3_structure\n",
    "from annotation_viewer import plot_annotations, plot_annotation_subset\n",
    "from pandas_statistics import file_path_loader\n",
    "from plots import *\n",
    "from aws_s3_viewer import S3Client\n",
    "import os\n",
    "\n",
    "def get_folders_in_directory(directory_path):\n",
    "  if not os.path.exists(directory_path):\n",
    "    return []\n",
    "  folders = [\n",
    "      os.path.join(directory_path,entry.name) for entry in os.scandir(directory_path) if entry.is_dir()\n",
    "  ]\n",
    "  return folders\n",
    "\n",
    "def view_folders(storage_path):\n",
    "    for file in get_folders_in_directory(storage_path):\n",
    "        #Local file handling tool\n",
    "        local_files = file_path_loader(file)\n",
    "        print(f\"Num Samples: {len(local_files)}\")\n"
   ]
  },
  {
   "cell_type": "markdown",
   "id": "664ea364",
   "metadata": {},
   "source": [
    "# Clear Preprocessed Images"
   ]
  },
  {
   "cell_type": "code",
   "execution_count": 11,
   "id": "759cce1c",
   "metadata": {},
   "outputs": [
    {
     "name": "stdout",
     "output_type": "stream",
     "text": [
      "Num Samples: 0, /mnt/c/Users/david.chaparro/Documents/Repos/Dataset_Statistics/data/LMNT01Sat-2025-04-30\n",
      "Num Samples: 1248, /mnt/c/Users/david.chaparro/Documents/Repos/Dataset_Statistics/data/LMNT01Sat-2025-05-04\n",
      "Num Samples: 648, /mnt/c/Users/david.chaparro/Documents/Repos/Dataset_Statistics/data/LMNT01Sat-2025-05-10\n",
      "Num Samples: 444, /mnt/c/Users/david.chaparro/Documents/Repos/Dataset_Statistics/data/LMNT01Sat-2025-05-16\n",
      "Num Samples: 311, /mnt/c/Users/david.chaparro/Documents/Repos/Dataset_Statistics/data/LMNT01Satellite-2024-07-08\n",
      "Num Samples: 1376, /mnt/c/Users/david.chaparro/Documents/Repos/Dataset_Statistics/data/LMNT01Satellite-2024-07-12\n",
      "Num Samples: 631, /mnt/c/Users/david.chaparro/Documents/Repos/Dataset_Statistics/data/LMNT01Satellite-2024-07-29\n",
      "Num Samples: 1255, /mnt/c/Users/david.chaparro/Documents/Repos/Dataset_Statistics/data/LMNT01Satellite-2024-08-07\n",
      "Num Samples: 1180, /mnt/c/Users/david.chaparro/Documents/Repos/Dataset_Statistics/data/LMNT01Satellite-2024-08-20\n",
      "Num Samples: 214, /mnt/c/Users/david.chaparro/Documents/Repos/Dataset_Statistics/data/LMNT01Satellite-2024-08-31\n",
      "Num Samples: 423, /mnt/c/Users/david.chaparro/Documents/Repos/Dataset_Statistics/data/LMNT01Satellite-2024-09-19\n",
      "Num Samples: 444, /mnt/c/Users/david.chaparro/Documents/Repos/Dataset_Statistics/data/LMNT01Satellite-2024-10-06\n",
      "Num Samples: 388, /mnt/c/Users/david.chaparro/Documents/Repos/Dataset_Statistics/data/LMNT01Satellite-2024-10-20\n",
      "Num Samples: 601, /mnt/c/Users/david.chaparro/Documents/Repos/Dataset_Statistics/data/LMNT01Satellite-2024-10-31\n",
      "Num Samples: 667, /mnt/c/Users/david.chaparro/Documents/Repos/Dataset_Statistics/data/LMNT01Satellite-2024-11-15\n",
      "Num Samples: 102, /mnt/c/Users/david.chaparro/Documents/Repos/Dataset_Statistics/data/LMNT01Satellite-2024-12-12\n",
      "Num Samples: 115, /mnt/c/Users/david.chaparro/Documents/Repos/Dataset_Statistics/data/LMNT01Satellite-2024-12-26\n",
      "Num Samples: 52, /mnt/c/Users/david.chaparro/Documents/Repos/Dataset_Statistics/data/LMNT01Satellite-2025-01-07\n"
     ]
    },
    {
     "ename": "IndexError",
     "evalue": "list index out of range",
     "output_type": "error",
     "traceback": [
      "\u001b[31m---------------------------------------------------------------------------\u001b[39m",
      "\u001b[31mIndexError\u001b[39m                                Traceback (most recent call last)",
      "\u001b[36mCell\u001b[39m\u001b[36m \u001b[39m\u001b[32mIn[11]\u001b[39m\u001b[32m, line 6\u001b[39m\n\u001b[32m      1\u001b[39m storage_path = \u001b[33m\"\u001b[39m\u001b[33m/mnt/c/Users/david.chaparro/Documents/Repos/Dataset_Statistics/data\u001b[39m\u001b[33m\"\u001b[39m\n\u001b[32m      4\u001b[39m \u001b[38;5;28;01mfor\u001b[39;00m file \u001b[38;5;129;01min\u001b[39;00m get_folders_in_directory(storage_path):\n\u001b[32m      5\u001b[39m     \u001b[38;5;66;03m#Local file handling tool\u001b[39;00m\n\u001b[32m----> \u001b[39m\u001b[32m6\u001b[39m     local_files = \u001b[43mfile_path_loader\u001b[49m\u001b[43m(\u001b[49m\u001b[43mfile\u001b[49m\u001b[43m)\u001b[49m\n\u001b[32m      7\u001b[39m     \u001b[38;5;28mprint\u001b[39m(\u001b[33mf\u001b[39m\u001b[33m\"\u001b[39m\u001b[33mNum Samples: \u001b[39m\u001b[38;5;132;01m{\u001b[39;00m\u001b[38;5;28mlen\u001b[39m(local_files)\u001b[38;5;132;01m}\u001b[39;00m\u001b[33m, \u001b[39m\u001b[38;5;132;01m{\u001b[39;00mfile\u001b[38;5;132;01m}\u001b[39;00m\u001b[33m\"\u001b[39m)\n\u001b[32m      8\u001b[39m     local_files.clear_cache()\n",
      "\u001b[36mFile \u001b[39m\u001b[32m/mnt/c/Users/david.chaparro/Documents/Repos/Dataset_Statistics/data_connections/pandas_statistics.py:43\u001b[39m, in \u001b[36mfile_path_loader.__init__\u001b[39m\u001b[34m(self, dataset_path)\u001b[39m\n\u001b[32m     41\u001b[39m \u001b[38;5;28;01mdef\u001b[39;00m\u001b[38;5;250m \u001b[39m\u001b[34m__init__\u001b[39m(\u001b[38;5;28mself\u001b[39m, dataset_path:\u001b[38;5;28mstr\u001b[39m):\n\u001b[32m     42\u001b[39m     \u001b[38;5;28mself\u001b[39m.directory = dataset_path\n\u001b[32m---> \u001b[39m\u001b[32m43\u001b[39m     \u001b[38;5;28mself\u001b[39m.statistics_file = PDStatistics_calculator.load(os.path.join(\u001b[38;5;28mself\u001b[39m.directory,\u001b[43m[\u001b[49m\u001b[43mf\u001b[49m\u001b[43m \u001b[49m\u001b[38;5;28;43;01mfor\u001b[39;49;00m\u001b[43m \u001b[49m\u001b[43mf\u001b[49m\u001b[43m \u001b[49m\u001b[38;5;129;43;01min\u001b[39;49;00m\u001b[43m \u001b[49m\u001b[43mos\u001b[49m\u001b[43m.\u001b[49m\u001b[43mlistdir\u001b[49m\u001b[43m(\u001b[49m\u001b[38;5;28;43mself\u001b[39;49m\u001b[43m.\u001b[49m\u001b[43mdirectory\u001b[49m\u001b[43m)\u001b[49m\u001b[43m \u001b[49m\u001b[38;5;28;43;01mif\u001b[39;49;00m\u001b[43m \u001b[49m\u001b[43m(\u001b[49m\u001b[43mf\u001b[49m\u001b[43m.\u001b[49m\u001b[43mendswith\u001b[49m\u001b[43m(\u001b[49m\u001b[33;43m\"\u001b[39;49m\u001b[33;43m.pkl\u001b[39;49m\u001b[33;43m\"\u001b[39;49m\u001b[43m)\u001b[49m\u001b[43m \u001b[49m\u001b[38;5;129;43;01mand\u001b[39;49;00m\u001b[43m \u001b[49m\u001b[33;43m\"\u001b[39;49m\u001b[33;43merror\u001b[39;49m\u001b[33;43m\"\u001b[39;49m\u001b[43m \u001b[49m\u001b[38;5;129;43;01mnot\u001b[39;49;00m\u001b[43m \u001b[49m\u001b[38;5;129;43;01min\u001b[39;49;00m\u001b[43m \u001b[49m\u001b[43mf\u001b[49m\u001b[43m)\u001b[49m\u001b[43m]\u001b[49m\u001b[43m[\u001b[49m\u001b[32;43m0\u001b[39;49m\u001b[43m]\u001b[49m))\n\u001b[32m     44\u001b[39m     \u001b[38;5;28mself\u001b[39m.statistics_filename = os.path.join(\u001b[38;5;28mself\u001b[39m.directory,[f \u001b[38;5;28;01mfor\u001b[39;00m f \u001b[38;5;129;01min\u001b[39;00m os.listdir(\u001b[38;5;28mself\u001b[39m.directory) \u001b[38;5;28;01mif\u001b[39;00m (f.endswith(\u001b[33m\"\u001b[39m\u001b[33m.pkl\u001b[39m\u001b[33m\"\u001b[39m) \u001b[38;5;129;01mand\u001b[39;00m \u001b[33m\"\u001b[39m\u001b[33merror\u001b[39m\u001b[33m\"\u001b[39m \u001b[38;5;129;01mnot\u001b[39;00m \u001b[38;5;129;01min\u001b[39;00m f)][\u001b[32m0\u001b[39m])\n\u001b[32m     45\u001b[39m     \u001b[38;5;28mself\u001b[39m.annotation_path = os.path.join(\u001b[38;5;28mself\u001b[39m.directory, \u001b[33m\"\u001b[39m\u001b[33mraw_annotation\u001b[39m\u001b[33m\"\u001b[39m)\n",
      "\u001b[31mIndexError\u001b[39m: list index out of range"
     ]
    }
   ],
   "source": [
    "storage_path = \"/mnt/c/Users/david.chaparro/Documents/Repos/Dataset_Statistics/data\"\n",
    "\n",
    "\n",
    "for file in get_folders_in_directory(storage_path):\n",
    "    #Local file handling tool\n",
    "    local_files = file_path_loader(file)\n",
    "    print(f\"Num Samples: {len(local_files)}, {file}\")\n",
    "    local_files.clear_cache()\n"
   ]
  },
  {
   "cell_type": "markdown",
   "id": "b7c7c498",
   "metadata": {},
   "source": [
    "# Recalculate All Statistics"
   ]
  },
  {
   "cell_type": "code",
   "execution_count": 10,
   "id": "b6a462cf",
   "metadata": {},
   "outputs": [
    {
     "name": "stdout",
     "output_type": "stream",
     "text": [
      "Num Samples: 1843\n",
      "New database created at /mnt/c/Users/david.chaparro/Documents/Repos/Dataset_Statistics/data/LMNT01Sat-2025-04-30/LMNT01Sat-2025-04-30_Statistics.pkl\n"
     ]
    },
    {
     "name": "stderr",
     "output_type": "stream",
     "text": [
      "Recalculating Statistics:   1%|          | 22/1843 [00:10<13:53,  2.18it/s]\n"
     ]
    },
    {
     "ename": "KeyboardInterrupt",
     "evalue": "",
     "output_type": "error",
     "traceback": [
      "\u001b[31m---------------------------------------------------------------------------\u001b[39m",
      "\u001b[31mKeyboardInterrupt\u001b[39m                         Traceback (most recent call last)",
      "\u001b[36mCell\u001b[39m\u001b[36m \u001b[39m\u001b[32mIn[10]\u001b[39m\u001b[32m, line 7\u001b[39m\n\u001b[32m      5\u001b[39m local_files = file_path_loader(file)\n\u001b[32m      6\u001b[39m \u001b[38;5;28mprint\u001b[39m(\u001b[33mf\u001b[39m\u001b[33m\"\u001b[39m\u001b[33mNum Samples: \u001b[39m\u001b[38;5;132;01m{\u001b[39;00m\u001b[38;5;28mlen\u001b[39m(local_files)\u001b[38;5;132;01m}\u001b[39;00m\u001b[33m\"\u001b[39m)\n\u001b[32m----> \u001b[39m\u001b[32m7\u001b[39m \u001b[43mlocal_files\u001b[49m\u001b[43m.\u001b[49m\u001b[43mrecalculate_statistics\u001b[49m\u001b[43m(\u001b[49m\u001b[43m)\u001b[49m\n",
      "\u001b[36mFile \u001b[39m\u001b[32m/mnt/c/Users/david.chaparro/Documents/Repos/Dataset_Statistics/data_connections/pandas_statistics.py:152\u001b[39m, in \u001b[36mfile_path_loader.recalculate_statistics\u001b[39m\u001b[34m(self)\u001b[39m\n\u001b[32m    150\u001b[39m fits_content = \u001b[38;5;28mself\u001b[39m.open_fits(fitsT)\n\u001b[32m    151\u001b[39m hdu = fits_content[\u001b[32m0\u001b[39m].header\n\u001b[32m--> \u001b[39m\u001b[32m152\u001b[39m data = \u001b[43mfits_content\u001b[49m\u001b[43m[\u001b[49m\u001b[32;43m0\u001b[39;49m\u001b[43m]\u001b[49m\u001b[43m.\u001b[49m\u001b[43mdata\u001b[49m\n\u001b[32m    154\u001b[39m hdu = fits_content[\u001b[32m0\u001b[39m].header\n\u001b[32m    155\u001b[39m \u001b[38;5;28;01mif\u001b[39;00m \u001b[33m\"\u001b[39m\u001b[33mTRKMODE\u001b[39m\u001b[33m\"\u001b[39m \u001b[38;5;129;01min\u001b[39;00m hdu.keys():\n",
      "\u001b[36mFile \u001b[39m\u001b[32m~/miniconda3/envs/DatasetStatistics/lib/python3.12/site-packages/astropy/utils/decorators.py:851\u001b[39m, in \u001b[36mlazyproperty.__get__\u001b[39m\u001b[34m(self, obj, owner)\u001b[39m\n\u001b[32m    849\u001b[39m         val = obj_dict.get(\u001b[38;5;28mself\u001b[39m._key, _NotFound)\n\u001b[32m    850\u001b[39m         \u001b[38;5;28;01mif\u001b[39;00m val \u001b[38;5;129;01mis\u001b[39;00m _NotFound:\n\u001b[32m--> \u001b[39m\u001b[32m851\u001b[39m             val = \u001b[38;5;28;43mself\u001b[39;49m\u001b[43m.\u001b[49m\u001b[43mfget\u001b[49m\u001b[43m(\u001b[49m\u001b[43mobj\u001b[49m\u001b[43m)\u001b[49m\n\u001b[32m    852\u001b[39m             obj_dict[\u001b[38;5;28mself\u001b[39m._key] = val\n\u001b[32m    853\u001b[39m \u001b[38;5;28;01mreturn\u001b[39;00m val\n",
      "\u001b[36mFile \u001b[39m\u001b[32m~/miniconda3/envs/DatasetStatistics/lib/python3.12/site-packages/astropy/io/fits/hdu/image.py:250\u001b[39m, in \u001b[36m_ImageBaseHDU.data\u001b[39m\u001b[34m(self)\u001b[39m\n\u001b[32m    247\u001b[39m \u001b[38;5;28;01mif\u001b[39;00m \u001b[38;5;28mlen\u001b[39m(\u001b[38;5;28mself\u001b[39m._axes) < \u001b[32m1\u001b[39m:\n\u001b[32m    248\u001b[39m     \u001b[38;5;28;01mreturn\u001b[39;00m\n\u001b[32m--> \u001b[39m\u001b[32m250\u001b[39m data = \u001b[38;5;28;43mself\u001b[39;49m\u001b[43m.\u001b[49m\u001b[43m_get_scaled_image_data\u001b[49m\u001b[43m(\u001b[49m\u001b[38;5;28;43mself\u001b[39;49m\u001b[43m.\u001b[49m\u001b[43m_data_offset\u001b[49m\u001b[43m,\u001b[49m\u001b[43m \u001b[49m\u001b[38;5;28;43mself\u001b[39;49m\u001b[43m.\u001b[49m\u001b[43mshape\u001b[49m\u001b[43m)\u001b[49m\n\u001b[32m    251\u001b[39m \u001b[38;5;28mself\u001b[39m._update_header_scale_info(data.dtype)\n\u001b[32m    253\u001b[39m \u001b[38;5;28;01mreturn\u001b[39;00m data\n",
      "\u001b[36mFile \u001b[39m\u001b[32m~/miniconda3/envs/DatasetStatistics/lib/python3.12/site-packages/astropy/io/fits/hdu/image.py:818\u001b[39m, in \u001b[36m_ImageBaseHDU._get_scaled_image_data\u001b[39m\u001b[34m(self, offset, shape)\u001b[39m\n\u001b[32m    815\u001b[39m raw_data = \u001b[38;5;28mself\u001b[39m._get_raw_data(shape, code, offset)\n\u001b[32m    816\u001b[39m raw_data.dtype = raw_data.dtype.newbyteorder(\u001b[33m\"\u001b[39m\u001b[33m>\u001b[39m\u001b[33m\"\u001b[39m)\n\u001b[32m--> \u001b[39m\u001b[32m818\u001b[39m \u001b[38;5;28;01mreturn\u001b[39;00m \u001b[38;5;28;43mself\u001b[39;49m\u001b[43m.\u001b[49m\u001b[43m_scale_data\u001b[49m\u001b[43m(\u001b[49m\u001b[43mraw_data\u001b[49m\u001b[43m)\u001b[49m\n",
      "\u001b[36mFile \u001b[39m\u001b[32m~/miniconda3/envs/DatasetStatistics/lib/python3.12/site-packages/astropy/io/fits/hdu/image.py:839\u001b[39m, in \u001b[36m_ImageBaseHDU._scale_data\u001b[39m\u001b[34m(self, raw_data)\u001b[39m\n\u001b[32m    837\u001b[39m data = \u001b[38;5;28;01mNone\u001b[39;00m\n\u001b[32m    838\u001b[39m \u001b[38;5;28;01mif\u001b[39;00m \u001b[38;5;129;01mnot\u001b[39;00m (\u001b[38;5;28mself\u001b[39m._orig_bzero == \u001b[32m0\u001b[39m \u001b[38;5;129;01mand\u001b[39;00m \u001b[38;5;28mself\u001b[39m._orig_bscale == \u001b[32m1\u001b[39m):\n\u001b[32m--> \u001b[39m\u001b[32m839\u001b[39m     data = \u001b[38;5;28;43mself\u001b[39;49m\u001b[43m.\u001b[49m\u001b[43m_convert_pseudo_integer\u001b[49m\u001b[43m(\u001b[49m\u001b[43mraw_data\u001b[49m\u001b[43m)\u001b[49m\n\u001b[32m    841\u001b[39m \u001b[38;5;28;01mif\u001b[39;00m data \u001b[38;5;129;01mis\u001b[39;00m \u001b[38;5;28;01mNone\u001b[39;00m:\n\u001b[32m    842\u001b[39m     \u001b[38;5;66;03m# In these cases, we end up with floating-point arrays and have to\u001b[39;00m\n\u001b[32m    843\u001b[39m     \u001b[38;5;66;03m# apply bscale and bzero. We may have to handle BLANK and convert\u001b[39;00m\n\u001b[32m    844\u001b[39m     \u001b[38;5;66;03m# to NaN in the resulting floating-point arrays.\u001b[39;00m\n\u001b[32m    845\u001b[39m     \u001b[38;5;66;03m# The BLANK keyword should only be applied for integer data (this\u001b[39;00m\n\u001b[32m    846\u001b[39m     \u001b[38;5;66;03m# is checked in __init__ but it can't hurt to double check here)\u001b[39;00m\n\u001b[32m    847\u001b[39m     blanks = \u001b[38;5;28;01mNone\u001b[39;00m\n",
      "\u001b[36mFile \u001b[39m\u001b[32m~/miniconda3/envs/DatasetStatistics/lib/python3.12/site-packages/astropy/io/fits/hdu/image.py:802\u001b[39m, in \u001b[36m_ImageBaseHDU._convert_pseudo_integer\u001b[39m\u001b[34m(self, data)\u001b[39m\n\u001b[32m    796\u001b[39m \u001b[38;5;28;01mif\u001b[39;00m dtype \u001b[38;5;129;01mis\u001b[39;00m \u001b[38;5;129;01mnot\u001b[39;00m \u001b[38;5;28;01mNone\u001b[39;00m \u001b[38;5;129;01mand\u001b[39;00m dtype.kind == \u001b[33m\"\u001b[39m\u001b[33mu\u001b[39m\u001b[33m\"\u001b[39m:\n\u001b[32m    797\u001b[39m     \u001b[38;5;66;03m# Convert the input raw data into an unsigned integer array and\u001b[39;00m\n\u001b[32m    798\u001b[39m     \u001b[38;5;66;03m# then scale the data adjusting for the value of BZERO.  Note that\u001b[39;00m\n\u001b[32m    799\u001b[39m     \u001b[38;5;66;03m# we subtract the value of BZERO instead of adding because of the\u001b[39;00m\n\u001b[32m    800\u001b[39m     \u001b[38;5;66;03m# way numpy converts the raw signed array into an unsigned array.\u001b[39;00m\n\u001b[32m    801\u001b[39m     bits = dtype.itemsize * \u001b[32m8\u001b[39m\n\u001b[32m--> \u001b[39m\u001b[32m802\u001b[39m     data = \u001b[43mnp\u001b[49m\u001b[43m.\u001b[49m\u001b[43marray\u001b[49m\u001b[43m(\u001b[49m\u001b[43mdata\u001b[49m\u001b[43m,\u001b[49m\u001b[43m \u001b[49m\u001b[43mdtype\u001b[49m\u001b[43m=\u001b[49m\u001b[43mdtype\u001b[49m\u001b[43m)\u001b[49m\n\u001b[32m    803\u001b[39m     data -= np.uint64(\u001b[32m1\u001b[39m << (bits - \u001b[32m1\u001b[39m))\n\u001b[32m    805\u001b[39m     \u001b[38;5;28;01mreturn\u001b[39;00m data\n",
      "\u001b[31mKeyboardInterrupt\u001b[39m: "
     ]
    }
   ],
   "source": [
    "storage_path = \"/mnt/c/Users/david.chaparro/Documents/Repos/Dataset_Statistics/data\"\n",
    "\n",
    "for file in get_folders_in_directory(storage_path):\n",
    "    #Local file handling tool\n",
    "    local_files = file_path_loader(file)\n",
    "    print(f\"Num Samples: {len(local_files)}\")\n",
    "    local_files.recalculate_statistics()\n"
   ]
  }
 ],
 "metadata": {
  "kernelspec": {
   "display_name": "DatasetStatistics",
   "language": "python",
   "name": "python3"
  },
  "language_info": {
   "codemirror_mode": {
    "name": "ipython",
    "version": 3
   },
   "file_extension": ".py",
   "mimetype": "text/x-python",
   "name": "python",
   "nbconvert_exporter": "python",
   "pygments_lexer": "ipython3",
   "version": "3.12.9"
  }
 },
 "nbformat": 4,
 "nbformat_minor": 5
}
