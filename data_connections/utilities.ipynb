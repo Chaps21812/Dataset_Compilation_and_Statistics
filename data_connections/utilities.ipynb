{
 "cells": [
  {
   "cell_type": "code",
   "execution_count": 1,
   "id": "c02e1822",
   "metadata": {},
   "outputs": [],
   "source": [
    "from data_download_tool import download_data, summarize_s3_structure\n",
    "from annotation_viewer import plot_annotations, plot_annotation_subset\n",
    "from pandas_statistics import file_path_loader\n",
    "from plots import *\n",
    "from aws_s3_viewer import S3Client\n",
    "import os\n",
    "\n",
    "def get_folders_in_directory(directory_path):\n",
    "  if not os.path.exists(directory_path):\n",
    "    return []\n",
    "  folders = [\n",
    "      entry.name for entry in os.scandir(directory_path) if entry.is_dir()\n",
    "  ]\n",
    "  return folders\n"
   ]
  },
  {
   "cell_type": "markdown",
   "id": "664ea364",
   "metadata": {},
   "source": [
    "# Clear Preprocessed Images"
   ]
  },
  {
   "cell_type": "code",
   "execution_count": 2,
   "id": "759cce1c",
   "metadata": {},
   "outputs": [
    {
     "name": "stdout",
     "output_type": "stream",
     "text": [
      "Num Samples: 463\n",
      "Num Samples: 3136\n",
      "Num Samples: 217\n",
      "Num Samples: 775\n",
      "Num Samples: 545\n",
      "Num Samples: 1086\n",
      "Num Samples: 609\n",
      "Num Samples: 291\n",
      "Num Samples: 144\n",
      "Num Samples: 500\n",
      "Num Samples: 1859\n",
      "Num Samples: 744\n",
      "Num Samples: 1351\n",
      "Num Samples: 1236\n",
      "Num Samples: 297\n",
      "Num Samples: 418\n",
      "Num Samples: 1607\n",
      "Num Samples: 174\n",
      "Num Samples: 1383\n",
      "Num Samples: 1487\n",
      "Num Samples: 1068\n",
      "Num Samples: 1018\n",
      "Num Samples: 536\n",
      "Removed: /home/davidchaparro/Repos/Dataset_Compilation_and_Statistics/data/LMNT02Sat-2024-07-07/annotations\n",
      "Removed: /home/davidchaparro/Repos/Dataset_Compilation_and_Statistics/data/LMNT02Sat-2024-07-07/images\n",
      "Num Samples: 528\n",
      "Num Samples: 909\n",
      "Num Samples: 2392\n"
     ]
    }
   ],
   "source": [
    "storage_path = \"/home/davidchaparro/Repos/Dataset_Compilation_and_Statistics/data\"\n",
    "\n",
    "\n",
    "for file in get_folders_in_directory(storage_path):\n",
    "    #Local file handling tool\n",
    "    local_files = file_path_loader(os.path.join(storage_path,file))\n",
    "    print(f\"Num Samples: {len(local_files)}\")\n",
    "    local_files.clear_cache()\n"
   ]
  },
  {
   "cell_type": "markdown",
   "id": "b7c7c498",
   "metadata": {},
   "source": [
    "# Recalculate All Statistics"
   ]
  },
  {
   "cell_type": "code",
   "execution_count": 4,
   "id": "b6a462cf",
   "metadata": {},
   "outputs": [
    {
     "name": "stdout",
     "output_type": "stream",
     "text": [
      "Num Samples: 463\n",
      "New database created at /home/davidchaparro/Repos/Dataset_Compilation_and_Statistics/data/LMNT02Sat-2024-10-08/LMNT02Sat-2024-10-08_Statistics.pkl\n"
     ]
    },
    {
     "name": "stderr",
     "output_type": "stream",
     "text": [
      "Recalculating Statistics:   0%|          | 0/463 [00:00<?, ?it/s]"
     ]
    },
    {
     "name": "stderr",
     "output_type": "stream",
     "text": [
      "Recalculating Statistics: 100%|██████████| 463/463 [00:17<00:00, 26.10it/s]\n"
     ]
    },
    {
     "name": "stdout",
     "output_type": "stream",
     "text": [
      "Num Samples: 3136\n",
      "New database created at /home/davidchaparro/Repos/Dataset_Compilation_and_Statistics/data/LMNT02Sat-2024-07-21/LMNT02Sat-2024-07-21_Statistics.pkl\n"
     ]
    },
    {
     "name": "stderr",
     "output_type": "stream",
     "text": [
      "Recalculating Statistics: 100%|██████████| 3136/3136 [02:02<00:00, 25.69it/s]\n"
     ]
    },
    {
     "name": "stdout",
     "output_type": "stream",
     "text": [
      "Num Samples: 217\n",
      "New database created at /home/davidchaparro/Repos/Dataset_Compilation_and_Statistics/data/LMNT02Sat-2024-07-20/LMNT02Sat-2024-07-20_Statistics.pkl\n"
     ]
    },
    {
     "name": "stderr",
     "output_type": "stream",
     "text": [
      "Recalculating Statistics: 100%|██████████| 217/217 [00:08<00:00, 25.71it/s]\n"
     ]
    },
    {
     "name": "stdout",
     "output_type": "stream",
     "text": [
      "Num Samples: 775\n",
      "New database created at /home/davidchaparro/Repos/Dataset_Compilation_and_Statistics/data/LMNT02Sat-2024-07-08/LMNT02Sat-2024-07-08_Statistics.pkl\n"
     ]
    },
    {
     "name": "stderr",
     "output_type": "stream",
     "text": [
      "Recalculating Statistics: 100%|██████████| 775/775 [00:28<00:00, 27.50it/s]\n"
     ]
    },
    {
     "name": "stdout",
     "output_type": "stream",
     "text": [
      "Num Samples: 545\n",
      "New database created at /home/davidchaparro/Repos/Dataset_Compilation_and_Statistics/data/LMNT02Sat-2025-01-08/LMNT02Sat-2025-01-08_Statistics.pkl\n"
     ]
    },
    {
     "name": "stderr",
     "output_type": "stream",
     "text": [
      "Recalculating Statistics: 100%|██████████| 545/545 [00:18<00:00, 29.58it/s]\n"
     ]
    },
    {
     "name": "stdout",
     "output_type": "stream",
     "text": [
      "Num Samples: 1086\n",
      "New database created at /home/davidchaparro/Repos/Dataset_Compilation_and_Statistics/data/LMNT02Sat-2024-07-06/LMNT02Sat-2024-07-06_Statistics.pkl\n"
     ]
    },
    {
     "name": "stderr",
     "output_type": "stream",
     "text": [
      "Recalculating Statistics: 100%|██████████| 1086/1086 [00:42<00:00, 25.53it/s]\n"
     ]
    },
    {
     "name": "stdout",
     "output_type": "stream",
     "text": [
      "Num Samples: 609\n",
      "New database created at /home/davidchaparro/Repos/Dataset_Compilation_and_Statistics/data/LMNT02Sat-2024-09-06/LMNT02Sat-2024-09-06_Statistics.pkl\n"
     ]
    },
    {
     "name": "stderr",
     "output_type": "stream",
     "text": [
      "Recalculating Statistics: 100%|██████████| 609/609 [00:21<00:00, 27.83it/s]\n"
     ]
    },
    {
     "name": "stdout",
     "output_type": "stream",
     "text": [
      "Num Samples: 291\n",
      "New database created at /home/davidchaparro/Repos/Dataset_Compilation_and_Statistics/data/LMNT02Sat-2024-12-20/LMNT02Sat-2024-12-20_Statistics.pkl\n"
     ]
    },
    {
     "name": "stderr",
     "output_type": "stream",
     "text": [
      "Recalculating Statistics: 100%|██████████| 291/291 [00:10<00:00, 27.94it/s]\n"
     ]
    },
    {
     "name": "stdout",
     "output_type": "stream",
     "text": [
      "Num Samples: 144\n",
      "New database created at /home/davidchaparro/Repos/Dataset_Compilation_and_Statistics/data/LMNT02Sat-2024-07-25/LMNT02Sat-2024-07-25_Statistics.pkl\n"
     ]
    },
    {
     "name": "stderr",
     "output_type": "stream",
     "text": [
      "Recalculating Statistics: 100%|██████████| 144/144 [00:05<00:00, 25.79it/s]\n"
     ]
    },
    {
     "name": "stdout",
     "output_type": "stream",
     "text": [
      "Num Samples: 500\n",
      "New database created at /home/davidchaparro/Repos/Dataset_Compilation_and_Statistics/data/LMNT02Sat-2024-07-11/LMNT02Sat-2024-07-11_Statistics.pkl\n"
     ]
    },
    {
     "name": "stderr",
     "output_type": "stream",
     "text": [
      "Recalculating Statistics: 100%|██████████| 500/500 [00:18<00:00, 27.26it/s]\n"
     ]
    },
    {
     "name": "stdout",
     "output_type": "stream",
     "text": [
      "Num Samples: 1859\n",
      "New database created at /home/davidchaparro/Repos/Dataset_Compilation_and_Statistics/data/LMNT02Sat-2024-09-14/LMNT02Sat-2024-09-14_Statistics.pkl\n"
     ]
    },
    {
     "name": "stderr",
     "output_type": "stream",
     "text": [
      "Recalculating Statistics: 100%|██████████| 1859/1859 [01:08<00:00, 27.02it/s]\n"
     ]
    },
    {
     "name": "stdout",
     "output_type": "stream",
     "text": [
      "Num Samples: 744\n",
      "New database created at /home/davidchaparro/Repos/Dataset_Compilation_and_Statistics/data/LMNT02Sat-2024-07-09/LMNT02Sat-2024-07-09_Statistics.pkl\n"
     ]
    },
    {
     "name": "stderr",
     "output_type": "stream",
     "text": [
      "Recalculating Statistics: 100%|██████████| 744/744 [00:29<00:00, 25.64it/s]\n"
     ]
    },
    {
     "name": "stdout",
     "output_type": "stream",
     "text": [
      "Num Samples: 1351\n",
      "New database created at /home/davidchaparro/Repos/Dataset_Compilation_and_Statistics/data/LMNT02Sat-2024-10-17/LMNT02Sat-2024-10-17_Statistics.pkl\n"
     ]
    },
    {
     "name": "stderr",
     "output_type": "stream",
     "text": [
      "Recalculating Statistics: 100%|██████████| 1351/1351 [00:43<00:00, 30.78it/s]\n"
     ]
    },
    {
     "name": "stdout",
     "output_type": "stream",
     "text": [
      "Num Samples: 1236\n",
      "New database created at /home/davidchaparro/Repos/Dataset_Compilation_and_Statistics/data/LMNT02Sat-2024-10-31/LMNT02Sat-2024-10-31_Statistics.pkl\n"
     ]
    },
    {
     "name": "stderr",
     "output_type": "stream",
     "text": [
      "Recalculating Statistics: 100%|██████████| 1236/1236 [00:45<00:00, 27.42it/s]\n"
     ]
    },
    {
     "name": "stdout",
     "output_type": "stream",
     "text": [
      "Num Samples: 297\n",
      "New database created at /home/davidchaparro/Repos/Dataset_Compilation_and_Statistics/data/LMNT02Sat-2024-11-15/LMNT02Sat-2024-11-15_Statistics.pkl\n"
     ]
    },
    {
     "name": "stderr",
     "output_type": "stream",
     "text": [
      "Recalculating Statistics: 100%|██████████| 297/297 [00:09<00:00, 32.78it/s]\n"
     ]
    },
    {
     "name": "stdout",
     "output_type": "stream",
     "text": [
      "Num Samples: 418\n",
      "New database created at /home/davidchaparro/Repos/Dataset_Compilation_and_Statistics/data/LMNT02Sat-2024-08-05/LMNT02Sat-2024-08-05_Statistics.pkl\n"
     ]
    },
    {
     "name": "stderr",
     "output_type": "stream",
     "text": [
      "Recalculating Statistics: 100%|██████████| 418/418 [00:18<00:00, 22.82it/s]\n"
     ]
    },
    {
     "name": "stdout",
     "output_type": "stream",
     "text": [
      "Num Samples: 1607\n",
      "New database created at /home/davidchaparro/Repos/Dataset_Compilation_and_Statistics/data/LMNT02Sat-2024-12-31/LMNT02Sat-2024-12-31_Statistics.pkl\n"
     ]
    },
    {
     "name": "stderr",
     "output_type": "stream",
     "text": [
      "Recalculating Statistics: 100%|██████████| 1607/1607 [01:04<00:00, 25.03it/s]\n"
     ]
    },
    {
     "name": "stdout",
     "output_type": "stream",
     "text": [
      "Num Samples: 174\n",
      "New database created at /home/davidchaparro/Repos/Dataset_Compilation_and_Statistics/data/LMNT02Sat-2024-11-27/LMNT02Sat-2024-11-27_Statistics.pkl\n"
     ]
    },
    {
     "name": "stderr",
     "output_type": "stream",
     "text": [
      "Recalculating Statistics: 100%|██████████| 174/174 [00:06<00:00, 27.56it/s]\n"
     ]
    },
    {
     "name": "stdout",
     "output_type": "stream",
     "text": [
      "Num Samples: 1383\n",
      "New database created at /home/davidchaparro/Repos/Dataset_Compilation_and_Statistics/data/LMNT02Sat-2024-07-12/LMNT02Sat-2024-07-12_Statistics.pkl\n"
     ]
    },
    {
     "name": "stderr",
     "output_type": "stream",
     "text": [
      "Recalculating Statistics: 100%|██████████| 1383/1383 [00:55<00:00, 25.04it/s]\n"
     ]
    },
    {
     "name": "stdout",
     "output_type": "stream",
     "text": [
      "Num Samples: 1487\n",
      "New database created at /home/davidchaparro/Repos/Dataset_Compilation_and_Statistics/data/LMNT02Sat-2024-07-23/LMNT02Sat-2024-07-23_Statistics.pkl\n"
     ]
    },
    {
     "name": "stderr",
     "output_type": "stream",
     "text": [
      "Recalculating Statistics: 100%|██████████| 1487/1487 [00:57<00:00, 25.71it/s]\n"
     ]
    },
    {
     "name": "stdout",
     "output_type": "stream",
     "text": [
      "Num Samples: 1068\n",
      "New database created at /home/davidchaparro/Repos/Dataset_Compilation_and_Statistics/data/LMNT02Sat-2024-08-21/LMNT02Sat-2024-08-21_Statistics.pkl\n"
     ]
    },
    {
     "name": "stderr",
     "output_type": "stream",
     "text": [
      "Recalculating Statistics: 100%|██████████| 1068/1068 [00:36<00:00, 28.93it/s]\n"
     ]
    },
    {
     "name": "stdout",
     "output_type": "stream",
     "text": [
      "Num Samples: 1018\n",
      "New database created at /home/davidchaparro/Repos/Dataset_Compilation_and_Statistics/data/LMNT02Sat-2024-07-13/LMNT02Sat-2024-07-13_Statistics.pkl\n"
     ]
    },
    {
     "name": "stderr",
     "output_type": "stream",
     "text": [
      "Recalculating Statistics: 100%|██████████| 1018/1018 [00:39<00:00, 25.66it/s]\n"
     ]
    },
    {
     "name": "stdout",
     "output_type": "stream",
     "text": [
      "Num Samples: 536\n",
      "New database created at /home/davidchaparro/Repos/Dataset_Compilation_and_Statistics/data/LMNT02Sat-2024-07-07/LMNT02Sat-2024-07-07_Statistics.pkl\n"
     ]
    },
    {
     "name": "stderr",
     "output_type": "stream",
     "text": [
      "Recalculating Statistics: 100%|██████████| 536/536 [00:19<00:00, 27.35it/s]\n"
     ]
    },
    {
     "name": "stdout",
     "output_type": "stream",
     "text": [
      "Num Samples: 528\n",
      "New database created at /home/davidchaparro/Repos/Dataset_Compilation_and_Statistics/data/LMNT02Sat-2024-07-24/LMNT02Sat-2024-07-24_Statistics.pkl\n"
     ]
    },
    {
     "name": "stderr",
     "output_type": "stream",
     "text": [
      "Recalculating Statistics: 100%|██████████| 528/528 [00:19<00:00, 27.28it/s]\n"
     ]
    },
    {
     "name": "stdout",
     "output_type": "stream",
     "text": [
      "Num Samples: 909\n",
      "New database created at /home/davidchaparro/Repos/Dataset_Compilation_and_Statistics/data/LMNT02Sat-2024-07-10/LMNT02Sat-2024-07-10_Statistics.pkl\n"
     ]
    },
    {
     "name": "stderr",
     "output_type": "stream",
     "text": [
      "Recalculating Statistics: 100%|██████████| 909/909 [00:33<00:00, 27.26it/s]\n"
     ]
    },
    {
     "name": "stdout",
     "output_type": "stream",
     "text": [
      "Num Samples: 2392\n",
      "New database created at /home/davidchaparro/Repos/Dataset_Compilation_and_Statistics/data/LMNT02Sat-2024-07-22/LMNT02Sat-2024-07-22_Statistics.pkl\n"
     ]
    },
    {
     "name": "stderr",
     "output_type": "stream",
     "text": [
      "Recalculating Statistics: 100%|██████████| 2392/2392 [01:33<00:00, 25.58it/s]\n"
     ]
    }
   ],
   "source": [
    "storage_path = \"/home/davidchaparro/Repos/Dataset_Compilation_and_Statistics/data\"\n",
    "\n",
    "for file in get_folders_in_directory(storage_path):\n",
    "    #Local file handling tool\n",
    "    local_files = file_path_loader(os.path.join(storage_path,file))\n",
    "    print(f\"Num Samples: {len(local_files)}\")\n",
    "    local_files.recalculate_statistics()\n"
   ]
  }
 ],
 "metadata": {
  "kernelspec": {
   "display_name": "DatasetStatistics",
   "language": "python",
   "name": "python3"
  },
  "language_info": {
   "codemirror_mode": {
    "name": "ipython",
    "version": 3
   },
   "file_extension": ".py",
   "mimetype": "text/x-python",
   "name": "python",
   "nbconvert_exporter": "python",
   "pygments_lexer": "ipython3",
   "version": "3.12.9"
  }
 },
 "nbformat": 4,
 "nbformat_minor": 5
}
