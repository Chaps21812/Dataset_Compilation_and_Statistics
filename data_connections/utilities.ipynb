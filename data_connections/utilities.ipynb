{
 "cells": [
  {
   "cell_type": "code",
   "execution_count": null,
   "id": "c02e1822",
   "metadata": {},
   "outputs": [],
   "source": [
    "from data_download_tool import download_data, summarize_s3_structure\n",
    "from annotation_viewer import plot_annotations, plot_annotation_subset\n",
    "from pandas_statistics import file_path_loader\n",
    "from plots import *\n",
    "from aws_s3_viewer import S3Client\n",
    "import os\n",
    "\n",
    "def get_folders_in_directory(directory_path):\n",
    "  if not os.path.exists(directory_path):\n",
    "    return []\n",
    "  folders = [\n",
    "      entry.name for entry in os.scandir(directory_path) if entry.is_dir()\n",
    "  ]\n",
    "  return folders\n"
   ]
  },
  {
   "cell_type": "markdown",
   "id": "664ea364",
   "metadata": {},
   "source": [
    "# Clear Preprocessed Images"
   ]
  },
  {
   "cell_type": "code",
   "execution_count": null,
   "id": "759cce1c",
   "metadata": {},
   "outputs": [],
   "source": [
    "storage_path = \"/home/davidchaparro/Repos/Dataset_Compilation_and_Statistics/data\"\n",
    "\n",
    "\n",
    "for file in get_folders_in_directory(storage_path):\n",
    "    #Local file handling tool\n",
    "    print(f\"Num Samples: {len(local_files)}\")\n",
    "    local_files = file_path_loader(file)\n",
    "    local_files.clear_cache()\n"
   ]
  },
  {
   "cell_type": "markdown",
   "id": "b7c7c498",
   "metadata": {},
   "source": [
    "# Recalculate All Statistics"
   ]
  },
  {
   "cell_type": "code",
   "execution_count": null,
   "id": "b6a462cf",
   "metadata": {},
   "outputs": [],
   "source": [
    "storage_path = \"/home/davidchaparro/Repos/Dataset_Compilation_and_Statistics/data\"\n",
    "\n",
    "for file in get_folders_in_directory(storage_path):\n",
    "    #Local file handling tool\n",
    "    print(f\"Num Samples: {len(local_files)}\")\n",
    "    local_files = file_path_loader(file)\n",
    "    local_files.recalculate_statistics()\n"
   ]
  }
 ],
 "metadata": {
  "kernelspec": {
   "display_name": "DatasetStatistics",
   "language": "python",
   "name": "python3"
  },
  "language_info": {
   "name": "python",
   "version": "3.12.9"
  }
 },
 "nbformat": 4,
 "nbformat_minor": 5
}
