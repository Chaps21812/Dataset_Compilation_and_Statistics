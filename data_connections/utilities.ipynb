{
 "cells": [
  {
   "cell_type": "code",
   "execution_count": 1,
   "id": "c02e1822",
   "metadata": {},
   "outputs": [],
   "source": [
    "from data_download_tool import download_data, summarize_s3_structure\n",
    "from annotation_viewer import plot_annotations, plot_annotation_subset\n",
    "from pandas_statistics import file_path_loader\n",
    "from plots import *\n",
    "from aws_s3_viewer import S3Client\n",
    "import os\n",
    "from utilities import get_folders_in_directory, summarize_local_files, clear_local_caches, clear_local_cache, apply_bbox_corrections, apply_bbox_corrections_list, recalculate_all_statistics, generate_plots, regenerate_plots, delete_large_annotations, save_torch_script_model\n",
    "\n",
    "path = \"/data/Sentinel_Datasets/LMNT01_Raw\""
   ]
  },
  {
   "cell_type": "markdown",
   "id": "82e429ab",
   "metadata": {},
   "source": [
    "# View Fits File"
   ]
  },
  {
   "cell_type": "code",
   "execution_count": 8,
   "id": "da0b9750",
   "metadata": {},
   "outputs": [
    {
     "name": "stdout",
     "output_type": "stream",
     "text": [
      "SIMPLE: True\n",
      "BITPIX: 16\n",
      "NAXIS: 2\n",
      "NAXIS1: 2394\n",
      "NAXIS2: 1595\n",
      "EXTEND: True\n",
      "COMMENT:   FITS (Flexible Image Transport System) format is defined in 'Astronomy\n",
      "COMMENT:   and Astrophysics', volume 376, page 359; bibcode: 2001A&A...376..359H\n",
      "BSCALE: 1\n",
      "BZERO: 32768\n",
      "OBSERVER: ATIK APX60 SN:1422212-0095\n",
      "SBUUID: {fb9c19fe-8648-4a4f-a46d-11ababe03164}\n",
      "EXPTIME: 3.0\n",
      "SWCREATE: TheSkyX Version 10.5.0 Build 11617\n",
      "COLORCCD: 0\n",
      "DISPINCR: 1\n",
      "PICTTYPE: 1\n",
      "IMAGETYP: Light Frame\n",
      "XORGSUBF: 0\n",
      "YORGSUBF: 0\n",
      "XBINNING: 4\n",
      "YBINNING: 4\n",
      "CCD-TEMP: -13.51\n",
      "SET-TEMP: -15.0\n",
      "SITELAT: +20 44 47.04\n",
      "SITELONG: -156 25 53.3\n",
      "LST: +18 14 35.97\n",
      "BTP: 0\n",
      "CENTAZ: 239.205999963169\n",
      "CENTALT: 48.1052633305344\n",
      "AIRMASS: 1.34340016453531\n",
      "TELEHA: +02 20 15.85\n",
      "MOUNT: Paramount ME II\n",
      "TELTKRA: 14.9999931\n",
      "TELTKDEC: -0.5689973\n",
      "OBJCTRA: 15 53 03.247\n",
      "OBJCTDEC: -03 08 11.74\n",
      "OBJECT: 58204\n",
      "INSTRUME: ASCOM Camera\n",
      "XPIXSZ: 15.039999961853\n",
      "YPIXSZ: 15.039999961853\n",
      "READOUTM: Mode 1\n",
      "CDS: Mode 1\n",
      "DATE-OBS: 2024-04-11T15:19:00.220\n",
      "LOCALTIM: 4/11/2024 03:19:00.220 PM STD\n",
      "TRKMODE: rate\n",
      "ORCHCOMM: &64ff192c-c408-4d08-8d75-ca7844517023@[rme4]#[6:7]%[OPEN]\n",
      "SENID: PDS-RME04\n",
      "FILTER: OPEN\n",
      "CLASSIF: U//FOUO\n",
      "SK.WEATHER.RAINCONDITION: 1\n",
      "SK.WEATHER.RAIN: 0\n",
      "SK.WEATHER.HUMIDITY: 72\n",
      "SK.WEATHER.WINDSPEED: 2.5\n"
     ]
    },
    {
     "data": {
      "image/png": "[encoded data removed]",
      "text/plain": [
       "<Figure size 640x480 with 1 Axes>"
      ]
     },
     "metadata": {},
     "output_type": "display_data"
    }
   ],
   "source": [
    "from astropy.io import fits\n",
    "import numpy\n",
    "import matplotlib.pyplot as plt\n",
    "from preprocess_functions import iqr_log\n",
    "\n",
    "fits_path = \"/home/davidchaparro/Repos/Dataset_Compilation_and_Statistics/data/RME04Sat-2024-04-11-blank/raw_fits/1080776912578521094.fits\"\n",
    "hdu = fits.open(fits_path)\n",
    "hdul = hdu[0]\n",
    "\n",
    "for key,value in hdul.header.items():\n",
    "    print(f\"{key}: {value}\")\n",
    "\n",
    "plt.imshow(iqr_log(hdul.data).transpose(1,2,0))\n",
    "plt.show()\n"
   ]
  },
  {
   "cell_type": "markdown",
   "id": "672aa716",
   "metadata": {},
   "source": [
    "# Get Folders in Directory"
   ]
  },
  {
   "cell_type": "code",
   "execution_count": 3,
   "id": "d44e7d3a",
   "metadata": {},
   "outputs": [
    {
     "name": "stdout",
     "output_type": "stream",
     "text": [
      "/home/davidchaparro/Repos/Dataset_Compilation_and_Statistics/data_finalized/RME04_MixtureC_Final/RME04Sat_Training_Channel_Mixture_C\n",
      "/home/davidchaparro/Repos/Dataset_Compilation_and_Statistics/data_finalized/RME04_MixtureC_Final/RME04Sat-2024-07-19_Channel_Mixture_C\n",
      "/home/davidchaparro/Repos/Dataset_Compilation_and_Statistics/data_finalized/RME04_MixtureC_Final/RME04Sat-2024-06-09_Channel_Mixture_C\n",
      "/home/davidchaparro/Repos/Dataset_Compilation_and_Statistics/data_finalized/RME04_MixtureC_Final/RME04Sat-2024-06-04_Channel_Mixture_C\n",
      "/home/davidchaparro/Repos/Dataset_Compilation_and_Statistics/data_finalized/RME04_MixtureC_Final/RME04Sat-2024-06-11_Channel_Mixture_C\n",
      "/home/davidchaparro/Repos/Dataset_Compilation_and_Statistics/data_finalized/RME04_MixtureC_Final/RME04Sat-2024-06-13_Channel_Mixture_C\n",
      "/home/davidchaparro/Repos/Dataset_Compilation_and_Statistics/data_finalized/RME04_MixtureC_Final/RME04Sat-2024-06-08_Channel_Mixture_C\n",
      "/home/davidchaparro/Repos/Dataset_Compilation_and_Statistics/data_finalized/RME04_MixtureC_Final/RME04Sat-2024-06-06_Channel_Mixture_C\n",
      "/home/davidchaparro/Repos/Dataset_Compilation_and_Statistics/data_finalized/RME04_MixtureC_Final/RME04Sat-2024-06-07_Channel_Mixture_C\n",
      "/home/davidchaparro/Repos/Dataset_Compilation_and_Statistics/data_finalized/RME04_MixtureC_Final/RME04Sat-2025-06-04_Channel_Mixture_C\n",
      "/home/davidchaparro/Repos/Dataset_Compilation_and_Statistics/data_finalized/RME04_MixtureC_Final/RME04Sat-2024-06-15_Channel_Mixture_C\n",
      "/home/davidchaparro/Repos/Dataset_Compilation_and_Statistics/data_finalized/RME04_MixtureC_Final/RME04Sat-2024-06-28_Channel_Mixture_C\n",
      "/home/davidchaparro/Repos/Dataset_Compilation_and_Statistics/data_finalized/RME04_MixtureC_Final/RME04Sat-2024-06-12_Channel_Mixture_C\n",
      "/home/davidchaparro/Repos/Dataset_Compilation_and_Statistics/data_finalized/RME04_MixtureC_Final/RME04Sat-2024-06-05_Channel_Mixture_C\n",
      "/home/davidchaparro/Repos/Dataset_Compilation_and_Statistics/data_finalized/RME04_MixtureC_Final/RME04Sat-2024-07-09_Channel_Mixture_C\n"
     ]
    }
   ],
   "source": [
    "directory = \"/home/davidchaparro/Repos/Dataset_Compilation_and_Statistics/data_finalized/RME04_MixtureC_Final\"\n",
    "for folder in get_folders_in_directory(directory):\n",
    "    print(folder)"
   ]
  },
  {
   "cell_type": "markdown",
   "id": "72f2e9bd",
   "metadata": {},
   "source": [
    "# Summarize directory"
   ]
  },
  {
   "cell_type": "code",
   "execution_count": 15,
   "id": "759cce1c",
   "metadata": {},
   "outputs": [
    {
     "name": "stdout",
     "output_type": "stream",
     "text": [
      "Path: /home/davidchaparro/Repos/Dataset_Compilation_and_Statistics/data/RME04Sat-2024-06-12 Num Samples: 368\n",
      "Path: /home/davidchaparro/Repos/Dataset_Compilation_and_Statistics/data/RME04Sat-2024-05-01 Num Samples: 809\n",
      "Path: /home/davidchaparro/Repos/Dataset_Compilation_and_Statistics/data/RME04Sat-2024-08-20-check Num Samples: 504\n",
      "Path: /home/davidchaparro/Repos/Dataset_Compilation_and_Statistics/data/RME04Sat-2024-05-17-blank Num Samples: 180\n",
      "Path: /home/davidchaparro/Repos/Dataset_Compilation_and_Statistics/data/RME04Sat-2024-05-07 Num Samples: 1610\n",
      "Path: /home/davidchaparro/Repos/Dataset_Compilation_and_Statistics/data/RME04Sat-2024-06-10-blank Num Samples: 360\n",
      "Path: /home/davidchaparro/Repos/Dataset_Compilation_and_Statistics/data/RME04Sat-2024-06-13 Num Samples: 566\n",
      "Path: /home/davidchaparro/Repos/Dataset_Compilation_and_Statistics/data/RME04Sat-2024-05-03 Num Samples: 761\n",
      "Path: /home/davidchaparro/Repos/Dataset_Compilation_and_Statistics/data/RME04Sat-2024-06-11 Num Samples: 30\n",
      "Path: /home/davidchaparro/Repos/Dataset_Compilation_and_Statistics/data/RME04Sat-2024-04-29 Num Samples: 116\n",
      "Path: /home/davidchaparro/Repos/Dataset_Compilation_and_Statistics/data/RME04Sat-2024-04-24 Num Samples: 13\n",
      "Path: /home/davidchaparro/Repos/Dataset_Compilation_and_Statistics/data/RME04Sat-2024-06-15 Num Samples: 162\n",
      "Path: /home/davidchaparro/Repos/Dataset_Compilation_and_Statistics/data/RME04Sat-2024-04-27 Num Samples: 45\n",
      "Path: /home/davidchaparro/Repos/Dataset_Compilation_and_Statistics/data/RME04Sat-2024-08-29-check Num Samples: 363\n",
      "Path: /home/davidchaparro/Repos/Dataset_Compilation_and_Statistics/data/RME04Sat-2024-05-08 Num Samples: 142\n",
      "Path: /home/davidchaparro/Repos/Dataset_Compilation_and_Statistics/data/RME04Sat-2024-04-16-blank Num Samples: 22\n",
      "Path: /home/davidchaparro/Repos/Dataset_Compilation_and_Statistics/data/RME04Sat-2024-06-07 Num Samples: 318\n",
      "Path: /home/davidchaparro/Repos/Dataset_Compilation_and_Statistics/data/RME04Sat-2024-05-10 Num Samples: 52\n",
      "Path: /home/davidchaparro/Repos/Dataset_Compilation_and_Statistics/data/RME04Sat-2024-05-15-blank Num Samples: 180\n",
      "Path: /home/davidchaparro/Repos/Dataset_Compilation_and_Statistics/data/RME04Sat-2024-04-11-blank Num Samples: 28\n",
      "Path: /home/davidchaparro/Repos/Dataset_Compilation_and_Statistics/data/RME04Sat-2024-04-14-blank Num Samples: 10\n",
      "Path: /home/davidchaparro/Repos/Dataset_Compilation_and_Statistics/data/RME04Sat-2024-04-25 Num Samples: 106\n",
      "Path: /home/davidchaparro/Repos/Dataset_Compilation_and_Statistics/data/RME04Sat-2024-07-19 Num Samples: 404\n",
      "Path: /home/davidchaparro/Repos/Dataset_Compilation_and_Statistics/data/RME04Sat-2025-05-30 Num Samples: 546\n",
      "Path: /home/davidchaparro/Repos/Dataset_Compilation_and_Statistics/data/RME04Sat-2024-04-26 Num Samples: 179\n",
      "Path: /home/davidchaparro/Repos/Dataset_Compilation_and_Statistics/data/RME04Sat-2024-04-17-blank Num Samples: 162\n",
      "Path: /home/davidchaparro/Repos/Dataset_Compilation_and_Statistics/data/RME04Sat-2024-05-31 Num Samples: 1426\n",
      "Path: /home/davidchaparro/Repos/Dataset_Compilation_and_Statistics/data/RME04Sat-2024-06-09 Num Samples: 317\n",
      "Path: /home/davidchaparro/Repos/Dataset_Compilation_and_Statistics/data/RME04Sat-2024-06-04 Num Samples: 736\n",
      "Path: /home/davidchaparro/Repos/Dataset_Compilation_and_Statistics/data/RME04Sat-2024-08-09-check Num Samples: 684\n",
      "Path: /home/davidchaparro/Repos/Dataset_Compilation_and_Statistics/data/RME04Sat-2024-04-28 Num Samples: 12\n",
      "Path: /home/davidchaparro/Repos/Dataset_Compilation_and_Statistics/data/RME04Sat-2025-05-21 Num Samples: 792\n",
      "Path: /home/davidchaparro/Repos/Dataset_Compilation_and_Statistics/data/RME04Sat-2024-07-09 Num Samples: 385\n",
      "Path: /home/davidchaparro/Repos/Dataset_Compilation_and_Statistics/data/RME04Sat-2024-05-02 Num Samples: 1006\n",
      "Path: /home/davidchaparro/Repos/Dataset_Compilation_and_Statistics/data/RME04Sat-2024-06-28 Num Samples: 315\n",
      "Path: /home/davidchaparro/Repos/Dataset_Compilation_and_Statistics/data/RME04Sat-2024-05-30 Num Samples: 422\n",
      "Path: /home/davidchaparro/Repos/Dataset_Compilation_and_Statistics/data/RME04Sat-2024-06-05 Num Samples: 744\n",
      "Path: /home/davidchaparro/Repos/Dataset_Compilation_and_Statistics/data/RME04Sat-2024-06-06 Num Samples: 245\n",
      "Path: /home/davidchaparro/Repos/Dataset_Compilation_and_Statistics/data/RME04Sat-2024-04-13-blank Num Samples: 6\n",
      "Path: /home/davidchaparro/Repos/Dataset_Compilation_and_Statistics/data/RME04Sat-2024-05-14-blank Num Samples: 460\n",
      "Path: /home/davidchaparro/Repos/Dataset_Compilation_and_Statistics/data/RME04Sat-2024-04-30 Num Samples: 765\n",
      "Path: /home/davidchaparro/Repos/Dataset_Compilation_and_Statistics/data/RME04Sat-2025-05-10 Num Samples: 546\n",
      "Path: /home/davidchaparro/Repos/Dataset_Compilation_and_Statistics/data/RME04Sat-2025-06-04 Num Samples: 584\n",
      "Path: /home/davidchaparro/Repos/Dataset_Compilation_and_Statistics/data/RME04Sat-2024-06-08 Num Samples: 85\n",
      "Path: /home/davidchaparro/Repos/Dataset_Compilation_and_Statistics/data/RME04Sat-2024-05-09 Num Samples: 92\n",
      "Path: /home/davidchaparro/Repos/Dataset_Compilation_and_Statistics/data/RME04Sat-2024-05-16-blank Num Samples: 300\n",
      "Path: /home/davidchaparro/Repos/Dataset_Compilation_and_Statistics/data/RME04Sat-2024-07-29-blank Num Samples: 980\n",
      "Total Samples: 18938\n"
     ]
    }
   ],
   "source": [
    "# /data/Sentinel_Datasets/LMNT01_Raw/LMNT01Sat-2024-07-08 281\n",
    "# /data/Sentinel_Datasets/LMNT01_Raw/LMNT01Sat-2024-07-29 643\n",
    "# /data/Sentinel_Datasets/LMNT01_Raw/LMNT01Sat-2024-07-09 455\n",
    "# /data/Sentinel_Datasets/LMNT01_Raw/LMNT01Sat-2024-07-10 1112\n",
    "# /data/Sentinel_Datasets/LMNT01_Raw/LMNT01Sat-2024-07-11 730\n",
    "# /data/Sentinel_Datasets/LMNT01_Raw/LMNT01Sat-2024-07-13 406\n",
    "# /data/Sentinel_Datasets/LMNT01_Raw/LMNT01Sat-2024-07-12 1382\n",
    "# /data/Sentinel_Datasets/LMNT01_Raw/LMNT01Sat-2024-07-20-blank 4133\n",
    "# /data/Sentinel_Datasets/LMNT01_Raw/LMNT01Sat-2024-08-24-blank 654\n",
    "# /data/Sentinel_Datasets/LMNT01_Raw/LMNT01Sat-2024-08-13-blank 1284\n",
    "# /data/Sentinel_Datasets/LMNT01_Raw/LMNT01Sat-2024-08-20 1209\n",
    "# /data/Sentinel_Datasets/LMNT01_Raw/LMNT01Sat-2024-08-04 535\n",
    "# /data/Sentinel_Datasets/LMNT01_Raw/LMNT01Sat-2024-11-15 672\n",
    "# /data/Sentinel_Datasets/LMNT01_Raw/LMNT01Sat-2024-11-07 1367\n",
    "# /data/Sentinel_Datasets/LMNT01_Raw/LMNT01Sat-2024-09-05-blank 824\n",
    "# /data/Sentinel_Datasets/LMNT01_Raw/LMNT01Sat-2024-10-15 1326\n",
    "# /data/Sentinel_Datasets/LMNT01_Raw/LMNT01Sat-2024-10-23 875\n",
    "# /data/Sentinel_Datasets/LMNT01_Raw/LMNT01Sat-2024-12-17 193\n",
    "# /data/Sentinel_Datasets/LMNT01_Raw/LMNT01Sat-2024-10-30 1086\n",
    "# /data/Sentinel_Datasets/LMNT01_Raw/LMNT01Sat-2024-09-13 1220\n",
    "# /data/Sentinel_Datasets/LMNT01_Raw/LMNT01Sat-2024-11-26 429\n",
    "# /data/Sentinel_Datasets/LMNT01_Raw/LMNT01Sat-2024-12-20 264\n",
    "# /data/Sentinel_Datasets/LMNT01_Raw/LMNT01Sat-2024-09-25 492\n",
    "# /data/Sentinel_Datasets/LMNT01_Raw/LMNT01Sat-2024-10-06 450\n",
    "# /data/Sentinel_Datasets/LMNT01_Raw/LMNT01Sat-2024-12-30 276\n",
    "# /data/Sentinel_Datasets/LMNT01_Raw/LMNT01Sat-2024-12-06 222\n",
    "# /data/Sentinel_Datasets/LMNT01_Raw/LMNT01Sat-2025-05-25 534\n",
    "# /data/Sentinel_Datasets/LMNT01_Raw/LMNT01Sat-2025-05-10 648\n",
    "# /data/Sentinel_Datasets/LMNT01_Raw/LMNT01Sat-2025-05-03 540\n",
    "# /data/Sentinel_Datasets/LMNT01_Raw/LMNT01Sat-2025-01-10 759\n",
    "# /data/Sentinel_Datasets/LMNT01_Raw/LMNT01Sat-2025-05-16 156\n",
    "# /data/Sentinel_Datasets/LMNT01_Raw/LMNT01Sat-2025-01-17-blank 1071\n",
    "# /data/Sentinel_Datasets/LMNT01_Raw/LMNT01Sat-2025-01-07 601\n",
    "# /data/Sentinel_Datasets/LMNT01_Raw/LMNT01Sat-2025-01-23 2452\n",
    "# Total Samples: 29281\n",
    "\n",
    "\n",
    "summarize_local_files(path)"
   ]
  },
  {
   "cell_type": "code",
   "execution_count": 1,
   "id": "cb633b35",
   "metadata": {},
   "outputs": [
    {
     "name": "stdout",
     "output_type": "stream",
     "text": [
      "6753\n"
     ]
    }
   ],
   "source": [
    "print(281+643+455+1112+730+406+1382+1209+535)"
   ]
  },
  {
   "cell_type": "markdown",
   "id": "2af254fc",
   "metadata": {},
   "source": [
    "# Generate Plots"
   ]
  },
  {
   "cell_type": "code",
   "execution_count": 6,
   "id": "b366e91e",
   "metadata": {},
   "outputs": [
    {
     "name": "stdout",
     "output_type": "stream",
     "text": [
      "file\n",
      "file\n",
      "Plotting Error: Centroid positions\n",
      "Plotting Error: Line Streaks\n"
     ]
    }
   ],
   "source": [
    "generate_plots(path)"
   ]
  },
  {
   "cell_type": "markdown",
   "id": "f045610b",
   "metadata": {},
   "source": [
    "# Remove Excess Empty Frames"
   ]
  },
  {
   "cell_type": "code",
   "execution_count": 12,
   "id": "ac9945da",
   "metadata": {},
   "outputs": [
    {
     "name": "stdout",
     "output_type": "stream",
     "text": [
      "Plotting Error: Line Streaks\n"
     ]
    }
   ],
   "source": [
    "#Pandas dataframes for referenece\n",
    "dataset_path = \"/home/davidchaparro/Repos/Dataset_Compilation_and_Statistics/data/RME04Sat-2024-08-29\"\n",
    "local_files = file_path_loader(dataset_path)\n",
    "\n",
    "image_attributes = local_files.statistics_file.sample_attributes\n",
    "annotation_attributes = local_files.statistics_file.annotation_attributes\n",
    "\n",
    "samples_to_remove = int(.75*len(image_attributes[image_attributes['num_objects'] == 0]))\n",
    "\n",
    "local_files.delete_files_from_sample(image_attributes[image_attributes['num_objects'] == 0].sample(samples_to_remove))\n",
    "local_files.recalculate_statistics()\n",
    "regenerate_plots(dataset_path)"
   ]
  },
  {
   "cell_type": "markdown",
   "id": "8f6e8f3e",
   "metadata": {},
   "source": [
    "# Clear Local Cache"
   ]
  },
  {
   "cell_type": "code",
   "execution_count": 5,
   "id": "409b48a7",
   "metadata": {},
   "outputs": [
    {
     "name": "stdout",
     "output_type": "stream",
     "text": [
      "Removed: /data/Sentinel_Datasets/LMNT01_Raw/LMNT01Sat-2024-07-12/annotations\n",
      "Removed: /data/Sentinel_Datasets/LMNT01_Raw/LMNT01Sat-2024-07-12/images\n",
      "Removed: /data/Sentinel_Datasets/LMNT01_Raw/LMNT01Sat-2024-07-08/annotations\n",
      "Removed: /data/Sentinel_Datasets/LMNT01_Raw/LMNT01Sat-2024-07-08/images\n",
      "Removed: /data/Sentinel_Datasets/LMNT01_Raw/LMNT01Sat-2024-07-29/annotations\n",
      "Removed: /data/Sentinel_Datasets/LMNT01_Raw/LMNT01Sat-2024-07-29/images\n",
      "Removed: /data/Sentinel_Datasets/LMNT01_Raw/LMNT01Sat-2024-07-09/annotations\n",
      "Removed: /data/Sentinel_Datasets/LMNT01_Raw/LMNT01Sat-2024-07-09/images\n",
      "Removed: /data/Sentinel_Datasets/LMNT01_Raw/LMNT01Sat-2024-07-10/annotations\n",
      "Removed: /data/Sentinel_Datasets/LMNT01_Raw/LMNT01Sat-2024-07-10/images\n",
      "Removed: /data/Sentinel_Datasets/LMNT01_Raw/LMNT01Sat-2024-07-11/annotations\n",
      "Removed: /data/Sentinel_Datasets/LMNT01_Raw/LMNT01Sat-2024-07-11/images\n",
      "Removed: /data/Sentinel_Datasets/LMNT01_Raw/LMNT01Sat-2024-07-13/annotations\n",
      "Removed: /data/Sentinel_Datasets/LMNT01_Raw/LMNT01Sat-2024-07-13/images\n"
     ]
    }
   ],
   "source": [
    "clear_local_caches(path)"
   ]
  },
  {
   "cell_type": "markdown",
   "id": "d2d16e82",
   "metadata": {},
   "source": [
    "# Apply bounding box corrections"
   ]
  },
  {
   "cell_type": "code",
   "execution_count": null,
   "id": "8f42b1b8",
   "metadata": {},
   "outputs": [],
   "source": [
    "apply_bbox_corrections(path)"
   ]
  },
  {
   "cell_type": "code",
   "execution_count": 3,
   "id": "36e35b9d",
   "metadata": {},
   "outputs": [
    {
     "name": "stdout",
     "output_type": "stream",
     "text": [
      "/home/davidchaparro/Repos/Dataset_Compilation_and_Statistics/data/RME04Sat-2024-05-08\n"
     ]
    },
    {
     "name": "stderr",
     "output_type": "stream",
     "text": [
      "100%|██████████| 142/142 [00:00<00:00, 244.04it/s]\n"
     ]
    },
    {
     "name": "stdout",
     "output_type": "stream",
     "text": [
      "New database created at /home/davidchaparro/Repos/Dataset_Compilation_and_Statistics/data/RME04Sat-2024-05-08/RME04Sat-2024-05-08_Statistics.pkl\n"
     ]
    },
    {
     "name": "stderr",
     "output_type": "stream",
     "text": [
      "Recalculating Statistics: 100%|██████████| 142/142 [00:05<00:00, 24.39it/s]\n"
     ]
    },
    {
     "name": "stdout",
     "output_type": "stream",
     "text": [
      "/home/davidchaparro/Repos/Dataset_Compilation_and_Statistics/data/RME04Sat-2024-05-09\n"
     ]
    },
    {
     "name": "stderr",
     "output_type": "stream",
     "text": [
      "100%|██████████| 92/92 [00:00<00:00, 188.76it/s]\n"
     ]
    },
    {
     "name": "stdout",
     "output_type": "stream",
     "text": [
      "New database created at /home/davidchaparro/Repos/Dataset_Compilation_and_Statistics/data/RME04Sat-2024-05-09/RME04Sat-2024-05-09_Statistics.pkl\n"
     ]
    },
    {
     "name": "stderr",
     "output_type": "stream",
     "text": [
      "Recalculating Statistics: 100%|██████████| 92/92 [00:03<00:00, 25.98it/s]\n"
     ]
    },
    {
     "name": "stdout",
     "output_type": "stream",
     "text": [
      "/home/davidchaparro/Repos/Dataset_Compilation_and_Statistics/data/RME04Sat-2024-05-14\n"
     ]
    },
    {
     "name": "stderr",
     "output_type": "stream",
     "text": [
      "100%|██████████| 460/460 [00:01<00:00, 252.16it/s]\n"
     ]
    },
    {
     "name": "stdout",
     "output_type": "stream",
     "text": [
      "New database created at /home/davidchaparro/Repos/Dataset_Compilation_and_Statistics/data/RME04Sat-2024-05-14/RME04Sat-2024-05-14_Statistics.pkl\n"
     ]
    },
    {
     "name": "stderr",
     "output_type": "stream",
     "text": [
      "Recalculating Statistics: 100%|██████████| 460/460 [00:17<00:00, 26.69it/s]\n"
     ]
    },
    {
     "name": "stdout",
     "output_type": "stream",
     "text": [
      "/home/davidchaparro/Repos/Dataset_Compilation_and_Statistics/data/RME04Sat-2024-05-15\n"
     ]
    },
    {
     "name": "stderr",
     "output_type": "stream",
     "text": [
      "100%|██████████| 180/180 [00:00<00:00, 214.03it/s]\n"
     ]
    },
    {
     "name": "stdout",
     "output_type": "stream",
     "text": [
      "New database created at /home/davidchaparro/Repos/Dataset_Compilation_and_Statistics/data/RME04Sat-2024-05-15/RME04Sat-2024-05-15_Statistics.pkl\n"
     ]
    },
    {
     "name": "stderr",
     "output_type": "stream",
     "text": [
      "Recalculating Statistics: 100%|██████████| 180/180 [00:06<00:00, 27.59it/s]\n"
     ]
    },
    {
     "name": "stdout",
     "output_type": "stream",
     "text": [
      "/home/davidchaparro/Repos/Dataset_Compilation_and_Statistics/data/RME04Sat-2024-05-16\n"
     ]
    },
    {
     "name": "stderr",
     "output_type": "stream",
     "text": [
      "100%|██████████| 300/300 [00:01<00:00, 255.70it/s]\n"
     ]
    },
    {
     "name": "stdout",
     "output_type": "stream",
     "text": [
      "New database created at /home/davidchaparro/Repos/Dataset_Compilation_and_Statistics/data/RME04Sat-2024-05-16/RME04Sat-2024-05-16_Statistics.pkl\n"
     ]
    },
    {
     "name": "stderr",
     "output_type": "stream",
     "text": [
      "Recalculating Statistics: 100%|██████████| 300/300 [00:10<00:00, 27.29it/s]\n"
     ]
    },
    {
     "name": "stdout",
     "output_type": "stream",
     "text": [
      "/home/davidchaparro/Repos/Dataset_Compilation_and_Statistics/data/RME04Sat-2024-05-31\n"
     ]
    },
    {
     "name": "stderr",
     "output_type": "stream",
     "text": [
      "100%|██████████| 1426/1426 [00:07<00:00, 192.23it/s]\n"
     ]
    },
    {
     "name": "stdout",
     "output_type": "stream",
     "text": [
      "New database created at /home/davidchaparro/Repos/Dataset_Compilation_and_Statistics/data/RME04Sat-2024-05-31/RME04Sat-2024-05-31_Statistics.pkl\n"
     ]
    },
    {
     "name": "stderr",
     "output_type": "stream",
     "text": [
      "Recalculating Statistics: 100%|██████████| 1426/1426 [00:54<00:00, 26.17it/s]\n"
     ]
    },
    {
     "name": "stdout",
     "output_type": "stream",
     "text": [
      "/home/davidchaparro/Repos/Dataset_Compilation_and_Statistics/data/RME04Sat-2024-06-04\n"
     ]
    },
    {
     "name": "stderr",
     "output_type": "stream",
     "text": [
      "100%|██████████| 736/736 [00:03<00:00, 184.46it/s]\n"
     ]
    },
    {
     "name": "stdout",
     "output_type": "stream",
     "text": [
      "New database created at /home/davidchaparro/Repos/Dataset_Compilation_and_Statistics/data/RME04Sat-2024-06-04/RME04Sat-2024-06-04_Statistics.pkl\n"
     ]
    },
    {
     "name": "stderr",
     "output_type": "stream",
     "text": [
      "Recalculating Statistics: 100%|██████████| 736/736 [00:32<00:00, 22.36it/s]\n"
     ]
    },
    {
     "name": "stdout",
     "output_type": "stream",
     "text": [
      "/home/davidchaparro/Repos/Dataset_Compilation_and_Statistics/data/RME04Sat-2024-06-05\n"
     ]
    },
    {
     "name": "stderr",
     "output_type": "stream",
     "text": [
      "100%|██████████| 744/744 [00:03<00:00, 196.51it/s]\n"
     ]
    },
    {
     "name": "stdout",
     "output_type": "stream",
     "text": [
      "New database created at /home/davidchaparro/Repos/Dataset_Compilation_and_Statistics/data/RME04Sat-2024-06-05/RME04Sat-2024-06-05_Statistics.pkl\n"
     ]
    },
    {
     "name": "stderr",
     "output_type": "stream",
     "text": [
      "Recalculating Statistics: 100%|██████████| 744/744 [00:31<00:00, 23.71it/s]\n"
     ]
    },
    {
     "name": "stdout",
     "output_type": "stream",
     "text": [
      "/home/davidchaparro/Repos/Dataset_Compilation_and_Statistics/data/RME04Sat-2024-06-06\n"
     ]
    },
    {
     "name": "stderr",
     "output_type": "stream",
     "text": [
      "100%|██████████| 245/245 [00:01<00:00, 201.23it/s]\n"
     ]
    },
    {
     "name": "stdout",
     "output_type": "stream",
     "text": [
      "New database created at /home/davidchaparro/Repos/Dataset_Compilation_and_Statistics/data/RME04Sat-2024-06-06/RME04Sat-2024-06-06_Statistics.pkl\n"
     ]
    },
    {
     "name": "stderr",
     "output_type": "stream",
     "text": [
      "Recalculating Statistics: 100%|██████████| 245/245 [00:10<00:00, 24.17it/s]\n"
     ]
    },
    {
     "name": "stdout",
     "output_type": "stream",
     "text": [
      "/home/davidchaparro/Repos/Dataset_Compilation_and_Statistics/data/RME04Sat-2024-06-07\n"
     ]
    },
    {
     "name": "stderr",
     "output_type": "stream",
     "text": [
      "100%|██████████| 459/459 [00:02<00:00, 204.17it/s]\n"
     ]
    },
    {
     "name": "stdout",
     "output_type": "stream",
     "text": [
      "New database created at /home/davidchaparro/Repos/Dataset_Compilation_and_Statistics/data/RME04Sat-2024-06-07/RME04Sat-2024-06-07_Statistics.pkl\n"
     ]
    },
    {
     "name": "stderr",
     "output_type": "stream",
     "text": [
      "Recalculating Statistics: 100%|██████████| 459/459 [00:18<00:00, 24.31it/s]\n"
     ]
    },
    {
     "name": "stdout",
     "output_type": "stream",
     "text": [
      "/home/davidchaparro/Repos/Dataset_Compilation_and_Statistics/data/RME04Sat-2024-06-08\n"
     ]
    },
    {
     "name": "stderr",
     "output_type": "stream",
     "text": [
      "100%|██████████| 184/184 [00:00<00:00, 208.36it/s]\n"
     ]
    },
    {
     "name": "stdout",
     "output_type": "stream",
     "text": [
      "New database created at /home/davidchaparro/Repos/Dataset_Compilation_and_Statistics/data/RME04Sat-2024-06-08/RME04Sat-2024-06-08_Statistics.pkl\n"
     ]
    },
    {
     "name": "stderr",
     "output_type": "stream",
     "text": [
      "Recalculating Statistics: 100%|██████████| 184/184 [00:08<00:00, 22.01it/s]\n"
     ]
    },
    {
     "name": "stdout",
     "output_type": "stream",
     "text": [
      "/home/davidchaparro/Repos/Dataset_Compilation_and_Statistics/data/RME04Sat-2024-06-10\n"
     ]
    },
    {
     "name": "stderr",
     "output_type": "stream",
     "text": [
      "100%|██████████| 360/360 [00:01<00:00, 251.38it/s]\n"
     ]
    },
    {
     "name": "stdout",
     "output_type": "stream",
     "text": [
      "New database created at /home/davidchaparro/Repos/Dataset_Compilation_and_Statistics/data/RME04Sat-2024-06-10/RME04Sat-2024-06-10_Statistics.pkl\n"
     ]
    },
    {
     "name": "stderr",
     "output_type": "stream",
     "text": [
      "Recalculating Statistics: 100%|██████████| 360/360 [00:14<00:00, 24.96it/s]\n"
     ]
    },
    {
     "name": "stdout",
     "output_type": "stream",
     "text": [
      "/home/davidchaparro/Repos/Dataset_Compilation_and_Statistics/data/RME04Sat-2024-06-11\n"
     ]
    },
    {
     "name": "stderr",
     "output_type": "stream",
     "text": [
      "100%|██████████| 30/30 [00:00<00:00, 211.43it/s]\n"
     ]
    },
    {
     "name": "stdout",
     "output_type": "stream",
     "text": [
      "New database created at /home/davidchaparro/Repos/Dataset_Compilation_and_Statistics/data/RME04Sat-2024-06-11/RME04Sat-2024-06-11_Statistics.pkl\n"
     ]
    },
    {
     "name": "stderr",
     "output_type": "stream",
     "text": [
      "Recalculating Statistics: 100%|██████████| 30/30 [00:01<00:00, 22.13it/s]\n"
     ]
    },
    {
     "name": "stdout",
     "output_type": "stream",
     "text": [
      "/home/davidchaparro/Repos/Dataset_Compilation_and_Statistics/data/RME04Sat-2024-06-12\n"
     ]
    },
    {
     "name": "stderr",
     "output_type": "stream",
     "text": [
      "100%|██████████| 368/368 [00:01<00:00, 214.17it/s]\n"
     ]
    },
    {
     "name": "stdout",
     "output_type": "stream",
     "text": [
      "New database created at /home/davidchaparro/Repos/Dataset_Compilation_and_Statistics/data/RME04Sat-2024-06-12/RME04Sat-2024-06-12_Statistics.pkl\n"
     ]
    },
    {
     "name": "stderr",
     "output_type": "stream",
     "text": [
      "Recalculating Statistics: 100%|██████████| 368/368 [00:15<00:00, 23.37it/s]\n"
     ]
    },
    {
     "name": "stdout",
     "output_type": "stream",
     "text": [
      "/home/davidchaparro/Repos/Dataset_Compilation_and_Statistics/data/RME04Sat-2024-06-13\n"
     ]
    },
    {
     "name": "stderr",
     "output_type": "stream",
     "text": [
      "100%|██████████| 566/566 [00:02<00:00, 212.32it/s]\n"
     ]
    },
    {
     "name": "stdout",
     "output_type": "stream",
     "text": [
      "New database created at /home/davidchaparro/Repos/Dataset_Compilation_and_Statistics/data/RME04Sat-2024-06-13/RME04Sat-2024-06-13_Statistics.pkl\n"
     ]
    },
    {
     "name": "stderr",
     "output_type": "stream",
     "text": [
      "Recalculating Statistics: 100%|██████████| 566/566 [00:23<00:00, 23.65it/s]\n"
     ]
    },
    {
     "name": "stdout",
     "output_type": "stream",
     "text": [
      "/home/davidchaparro/Repos/Dataset_Compilation_and_Statistics/data/RME04Sat-2024-06-15\n"
     ]
    },
    {
     "name": "stderr",
     "output_type": "stream",
     "text": [
      "100%|██████████| 162/162 [00:00<00:00, 214.22it/s]\n"
     ]
    },
    {
     "name": "stdout",
     "output_type": "stream",
     "text": [
      "New database created at /home/davidchaparro/Repos/Dataset_Compilation_and_Statistics/data/RME04Sat-2024-06-15/RME04Sat-2024-06-15_Statistics.pkl\n"
     ]
    },
    {
     "name": "stderr",
     "output_type": "stream",
     "text": [
      "Recalculating Statistics: 100%|██████████| 162/162 [00:07<00:00, 22.83it/s]\n"
     ]
    }
   ],
   "source": [
    "\n",
    "S1 = \"/home/davidchaparro/Repos/Dataset_Compilation_and_Statistics/data/RME04Sat-2024-05-08\" # 81\n",
    "S2 = \"/home/davidchaparro/Repos/Dataset_Compilation_and_Statistics/data/RME04Sat-2024-05-09\" # 53\n",
    "S4 = \"/home/davidchaparro/Repos/Dataset_Compilation_and_Statistics/data/RME04Sat-2024-05-14\" # 257\n",
    "S5 = \"/home/davidchaparro/Repos/Dataset_Compilation_and_Statistics/data/RME04Sat-2024-05-15\" # 99\n",
    "S6 = \"/home/davidchaparro/Repos/Dataset_Compilation_and_Statistics/data/RME04Sat-2024-05-16\" # 165\n",
    "S9 = \"/home/davidchaparro/Repos/Dataset_Compilation_and_Statistics/data/RME04Sat-2024-05-31\" # 832\n",
    "S10 = \"/home/davidchaparro/Repos/Dataset_Compilation_and_Statistics/data/RME04Sat-2024-06-04\" # 427\n",
    "S12 = \"/home/davidchaparro/Repos/Dataset_Compilation_and_Statistics/data/RME04Sat-2024-06-05\" # 607\n",
    "S13 = \"/home/davidchaparro/Repos/Dataset_Compilation_and_Statistics/data/RME04Sat-2024-06-06\" # 287\n",
    "S14 = \"/home/davidchaparro/Repos/Dataset_Compilation_and_Statistics/data/RME04Sat-2024-06-07\" # 536\n",
    "S15 = \"/home/davidchaparro/Repos/Dataset_Compilation_and_Statistics/data/RME04Sat-2024-06-08\" # 215\n",
    "S17 = \"/home/davidchaparro/Repos/Dataset_Compilation_and_Statistics/data/RME04Sat-2024-06-10\" # 420\n",
    "S18 = \"/home/davidchaparro/Repos/Dataset_Compilation_and_Statistics/data/RME04Sat-2024-06-11\" # 35\n",
    "S19 = \"/home/davidchaparro/Repos/Dataset_Compilation_and_Statistics/data/RME04Sat-2024-06-12\" # 430\n",
    "S20 = \"/home/davidchaparro/Repos/Dataset_Compilation_and_Statistics/data/RME04Sat-2024-06-13\" # 663\n",
    "S21 = \"/home/davidchaparro/Repos/Dataset_Compilation_and_Statistics/data/RME04Sat-2024-06-15\" # 189\n",
    "\n",
    "new_sets = [S1, S2, S4, S5, S6, S9, S10, S12, S13, S14, S15, S17, S18, S19, S20, S21]\n",
    "\n",
    "apply_bbox_corrections_list(new_sets)\n"
   ]
  },
  {
   "cell_type": "markdown",
   "id": "b7c7c498",
   "metadata": {},
   "source": [
    "# Recalculate All Statistics"
   ]
  },
  {
   "cell_type": "code",
   "execution_count": null,
   "id": "b6a462cf",
   "metadata": {},
   "outputs": [
    {
     "name": "stdout",
     "output_type": "stream",
     "text": [
      "Num Samples: 1843\n",
      "New database created at /mnt/c/Users/david.chaparro/Documents/Repos/Dataset_Statistics/data/LMNT01Sat-2025-04-30/LMNT01Sat-2025-04-30_Statistics.pkl\n"
     ]
    },
    {
     "name": "stderr",
     "output_type": "stream",
     "text": [
      "Recalculating Statistics:   1%|          | 22/1843 [00:10<13:53,  2.18it/s]\n"
     ]
    },
    {
     "ename": "KeyboardInterrupt",
     "evalue": "",
     "output_type": "error",
     "traceback": [
      "\u001b[31m---------------------------------------------------------------------------\u001b[39m",
      "\u001b[31mKeyboardInterrupt\u001b[39m                         Traceback (most recent call last)",
      "\u001b[36mCell\u001b[39m\u001b[36m \u001b[39m\u001b[32mIn[10]\u001b[39m\u001b[32m, line 7\u001b[39m\n\u001b[32m      5\u001b[39m local_files = file_path_loader(file)\n\u001b[32m      6\u001b[39m \u001b[38;5;28mprint\u001b[39m(\u001b[33mf\u001b[39m\u001b[33m\"\u001b[39m\u001b[33mNum Samples: \u001b[39m\u001b[38;5;132;01m{\u001b[39;00m\u001b[38;5;28mlen\u001b[39m(local_files)\u001b[38;5;132;01m}\u001b[39;00m\u001b[33m\"\u001b[39m)\n\u001b[32m----> \u001b[39m\u001b[32m7\u001b[39m \u001b[43mlocal_files\u001b[49m\u001b[43m.\u001b[49m\u001b[43mrecalculate_statistics\u001b[49m\u001b[43m(\u001b[49m\u001b[43m)\u001b[49m\n",
      "\u001b[36mFile \u001b[39m\u001b[32m/mnt/c/Users/david.chaparro/Documents/Repos/Dataset_Statistics/data_connections/pandas_statistics.py:152\u001b[39m, in \u001b[36mfile_path_loader.recalculate_statistics\u001b[39m\u001b[34m(self)\u001b[39m\n\u001b[32m    150\u001b[39m fits_content = \u001b[38;5;28mself\u001b[39m.open_fits(fitsT)\n\u001b[32m    151\u001b[39m hdu = fits_content[\u001b[32m0\u001b[39m].header\n\u001b[32m--> \u001b[39m\u001b[32m152\u001b[39m data = \u001b[43mfits_content\u001b[49m\u001b[43m[\u001b[49m\u001b[32;43m0\u001b[39;49m\u001b[43m]\u001b[49m\u001b[43m.\u001b[49m\u001b[43mdata\u001b[49m\n\u001b[32m    154\u001b[39m hdu = fits_content[\u001b[32m0\u001b[39m].header\n\u001b[32m    155\u001b[39m \u001b[38;5;28;01mif\u001b[39;00m \u001b[33m\"\u001b[39m\u001b[33mTRKMODE\u001b[39m\u001b[33m\"\u001b[39m \u001b[38;5;129;01min\u001b[39;00m hdu.keys():\n",
      "\u001b[36mFile \u001b[39m\u001b[32m~/miniconda3/envs/DatasetStatistics/lib/python3.12/site-packages/astropy/utils/decorators.py:851\u001b[39m, in \u001b[36mlazyproperty.__get__\u001b[39m\u001b[34m(self, obj, owner)\u001b[39m\n\u001b[32m    849\u001b[39m         val = obj_dict.get(\u001b[38;5;28mself\u001b[39m._key, _NotFound)\n\u001b[32m    850\u001b[39m         \u001b[38;5;28;01mif\u001b[39;00m val \u001b[38;5;129;01mis\u001b[39;00m _NotFound:\n\u001b[32m--> \u001b[39m\u001b[32m851\u001b[39m             val = \u001b[38;5;28;43mself\u001b[39;49m\u001b[43m.\u001b[49m\u001b[43mfget\u001b[49m\u001b[43m(\u001b[49m\u001b[43mobj\u001b[49m\u001b[43m)\u001b[49m\n\u001b[32m    852\u001b[39m             obj_dict[\u001b[38;5;28mself\u001b[39m._key] = val\n\u001b[32m    853\u001b[39m \u001b[38;5;28;01mreturn\u001b[39;00m val\n",
      "\u001b[36mFile \u001b[39m\u001b[32m~/miniconda3/envs/DatasetStatistics/lib/python3.12/site-packages/astropy/io/fits/hdu/image.py:250\u001b[39m, in \u001b[36m_ImageBaseHDU.data\u001b[39m\u001b[34m(self)\u001b[39m\n\u001b[32m    247\u001b[39m \u001b[38;5;28;01mif\u001b[39;00m \u001b[38;5;28mlen\u001b[39m(\u001b[38;5;28mself\u001b[39m._axes) < \u001b[32m1\u001b[39m:\n\u001b[32m    248\u001b[39m     \u001b[38;5;28;01mreturn\u001b[39;00m\n\u001b[32m--> \u001b[39m\u001b[32m250\u001b[39m data = \u001b[38;5;28;43mself\u001b[39;49m\u001b[43m.\u001b[49m\u001b[43m_get_scaled_image_data\u001b[49m\u001b[43m(\u001b[49m\u001b[38;5;28;43mself\u001b[39;49m\u001b[43m.\u001b[49m\u001b[43m_data_offset\u001b[49m\u001b[43m,\u001b[49m\u001b[43m \u001b[49m\u001b[38;5;28;43mself\u001b[39;49m\u001b[43m.\u001b[49m\u001b[43mshape\u001b[49m\u001b[43m)\u001b[49m\n\u001b[32m    251\u001b[39m \u001b[38;5;28mself\u001b[39m._update_header_scale_info(data.dtype)\n\u001b[32m    253\u001b[39m \u001b[38;5;28;01mreturn\u001b[39;00m data\n",
      "\u001b[36mFile \u001b[39m\u001b[32m~/miniconda3/envs/DatasetStatistics/lib/python3.12/site-packages/astropy/io/fits/hdu/image.py:818\u001b[39m, in \u001b[36m_ImageBaseHDU._get_scaled_image_data\u001b[39m\u001b[34m(self, offset, shape)\u001b[39m\n\u001b[32m    815\u001b[39m raw_data = \u001b[38;5;28mself\u001b[39m._get_raw_data(shape, code, offset)\n\u001b[32m    816\u001b[39m raw_data.dtype = raw_data.dtype.newbyteorder(\u001b[33m\"\u001b[39m\u001b[33m>\u001b[39m\u001b[33m\"\u001b[39m)\n\u001b[32m--> \u001b[39m\u001b[32m818\u001b[39m \u001b[38;5;28;01mreturn\u001b[39;00m \u001b[38;5;28;43mself\u001b[39;49m\u001b[43m.\u001b[49m\u001b[43m_scale_data\u001b[49m\u001b[43m(\u001b[49m\u001b[43mraw_data\u001b[49m\u001b[43m)\u001b[49m\n",
      "\u001b[36mFile \u001b[39m\u001b[32m~/miniconda3/envs/DatasetStatistics/lib/python3.12/site-packages/astropy/io/fits/hdu/image.py:839\u001b[39m, in \u001b[36m_ImageBaseHDU._scale_data\u001b[39m\u001b[34m(self, raw_data)\u001b[39m\n\u001b[32m    837\u001b[39m data = \u001b[38;5;28;01mNone\u001b[39;00m\n\u001b[32m    838\u001b[39m \u001b[38;5;28;01mif\u001b[39;00m \u001b[38;5;129;01mnot\u001b[39;00m (\u001b[38;5;28mself\u001b[39m._orig_bzero == \u001b[32m0\u001b[39m \u001b[38;5;129;01mand\u001b[39;00m \u001b[38;5;28mself\u001b[39m._orig_bscale == \u001b[32m1\u001b[39m):\n\u001b[32m--> \u001b[39m\u001b[32m839\u001b[39m     data = \u001b[38;5;28;43mself\u001b[39;49m\u001b[43m.\u001b[49m\u001b[43m_convert_pseudo_integer\u001b[49m\u001b[43m(\u001b[49m\u001b[43mraw_data\u001b[49m\u001b[43m)\u001b[49m\n\u001b[32m    841\u001b[39m \u001b[38;5;28;01mif\u001b[39;00m data \u001b[38;5;129;01mis\u001b[39;00m \u001b[38;5;28;01mNone\u001b[39;00m:\n\u001b[32m    842\u001b[39m     \u001b[38;5;66;03m# In these cases, we end up with floating-point arrays and have to\u001b[39;00m\n\u001b[32m    843\u001b[39m     \u001b[38;5;66;03m# apply bscale and bzero. We may have to handle BLANK and convert\u001b[39;00m\n\u001b[32m    844\u001b[39m     \u001b[38;5;66;03m# to NaN in the resulting floating-point arrays.\u001b[39;00m\n\u001b[32m    845\u001b[39m     \u001b[38;5;66;03m# The BLANK keyword should only be applied for integer data (this\u001b[39;00m\n\u001b[32m    846\u001b[39m     \u001b[38;5;66;03m# is checked in __init__ but it can't hurt to double check here)\u001b[39;00m\n\u001b[32m    847\u001b[39m     blanks = \u001b[38;5;28;01mNone\u001b[39;00m\n",
      "\u001b[36mFile \u001b[39m\u001b[32m~/miniconda3/envs/DatasetStatistics/lib/python3.12/site-packages/astropy/io/fits/hdu/image.py:802\u001b[39m, in \u001b[36m_ImageBaseHDU._convert_pseudo_integer\u001b[39m\u001b[34m(self, data)\u001b[39m\n\u001b[32m    796\u001b[39m \u001b[38;5;28;01mif\u001b[39;00m dtype \u001b[38;5;129;01mis\u001b[39;00m \u001b[38;5;129;01mnot\u001b[39;00m \u001b[38;5;28;01mNone\u001b[39;00m \u001b[38;5;129;01mand\u001b[39;00m dtype.kind == \u001b[33m\"\u001b[39m\u001b[33mu\u001b[39m\u001b[33m\"\u001b[39m:\n\u001b[32m    797\u001b[39m     \u001b[38;5;66;03m# Convert the input raw data into an unsigned integer array and\u001b[39;00m\n\u001b[32m    798\u001b[39m     \u001b[38;5;66;03m# then scale the data adjusting for the value of BZERO.  Note that\u001b[39;00m\n\u001b[32m    799\u001b[39m     \u001b[38;5;66;03m# we subtract the value of BZERO instead of adding because of the\u001b[39;00m\n\u001b[32m    800\u001b[39m     \u001b[38;5;66;03m# way numpy converts the raw signed array into an unsigned array.\u001b[39;00m\n\u001b[32m    801\u001b[39m     bits = dtype.itemsize * \u001b[32m8\u001b[39m\n\u001b[32m--> \u001b[39m\u001b[32m802\u001b[39m     data = \u001b[43mnp\u001b[49m\u001b[43m.\u001b[49m\u001b[43marray\u001b[49m\u001b[43m(\u001b[49m\u001b[43mdata\u001b[49m\u001b[43m,\u001b[49m\u001b[43m \u001b[49m\u001b[43mdtype\u001b[49m\u001b[43m=\u001b[49m\u001b[43mdtype\u001b[49m\u001b[43m)\u001b[49m\n\u001b[32m    803\u001b[39m     data -= np.uint64(\u001b[32m1\u001b[39m << (bits - \u001b[32m1\u001b[39m))\n\u001b[32m    805\u001b[39m     \u001b[38;5;28;01mreturn\u001b[39;00m data\n",
      "\u001b[31mKeyboardInterrupt\u001b[39m: "
     ]
    }
   ],
   "source": [
    "recalculate_all_statistics(path)\n"
   ]
  },
  {
   "cell_type": "markdown",
   "id": "d8a59fda",
   "metadata": {},
   "source": [
    "# Convert Model to TorchScript"
   ]
  },
  {
   "cell_type": "code",
   "execution_count": 2,
   "id": "9af7c41f",
   "metadata": {},
   "outputs": [
    {
     "name": "stderr",
     "output_type": "stream",
     "text": [
      "/home/davidchaparro/miniconda3/envs/DatasetStatistics/lib/python3.12/site-packages/torch/nn/functional.py:4624: UserWarning: To copy construct from a tensor, it is recommended to use sourceTensor.detach().clone() or sourceTensor.detach().clone().requires_grad_(True), rather than torch.tensor(sourceTensor).\n",
      "  * torch.tensor(scale_factors[i], dtype=torch.float32)\n",
      "/home/davidchaparro/miniconda3/envs/DatasetStatistics/lib/python3.12/site-packages/torchvision/ops/boxes.py:167: UserWarning: To copy construct from a tensor, it is recommended to use sourceTensor.detach().clone() or sourceTensor.detach().clone().requires_grad_(True), rather than torch.tensor(sourceTensor).\n",
      "  boxes_x = torch.min(boxes_x, torch.tensor(width, dtype=boxes.dtype, device=boxes.device))\n",
      "/home/davidchaparro/miniconda3/envs/DatasetStatistics/lib/python3.12/site-packages/torchvision/ops/boxes.py:169: UserWarning: To copy construct from a tensor, it is recommended to use sourceTensor.detach().clone() or sourceTensor.detach().clone().requires_grad_(True), rather than torch.tensor(sourceTensor).\n",
      "  boxes_y = torch.min(boxes_y, torch.tensor(height, dtype=boxes.dtype, device=boxes.device))\n",
      "/home/davidchaparro/miniconda3/envs/DatasetStatistics/lib/python3.12/site-packages/torchvision/models/detection/transform.py:308: UserWarning: To copy construct from a tensor, it is recommended to use sourceTensor.detach().clone() or sourceTensor.detach().clone().requires_grad_(True), rather than torch.tensor(sourceTensor).\n",
      "  torch.tensor(s, dtype=torch.float32, device=boxes.device)\n",
      "/home/davidchaparro/miniconda3/envs/DatasetStatistics/lib/python3.12/site-packages/torchvision/models/detection/transform.py:309: UserWarning: To copy construct from a tensor, it is recommended to use sourceTensor.detach().clone() or sourceTensor.detach().clone().requires_grad_(True), rather than torch.tensor(sourceTensor).\n",
      "  / torch.tensor(s_orig, dtype=torch.float32, device=boxes.device)\n"
     ]
    },
    {
     "ename": "RuntimeError",
     "evalue": "Only tensors, lists, tuples of tensors, or dictionary of tensors can be output from traced functions",
     "output_type": "error",
     "traceback": [
      "\u001b[31m---------------------------------------------------------------------------\u001b[39m",
      "\u001b[31mRuntimeError\u001b[39m                              Traceback (most recent call last)",
      "\u001b[36mCell\u001b[39m\u001b[36m \u001b[39m\u001b[32mIn[2]\u001b[39m\u001b[32m, line 4\u001b[39m\n\u001b[32m      2\u001b[39m output_path = \u001b[33m\"\u001b[39m\u001b[33m/data/Sentinel_Datasets/Best_models\u001b[39m\u001b[33m\"\u001b[39m\n\u001b[32m      3\u001b[39m name = \u001b[33m\"\u001b[39m\u001b[33mLMNT01\u001b[39m\u001b[33m\"\u001b[39m\n\u001b[32m----> \u001b[39m\u001b[32m4\u001b[39m \u001b[43msave_torch_script_model\u001b[49m\u001b[43m(\u001b[49m\u001b[43mmodel_path\u001b[49m\u001b[43m,\u001b[49m\u001b[43m \u001b[49m\u001b[43moutput_path\u001b[49m\u001b[43m,\u001b[49m\u001b[43mname\u001b[49m\u001b[43m)\u001b[49m\n",
      "\u001b[36mFile \u001b[39m\u001b[32m~/Repos/Dataset_Compilation_and_Statistics/data_connections/utilities.py:15\u001b[39m, in \u001b[36msave_torch_script_model\u001b[39m\u001b[34m(model_path, output_path, name)\u001b[39m\n\u001b[32m     13\u001b[39m example_input = [torch.randn(\u001b[32m1\u001b[39m, \u001b[32m3\u001b[39m, \u001b[32m2048\u001b[39m, \u001b[32m2048\u001b[39m)]\n\u001b[32m     14\u001b[39m \u001b[38;5;66;03m# Trace the model\u001b[39;00m\n\u001b[32m---> \u001b[39m\u001b[32m15\u001b[39m traced_script_module = \u001b[43mtorch\u001b[49m\u001b[43m.\u001b[49m\u001b[43mjit\u001b[49m\u001b[43m.\u001b[49m\u001b[43mtrace\u001b[49m\u001b[43m(\u001b[49m\u001b[43mmodel\u001b[49m\u001b[43m,\u001b[49m\u001b[43m \u001b[49m\u001b[43mexample_input\u001b[49m\u001b[43m)\u001b[49m\n\u001b[32m     16\u001b[39m os.path.join(output_path,\u001b[33mf\u001b[39m\u001b[33m\"\u001b[39m\u001b[38;5;132;01m{\u001b[39;00mname\u001b[38;5;132;01m}\u001b[39;00m\u001b[33m-TS.pt\u001b[39m\u001b[33m\"\u001b[39m )\n\u001b[32m     17\u001b[39m traced_script_module.save()\n",
      "\u001b[36mFile \u001b[39m\u001b[32m~/miniconda3/envs/DatasetStatistics/lib/python3.12/site-packages/torch/jit/_trace.py:1002\u001b[39m, in \u001b[36mtrace\u001b[39m\u001b[34m(func, example_inputs, optimize, check_trace, check_inputs, check_tolerance, strict, _force_outplace, _module_class, _compilation_unit, example_kwarg_inputs, _store_inputs)\u001b[39m\n\u001b[32m    989\u001b[39m     warnings.warn(\n\u001b[32m    990\u001b[39m         \u001b[33m\"\u001b[39m\u001b[33m`optimize` is deprecated and has no effect. \u001b[39m\u001b[33m\"\u001b[39m\n\u001b[32m    991\u001b[39m         \u001b[33m\"\u001b[39m\u001b[33mUse `with torch.jit.optimized_execution()` instead\u001b[39m\u001b[33m\"\u001b[39m,\n\u001b[32m    992\u001b[39m         \u001b[38;5;167;01mFutureWarning\u001b[39;00m,\n\u001b[32m    993\u001b[39m         stacklevel=\u001b[32m2\u001b[39m,\n\u001b[32m    994\u001b[39m     )\n\u001b[32m    996\u001b[39m \u001b[38;5;28;01mfrom\u001b[39;00m\u001b[38;5;250m \u001b[39m\u001b[34;01mtorch\u001b[39;00m\u001b[34;01m.\u001b[39;00m\u001b[34;01m_utils_internal\u001b[39;00m\u001b[38;5;250m \u001b[39m\u001b[38;5;28;01mimport\u001b[39;00m (\n\u001b[32m    997\u001b[39m     check_if_torch_exportable,\n\u001b[32m    998\u001b[39m     log_torch_jit_trace_exportability,\n\u001b[32m    999\u001b[39m     log_torchscript_usage,\n\u001b[32m   1000\u001b[39m )\n\u001b[32m-> \u001b[39m\u001b[32m1002\u001b[39m traced_func = \u001b[43m_trace_impl\u001b[49m\u001b[43m(\u001b[49m\n\u001b[32m   1003\u001b[39m \u001b[43m    \u001b[49m\u001b[43mfunc\u001b[49m\u001b[43m,\u001b[49m\n\u001b[32m   1004\u001b[39m \u001b[43m    \u001b[49m\u001b[43mexample_inputs\u001b[49m\u001b[43m,\u001b[49m\n\u001b[32m   1005\u001b[39m \u001b[43m    \u001b[49m\u001b[43moptimize\u001b[49m\u001b[43m,\u001b[49m\n\u001b[32m   1006\u001b[39m \u001b[43m    \u001b[49m\u001b[43mcheck_trace\u001b[49m\u001b[43m,\u001b[49m\n\u001b[32m   1007\u001b[39m \u001b[43m    \u001b[49m\u001b[43mcheck_inputs\u001b[49m\u001b[43m,\u001b[49m\n\u001b[32m   1008\u001b[39m \u001b[43m    \u001b[49m\u001b[43mcheck_tolerance\u001b[49m\u001b[43m,\u001b[49m\n\u001b[32m   1009\u001b[39m \u001b[43m    \u001b[49m\u001b[43mstrict\u001b[49m\u001b[43m,\u001b[49m\n\u001b[32m   1010\u001b[39m \u001b[43m    \u001b[49m\u001b[43m_force_outplace\u001b[49m\u001b[43m,\u001b[49m\n\u001b[32m   1011\u001b[39m \u001b[43m    \u001b[49m\u001b[43m_module_class\u001b[49m\u001b[43m,\u001b[49m\n\u001b[32m   1012\u001b[39m \u001b[43m    \u001b[49m\u001b[43m_compilation_unit\u001b[49m\u001b[43m,\u001b[49m\n\u001b[32m   1013\u001b[39m \u001b[43m    \u001b[49m\u001b[43mexample_kwarg_inputs\u001b[49m\u001b[43m,\u001b[49m\n\u001b[32m   1014\u001b[39m \u001b[43m    \u001b[49m\u001b[43m_store_inputs\u001b[49m\u001b[43m,\u001b[49m\n\u001b[32m   1015\u001b[39m \u001b[43m\u001b[49m\u001b[43m)\u001b[49m\n\u001b[32m   1016\u001b[39m log_torchscript_usage(\u001b[33m\"\u001b[39m\u001b[33mtrace\u001b[39m\u001b[33m\"\u001b[39m, model_id=_get_model_id(traced_func))\n\u001b[32m   1018\u001b[39m \u001b[38;5;28;01mif\u001b[39;00m check_if_torch_exportable():\n",
      "\u001b[36mFile \u001b[39m\u001b[32m~/miniconda3/envs/DatasetStatistics/lib/python3.12/site-packages/torch/jit/_trace.py:696\u001b[39m, in \u001b[36m_trace_impl\u001b[39m\u001b[34m(func, example_inputs, optimize, check_trace, check_inputs, check_tolerance, strict, _force_outplace, _module_class, _compilation_unit, example_kwarg_inputs, _store_inputs)\u001b[39m\n\u001b[32m    694\u001b[39m         \u001b[38;5;28;01melse\u001b[39;00m:\n\u001b[32m    695\u001b[39m             \u001b[38;5;28;01mraise\u001b[39;00m \u001b[38;5;167;01mRuntimeError\u001b[39;00m(\u001b[33m\"\u001b[39m\u001b[33mexample_kwarg_inputs should be a dict\u001b[39m\u001b[33m\"\u001b[39m)\n\u001b[32m--> \u001b[39m\u001b[32m696\u001b[39m     \u001b[38;5;28;01mreturn\u001b[39;00m \u001b[43mtrace_module\u001b[49m\u001b[43m(\u001b[49m\n\u001b[32m    697\u001b[39m \u001b[43m        \u001b[49m\u001b[43mfunc\u001b[49m\u001b[43m,\u001b[49m\n\u001b[32m    698\u001b[39m \u001b[43m        \u001b[49m\u001b[43m{\u001b[49m\u001b[33;43m\"\u001b[39;49m\u001b[33;43mforward\u001b[39;49m\u001b[33;43m\"\u001b[39;49m\u001b[43m:\u001b[49m\u001b[43m \u001b[49m\u001b[43mexample_inputs\u001b[49m\u001b[43m}\u001b[49m\u001b[43m,\u001b[49m\n\u001b[32m    699\u001b[39m \u001b[43m        \u001b[49m\u001b[38;5;28;43;01mNone\u001b[39;49;00m\u001b[43m,\u001b[49m\n\u001b[32m    700\u001b[39m \u001b[43m        \u001b[49m\u001b[43mcheck_trace\u001b[49m\u001b[43m,\u001b[49m\n\u001b[32m    701\u001b[39m \u001b[43m        \u001b[49m\u001b[43mwrap_check_inputs\u001b[49m\u001b[43m(\u001b[49m\u001b[43mcheck_inputs\u001b[49m\u001b[43m)\u001b[49m\u001b[43m,\u001b[49m\n\u001b[32m    702\u001b[39m \u001b[43m        \u001b[49m\u001b[43mcheck_tolerance\u001b[49m\u001b[43m,\u001b[49m\n\u001b[32m    703\u001b[39m \u001b[43m        \u001b[49m\u001b[43mstrict\u001b[49m\u001b[43m,\u001b[49m\n\u001b[32m    704\u001b[39m \u001b[43m        \u001b[49m\u001b[43m_force_outplace\u001b[49m\u001b[43m,\u001b[49m\n\u001b[32m    705\u001b[39m \u001b[43m        \u001b[49m\u001b[43m_module_class\u001b[49m\u001b[43m,\u001b[49m\n\u001b[32m    706\u001b[39m \u001b[43m        \u001b[49m\u001b[43mexample_inputs_is_kwarg\u001b[49m\u001b[43m=\u001b[49m\u001b[38;5;28;43misinstance\u001b[39;49m\u001b[43m(\u001b[49m\u001b[43mexample_kwarg_inputs\u001b[49m\u001b[43m,\u001b[49m\u001b[43m \u001b[49m\u001b[38;5;28;43mdict\u001b[39;49m\u001b[43m)\u001b[49m\u001b[43m,\u001b[49m\n\u001b[32m    707\u001b[39m \u001b[43m        \u001b[49m\u001b[43m_store_inputs\u001b[49m\u001b[43m=\u001b[49m\u001b[43m_store_inputs\u001b[49m\u001b[43m,\u001b[49m\n\u001b[32m    708\u001b[39m \u001b[43m    \u001b[49m\u001b[43m)\u001b[49m\n\u001b[32m    709\u001b[39m \u001b[38;5;28;01mif\u001b[39;00m (\n\u001b[32m    710\u001b[39m     \u001b[38;5;28mhasattr\u001b[39m(func, \u001b[33m\"\u001b[39m\u001b[33m__self__\u001b[39m\u001b[33m\"\u001b[39m)\n\u001b[32m    711\u001b[39m     \u001b[38;5;129;01mand\u001b[39;00m \u001b[38;5;28misinstance\u001b[39m(func.\u001b[34m__self__\u001b[39m, torch.nn.Module)\n\u001b[32m    712\u001b[39m     \u001b[38;5;129;01mand\u001b[39;00m func.\u001b[34m__name__\u001b[39m == \u001b[33m\"\u001b[39m\u001b[33mforward\u001b[39m\u001b[33m\"\u001b[39m\n\u001b[32m    713\u001b[39m ):\n\u001b[32m    714\u001b[39m     \u001b[38;5;28;01mif\u001b[39;00m example_inputs \u001b[38;5;129;01mis\u001b[39;00m \u001b[38;5;28;01mNone\u001b[39;00m:\n",
      "\u001b[36mFile \u001b[39m\u001b[32m~/miniconda3/envs/DatasetStatistics/lib/python3.12/site-packages/torch/jit/_trace.py:1279\u001b[39m, in \u001b[36mtrace_module\u001b[39m\u001b[34m(mod, inputs, optimize, check_trace, check_inputs, check_tolerance, strict, _force_outplace, _module_class, _compilation_unit, example_inputs_is_kwarg, _store_inputs)\u001b[39m\n\u001b[32m   1277\u001b[39m \u001b[38;5;28;01melse\u001b[39;00m:\n\u001b[32m   1278\u001b[39m     example_inputs = make_tuple(example_inputs)\n\u001b[32m-> \u001b[39m\u001b[32m1279\u001b[39m     \u001b[43mmodule\u001b[49m\u001b[43m.\u001b[49m\u001b[43m_c\u001b[49m\u001b[43m.\u001b[49m\u001b[43m_create_method_from_trace\u001b[49m\u001b[43m(\u001b[49m\n\u001b[32m   1280\u001b[39m \u001b[43m        \u001b[49m\u001b[43mmethod_name\u001b[49m\u001b[43m,\u001b[49m\n\u001b[32m   1281\u001b[39m \u001b[43m        \u001b[49m\u001b[43mfunc\u001b[49m\u001b[43m,\u001b[49m\n\u001b[32m   1282\u001b[39m \u001b[43m        \u001b[49m\u001b[43mexample_inputs\u001b[49m\u001b[43m,\u001b[49m\n\u001b[32m   1283\u001b[39m \u001b[43m        \u001b[49m\u001b[43mvar_lookup_fn\u001b[49m\u001b[43m,\u001b[49m\n\u001b[32m   1284\u001b[39m \u001b[43m        \u001b[49m\u001b[43mstrict\u001b[49m\u001b[43m,\u001b[49m\n\u001b[32m   1285\u001b[39m \u001b[43m        \u001b[49m\u001b[43m_force_outplace\u001b[49m\u001b[43m,\u001b[49m\n\u001b[32m   1286\u001b[39m \u001b[43m        \u001b[49m\u001b[43margument_names\u001b[49m\u001b[43m,\u001b[49m\n\u001b[32m   1287\u001b[39m \u001b[43m        \u001b[49m\u001b[43m_store_inputs\u001b[49m\u001b[43m,\u001b[49m\n\u001b[32m   1288\u001b[39m \u001b[43m    \u001b[49m\u001b[43m)\u001b[49m\n\u001b[32m   1290\u001b[39m check_trace_method = module._c._get_method(method_name)\n\u001b[32m   1292\u001b[39m \u001b[38;5;66;03m# Check the trace against new traces created from user-specified inputs\u001b[39;00m\n",
      "\u001b[31mRuntimeError\u001b[39m: Only tensors, lists, tuples of tensors, or dictionary of tensors can be output from traced functions"
     ]
    }
   ],
   "source": [
    "model_path = \"/data/Sentinel_Datasets/Finalized_datasets/LMNT01Sat_Training_Channel_Mixture_C/models/LMNT01_MixtureC/retinanet_weights_E249.pt\"\n",
    "output_path = \"/data/Sentinel_Datasets/Best_models\"\n",
    "name = \"LMNT01\"\n",
    "save_torch_script_model(model_path, output_path,name)"
   ]
  }
 ],
 "metadata": {
  "kernelspec": {
   "display_name": "DatasetStatistics",
   "language": "python",
   "name": "python3"
  },
  "language_info": {
   "codemirror_mode": {
    "name": "ipython",
    "version": 3
   },
   "file_extension": ".py",
   "mimetype": "text/x-python",
   "name": "python",
   "nbconvert_exporter": "python",
   "pygments_lexer": "ipython3",
   "version": "3.12.9"
  }
 },
 "nbformat": 4,
 "nbformat_minor": 5
}
