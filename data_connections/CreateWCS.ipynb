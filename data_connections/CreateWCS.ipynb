{
 "cells": [
  {
   "cell_type": "markdown",
   "id": "6c48d35a",
   "metadata": {},
   "source": []
  },
  {
   "cell_type": "code",
   "execution_count": null,
   "id": "15ca568e",
   "metadata": {},
   "outputs": [],
   "source": [
    "%matplotlib widget\n",
    "import matplotlib.pyplot as plt\n",
    "import matplotlib.image as mpimg\n",
    "\n",
    "# Load your image\n",
    "img = mpimg.imread(\"/data/Dataset_Compilation_and_Statistics/Sentinel_Datasets/Finalized_datasets/CalSatLMNT01-2024/images/9022462199483384.png\")\n",
    "\n",
    "# Create figure\n",
    "fig, ax = plt.subplots()\n",
    "ax.imshow(img)\n",
    "\n",
    "points = []\n",
    "\n",
    "def onclick(event):\n",
    "    if event.xdata is not None and event.ydata is not None:\n",
    "        x, y = event.xdata, event.ydata\n",
    "        points.append((x, y))\n",
    "        ax.plot(x, y, 'ro')  # mark the clicked point\n",
    "        fig.canvas.draw()\n",
    "        print(f\"Clicked at: ({x:.2f}, {y:.2f})\")\n",
    "\n",
    "# Connect the click event\n",
    "cid = fig.canvas.mpl_connect('button_press_event', onclick)\n",
    "\n",
    "plt.show()\n",
    "input()\n",
    "\n"
   ]
  },
  {
   "cell_type": "code",
   "execution_count": null,
   "id": "a3a87f85",
   "metadata": {},
   "outputs": [
    {
     "name": "stderr",
     "output_type": "stream",
     "text": [
      "17it [00:16,  1.02it/s]"
     ]
    }
   ],
   "source": [
    "%matplotlib widget\n",
    "from src.raw_datset import raw_dataset\n",
    "import matplotlib.pyplot as plt\n",
    "import matplotlib.image as mpimg\n",
    "\n",
    "calsat = raw_dataset(\"/data/Dataset_Compilation_and_Statistics/Sentinel_Datasets/Finalized_datasets/CalSatLMNT01-2024\")\n",
    "calsat.plate_solve()"
   ]
  }
 ],
 "metadata": {
  "kernelspec": {
   "display_name": "DatasetStatistics",
   "language": "python",
   "name": "python3"
  },
  "language_info": {
   "codemirror_mode": {
    "name": "ipython",
    "version": 3
   },
   "file_extension": ".py",
   "mimetype": "text/x-python",
   "name": "python",
   "nbconvert_exporter": "python",
   "pygments_lexer": "ipython3",
   "version": "3.12.9"
  }
 },
 "nbformat": 4,
 "nbformat_minor": 5
}
